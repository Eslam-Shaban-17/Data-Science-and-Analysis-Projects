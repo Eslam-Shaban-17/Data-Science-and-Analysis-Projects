{
 "cells": [
  {
   "cell_type": "markdown",
   "id": "c9b9fcf3",
   "metadata": {
    "papermill": {
     "duration": 0.009868,
     "end_time": "2023-06-21T18:25:34.033687",
     "exception": false,
     "start_time": "2023-06-21T18:25:34.023819",
     "status": "completed"
    },
    "tags": []
   },
   "source": [
    "# Import Libraries"
   ]
  },
  {
   "cell_type": "code",
   "execution_count": 1,
   "id": "d8889fe1",
   "metadata": {
    "execution": {
     "iopub.execute_input": "2023-06-21T18:25:34.052150Z",
     "iopub.status.busy": "2023-06-21T18:25:34.051477Z",
     "iopub.status.idle": "2023-06-21T18:25:51.593737Z",
     "shell.execute_reply": "2023-06-21T18:25:51.592463Z"
    },
    "papermill": {
     "duration": 17.554141,
     "end_time": "2023-06-21T18:25:51.596304",
     "exception": false,
     "start_time": "2023-06-21T18:25:34.042163",
     "status": "completed"
    },
    "tags": []
   },
   "outputs": [],
   "source": [
    "import pandas as pd\n",
    "import numpy as np\n",
    "import os\n",
    "import matplotlib.pyplot as plt\n",
    "import seaborn as sns\n",
    "import warnings\n",
    "import random\n",
    "from tqdm.notebook import tqdm\n",
    "warnings.filterwarnings('ignore')\n",
    "%matplotlib inline\n",
    "from sklearn.preprocessing import LabelEncoder\n",
    "\n",
    "import tensorflow as tf\n",
    "from tensorflow.keras.utils import to_categorical\n",
    "from keras.utils import load_img\n",
    "from keras.models import Sequential\n",
    "from keras.layers import Dense, Conv2D, Dropout, Flatten, MaxPooling2D\n",
    "\n",
    "from keras.applications.vgg19 import VGG19 \n",
    "from keras.applications.vgg19 import preprocess_input"
   ]
  },
  {
   "cell_type": "code",
   "execution_count": 2,
   "id": "8340c0a8",
   "metadata": {
    "execution": {
     "iopub.execute_input": "2023-06-21T18:25:51.616870Z",
     "iopub.status.busy": "2023-06-21T18:25:51.616237Z",
     "iopub.status.idle": "2023-06-21T18:25:51.620896Z",
     "shell.execute_reply": "2023-06-21T18:25:51.620023Z"
    },
    "papermill": {
     "duration": 0.01706,
     "end_time": "2023-06-21T18:25:51.622945",
     "exception": false,
     "start_time": "2023-06-21T18:25:51.605885",
     "status": "completed"
    },
    "tags": []
   },
   "outputs": [],
   "source": [
    "TRAIN_DIR ='/kaggle/input/facial-expression-dataset/train/train/'\n",
    "TEST_DIR = '/kaggle/input/facial-expression-dataset/test/test/'"
   ]
  },
  {
   "cell_type": "markdown",
   "id": "87636182",
   "metadata": {
    "papermill": {
     "duration": 0.008152,
     "end_time": "2023-06-21T18:25:51.639574",
     "exception": false,
     "start_time": "2023-06-21T18:25:51.631422",
     "status": "completed"
    },
    "tags": []
   },
   "source": [
    "# Load Dataset"
   ]
  },
  {
   "cell_type": "code",
   "execution_count": 3,
   "id": "9787bfa1",
   "metadata": {
    "execution": {
     "iopub.execute_input": "2023-06-21T18:25:51.658367Z",
     "iopub.status.busy": "2023-06-21T18:25:51.657532Z",
     "iopub.status.idle": "2023-06-21T18:25:51.664149Z",
     "shell.execute_reply": "2023-06-21T18:25:51.663160Z"
    },
    "papermill": {
     "duration": 0.018004,
     "end_time": "2023-06-21T18:25:51.666210",
     "exception": false,
     "start_time": "2023-06-21T18:25:51.648206",
     "status": "completed"
    },
    "tags": []
   },
   "outputs": [],
   "source": [
    "def load_images(dir_path):\n",
    "    labels = []\n",
    "    img_paths = []\n",
    "\n",
    "    for folder in os.listdir(dir_path):\n",
    "        for filename in os.listdir(dir_path+folder):\n",
    "            img_path = os.path.join(dir_path,folder,filename)\n",
    "            img_paths.append(img_path)\n",
    "            labels.append(folder)\n",
    "        print(folder,' Completed')\n",
    "    return img_paths, labels"
   ]
  },
  {
   "cell_type": "code",
   "execution_count": 4,
   "id": "7ce91a19",
   "metadata": {
    "execution": {
     "iopub.execute_input": "2023-06-21T18:25:51.684357Z",
     "iopub.status.busy": "2023-06-21T18:25:51.684101Z",
     "iopub.status.idle": "2023-06-21T18:25:53.241840Z",
     "shell.execute_reply": "2023-06-21T18:25:53.240522Z"
    },
    "papermill": {
     "duration": 1.569634,
     "end_time": "2023-06-21T18:25:53.244333",
     "exception": false,
     "start_time": "2023-06-21T18:25:51.674699",
     "status": "completed"
    },
    "tags": []
   },
   "outputs": [
    {
     "name": "stdout",
     "output_type": "stream",
     "text": [
      "surprise  Completed\n",
      "fear  Completed\n",
      "angry  Completed\n",
      "neutral  Completed\n",
      "sad  Completed\n",
      "disgust  Completed\n",
      "happy  Completed\n"
     ]
    }
   ],
   "source": [
    "train = pd.DataFrame()\n",
    "train['images'], train['labels'] = load_images(TRAIN_DIR)\n"
   ]
  },
  {
   "cell_type": "code",
   "execution_count": 5,
   "id": "3fd37b33",
   "metadata": {
    "execution": {
     "iopub.execute_input": "2023-06-21T18:25:53.262637Z",
     "iopub.status.busy": "2023-06-21T18:25:53.262322Z",
     "iopub.status.idle": "2023-06-21T18:25:53.290277Z",
     "shell.execute_reply": "2023-06-21T18:25:53.289387Z"
    },
    "papermill": {
     "duration": 0.039456,
     "end_time": "2023-06-21T18:25:53.292547",
     "exception": false,
     "start_time": "2023-06-21T18:25:53.253091",
     "status": "completed"
    },
    "tags": []
   },
   "outputs": [
    {
     "data": {
      "text/html": [
       "<div>\n",
       "<style scoped>\n",
       "    .dataframe tbody tr th:only-of-type {\n",
       "        vertical-align: middle;\n",
       "    }\n",
       "\n",
       "    .dataframe tbody tr th {\n",
       "        vertical-align: top;\n",
       "    }\n",
       "\n",
       "    .dataframe thead th {\n",
       "        text-align: right;\n",
       "    }\n",
       "</style>\n",
       "<table border=\"1\" class=\"dataframe\">\n",
       "  <thead>\n",
       "    <tr style=\"text-align: right;\">\n",
       "      <th></th>\n",
       "      <th>images</th>\n",
       "      <th>labels</th>\n",
       "    </tr>\n",
       "  </thead>\n",
       "  <tbody>\n",
       "    <tr>\n",
       "      <th>0</th>\n",
       "      <td>/kaggle/input/facial-expression-dataset/train/...</td>\n",
       "      <td>happy</td>\n",
       "    </tr>\n",
       "    <tr>\n",
       "      <th>1</th>\n",
       "      <td>/kaggle/input/facial-expression-dataset/train/...</td>\n",
       "      <td>fear</td>\n",
       "    </tr>\n",
       "    <tr>\n",
       "      <th>2</th>\n",
       "      <td>/kaggle/input/facial-expression-dataset/train/...</td>\n",
       "      <td>happy</td>\n",
       "    </tr>\n",
       "    <tr>\n",
       "      <th>3</th>\n",
       "      <td>/kaggle/input/facial-expression-dataset/train/...</td>\n",
       "      <td>fear</td>\n",
       "    </tr>\n",
       "    <tr>\n",
       "      <th>4</th>\n",
       "      <td>/kaggle/input/facial-expression-dataset/train/...</td>\n",
       "      <td>surprise</td>\n",
       "    </tr>\n",
       "  </tbody>\n",
       "</table>\n",
       "</div>"
      ],
      "text/plain": [
       "                                              images    labels\n",
       "0  /kaggle/input/facial-expression-dataset/train/...     happy\n",
       "1  /kaggle/input/facial-expression-dataset/train/...      fear\n",
       "2  /kaggle/input/facial-expression-dataset/train/...     happy\n",
       "3  /kaggle/input/facial-expression-dataset/train/...      fear\n",
       "4  /kaggle/input/facial-expression-dataset/train/...  surprise"
      ]
     },
     "execution_count": 5,
     "metadata": {},
     "output_type": "execute_result"
    }
   ],
   "source": [
    "# shuffle the dataset\n",
    "train = train.sample(frac = 1).reset_index(drop=True)\n",
    "train.head()"
   ]
  },
  {
   "cell_type": "code",
   "execution_count": 6,
   "id": "d21bb438",
   "metadata": {
    "execution": {
     "iopub.execute_input": "2023-06-21T18:25:53.311767Z",
     "iopub.status.busy": "2023-06-21T18:25:53.311216Z",
     "iopub.status.idle": "2023-06-21T18:25:54.364422Z",
     "shell.execute_reply": "2023-06-21T18:25:54.363253Z"
    },
    "papermill": {
     "duration": 1.064874,
     "end_time": "2023-06-21T18:25:54.366534",
     "exception": false,
     "start_time": "2023-06-21T18:25:53.301660",
     "status": "completed"
    },
    "tags": []
   },
   "outputs": [
    {
     "name": "stdout",
     "output_type": "stream",
     "text": [
      "surprise  Completed\n",
      "fear  Completed\n",
      "angry  Completed\n",
      "neutral  Completed\n",
      "sad  Completed\n",
      "disgust  Completed\n",
      "happy  Completed\n"
     ]
    },
    {
     "data": {
      "text/html": [
       "<div>\n",
       "<style scoped>\n",
       "    .dataframe tbody tr th:only-of-type {\n",
       "        vertical-align: middle;\n",
       "    }\n",
       "\n",
       "    .dataframe tbody tr th {\n",
       "        vertical-align: top;\n",
       "    }\n",
       "\n",
       "    .dataframe thead th {\n",
       "        text-align: right;\n",
       "    }\n",
       "</style>\n",
       "<table border=\"1\" class=\"dataframe\">\n",
       "  <thead>\n",
       "    <tr style=\"text-align: right;\">\n",
       "      <th></th>\n",
       "      <th>images</th>\n",
       "      <th>labels</th>\n",
       "    </tr>\n",
       "  </thead>\n",
       "  <tbody>\n",
       "    <tr>\n",
       "      <th>0</th>\n",
       "      <td>/kaggle/input/facial-expression-dataset/test/t...</td>\n",
       "      <td>surprise</td>\n",
       "    </tr>\n",
       "    <tr>\n",
       "      <th>1</th>\n",
       "      <td>/kaggle/input/facial-expression-dataset/test/t...</td>\n",
       "      <td>surprise</td>\n",
       "    </tr>\n",
       "    <tr>\n",
       "      <th>2</th>\n",
       "      <td>/kaggle/input/facial-expression-dataset/test/t...</td>\n",
       "      <td>surprise</td>\n",
       "    </tr>\n",
       "    <tr>\n",
       "      <th>3</th>\n",
       "      <td>/kaggle/input/facial-expression-dataset/test/t...</td>\n",
       "      <td>surprise</td>\n",
       "    </tr>\n",
       "    <tr>\n",
       "      <th>4</th>\n",
       "      <td>/kaggle/input/facial-expression-dataset/test/t...</td>\n",
       "      <td>surprise</td>\n",
       "    </tr>\n",
       "  </tbody>\n",
       "</table>\n",
       "</div>"
      ],
      "text/plain": [
       "                                              images    labels\n",
       "0  /kaggle/input/facial-expression-dataset/test/t...  surprise\n",
       "1  /kaggle/input/facial-expression-dataset/test/t...  surprise\n",
       "2  /kaggle/input/facial-expression-dataset/test/t...  surprise\n",
       "3  /kaggle/input/facial-expression-dataset/test/t...  surprise\n",
       "4  /kaggle/input/facial-expression-dataset/test/t...  surprise"
      ]
     },
     "execution_count": 6,
     "metadata": {},
     "output_type": "execute_result"
    }
   ],
   "source": [
    "test = pd.DataFrame()\n",
    "test['images'], test['labels'] = load_images(TEST_DIR)\n",
    "test.head()"
   ]
  },
  {
   "cell_type": "markdown",
   "id": "64501662",
   "metadata": {
    "papermill": {
     "duration": 0.009418,
     "end_time": "2023-06-21T18:25:54.386047",
     "exception": false,
     "start_time": "2023-06-21T18:25:54.376629",
     "status": "completed"
    },
    "tags": []
   },
   "source": [
    "# Exploratory Data Analysis"
   ]
  },
  {
   "cell_type": "code",
   "execution_count": 7,
   "id": "1ce9da9e",
   "metadata": {
    "execution": {
     "iopub.execute_input": "2023-06-21T18:25:54.407314Z",
     "iopub.status.busy": "2023-06-21T18:25:54.406495Z",
     "iopub.status.idle": "2023-06-21T18:25:54.754972Z",
     "shell.execute_reply": "2023-06-21T18:25:54.753978Z"
    },
    "papermill": {
     "duration": 0.361471,
     "end_time": "2023-06-21T18:25:54.757034",
     "exception": false,
     "start_time": "2023-06-21T18:25:54.395563",
     "status": "completed"
    },
    "tags": []
   },
   "outputs": [
    {
     "data": {
      "text/plain": [
       "<Axes: xlabel='labels', ylabel='count'>"
      ]
     },
     "execution_count": 7,
     "metadata": {},
     "output_type": "execute_result"
    },
    {
     "data": {
      "image/png": "[encoded data removed]",
      "text/plain": [
       "<Figure size 640x480 with 1 Axes>"
      ]
     },
     "metadata": {},
     "output_type": "display_data"
    }
   ],
   "source": [
    "sns.countplot(data=train, x='labels')"
   ]
  },
  {
   "cell_type": "markdown",
   "id": "2d15a4e2",
   "metadata": {
    "papermill": {
     "duration": 0.009473,
     "end_time": "2023-06-21T18:25:54.776672",
     "exception": false,
     "start_time": "2023-06-21T18:25:54.767199",
     "status": "completed"
    },
    "tags": []
   },
   "source": [
    "### This mean it is Unbalanced Data"
   ]
  },
  {
   "cell_type": "code",
   "execution_count": 8,
   "id": "f9dc7727",
   "metadata": {
    "execution": {
     "iopub.execute_input": "2023-06-21T18:25:54.798179Z",
     "iopub.status.busy": "2023-06-21T18:25:54.797854Z",
     "iopub.status.idle": "2023-06-21T18:25:55.096337Z",
     "shell.execute_reply": "2023-06-21T18:25:55.095376Z"
    },
    "papermill": {
     "duration": 0.311492,
     "end_time": "2023-06-21T18:25:55.098640",
     "exception": false,
     "start_time": "2023-06-21T18:25:54.787148",
     "status": "completed"
    },
    "tags": []
   },
   "outputs": [
    {
     "data": {
      "image/png": "[encoded data removed]",
      "text/plain": [
       "<Figure size 640x480 with 1 Axes>"
      ]
     },
     "metadata": {},
     "output_type": "display_data"
    }
   ],
   "source": [
    "sample_img = load_img(train['images'][3])\n",
    "plt.title(train['labels'][3])\n",
    "plt.imshow(sample_img);"
   ]
  },
  {
   "cell_type": "code",
   "execution_count": 9,
   "id": "b5932b14",
   "metadata": {
    "execution": {
     "iopub.execute_input": "2023-06-21T18:25:55.120611Z",
     "iopub.status.busy": "2023-06-21T18:25:55.120333Z",
     "iopub.status.idle": "2023-06-21T18:25:55.134555Z",
     "shell.execute_reply": "2023-06-21T18:25:55.133315Z"
    },
    "papermill": {
     "duration": 0.027428,
     "end_time": "2023-06-21T18:25:55.136523",
     "exception": false,
     "start_time": "2023-06-21T18:25:55.109095",
     "status": "completed"
    },
    "tags": []
   },
   "outputs": [
    {
     "name": "stdout",
     "output_type": "stream",
     "text": [
      "Image shape: (48, 48)\n"
     ]
    }
   ],
   "source": [
    "from PIL import Image\n",
    "import numpy as np\n",
    "\n",
    "image_path = train['images'][0]\n",
    "pil_image = Image.open(image_path)\n",
    "\n",
    "# Convert the PIL image to a NumPy array\n",
    "np_image = np.array(pil_image)\n",
    "\n",
    "# Get the shape of the NumPy array\n",
    "height, width = np_image.shape\n",
    "print(\"Image shape: ({}, {})\".format(height, width))"
   ]
  },
  {
   "cell_type": "code",
   "execution_count": 10,
   "id": "7787989c",
   "metadata": {
    "execution": {
     "iopub.execute_input": "2023-06-21T18:25:55.158469Z",
     "iopub.status.busy": "2023-06-21T18:25:55.158207Z",
     "iopub.status.idle": "2023-06-21T18:25:56.679151Z",
     "shell.execute_reply": "2023-06-21T18:25:56.678169Z"
    },
    "papermill": {
     "duration": 1.5355,
     "end_time": "2023-06-21T18:25:56.682113",
     "exception": false,
     "start_time": "2023-06-21T18:25:55.146613",
     "status": "completed"
    },
    "tags": []
   },
   "outputs": [
    {
     "data": {
      "image/png": "[encoded data removed]",
      "text/plain": [
       "<Figure size 1600x1600 with 16 Axes>"
      ]
     },
     "metadata": {},
     "output_type": "display_data"
    }
   ],
   "source": [
    "plt.figure(figsize=(16,16))\n",
    "sample_imgs = train.iloc[0:16]\n",
    "for idx, img, label in sample_imgs.itertuples():\n",
    "    plt.subplot(4,4,idx+1)\n",
    "    img = load_img(img)\n",
    "    plt.title(label)\n",
    "    plt.axis('off')\n",
    "    plt.imshow(img)\n",
    "    "
   ]
  },
  {
   "cell_type": "markdown",
   "id": "6edbc355",
   "metadata": {
    "papermill": {
     "duration": 0.012602,
     "end_time": "2023-06-21T18:25:56.706699",
     "exception": false,
     "start_time": "2023-06-21T18:25:56.694097",
     "status": "completed"
    },
    "tags": []
   },
   "source": [
    "# Preprocessing"
   ]
  },
  {
   "cell_type": "code",
   "execution_count": 11,
   "id": "2a451cf2",
   "metadata": {
    "execution": {
     "iopub.execute_input": "2023-06-21T18:25:56.733651Z",
     "iopub.status.busy": "2023-06-21T18:25:56.733294Z",
     "iopub.status.idle": "2023-06-21T18:25:56.739890Z",
     "shell.execute_reply": "2023-06-21T18:25:56.738738Z"
    },
    "papermill": {
     "duration": 0.022936,
     "end_time": "2023-06-21T18:25:56.742563",
     "exception": false,
     "start_time": "2023-06-21T18:25:56.719627",
     "status": "completed"
    },
    "tags": []
   },
   "outputs": [],
   "source": [
    "def read_images(images):\n",
    "    features=[]\n",
    "    for img_path in tqdm(images):\n",
    "        img = load_img(img_path,grayscale=True)\n",
    "        img = np.array(img)\n",
    "        features.append(img)\n",
    "    features = np.array(features)\n",
    "    features = features.reshape(len(features),48,48,1)\n",
    "    return features"
   ]
  },
  {
   "cell_type": "code",
   "execution_count": 12,
   "id": "613867a9",
   "metadata": {
    "execution": {
     "iopub.execute_input": "2023-06-21T18:25:56.768689Z",
     "iopub.status.busy": "2023-06-21T18:25:56.768417Z",
     "iopub.status.idle": "2023-06-21T18:29:32.319501Z",
     "shell.execute_reply": "2023-06-21T18:29:32.318440Z"
    },
    "papermill": {
     "duration": 215.566782,
     "end_time": "2023-06-21T18:29:32.322037",
     "exception": false,
     "start_time": "2023-06-21T18:25:56.755255",
     "status": "completed"
    },
    "tags": []
   },
   "outputs": [
    {
     "data": {
      "application/vnd.jupyter.widget-view+json": {
       "model_id": "3693dd422e56403ebc830a15b91a86ea",
       "version_major": 2,
       "version_minor": 0
      },
      "text/plain": [
       "  0%|          | 0/28709 [00:00<?, ?it/s]"
      ]
     },
     "metadata": {},
     "output_type": "display_data"
    }
   ],
   "source": [
    "X_train = read_images(train['images'])"
   ]
  },
  {
   "cell_type": "code",
   "execution_count": 13,
   "id": "10dd51ab",
   "metadata": {
    "execution": {
     "iopub.execute_input": "2023-06-21T18:29:32.350135Z",
     "iopub.status.busy": "2023-06-21T18:29:32.349772Z",
     "iopub.status.idle": "2023-06-21T18:30:20.517111Z",
     "shell.execute_reply": "2023-06-21T18:30:20.516147Z"
    },
    "papermill": {
     "duration": 48.184024,
     "end_time": "2023-06-21T18:30:20.519262",
     "exception": false,
     "start_time": "2023-06-21T18:29:32.335238",
     "status": "completed"
    },
    "tags": []
   },
   "outputs": [
    {
     "data": {
      "application/vnd.jupyter.widget-view+json": {
       "model_id": "1532b5c4fc89494590746574542c441b",
       "version_major": 2,
       "version_minor": 0
      },
      "text/plain": [
       "  0%|          | 0/7178 [00:00<?, ?it/s]"
      ]
     },
     "metadata": {},
     "output_type": "display_data"
    }
   ],
   "source": [
    "X_test = read_images(test['images'])"
   ]
  },
  {
   "cell_type": "code",
   "execution_count": 14,
   "id": "ce9284f8",
   "metadata": {
    "execution": {
     "iopub.execute_input": "2023-06-21T18:30:20.546879Z",
     "iopub.status.busy": "2023-06-21T18:30:20.546584Z",
     "iopub.status.idle": "2023-06-21T18:30:20.552645Z",
     "shell.execute_reply": "2023-06-21T18:30:20.551735Z"
    },
    "papermill": {
     "duration": 0.022219,
     "end_time": "2023-06-21T18:30:20.554708",
     "exception": false,
     "start_time": "2023-06-21T18:30:20.532489",
     "status": "completed"
    },
    "tags": []
   },
   "outputs": [
    {
     "data": {
      "text/plain": [
       "(7178, 48, 48, 1)"
      ]
     },
     "execution_count": 14,
     "metadata": {},
     "output_type": "execute_result"
    }
   ],
   "source": [
    "X_test.shape"
   ]
  },
  {
   "cell_type": "code",
   "execution_count": 15,
   "id": "6a3aeb90",
   "metadata": {
    "execution": {
     "iopub.execute_input": "2023-06-21T18:30:20.581454Z",
     "iopub.status.busy": "2023-06-21T18:30:20.580723Z",
     "iopub.status.idle": "2023-06-21T18:30:20.805142Z",
     "shell.execute_reply": "2023-06-21T18:30:20.803996Z"
    },
    "papermill": {
     "duration": 0.240416,
     "end_time": "2023-06-21T18:30:20.807638",
     "exception": false,
     "start_time": "2023-06-21T18:30:20.567222",
     "status": "completed"
    },
    "tags": []
   },
   "outputs": [],
   "source": [
    "## normalize the image\n",
    "X_train = X_train/255.0\n",
    "X_test = X_test/255.0"
   ]
  },
  {
   "cell_type": "code",
   "execution_count": 16,
   "id": "f27154f1",
   "metadata": {
    "execution": {
     "iopub.execute_input": "2023-06-21T18:30:20.833818Z",
     "iopub.status.busy": "2023-06-21T18:30:20.833499Z",
     "iopub.status.idle": "2023-06-21T18:30:20.850891Z",
     "shell.execute_reply": "2023-06-21T18:30:20.850007Z"
    },
    "papermill": {
     "duration": 0.033216,
     "end_time": "2023-06-21T18:30:20.853087",
     "exception": false,
     "start_time": "2023-06-21T18:30:20.819871",
     "status": "completed"
    },
    "tags": []
   },
   "outputs": [],
   "source": [
    "from sklearn.preprocessing import LabelEncoder\n",
    "le = LabelEncoder()\n",
    "le.fit(train['labels'])\n",
    "y_train = le.transform(train['labels'])\n",
    "y_test = le.transform(test['labels'])"
   ]
  },
  {
   "cell_type": "code",
   "execution_count": 17,
   "id": "d258f506",
   "metadata": {
    "execution": {
     "iopub.execute_input": "2023-06-21T18:30:20.878763Z",
     "iopub.status.busy": "2023-06-21T18:30:20.878445Z",
     "iopub.status.idle": "2023-06-21T18:30:20.885080Z",
     "shell.execute_reply": "2023-06-21T18:30:20.884246Z"
    },
    "papermill": {
     "duration": 0.022221,
     "end_time": "2023-06-21T18:30:20.887319",
     "exception": false,
     "start_time": "2023-06-21T18:30:20.865098",
     "status": "completed"
    },
    "tags": []
   },
   "outputs": [],
   "source": [
    "from keras.utils import to_categorical\n",
    "y_train = to_categorical(y_train, num_classes=7)\n",
    "y_test = to_categorical(y_test, num_classes=7)"
   ]
  },
  {
   "cell_type": "code",
   "execution_count": 18,
   "id": "f152c41a",
   "metadata": {
    "execution": {
     "iopub.execute_input": "2023-06-21T18:30:20.913566Z",
     "iopub.status.busy": "2023-06-21T18:30:20.913249Z",
     "iopub.status.idle": "2023-06-21T18:30:20.921045Z",
     "shell.execute_reply": "2023-06-21T18:30:20.920079Z"
    },
    "papermill": {
     "duration": 0.023489,
     "end_time": "2023-06-21T18:30:20.923159",
     "exception": false,
     "start_time": "2023-06-21T18:30:20.899670",
     "status": "completed"
    },
    "tags": []
   },
   "outputs": [
    {
     "data": {
      "text/plain": [
       "array([0., 0., 0., 1., 0., 0., 0.], dtype=float32)"
      ]
     },
     "execution_count": 18,
     "metadata": {},
     "output_type": "execute_result"
    }
   ],
   "source": [
    "y_train[0]"
   ]
  },
  {
   "cell_type": "code",
   "execution_count": 19,
   "id": "11974b72",
   "metadata": {
    "execution": {
     "iopub.execute_input": "2023-06-21T18:30:20.949514Z",
     "iopub.status.busy": "2023-06-21T18:30:20.949201Z",
     "iopub.status.idle": "2023-06-21T18:30:20.953745Z",
     "shell.execute_reply": "2023-06-21T18:30:20.952704Z"
    },
    "papermill": {
     "duration": 0.020963,
     "end_time": "2023-06-21T18:30:20.956174",
     "exception": false,
     "start_time": "2023-06-21T18:30:20.935211",
     "status": "completed"
    },
    "tags": []
   },
   "outputs": [],
   "source": [
    "input_shape = (48, 48, 1)\n",
    "output_class = 7"
   ]
  },
  {
   "cell_type": "markdown",
   "id": "c701e2dd",
   "metadata": {
    "execution": {
     "iopub.execute_input": "2023-06-21T16:25:18.087667Z",
     "iopub.status.busy": "2023-06-21T16:25:18.087234Z",
     "iopub.status.idle": "2023-06-21T16:25:18.092981Z",
     "shell.execute_reply": "2023-06-21T16:25:18.091656Z",
     "shell.execute_reply.started": "2023-06-21T16:25:18.087637Z"
    },
    "papermill": {
     "duration": 0.011853,
     "end_time": "2023-06-21T18:30:20.980042",
     "exception": false,
     "start_time": "2023-06-21T18:30:20.968189",
     "status": "completed"
    },
    "tags": []
   },
   "source": [
    "# Model"
   ]
  },
  {
   "cell_type": "code",
   "execution_count": 20,
   "id": "96304e53",
   "metadata": {
    "execution": {
     "iopub.execute_input": "2023-06-21T18:30:21.005823Z",
     "iopub.status.busy": "2023-06-21T18:30:21.005489Z",
     "iopub.status.idle": "2023-06-21T18:30:27.154229Z",
     "shell.execute_reply": "2023-06-21T18:30:27.153242Z"
    },
    "papermill": {
     "duration": 6.164454,
     "end_time": "2023-06-21T18:30:27.156603",
     "exception": false,
     "start_time": "2023-06-21T18:30:20.992149",
     "status": "completed"
    },
    "tags": []
   },
   "outputs": [],
   "source": [
    "model = Sequential()\n",
    "# convolutional layers\n",
    "model.add(Conv2D(128, kernel_size=(3,3), activation='relu', input_shape=input_shape))\n",
    "model.add(MaxPooling2D(pool_size=(2,2)))\n",
    "model.add(Dropout(0.4))\n",
    "\n",
    "model.add(Conv2D(256, kernel_size=(3,3), activation='relu'))\n",
    "model.add(MaxPooling2D(pool_size=(2,2)))\n",
    "model.add(Dropout(0.4))\n",
    "\n",
    "model.add(Conv2D(512, kernel_size=(3,3), activation='relu'))\n",
    "model.add(MaxPooling2D(pool_size=(2,2)))\n",
    "model.add(Dropout(0.4))\n",
    "\n",
    "model.add(Conv2D(512, kernel_size=(3,3), activation='relu'))\n",
    "model.add(MaxPooling2D(pool_size=(2,2)))\n",
    "model.add(Dropout(0.4))\n",
    "\n",
    "model.add(Flatten())\n",
    "# fully connected layers\n",
    "model.add(Dense(512, activation='relu'))\n",
    "model.add(Dropout(0.4))\n",
    "model.add(Dense(256, activation='relu'))\n",
    "model.add(Dropout(0.3))\n",
    "# output layer\n",
    "model.add(Dense(output_class, activation='softmax'))\n",
    "\n",
    "model.compile(optimizer='adam', loss='categorical_crossentropy', metrics='accuracy')"
   ]
  },
  {
   "cell_type": "code",
   "execution_count": 21,
   "id": "270d6f3e",
   "metadata": {
    "execution": {
     "iopub.execute_input": "2023-06-21T18:30:27.183396Z",
     "iopub.status.busy": "2023-06-21T18:30:27.183077Z",
     "iopub.status.idle": "2023-06-21T18:50:47.047734Z",
     "shell.execute_reply": "2023-06-21T18:50:47.046751Z"
    },
    "papermill": {
     "duration": 1219.880958,
     "end_time": "2023-06-21T18:50:47.050239",
     "exception": false,
     "start_time": "2023-06-21T18:30:27.169281",
     "status": "completed"
    },
    "tags": []
   },
   "outputs": [
    {
     "name": "stdout",
     "output_type": "stream",
     "text": [
      "Epoch 1/100\n"
     ]
    },
    {
     "name": "stderr",
     "output_type": "stream",
     "text": [
      "2023-06-21 18:30:29.237949: E tensorflow/core/grappler/optimizers/meta_optimizer.cc:954] layout failed: INVALID_ARGUMENT: Size of values 0 does not match size of permutation 4 @ fanin shape insequential/dropout/dropout/SelectV2-2-TransposeNHWCToNCHW-LayoutOptimizer\n"
     ]
    },
    {
     "name": "stdout",
     "output_type": "stream",
     "text": [
      "225/225 [==============================] - 30s 56ms/step - loss: 1.8231 - accuracy: 0.2486 - val_loss: 1.8155 - val_accuracy: 0.2471\n",
      "Epoch 2/100\n",
      "225/225 [==============================] - 12s 53ms/step - loss: 1.7983 - accuracy: 0.2525 - val_loss: 1.7807 - val_accuracy: 0.2554\n",
      "Epoch 3/100\n",
      "225/225 [==============================] - 11s 51ms/step - loss: 1.7264 - accuracy: 0.2897 - val_loss: 1.6272 - val_accuracy: 0.3440\n",
      "Epoch 4/100\n",
      "225/225 [==============================] - 12s 53ms/step - loss: 1.6026 - accuracy: 0.3682 - val_loss: 1.4306 - val_accuracy: 0.4423\n",
      "Epoch 5/100\n",
      "225/225 [==============================] - 11s 51ms/step - loss: 1.4882 - accuracy: 0.4226 - val_loss: 1.3484 - val_accuracy: 0.4869\n",
      "Epoch 6/100\n",
      "225/225 [==============================] - 12s 52ms/step - loss: 1.4115 - accuracy: 0.4538 - val_loss: 1.3154 - val_accuracy: 0.4960\n",
      "Epoch 7/100\n",
      "225/225 [==============================] - 12s 53ms/step - loss: 1.3751 - accuracy: 0.4709 - val_loss: 1.2506 - val_accuracy: 0.5124\n",
      "Epoch 8/100\n",
      "225/225 [==============================] - 12s 55ms/step - loss: 1.3342 - accuracy: 0.4877 - val_loss: 1.2326 - val_accuracy: 0.5219\n",
      "Epoch 9/100\n",
      "225/225 [==============================] - 12s 53ms/step - loss: 1.3113 - accuracy: 0.4945 - val_loss: 1.2065 - val_accuracy: 0.5339\n",
      "Epoch 10/100\n",
      "225/225 [==============================] - 12s 55ms/step - loss: 1.2864 - accuracy: 0.5084 - val_loss: 1.1970 - val_accuracy: 0.5424\n",
      "Epoch 11/100\n",
      "225/225 [==============================] - 12s 55ms/step - loss: 1.2693 - accuracy: 0.5136 - val_loss: 1.1831 - val_accuracy: 0.5469\n",
      "Epoch 12/100\n",
      "225/225 [==============================] - 12s 52ms/step - loss: 1.2507 - accuracy: 0.5215 - val_loss: 1.1702 - val_accuracy: 0.5471\n",
      "Epoch 13/100\n",
      "225/225 [==============================] - 12s 52ms/step - loss: 1.2308 - accuracy: 0.5312 - val_loss: 1.1642 - val_accuracy: 0.5467\n",
      "Epoch 14/100\n",
      "225/225 [==============================] - 12s 52ms/step - loss: 1.2173 - accuracy: 0.5376 - val_loss: 1.1333 - val_accuracy: 0.5670\n",
      "Epoch 15/100\n",
      "225/225 [==============================] - 12s 52ms/step - loss: 1.1988 - accuracy: 0.5446 - val_loss: 1.1359 - val_accuracy: 0.5609\n",
      "Epoch 16/100\n",
      "225/225 [==============================] - 12s 55ms/step - loss: 1.1892 - accuracy: 0.5466 - val_loss: 1.1196 - val_accuracy: 0.5730\n",
      "Epoch 17/100\n",
      "225/225 [==============================] - 12s 53ms/step - loss: 1.1807 - accuracy: 0.5548 - val_loss: 1.1087 - val_accuracy: 0.5759\n",
      "Epoch 18/100\n",
      "225/225 [==============================] - 12s 55ms/step - loss: 1.1606 - accuracy: 0.5597 - val_loss: 1.1127 - val_accuracy: 0.5761\n",
      "Epoch 19/100\n",
      "225/225 [==============================] - 12s 55ms/step - loss: 1.1503 - accuracy: 0.5661 - val_loss: 1.1008 - val_accuracy: 0.5814\n",
      "Epoch 20/100\n",
      "225/225 [==============================] - 12s 55ms/step - loss: 1.1470 - accuracy: 0.5678 - val_loss: 1.0870 - val_accuracy: 0.5828\n",
      "Epoch 21/100\n",
      "225/225 [==============================] - 12s 55ms/step - loss: 1.1411 - accuracy: 0.5675 - val_loss: 1.0838 - val_accuracy: 0.5883\n",
      "Epoch 22/100\n",
      "225/225 [==============================] - 12s 55ms/step - loss: 1.1221 - accuracy: 0.5762 - val_loss: 1.0894 - val_accuracy: 0.5822\n",
      "Epoch 23/100\n",
      "225/225 [==============================] - 12s 52ms/step - loss: 1.1138 - accuracy: 0.5814 - val_loss: 1.0748 - val_accuracy: 0.5907\n",
      "Epoch 24/100\n",
      "225/225 [==============================] - 12s 55ms/step - loss: 1.1186 - accuracy: 0.5784 - val_loss: 1.0742 - val_accuracy: 0.5837\n",
      "Epoch 25/100\n",
      "225/225 [==============================] - 12s 55ms/step - loss: 1.1065 - accuracy: 0.5821 - val_loss: 1.0703 - val_accuracy: 0.5892\n",
      "Epoch 26/100\n",
      "225/225 [==============================] - 12s 55ms/step - loss: 1.0862 - accuracy: 0.5880 - val_loss: 1.0701 - val_accuracy: 0.5901\n",
      "Epoch 27/100\n",
      "225/225 [==============================] - 12s 55ms/step - loss: 1.0851 - accuracy: 0.5920 - val_loss: 1.0633 - val_accuracy: 0.5960\n",
      "Epoch 28/100\n",
      "225/225 [==============================] - 12s 52ms/step - loss: 1.0741 - accuracy: 0.5936 - val_loss: 1.0499 - val_accuracy: 0.6016\n",
      "Epoch 29/100\n",
      "225/225 [==============================] - 12s 52ms/step - loss: 1.0657 - accuracy: 0.5982 - val_loss: 1.0642 - val_accuracy: 0.5926\n",
      "Epoch 30/100\n",
      "225/225 [==============================] - 12s 53ms/step - loss: 1.0661 - accuracy: 0.5998 - val_loss: 1.0616 - val_accuracy: 0.5947\n",
      "Epoch 31/100\n",
      "225/225 [==============================] - 12s 52ms/step - loss: 1.0446 - accuracy: 0.6098 - val_loss: 1.0545 - val_accuracy: 0.5917\n",
      "Epoch 32/100\n",
      "225/225 [==============================] - 12s 53ms/step - loss: 1.0469 - accuracy: 0.6089 - val_loss: 1.0442 - val_accuracy: 0.5992\n",
      "Epoch 33/100\n",
      "225/225 [==============================] - 12s 52ms/step - loss: 1.0412 - accuracy: 0.6101 - val_loss: 1.0578 - val_accuracy: 0.5957\n",
      "Epoch 34/100\n",
      "225/225 [==============================] - 12s 52ms/step - loss: 1.0375 - accuracy: 0.6137 - val_loss: 1.0467 - val_accuracy: 0.6053\n",
      "Epoch 35/100\n",
      "225/225 [==============================] - 12s 55ms/step - loss: 1.0360 - accuracy: 0.6136 - val_loss: 1.0402 - val_accuracy: 0.6113\n",
      "Epoch 36/100\n",
      "225/225 [==============================] - 12s 52ms/step - loss: 1.0213 - accuracy: 0.6143 - val_loss: 1.0376 - val_accuracy: 0.6064\n",
      "Epoch 37/100\n",
      "225/225 [==============================] - 12s 52ms/step - loss: 1.0143 - accuracy: 0.6182 - val_loss: 1.0513 - val_accuracy: 0.6028\n",
      "Epoch 38/100\n",
      "225/225 [==============================] - 12s 53ms/step - loss: 1.0121 - accuracy: 0.6168 - val_loss: 1.0345 - val_accuracy: 0.6087\n",
      "Epoch 39/100\n",
      "225/225 [==============================] - 12s 52ms/step - loss: 1.0026 - accuracy: 0.6252 - val_loss: 1.0480 - val_accuracy: 0.6035\n",
      "Epoch 40/100\n",
      "225/225 [==============================] - 12s 55ms/step - loss: 0.9885 - accuracy: 0.6280 - val_loss: 1.0378 - val_accuracy: 0.6032\n",
      "Epoch 41/100\n",
      "225/225 [==============================] - 12s 55ms/step - loss: 0.9861 - accuracy: 0.6290 - val_loss: 1.0394 - val_accuracy: 0.6119\n",
      "Epoch 42/100\n",
      "225/225 [==============================] - 12s 52ms/step - loss: 0.9811 - accuracy: 0.6324 - val_loss: 1.0435 - val_accuracy: 0.6048\n",
      "Epoch 43/100\n",
      "225/225 [==============================] - 12s 53ms/step - loss: 0.9744 - accuracy: 0.6353 - val_loss: 1.0282 - val_accuracy: 0.6158\n",
      "Epoch 44/100\n",
      "225/225 [==============================] - 12s 52ms/step - loss: 0.9712 - accuracy: 0.6391 - val_loss: 1.0326 - val_accuracy: 0.6134\n",
      "Epoch 45/100\n",
      "225/225 [==============================] - 12s 52ms/step - loss: 0.9683 - accuracy: 0.6372 - val_loss: 1.0223 - val_accuracy: 0.6163\n",
      "Epoch 46/100\n",
      "225/225 [==============================] - 12s 55ms/step - loss: 0.9604 - accuracy: 0.6417 - val_loss: 1.0292 - val_accuracy: 0.6088\n",
      "Epoch 47/100\n",
      "225/225 [==============================] - 12s 55ms/step - loss: 0.9539 - accuracy: 0.6433 - val_loss: 1.0206 - val_accuracy: 0.6208\n",
      "Epoch 48/100\n",
      "225/225 [==============================] - 12s 53ms/step - loss: 0.9526 - accuracy: 0.6452 - val_loss: 1.0219 - val_accuracy: 0.6198\n",
      "Epoch 49/100\n",
      "225/225 [==============================] - 12s 52ms/step - loss: 0.9518 - accuracy: 0.6465 - val_loss: 1.0137 - val_accuracy: 0.6206\n",
      "Epoch 50/100\n",
      "225/225 [==============================] - 12s 55ms/step - loss: 0.9325 - accuracy: 0.6527 - val_loss: 1.0332 - val_accuracy: 0.6108\n",
      "Epoch 51/100\n",
      "225/225 [==============================] - 12s 53ms/step - loss: 0.9426 - accuracy: 0.6520 - val_loss: 1.0212 - val_accuracy: 0.6211\n",
      "Epoch 52/100\n",
      "225/225 [==============================] - 12s 52ms/step - loss: 0.9313 - accuracy: 0.6544 - val_loss: 1.0101 - val_accuracy: 0.6232\n",
      "Epoch 53/100\n",
      "225/225 [==============================] - 12s 52ms/step - loss: 0.9206 - accuracy: 0.6561 - val_loss: 1.0131 - val_accuracy: 0.6211\n",
      "Epoch 54/100\n",
      "225/225 [==============================] - 12s 53ms/step - loss: 0.9249 - accuracy: 0.6574 - val_loss: 1.0291 - val_accuracy: 0.6160\n",
      "Epoch 55/100\n",
      "225/225 [==============================] - 12s 55ms/step - loss: 0.9111 - accuracy: 0.6632 - val_loss: 1.0203 - val_accuracy: 0.6234\n",
      "Epoch 56/100\n",
      "225/225 [==============================] - 12s 55ms/step - loss: 0.9107 - accuracy: 0.6646 - val_loss: 1.0099 - val_accuracy: 0.6244\n",
      "Epoch 57/100\n",
      "225/225 [==============================] - 12s 52ms/step - loss: 0.9029 - accuracy: 0.6628 - val_loss: 1.0167 - val_accuracy: 0.6232\n",
      "Epoch 58/100\n",
      "225/225 [==============================] - 12s 55ms/step - loss: 0.9020 - accuracy: 0.6677 - val_loss: 1.0178 - val_accuracy: 0.6223\n",
      "Epoch 59/100\n",
      "225/225 [==============================] - 12s 53ms/step - loss: 0.9023 - accuracy: 0.6659 - val_loss: 1.0137 - val_accuracy: 0.6211\n",
      "Epoch 60/100\n",
      "225/225 [==============================] - 12s 52ms/step - loss: 0.8873 - accuracy: 0.6756 - val_loss: 1.0153 - val_accuracy: 0.6211\n",
      "Epoch 61/100\n",
      "225/225 [==============================] - 12s 52ms/step - loss: 0.8888 - accuracy: 0.6702 - val_loss: 1.0092 - val_accuracy: 0.6262\n",
      "Epoch 62/100\n",
      "225/225 [==============================] - 12s 55ms/step - loss: 0.8788 - accuracy: 0.6741 - val_loss: 1.0192 - val_accuracy: 0.6234\n",
      "Epoch 63/100\n",
      "225/225 [==============================] - 12s 55ms/step - loss: 0.8810 - accuracy: 0.6738 - val_loss: 1.0259 - val_accuracy: 0.6230\n",
      "Epoch 64/100\n",
      "225/225 [==============================] - 12s 53ms/step - loss: 0.8752 - accuracy: 0.6795 - val_loss: 1.0196 - val_accuracy: 0.6199\n",
      "Epoch 65/100\n",
      "225/225 [==============================] - 12s 53ms/step - loss: 0.8650 - accuracy: 0.6769 - val_loss: 1.0248 - val_accuracy: 0.6271\n",
      "Epoch 66/100\n",
      "225/225 [==============================] - 12s 55ms/step - loss: 0.8623 - accuracy: 0.6804 - val_loss: 1.0175 - val_accuracy: 0.6273\n",
      "Epoch 67/100\n",
      "225/225 [==============================] - 12s 53ms/step - loss: 0.8562 - accuracy: 0.6824 - val_loss: 1.0234 - val_accuracy: 0.6262\n",
      "Epoch 68/100\n",
      "225/225 [==============================] - 12s 52ms/step - loss: 0.8557 - accuracy: 0.6835 - val_loss: 1.0173 - val_accuracy: 0.6209\n",
      "Epoch 69/100\n",
      "225/225 [==============================] - 12s 55ms/step - loss: 0.8517 - accuracy: 0.6853 - val_loss: 1.0093 - val_accuracy: 0.6258\n",
      "Epoch 70/100\n",
      "225/225 [==============================] - 12s 55ms/step - loss: 0.8477 - accuracy: 0.6880 - val_loss: 1.0188 - val_accuracy: 0.6254\n",
      "Epoch 71/100\n",
      "225/225 [==============================] - 12s 52ms/step - loss: 0.8459 - accuracy: 0.6876 - val_loss: 1.0188 - val_accuracy: 0.6244\n",
      "Epoch 72/100\n",
      "225/225 [==============================] - 12s 52ms/step - loss: 0.8340 - accuracy: 0.6918 - val_loss: 1.0152 - val_accuracy: 0.6262\n",
      "Epoch 73/100\n",
      "225/225 [==============================] - 12s 55ms/step - loss: 0.8344 - accuracy: 0.6888 - val_loss: 1.0082 - val_accuracy: 0.6262\n",
      "Epoch 74/100\n",
      "225/225 [==============================] - 12s 55ms/step - loss: 0.8211 - accuracy: 0.6984 - val_loss: 1.0196 - val_accuracy: 0.6211\n",
      "Epoch 75/100\n",
      "225/225 [==============================] - 12s 52ms/step - loss: 0.8199 - accuracy: 0.7027 - val_loss: 1.0136 - val_accuracy: 0.6266\n",
      "Epoch 76/100\n",
      "225/225 [==============================] - 12s 52ms/step - loss: 0.8214 - accuracy: 0.6993 - val_loss: 1.0293 - val_accuracy: 0.6243\n",
      "Epoch 77/100\n",
      "225/225 [==============================] - 12s 55ms/step - loss: 0.8197 - accuracy: 0.6971 - val_loss: 1.0177 - val_accuracy: 0.6279\n",
      "Epoch 78/100\n",
      "225/225 [==============================] - 12s 55ms/step - loss: 0.8112 - accuracy: 0.7021 - val_loss: 1.0195 - val_accuracy: 0.6358\n",
      "Epoch 79/100\n",
      "225/225 [==============================] - 12s 55ms/step - loss: 0.8072 - accuracy: 0.7041 - val_loss: 1.0388 - val_accuracy: 0.6220\n",
      "Epoch 80/100\n",
      "225/225 [==============================] - 12s 52ms/step - loss: 0.8057 - accuracy: 0.7057 - val_loss: 1.0177 - val_accuracy: 0.6271\n",
      "Epoch 81/100\n",
      "225/225 [==============================] - 12s 55ms/step - loss: 0.8079 - accuracy: 0.7030 - val_loss: 1.0173 - val_accuracy: 0.6252\n",
      "Epoch 82/100\n",
      "225/225 [==============================] - 12s 52ms/step - loss: 0.8033 - accuracy: 0.7068 - val_loss: 1.0204 - val_accuracy: 0.6264\n",
      "Epoch 83/100\n",
      "225/225 [==============================] - 12s 53ms/step - loss: 0.7976 - accuracy: 0.7090 - val_loss: 1.0379 - val_accuracy: 0.6234\n",
      "Epoch 84/100\n",
      "225/225 [==============================] - 12s 52ms/step - loss: 0.7905 - accuracy: 0.7103 - val_loss: 1.0227 - val_accuracy: 0.6328\n",
      "Epoch 85/100\n",
      "225/225 [==============================] - 12s 53ms/step - loss: 0.7886 - accuracy: 0.7123 - val_loss: 1.0210 - val_accuracy: 0.6321\n",
      "Epoch 86/100\n",
      "225/225 [==============================] - 12s 52ms/step - loss: 0.7743 - accuracy: 0.7127 - val_loss: 1.0365 - val_accuracy: 0.6307\n",
      "Epoch 87/100\n",
      "225/225 [==============================] - 12s 52ms/step - loss: 0.7804 - accuracy: 0.7121 - val_loss: 1.0216 - val_accuracy: 0.6254\n",
      "Epoch 88/100\n",
      "225/225 [==============================] - 12s 55ms/step - loss: 0.7754 - accuracy: 0.7183 - val_loss: 1.0166 - val_accuracy: 0.6271\n",
      "Epoch 89/100\n",
      "225/225 [==============================] - 12s 55ms/step - loss: 0.7732 - accuracy: 0.7158 - val_loss: 1.0316 - val_accuracy: 0.6261\n",
      "Epoch 90/100\n",
      "225/225 [==============================] - 12s 55ms/step - loss: 0.7730 - accuracy: 0.7153 - val_loss: 1.0193 - val_accuracy: 0.6335\n",
      "Epoch 91/100\n",
      "225/225 [==============================] - 12s 53ms/step - loss: 0.7606 - accuracy: 0.7242 - val_loss: 1.0290 - val_accuracy: 0.6282\n",
      "Epoch 92/100\n",
      "225/225 [==============================] - 12s 55ms/step - loss: 0.7613 - accuracy: 0.7208 - val_loss: 1.0230 - val_accuracy: 0.6318\n",
      "Epoch 93/100\n",
      "225/225 [==============================] - 12s 56ms/step - loss: 0.7579 - accuracy: 0.7252 - val_loss: 1.0293 - val_accuracy: 0.6323\n",
      "Epoch 94/100\n",
      "225/225 [==============================] - 12s 52ms/step - loss: 0.7589 - accuracy: 0.7252 - val_loss: 1.0295 - val_accuracy: 0.6284\n",
      "Epoch 95/100\n",
      "225/225 [==============================] - 12s 52ms/step - loss: 0.7553 - accuracy: 0.7277 - val_loss: 1.0464 - val_accuracy: 0.6321\n",
      "Epoch 96/100\n",
      "225/225 [==============================] - 12s 55ms/step - loss: 0.7391 - accuracy: 0.7307 - val_loss: 1.0279 - val_accuracy: 0.6308\n",
      "Epoch 97/100\n",
      "225/225 [==============================] - 12s 52ms/step - loss: 0.7461 - accuracy: 0.7274 - val_loss: 1.0315 - val_accuracy: 0.6258\n",
      "Epoch 98/100\n",
      "225/225 [==============================] - 12s 53ms/step - loss: 0.7504 - accuracy: 0.7273 - val_loss: 1.0217 - val_accuracy: 0.6308\n",
      "Epoch 99/100\n",
      "225/225 [==============================] - 12s 52ms/step - loss: 0.7300 - accuracy: 0.7327 - val_loss: 1.0218 - val_accuracy: 0.6323\n",
      "Epoch 100/100\n",
      "225/225 [==============================] - 12s 55ms/step - loss: 0.7297 - accuracy: 0.7338 - val_loss: 1.0277 - val_accuracy: 0.6354\n"
     ]
    }
   ],
   "source": [
    "history = model.fit(x=X_train, y=y_train, batch_size=128, epochs=100, validation_data=(X_test, y_test))"
   ]
  },
  {
   "cell_type": "code",
   "execution_count": 22,
   "id": "5ef65574",
   "metadata": {
    "execution": {
     "iopub.execute_input": "2023-06-21T18:50:49.316553Z",
     "iopub.status.busy": "2023-06-21T18:50:49.316188Z",
     "iopub.status.idle": "2023-06-21T18:50:49.896732Z",
     "shell.execute_reply": "2023-06-21T18:50:49.895705Z"
    },
    "papermill": {
     "duration": 1.716194,
     "end_time": "2023-06-21T18:50:49.898970",
     "exception": false,
     "start_time": "2023-06-21T18:50:48.182776",
     "status": "completed"
    },
    "tags": []
   },
   "outputs": [
    {
     "data": {
      "image/png": "[encoded data removed]",
      "text/plain": [
       "<Figure size 640x480 with 1 Axes>"
      ]
     },
     "metadata": {},
     "output_type": "display_data"
    },
    {
     "data": {
      "image/png": "[encoded data removed]",
      "text/plain": [
       "<Figure size 640x480 with 1 Axes>"
      ]
     },
     "metadata": {},
     "output_type": "display_data"
    }
   ],
   "source": [
    "acc = history.history['accuracy']\n",
    "val_acc = history.history['val_accuracy']\n",
    "epochs = range(len(acc))\n",
    "\n",
    "plt.plot(epochs, acc, 'b', label='Training Accuracy')\n",
    "plt.plot(epochs, val_acc, 'r', label='Validation Accuracy')\n",
    "plt.title('Accuracy Graph')\n",
    "plt.legend()\n",
    "plt.figure()\n",
    "\n",
    "loss = history.history['loss']\n",
    "val_loss = history.history['val_loss']\n",
    "epochs = range(len(acc))\n",
    "\n",
    "plt.plot(epochs, loss, 'b', label='Training Loss')\n",
    "plt.plot(epochs, val_loss, 'r', label='Validation Loss')\n",
    "plt.title('Loss Graph')\n",
    "plt.legend()\n",
    "\n",
    "plt.show()"
   ]
  },
  {
   "cell_type": "markdown",
   "id": "b0d01e4e",
   "metadata": {
    "papermill": {
     "duration": 1.267371,
     "end_time": "2023-06-21T18:50:52.264313",
     "exception": false,
     "start_time": "2023-06-21T18:50:50.996942",
     "status": "completed"
    },
    "tags": []
   },
   "source": [
    "# Prediction"
   ]
  },
  {
   "cell_type": "code",
   "execution_count": 23,
   "id": "8e552dea",
   "metadata": {
    "execution": {
     "iopub.execute_input": "2023-06-21T18:50:54.896570Z",
     "iopub.status.busy": "2023-06-21T18:50:54.896190Z",
     "iopub.status.idle": "2023-06-21T18:50:55.535189Z",
     "shell.execute_reply": "2023-06-21T18:50:55.534287Z"
    },
    "papermill": {
     "duration": 1.724432,
     "end_time": "2023-06-21T18:50:55.537548",
     "exception": false,
     "start_time": "2023-06-21T18:50:53.813116",
     "status": "completed"
    },
    "tags": []
   },
   "outputs": [
    {
     "name": "stdout",
     "output_type": "stream",
     "text": [
      "True Output:  sad\n",
      "1/1 [==============================] - 0s 320ms/step\n",
      "Predicted Output: sad\n"
     ]
    },
    {
     "data": {
      "image/png": "[encoded data removed]",
      "text/plain": [
       "<Figure size 640x480 with 1 Axes>"
      ]
     },
     "metadata": {},
     "output_type": "display_data"
    }
   ],
   "source": [
    "import random\n",
    "img_idx = random.randint(0,len(test))\n",
    "print(\"True Output: \",test['labels'][img_idx])\n",
    "pred = model.predict(X_test[img_idx].reshape(1, 48, 48, 1))\n",
    "prediction_label = le.inverse_transform([pred.argmax()])[0]\n",
    "print(\"Predicted Output:\", prediction_label)\n",
    "plt.imshow(X_test[img_idx].reshape(48, 48), cmap='gray');"
   ]
  },
  {
   "cell_type": "code",
   "execution_count": 24,
   "id": "0c59ef76",
   "metadata": {
    "execution": {
     "iopub.execute_input": "2023-06-21T18:50:57.746598Z",
     "iopub.status.busy": "2023-06-21T18:50:57.746255Z",
     "iopub.status.idle": "2023-06-21T18:50:58.062961Z",
     "shell.execute_reply": "2023-06-21T18:50:58.061917Z"
    },
    "papermill": {
     "duration": 1.38361,
     "end_time": "2023-06-21T18:50:58.065487",
     "exception": false,
     "start_time": "2023-06-21T18:50:56.681877",
     "status": "completed"
    },
    "tags": []
   },
   "outputs": [
    {
     "name": "stdout",
     "output_type": "stream",
     "text": [
      "True Output:  angry\n",
      "1/1 [==============================] - 0s 22ms/step\n",
      "Predicted Output: sad\n"
     ]
    },
    {
     "data": {
      "image/png": "[encoded data removed]",
      "text/plain": [
       "<Figure size 640x480 with 1 Axes>"
      ]
     },
     "metadata": {},
     "output_type": "display_data"
    }
   ],
   "source": [
    "img_idx = random.randint(0,len(test))\n",
    "print(\"True Output: \",test['labels'][img_idx])\n",
    "pred = model.predict(X_test[img_idx].reshape(1, 48, 48, 1))\n",
    "prediction_label = le.inverse_transform([pred.argmax()])[0]\n",
    "print(\"Predicted Output:\", prediction_label)\n",
    "plt.imshow(X_test[img_idx].reshape(48, 48), cmap='gray');"
   ]
  },
  {
   "cell_type": "code",
   "execution_count": 25,
   "id": "b09217d6",
   "metadata": {
    "execution": {
     "iopub.execute_input": "2023-06-21T18:51:00.294196Z",
     "iopub.status.busy": "2023-06-21T18:51:00.293826Z",
     "iopub.status.idle": "2023-06-21T18:51:00.864905Z",
     "shell.execute_reply": "2023-06-21T18:51:00.864020Z"
    },
    "papermill": {
     "duration": 1.656332,
     "end_time": "2023-06-21T18:51:00.866950",
     "exception": false,
     "start_time": "2023-06-21T18:50:59.210618",
     "status": "completed"
    },
    "tags": []
   },
   "outputs": [
    {
     "name": "stdout",
     "output_type": "stream",
     "text": [
      "True Output:  happy\n",
      "1/1 [==============================] - 0s 19ms/step\n",
      "Predicted Output: happy\n"
     ]
    },
    {
     "data": {
      "image/png": "[encoded data removed]",
      "text/plain": [
       "<Figure size 640x480 with 1 Axes>"
      ]
     },
     "metadata": {},
     "output_type": "display_data"
    }
   ],
   "source": [
    "img_idx = random.randint(0,len(test))\n",
    "print(\"True Output: \",test['labels'][img_idx])\n",
    "pred = model.predict(X_test[img_idx].reshape(1, 48, 48, 1))\n",
    "prediction_label = le.inverse_transform([pred.argmax()])[0]\n",
    "print(\"Predicted Output:\", prediction_label)\n",
    "plt.imshow(X_test[img_idx].reshape(48, 48), cmap='gray');"
   ]
  },
  {
   "cell_type": "markdown",
   "id": "a0bc2904",
   "metadata": {
    "papermill": {
     "duration": 1.104816,
     "end_time": "2023-06-21T18:51:03.092763",
     "exception": false,
     "start_time": "2023-06-21T18:51:01.987947",
     "status": "completed"
    },
    "tags": []
   },
   "source": [
    "# Thanks"
   ]
  }
 ],
 "metadata": {
  "kernelspec": {
   "display_name": "Python 3",
   "language": "python",
   "name": "python3"
  },
  "language_info": {
   "codemirror_mode": {
    "name": "ipython",
    "version": 3
   },
   "file_extension": ".py",
   "mimetype": "text/x-python",
   "name": "python",
   "nbconvert_exporter": "python",
   "pygments_lexer": "ipython3",
   "version": "3.10.10"
  },
  "papermill": {
   "default_parameters": {},
   "duration": 1547.585277,
   "end_time": "2023-06-21T18:51:07.176398",
   "environment_variables": {},
   "exception": null,
   "input_path": "__notebook__.ipynb",
   "output_path": "__notebook__.ipynb",
   "parameters": {},
   "start_time": "2023-06-21T18:25:19.591121",
   "version": "2.4.0"
  },
  "widgets": {
   "application/vnd.jupyter.widget-state+json": {
    "state": {
     "0539f9a325d144e3b30c0e8e766a2acf": {
      "model_module": "@jupyter-widgets/controls",
      "model_module_version": "1.5.0",
      "model_name": "FloatProgressModel",
      "state": {
       "_dom_classes": [],
       "_model_module": "@jupyter-widgets/controls",
       "_model_module_version": "1.5.0",
       "_model_name": "FloatProgressModel",
       "_view_count": null,
       "_view_module": "@jupyter-widgets/controls",
       "_view_module_version": "1.5.0",
       "_view_name": "ProgressView",
       "bar_style": "success",
       "description": "",
       "description_tooltip": null,
       "layout": "IPY_MODEL_eaf2bc32da5e450b9f51cff483df50a7",
       "max": 28709.0,
       "min": 0.0,
       "orientation": "horizontal",
       "style": "IPY_MODEL_814eef81a303483e90de7ae5f6f9a817",
       "value": 28709.0
      }
     },
     "0e075bfd5cc944179c096299c00392c7": {
      "model_module": "@jupyter-widgets/base",
      "model_module_version": "1.2.0",
      "model_name": "LayoutModel",
      "state": {
       "_model_module": "@jupyter-widgets/base",
       "_model_module_version": "1.2.0",
       "_model_name": "LayoutModel",
       "_view_count": null,
       "_view_module": "@jupyter-widgets/base",
       "_view_module_version": "1.2.0",
       "_view_name": "LayoutView",
       "align_content": null,
       "align_items": null,
       "align_self": null,
       "border": null,
       "bottom": null,
       "display": null,
       "flex": null,
       "flex_flow": null,
       "grid_area": null,
       "grid_auto_columns": null,
       "grid_auto_flow": null,
       "grid_auto_rows": null,
       "grid_column": null,
       "grid_gap": null,
       "grid_row": null,
       "grid_template_areas": null,
       "grid_template_columns": null,
       "grid_template_rows": null,
       "height": null,
       "justify_content": null,
       "justify_items": null,
       "left": null,
       "margin": null,
       "max_height": null,
       "max_width": null,
       "min_height": null,
       "min_width": null,
       "object_fit": null,
       "object_position": null,
       "order": null,
       "overflow": null,
       "overflow_x": null,
       "overflow_y": null,
       "padding": null,
       "right": null,
       "top": null,
       "visibility": null,
       "width": null
      }
     },
     "11171f84f79c484cb3d497434c992639": {
      "model_module": "@jupyter-widgets/controls",
      "model_module_version": "1.5.0",
      "model_name": "FloatProgressModel",
      "state": {
       "_dom_classes": [],
       "_model_module": "@jupyter-widgets/controls",
       "_model_module_version": "1.5.0",
       "_model_name": "FloatProgressModel",
       "_view_count": null,
       "_view_module": "@jupyter-widgets/controls",
       "_view_module_version": "1.5.0",
       "_view_name": "ProgressView",
       "bar_style": "success",
       "description": "",
       "description_tooltip": null,
       "layout": "IPY_MODEL_124ed54006df4f8bbd375309af28d4bb",
       "max": 7178.0,
       "min": 0.0,
       "orientation": "horizontal",
       "style": "IPY_MODEL_e269a23e785f40fca96c2c0970cf2e17",
       "value": 7178.0
      }
     },
     "124ed54006df4f8bbd375309af28d4bb": {
      "model_module": "@jupyter-widgets/base",
      "model_module_version": "1.2.0",
      "model_name": "LayoutModel",
      "state": {
       "_model_module": "@jupyter-widgets/base",
       "_model_module_version": "1.2.0",
       "_model_name": "LayoutModel",
       "_view_count": null,
       "_view_module": "@jupyter-widgets/base",
       "_view_module_version": "1.2.0",
       "_view_name": "LayoutView",
       "align_content": null,
       "align_items": null,
       "align_self": null,
       "border": null,
       "bottom": null,
       "display": null,
       "flex": null,
       "flex_flow": null,
       "grid_area": null,
       "grid_auto_columns": null,
       "grid_auto_flow": null,
       "grid_auto_rows": null,
       "grid_column": null,
       "grid_gap": null,
       "grid_row": null,
       "grid_template_areas": null,
       "grid_template_columns": null,
       "grid_template_rows": null,
       "height": null,
       "justify_content": null,
       "justify_items": null,
       "left": null,
       "margin": null,
       "max_height": null,
       "max_width": null,
       "min_height": null,
       "min_width": null,
       "object_fit": null,
       "object_position": null,
       "order": null,
       "overflow": null,
       "overflow_x": null,
       "overflow_y": null,
       "padding": null,
       "right": null,
       "top": null,
       "visibility": null,
       "width": null
      }
     },
     "1532b5c4fc89494590746574542c441b": {
      "model_module": "@jupyter-widgets/controls",
      "model_module_version": "1.5.0",
      "model_name": "HBoxModel",
      "state": {
       "_dom_classes": [],
       "_model_module": "@jupyter-widgets/controls",
       "_model_module_version": "1.5.0",
       "_model_name": "HBoxModel",
       "_view_count": null,
       "_view_module": "@jupyter-widgets/controls",
       "_view_module_version": "1.5.0",
       "_view_name": "HBoxView",
       "box_style": "",
       "children": [
        "IPY_MODEL_21a823c30a1e4c80bff35c928d58e2a5",
        "IPY_MODEL_11171f84f79c484cb3d497434c992639",
        "IPY_MODEL_43dbac19b1d04d0fa400b4b8e877dbec"
       ],
       "layout": "IPY_MODEL_b9a2cd25737c43f997d5e3cd85c98019"
      }
     },
     "21a823c30a1e4c80bff35c928d58e2a5": {
      "model_module": "@jupyter-widgets/controls",
      "model_module_version": "1.5.0",
      "model_name": "HTMLModel",
      "state": {
       "_dom_classes": [],
       "_model_module": "@jupyter-widgets/controls",
       "_model_module_version": "1.5.0",
       "_model_name": "HTMLModel",
       "_view_count": null,
       "_view_module": "@jupyter-widgets/controls",
       "_view_module_version": "1.5.0",
       "_view_name": "HTMLView",
       "description": "",
       "description_tooltip": null,
       "layout": "IPY_MODEL_42c34e50260d4a2e9d2e38a8e1c4e189",
       "placeholder": "​",
       "style": "IPY_MODEL_fcbe662f684948029e346305008d48ac",
       "value": "100%"
      }
     },
     "32d234bab7f749929e7e8d40df0cd178": {
      "model_module": "@jupyter-widgets/controls",
      "model_module_version": "1.5.0",
      "model_name": "DescriptionStyleModel",
      "state": {
       "_model_module": "@jupyter-widgets/controls",
       "_model_module_version": "1.5.0",
       "_model_name": "DescriptionStyleModel",
       "_view_count": null,
       "_view_module": "@jupyter-widgets/base",
       "_view_module_version": "1.2.0",
       "_view_name": "StyleView",
       "description_width": ""
      }
     },
     "3693dd422e56403ebc830a15b91a86ea": {
      "model_module": "@jupyter-widgets/controls",
      "model_module_version": "1.5.0",
      "model_name": "HBoxModel",
      "state": {
       "_dom_classes": [],
       "_model_module": "@jupyter-widgets/controls",
       "_model_module_version": "1.5.0",
       "_model_name": "HBoxModel",
       "_view_count": null,
       "_view_module": "@jupyter-widgets/controls",
       "_view_module_version": "1.5.0",
       "_view_name": "HBoxView",
       "box_style": "",
       "children": [
        "IPY_MODEL_4823676b8b504520a5141e872858cdfe",
        "IPY_MODEL_0539f9a325d144e3b30c0e8e766a2acf",
        "IPY_MODEL_a5ec7aaf2fbd4dd4bdff6750f59e7ba0"
       ],
       "layout": "IPY_MODEL_e0656234d89d4844980cdfe8cf779e90"
      }
     },
     "371f35a74f7b45ce8a7ce8ca3303296d": {
      "model_module": "@jupyter-widgets/base",
      "model_module_version": "1.2.0",
      "model_name": "LayoutModel",
      "state": {
       "_model_module": "@jupyter-widgets/base",
       "_model_module_version": "1.2.0",
       "_model_name": "LayoutModel",
       "_view_count": null,
       "_view_module": "@jupyter-widgets/base",
       "_view_module_version": "1.2.0",
       "_view_name": "LayoutView",
       "align_content": null,
       "align_items": null,
       "align_self": null,
       "border": null,
       "bottom": null,
       "display": null,
       "flex": null,
       "flex_flow": null,
       "grid_area": null,
       "grid_auto_columns": null,
       "grid_auto_flow": null,
       "grid_auto_rows": null,
       "grid_column": null,
       "grid_gap": null,
       "grid_row": null,
       "grid_template_areas": null,
       "grid_template_columns": null,
       "grid_template_rows": null,
       "height": null,
       "justify_content": null,
       "justify_items": null,
       "left": null,
       "margin": null,
       "max_height": null,
       "max_width": null,
       "min_height": null,
       "min_width": null,
       "object_fit": null,
       "object_position": null,
       "order": null,
       "overflow": null,
       "overflow_x": null,
       "overflow_y": null,
       "padding": null,
       "right": null,
       "top": null,
       "visibility": null,
       "width": null
      }
     },
     "42c34e50260d4a2e9d2e38a8e1c4e189": {
      "model_module": "@jupyter-widgets/base",
      "model_module_version": "1.2.0",
      "model_name": "LayoutModel",
      "state": {
       "_model_module": "@jupyter-widgets/base",
       "_model_module_version": "1.2.0",
       "_model_name": "LayoutModel",
       "_view_count": null,
       "_view_module": "@jupyter-widgets/base",
       "_view_module_version": "1.2.0",
       "_view_name": "LayoutView",
       "align_content": null,
       "align_items": null,
       "align_self": null,
       "border": null,
       "bottom": null,
       "display": null,
       "flex": null,
       "flex_flow": null,
       "grid_area": null,
       "grid_auto_columns": null,
       "grid_auto_flow": null,
       "grid_auto_rows": null,
       "grid_column": null,
       "grid_gap": null,
       "grid_row": null,
       "grid_template_areas": null,
       "grid_template_columns": null,
       "grid_template_rows": null,
       "height": null,
       "justify_content": null,
       "justify_items": null,
       "left": null,
       "margin": null,
       "max_height": null,
       "max_width": null,
       "min_height": null,
       "min_width": null,
       "object_fit": null,
       "object_position": null,
       "order": null,
       "overflow": null,
       "overflow_x": null,
       "overflow_y": null,
       "padding": null,
       "right": null,
       "top": null,
       "visibility": null,
       "width": null
      }
     },
     "43dbac19b1d04d0fa400b4b8e877dbec": {
      "model_module": "@jupyter-widgets/controls",
      "model_module_version": "1.5.0",
      "model_name": "HTMLModel",
      "state": {
       "_dom_classes": [],
       "_model_module": "@jupyter-widgets/controls",
       "_model_module_version": "1.5.0",
       "_model_name": "HTMLModel",
       "_view_count": null,
       "_view_module": "@jupyter-widgets/controls",
       "_view_module_version": "1.5.0",
       "_view_name": "HTMLView",
       "description": "",
       "description_tooltip": null,
       "layout": "IPY_MODEL_bdd3555d07d14102ac5de9a9a723b49e",
       "placeholder": "​",
       "style": "IPY_MODEL_77544a3437544d93974a707ba8d98e75",
       "value": " 7178/7178 [00:48&lt;00:00, 93.07it/s]"
      }
     },
     "4823676b8b504520a5141e872858cdfe": {
      "model_module": "@jupyter-widgets/controls",
      "model_module_version": "1.5.0",
      "model_name": "HTMLModel",
      "state": {
       "_dom_classes": [],
       "_model_module": "@jupyter-widgets/controls",
       "_model_module_version": "1.5.0",
       "_model_name": "HTMLModel",
       "_view_count": null,
       "_view_module": "@jupyter-widgets/controls",
       "_view_module_version": "1.5.0",
       "_view_name": "HTMLView",
       "description": "",
       "description_tooltip": null,
       "layout": "IPY_MODEL_371f35a74f7b45ce8a7ce8ca3303296d",
       "placeholder": "​",
       "style": "IPY_MODEL_5d97ee9c8c064a26abec6dfe4419286e",
       "value": "100%"
      }
     },
     "5d97ee9c8c064a26abec6dfe4419286e": {
      "model_module": "@jupyter-widgets/controls",
      "model_module_version": "1.5.0",
      "model_name": "DescriptionStyleModel",
      "state": {
       "_model_module": "@jupyter-widgets/controls",
       "_model_module_version": "1.5.0",
       "_model_name": "DescriptionStyleModel",
       "_view_count": null,
       "_view_module": "@jupyter-widgets/base",
       "_view_module_version": "1.2.0",
       "_view_name": "StyleView",
       "description_width": ""
      }
     },
     "77544a3437544d93974a707ba8d98e75": {
      "model_module": "@jupyter-widgets/controls",
      "model_module_version": "1.5.0",
      "model_name": "DescriptionStyleModel",
      "state": {
       "_model_module": "@jupyter-widgets/controls",
       "_model_module_version": "1.5.0",
       "_model_name": "DescriptionStyleModel",
       "_view_count": null,
       "_view_module": "@jupyter-widgets/base",
       "_view_module_version": "1.2.0",
       "_view_name": "StyleView",
       "description_width": ""
      }
     },
     "814eef81a303483e90de7ae5f6f9a817": {
      "model_module": "@jupyter-widgets/controls",
      "model_module_version": "1.5.0",
      "model_name": "ProgressStyleModel",
      "state": {
       "_model_module": "@jupyter-widgets/controls",
       "_model_module_version": "1.5.0",
       "_model_name": "ProgressStyleModel",
       "_view_count": null,
       "_view_module": "@jupyter-widgets/base",
       "_view_module_version": "1.2.0",
       "_view_name": "StyleView",
       "bar_color": null,
       "description_width": ""
      }
     },
     "a5ec7aaf2fbd4dd4bdff6750f59e7ba0": {
      "model_module": "@jupyter-widgets/controls",
      "model_module_version": "1.5.0",
      "model_name": "HTMLModel",
      "state": {
       "_dom_classes": [],
       "_model_module": "@jupyter-widgets/controls",
       "_model_module_version": "1.5.0",
       "_model_name": "HTMLModel",
       "_view_count": null,
       "_view_module": "@jupyter-widgets/controls",
       "_view_module_version": "1.5.0",
       "_view_name": "HTMLView",
       "description": "",
       "description_tooltip": null,
       "layout": "IPY_MODEL_0e075bfd5cc944179c096299c00392c7",
       "placeholder": "​",
       "style": "IPY_MODEL_32d234bab7f749929e7e8d40df0cd178",
       "value": " 28709/28709 [03:35&lt;00:00, 135.76it/s]"
      }
     },
     "b9a2cd25737c43f997d5e3cd85c98019": {
      "model_module": "@jupyter-widgets/base",
      "model_module_version": "1.2.0",
      "model_name": "LayoutModel",
      "state": {
       "_model_module": "@jupyter-widgets/base",
       "_model_module_version": "1.2.0",
       "_model_name": "LayoutModel",
       "_view_count": null,
       "_view_module": "@jupyter-widgets/base",
       "_view_module_version": "1.2.0",
       "_view_name": "LayoutView",
       "align_content": null,
       "align_items": null,
       "align_self": null,
       "border": null,
       "bottom": null,
       "display": null,
       "flex": null,
       "flex_flow": null,
       "grid_area": null,
       "grid_auto_columns": null,
       "grid_auto_flow": null,
       "grid_auto_rows": null,
       "grid_column": null,
       "grid_gap": null,
       "grid_row": null,
       "grid_template_areas": null,
       "grid_template_columns": null,
       "grid_template_rows": null,
       "height": null,
       "justify_content": null,
       "justify_items": null,
       "left": null,
       "margin": null,
       "max_height": null,
       "max_width": null,
       "min_height": null,
       "min_width": null,
       "object_fit": null,
       "object_position": null,
       "order": null,
       "overflow": null,
       "overflow_x": null,
       "overflow_y": null,
       "padding": null,
       "right": null,
       "top": null,
       "visibility": null,
       "width": null
      }
     },
     "bdd3555d07d14102ac5de9a9a723b49e": {
      "model_module": "@jupyter-widgets/base",
      "model_module_version": "1.2.0",
      "model_name": "LayoutModel",
      "state": {
       "_model_module": "@jupyter-widgets/base",
       "_model_module_version": "1.2.0",
       "_model_name": "LayoutModel",
       "_view_count": null,
       "_view_module": "@jupyter-widgets/base",
       "_view_module_version": "1.2.0",
       "_view_name": "LayoutView",
       "align_content": null,
       "align_items": null,
       "align_self": null,
       "border": null,
       "bottom": null,
       "display": null,
       "flex": null,
       "flex_flow": null,
       "grid_area": null,
       "grid_auto_columns": null,
       "grid_auto_flow": null,
       "grid_auto_rows": null,
       "grid_column": null,
       "grid_gap": null,
       "grid_row": null,
       "grid_template_areas": null,
       "grid_template_columns": null,
       "grid_template_rows": null,
       "height": null,
       "justify_content": null,
       "justify_items": null,
       "left": null,
       "margin": null,
       "max_height": null,
       "max_width": null,
       "min_height": null,
       "min_width": null,
       "object_fit": null,
       "object_position": null,
       "order": null,
       "overflow": null,
       "overflow_x": null,
       "overflow_y": null,
       "padding": null,
       "right": null,
       "top": null,
       "visibility": null,
       "width": null
      }
     },
     "e0656234d89d4844980cdfe8cf779e90": {
      "model_module": "@jupyter-widgets/base",
      "model_module_version": "1.2.0",
      "model_name": "LayoutModel",
      "state": {
       "_model_module": "@jupyter-widgets/base",
       "_model_module_version": "1.2.0",
       "_model_name": "LayoutModel",
       "_view_count": null,
       "_view_module": "@jupyter-widgets/base",
       "_view_module_version": "1.2.0",
       "_view_name": "LayoutView",
       "align_content": null,
       "align_items": null,
       "align_self": null,
       "border": null,
       "bottom": null,
       "display": null,
       "flex": null,
       "flex_flow": null,
       "grid_area": null,
       "grid_auto_columns": null,
       "grid_auto_flow": null,
       "grid_auto_rows": null,
       "grid_column": null,
       "grid_gap": null,
       "grid_row": null,
       "grid_template_areas": null,
       "grid_template_columns": null,
       "grid_template_rows": null,
       "height": null,
       "justify_content": null,
       "justify_items": null,
       "left": null,
       "margin": null,
       "max_height": null,
       "max_width": null,
       "min_height": null,
       "min_width": null,
       "object_fit": null,
       "object_position": null,
       "order": null,
       "overflow": null,
       "overflow_x": null,
       "overflow_y": null,
       "padding": null,
       "right": null,
       "top": null,
       "visibility": null,
       "width": null
      }
     },
     "e269a23e785f40fca96c2c0970cf2e17": {
      "model_module": "@jupyter-widgets/controls",
      "model_module_version": "1.5.0",
      "model_name": "ProgressStyleModel",
      "state": {
       "_model_module": "@jupyter-widgets/controls",
       "_model_module_version": "1.5.0",
       "_model_name": "ProgressStyleModel",
       "_view_count": null,
       "_view_module": "@jupyter-widgets/base",
       "_view_module_version": "1.2.0",
       "_view_name": "StyleView",
       "bar_color": null,
       "description_width": ""
      }
     },
     "eaf2bc32da5e450b9f51cff483df50a7": {
      "model_module": "@jupyter-widgets/base",
      "model_module_version": "1.2.0",
      "model_name": "LayoutModel",
      "state": {
       "_model_module": "@jupyter-widgets/base",
       "_model_module_version": "1.2.0",
       "_model_name": "LayoutModel",
       "_view_count": null,
       "_view_module": "@jupyter-widgets/base",
       "_view_module_version": "1.2.0",
       "_view_name": "LayoutView",
       "align_content": null,
       "align_items": null,
       "align_self": null,
       "border": null,
       "bottom": null,
       "display": null,
       "flex": null,
       "flex_flow": null,
       "grid_area": null,
       "grid_auto_columns": null,
       "grid_auto_flow": null,
       "grid_auto_rows": null,
       "grid_column": null,
       "grid_gap": null,
       "grid_row": null,
       "grid_template_areas": null,
       "grid_template_columns": null,
       "grid_template_rows": null,
       "height": null,
       "justify_content": null,
       "justify_items": null,
       "left": null,
       "margin": null,
       "max_height": null,
       "max_width": null,
       "min_height": null,
       "min_width": null,
       "object_fit": null,
       "object_position": null,
       "order": null,
       "overflow": null,
       "overflow_x": null,
       "overflow_y": null,
       "padding": null,
       "right": null,
       "top": null,
       "visibility": null,
       "width": null
      }
     },
     "fcbe662f684948029e346305008d48ac": {
      "model_module": "@jupyter-widgets/controls",
      "model_module_version": "1.5.0",
      "model_name": "DescriptionStyleModel",
      "state": {
       "_model_module": "@jupyter-widgets/controls",
       "_model_module_version": "1.5.0",
       "_model_name": "DescriptionStyleModel",
       "_view_count": null,
       "_view_module": "@jupyter-widgets/base",
       "_view_module_version": "1.2.0",
       "_view_name": "StyleView",
       "description_width": ""
      }
     }
    },
    "version_major": 2,
    "version_minor": 0
   }
  }
 },
 "nbformat": 4,
 "nbformat_minor": 5
}
