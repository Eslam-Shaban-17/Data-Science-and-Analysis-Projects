{
 "cells": [
  {
   "cell_type": "markdown",
   "id": "fcf9ada2",
   "metadata": {
    "papermill": {
     "duration": 0.012988,
     "end_time": "2023-05-17T17:50:14.478197",
     "exception": false,
     "start_time": "2023-05-17T17:50:14.465209",
     "status": "completed"
    },
    "tags": []
   },
   "source": [
    "# Import Libraries"
   ]
  },
  {
   "cell_type": "code",
   "execution_count": 1,
   "id": "be1bc9d6",
   "metadata": {
    "execution": {
     "iopub.execute_input": "2023-05-17T17:50:14.504597Z",
     "iopub.status.busy": "2023-05-17T17:50:14.504226Z",
     "iopub.status.idle": "2023-05-17T17:50:21.969017Z",
     "shell.execute_reply": "2023-05-17T17:50:21.968103Z"
    },
    "papermill": {
     "duration": 7.480688,
     "end_time": "2023-05-17T17:50:21.971638",
     "exception": false,
     "start_time": "2023-05-17T17:50:14.490950",
     "status": "completed"
    },
    "tags": []
   },
   "outputs": [
    {
     "name": "stderr",
     "output_type": "stream",
     "text": [
      "/opt/conda/lib/python3.10/site-packages/scipy/__init__.py:146: UserWarning: A NumPy version >=1.16.5 and <1.23.0 is required for this version of SciPy (detected version 1.23.5\n",
      "  warnings.warn(f\"A NumPy version >={np_minversion} and <{np_maxversion}\"\n"
     ]
    }
   ],
   "source": [
    "import pandas as pd\n",
    "import numpy as np\n",
    "import matplotlib.pyplot as plt\n",
    "import matplotlib.image as mpimg\n",
    "import seaborn as sns\n",
    "%matplotlib inline\n",
    "\n",
    "np.random.seed(2)\n",
    "import joblib\n",
    "from sklearn.model_selection import train_test_split\n",
    "from sklearn.metrics import confusion_matrix\n",
    "import itertools\n",
    "\n",
    "from keras.utils.np_utils import to_categorical\n",
    "from keras.models import Sequential\n",
    "from keras.layers import Dense, Dropout, Flatten, Conv2D, MaxPool2D\n",
    "from keras.optimizers import RMSprop\n",
    "from keras.preprocessing.image import ImageDataGenerator\n",
    "from keras.callbacks import ReduceLROnPlateau\n",
    "\n",
    "\n",
    "sns.set(style='white', context='notebook', palette='deep')"
   ]
  },
  {
   "cell_type": "code",
   "execution_count": 2,
   "id": "6748e185",
   "metadata": {
    "execution": {
     "iopub.execute_input": "2023-05-17T17:50:21.998286Z",
     "iopub.status.busy": "2023-05-17T17:50:21.997705Z",
     "iopub.status.idle": "2023-05-17T17:50:27.719308Z",
     "shell.execute_reply": "2023-05-17T17:50:27.718335Z"
    },
    "papermill": {
     "duration": 5.737465,
     "end_time": "2023-05-17T17:50:27.721723",
     "exception": false,
     "start_time": "2023-05-17T17:50:21.984258",
     "status": "completed"
    },
    "tags": []
   },
   "outputs": [],
   "source": [
    "train_df = pd.read_csv(\"../input/digit-recognizer/train.csv\")\n",
    "test_df = pd.read_csv(\"../input/digit-recognizer/test.csv\")"
   ]
  },
  {
   "cell_type": "code",
   "execution_count": 3,
   "id": "53e6fe16",
   "metadata": {
    "execution": {
     "iopub.execute_input": "2023-05-17T17:50:27.748619Z",
     "iopub.status.busy": "2023-05-17T17:50:27.748318Z",
     "iopub.status.idle": "2023-05-17T17:50:27.755083Z",
     "shell.execute_reply": "2023-05-17T17:50:27.754113Z"
    },
    "papermill": {
     "duration": 0.023811,
     "end_time": "2023-05-17T17:50:27.758329",
     "exception": false,
     "start_time": "2023-05-17T17:50:27.734518",
     "status": "completed"
    },
    "tags": []
   },
   "outputs": [
    {
     "data": {
      "text/plain": [
       "(42000, 785)"
      ]
     },
     "execution_count": 3,
     "metadata": {},
     "output_type": "execute_result"
    }
   ],
   "source": [
    "train_df.shape"
   ]
  },
  {
   "cell_type": "code",
   "execution_count": 4,
   "id": "e8dda2de",
   "metadata": {
    "execution": {
     "iopub.execute_input": "2023-05-17T17:50:27.784962Z",
     "iopub.status.busy": "2023-05-17T17:50:27.784334Z",
     "iopub.status.idle": "2023-05-17T17:50:27.791724Z",
     "shell.execute_reply": "2023-05-17T17:50:27.790929Z"
    },
    "papermill": {
     "duration": 0.022976,
     "end_time": "2023-05-17T17:50:27.793656",
     "exception": false,
     "start_time": "2023-05-17T17:50:27.770680",
     "status": "completed"
    },
    "tags": []
   },
   "outputs": [
    {
     "data": {
      "text/plain": [
       "(28000, 784)"
      ]
     },
     "execution_count": 4,
     "metadata": {},
     "output_type": "execute_result"
    }
   ],
   "source": [
    "test_df.shape"
   ]
  },
  {
   "cell_type": "code",
   "execution_count": 5,
   "id": "90067445",
   "metadata": {
    "execution": {
     "iopub.execute_input": "2023-05-17T17:50:27.819521Z",
     "iopub.status.busy": "2023-05-17T17:50:27.819267Z",
     "iopub.status.idle": "2023-05-17T17:50:27.840968Z",
     "shell.execute_reply": "2023-05-17T17:50:27.840025Z"
    },
    "papermill": {
     "duration": 0.037222,
     "end_time": "2023-05-17T17:50:27.843282",
     "exception": false,
     "start_time": "2023-05-17T17:50:27.806060",
     "status": "completed"
    },
    "tags": []
   },
   "outputs": [
    {
     "data": {
      "text/html": [
       "<div>\n",
       "<style scoped>\n",
       "    .dataframe tbody tr th:only-of-type {\n",
       "        vertical-align: middle;\n",
       "    }\n",
       "\n",
       "    .dataframe tbody tr th {\n",
       "        vertical-align: top;\n",
       "    }\n",
       "\n",
       "    .dataframe thead th {\n",
       "        text-align: right;\n",
       "    }\n",
       "</style>\n",
       "<table border=\"1\" class=\"dataframe\">\n",
       "  <thead>\n",
       "    <tr style=\"text-align: right;\">\n",
       "      <th></th>\n",
       "      <th>label</th>\n",
       "      <th>pixel0</th>\n",
       "      <th>pixel1</th>\n",
       "      <th>pixel2</th>\n",
       "      <th>pixel3</th>\n",
       "      <th>pixel4</th>\n",
       "      <th>pixel5</th>\n",
       "      <th>pixel6</th>\n",
       "      <th>pixel7</th>\n",
       "      <th>pixel8</th>\n",
       "      <th>...</th>\n",
       "      <th>pixel774</th>\n",
       "      <th>pixel775</th>\n",
       "      <th>pixel776</th>\n",
       "      <th>pixel777</th>\n",
       "      <th>pixel778</th>\n",
       "      <th>pixel779</th>\n",
       "      <th>pixel780</th>\n",
       "      <th>pixel781</th>\n",
       "      <th>pixel782</th>\n",
       "      <th>pixel783</th>\n",
       "    </tr>\n",
       "  </thead>\n",
       "  <tbody>\n",
       "    <tr>\n",
       "      <th>0</th>\n",
       "      <td>1</td>\n",
       "      <td>0</td>\n",
       "      <td>0</td>\n",
       "      <td>0</td>\n",
       "      <td>0</td>\n",
       "      <td>0</td>\n",
       "      <td>0</td>\n",
       "      <td>0</td>\n",
       "      <td>0</td>\n",
       "      <td>0</td>\n",
       "      <td>...</td>\n",
       "      <td>0</td>\n",
       "      <td>0</td>\n",
       "      <td>0</td>\n",
       "      <td>0</td>\n",
       "      <td>0</td>\n",
       "      <td>0</td>\n",
       "      <td>0</td>\n",
       "      <td>0</td>\n",
       "      <td>0</td>\n",
       "      <td>0</td>\n",
       "    </tr>\n",
       "    <tr>\n",
       "      <th>1</th>\n",
       "      <td>0</td>\n",
       "      <td>0</td>\n",
       "      <td>0</td>\n",
       "      <td>0</td>\n",
       "      <td>0</td>\n",
       "      <td>0</td>\n",
       "      <td>0</td>\n",
       "      <td>0</td>\n",
       "      <td>0</td>\n",
       "      <td>0</td>\n",
       "      <td>...</td>\n",
       "      <td>0</td>\n",
       "      <td>0</td>\n",
       "      <td>0</td>\n",
       "      <td>0</td>\n",
       "      <td>0</td>\n",
       "      <td>0</td>\n",
       "      <td>0</td>\n",
       "      <td>0</td>\n",
       "      <td>0</td>\n",
       "      <td>0</td>\n",
       "    </tr>\n",
       "    <tr>\n",
       "      <th>2</th>\n",
       "      <td>1</td>\n",
       "      <td>0</td>\n",
       "      <td>0</td>\n",
       "      <td>0</td>\n",
       "      <td>0</td>\n",
       "      <td>0</td>\n",
       "      <td>0</td>\n",
       "      <td>0</td>\n",
       "      <td>0</td>\n",
       "      <td>0</td>\n",
       "      <td>...</td>\n",
       "      <td>0</td>\n",
       "      <td>0</td>\n",
       "      <td>0</td>\n",
       "      <td>0</td>\n",
       "      <td>0</td>\n",
       "      <td>0</td>\n",
       "      <td>0</td>\n",
       "      <td>0</td>\n",
       "      <td>0</td>\n",
       "      <td>0</td>\n",
       "    </tr>\n",
       "    <tr>\n",
       "      <th>3</th>\n",
       "      <td>4</td>\n",
       "      <td>0</td>\n",
       "      <td>0</td>\n",
       "      <td>0</td>\n",
       "      <td>0</td>\n",
       "      <td>0</td>\n",
       "      <td>0</td>\n",
       "      <td>0</td>\n",
       "      <td>0</td>\n",
       "      <td>0</td>\n",
       "      <td>...</td>\n",
       "      <td>0</td>\n",
       "      <td>0</td>\n",
       "      <td>0</td>\n",
       "      <td>0</td>\n",
       "      <td>0</td>\n",
       "      <td>0</td>\n",
       "      <td>0</td>\n",
       "      <td>0</td>\n",
       "      <td>0</td>\n",
       "      <td>0</td>\n",
       "    </tr>\n",
       "    <tr>\n",
       "      <th>4</th>\n",
       "      <td>0</td>\n",
       "      <td>0</td>\n",
       "      <td>0</td>\n",
       "      <td>0</td>\n",
       "      <td>0</td>\n",
       "      <td>0</td>\n",
       "      <td>0</td>\n",
       "      <td>0</td>\n",
       "      <td>0</td>\n",
       "      <td>0</td>\n",
       "      <td>...</td>\n",
       "      <td>0</td>\n",
       "      <td>0</td>\n",
       "      <td>0</td>\n",
       "      <td>0</td>\n",
       "      <td>0</td>\n",
       "      <td>0</td>\n",
       "      <td>0</td>\n",
       "      <td>0</td>\n",
       "      <td>0</td>\n",
       "      <td>0</td>\n",
       "    </tr>\n",
       "  </tbody>\n",
       "</table>\n",
       "<p>5 rows × 785 columns</p>\n",
       "</div>"
      ],
      "text/plain": [
       "   label  pixel0  pixel1  pixel2  pixel3  pixel4  pixel5  pixel6  pixel7  \\\n",
       "0      1       0       0       0       0       0       0       0       0   \n",
       "1      0       0       0       0       0       0       0       0       0   \n",
       "2      1       0       0       0       0       0       0       0       0   \n",
       "3      4       0       0       0       0       0       0       0       0   \n",
       "4      0       0       0       0       0       0       0       0       0   \n",
       "\n",
       "   pixel8  ...  pixel774  pixel775  pixel776  pixel777  pixel778  pixel779  \\\n",
       "0       0  ...         0         0         0         0         0         0   \n",
       "1       0  ...         0         0         0         0         0         0   \n",
       "2       0  ...         0         0         0         0         0         0   \n",
       "3       0  ...         0         0         0         0         0         0   \n",
       "4       0  ...         0         0         0         0         0         0   \n",
       "\n",
       "   pixel780  pixel781  pixel782  pixel783  \n",
       "0         0         0         0         0  \n",
       "1         0         0         0         0  \n",
       "2         0         0         0         0  \n",
       "3         0         0         0         0  \n",
       "4         0         0         0         0  \n",
       "\n",
       "[5 rows x 785 columns]"
      ]
     },
     "execution_count": 5,
     "metadata": {},
     "output_type": "execute_result"
    }
   ],
   "source": [
    "train_df.head()"
   ]
  },
  {
   "cell_type": "code",
   "execution_count": 6,
   "id": "cde5d140",
   "metadata": {
    "execution": {
     "iopub.execute_input": "2023-05-17T17:50:27.870142Z",
     "iopub.status.busy": "2023-05-17T17:50:27.869867Z",
     "iopub.status.idle": "2023-05-17T17:50:27.953016Z",
     "shell.execute_reply": "2023-05-17T17:50:27.952067Z"
    },
    "papermill": {
     "duration": 0.098657,
     "end_time": "2023-05-17T17:50:27.954929",
     "exception": false,
     "start_time": "2023-05-17T17:50:27.856272",
     "status": "completed"
    },
    "tags": []
   },
   "outputs": [],
   "source": [
    "y_train = train_df['label']\n",
    "X_train = train_df.drop(columns=['label'])"
   ]
  },
  {
   "cell_type": "code",
   "execution_count": 7,
   "id": "80d4bf47",
   "metadata": {
    "execution": {
     "iopub.execute_input": "2023-05-17T17:50:27.982648Z",
     "iopub.status.busy": "2023-05-17T17:50:27.981814Z",
     "iopub.status.idle": "2023-05-17T17:50:27.988323Z",
     "shell.execute_reply": "2023-05-17T17:50:27.987662Z"
    },
    "papermill": {
     "duration": 0.021967,
     "end_time": "2023-05-17T17:50:27.990070",
     "exception": false,
     "start_time": "2023-05-17T17:50:27.968103",
     "status": "completed"
    },
    "tags": []
   },
   "outputs": [
    {
     "data": {
      "text/plain": [
       "0    1\n",
       "1    0\n",
       "2    1\n",
       "3    4\n",
       "4    0\n",
       "5    0\n",
       "6    7\n",
       "7    3\n",
       "8    5\n",
       "9    3\n",
       "Name: label, dtype: int64"
      ]
     },
     "execution_count": 7,
     "metadata": {},
     "output_type": "execute_result"
    }
   ],
   "source": [
    "y_train.head(10)"
   ]
  },
  {
   "cell_type": "code",
   "execution_count": 8,
   "id": "93352f8f",
   "metadata": {
    "execution": {
     "iopub.execute_input": "2023-05-17T17:50:28.017404Z",
     "iopub.status.busy": "2023-05-17T17:50:28.016720Z",
     "iopub.status.idle": "2023-05-17T17:50:28.033847Z",
     "shell.execute_reply": "2023-05-17T17:50:28.033040Z"
    },
    "papermill": {
     "duration": 0.032604,
     "end_time": "2023-05-17T17:50:28.035753",
     "exception": false,
     "start_time": "2023-05-17T17:50:28.003149",
     "status": "completed"
    },
    "tags": []
   },
   "outputs": [
    {
     "data": {
      "text/html": [
       "<div>\n",
       "<style scoped>\n",
       "    .dataframe tbody tr th:only-of-type {\n",
       "        vertical-align: middle;\n",
       "    }\n",
       "\n",
       "    .dataframe tbody tr th {\n",
       "        vertical-align: top;\n",
       "    }\n",
       "\n",
       "    .dataframe thead th {\n",
       "        text-align: right;\n",
       "    }\n",
       "</style>\n",
       "<table border=\"1\" class=\"dataframe\">\n",
       "  <thead>\n",
       "    <tr style=\"text-align: right;\">\n",
       "      <th></th>\n",
       "      <th>pixel0</th>\n",
       "      <th>pixel1</th>\n",
       "      <th>pixel2</th>\n",
       "      <th>pixel3</th>\n",
       "      <th>pixel4</th>\n",
       "      <th>pixel5</th>\n",
       "      <th>pixel6</th>\n",
       "      <th>pixel7</th>\n",
       "      <th>pixel8</th>\n",
       "      <th>pixel9</th>\n",
       "      <th>...</th>\n",
       "      <th>pixel774</th>\n",
       "      <th>pixel775</th>\n",
       "      <th>pixel776</th>\n",
       "      <th>pixel777</th>\n",
       "      <th>pixel778</th>\n",
       "      <th>pixel779</th>\n",
       "      <th>pixel780</th>\n",
       "      <th>pixel781</th>\n",
       "      <th>pixel782</th>\n",
       "      <th>pixel783</th>\n",
       "    </tr>\n",
       "  </thead>\n",
       "  <tbody>\n",
       "    <tr>\n",
       "      <th>0</th>\n",
       "      <td>0</td>\n",
       "      <td>0</td>\n",
       "      <td>0</td>\n",
       "      <td>0</td>\n",
       "      <td>0</td>\n",
       "      <td>0</td>\n",
       "      <td>0</td>\n",
       "      <td>0</td>\n",
       "      <td>0</td>\n",
       "      <td>0</td>\n",
       "      <td>...</td>\n",
       "      <td>0</td>\n",
       "      <td>0</td>\n",
       "      <td>0</td>\n",
       "      <td>0</td>\n",
       "      <td>0</td>\n",
       "      <td>0</td>\n",
       "      <td>0</td>\n",
       "      <td>0</td>\n",
       "      <td>0</td>\n",
       "      <td>0</td>\n",
       "    </tr>\n",
       "    <tr>\n",
       "      <th>1</th>\n",
       "      <td>0</td>\n",
       "      <td>0</td>\n",
       "      <td>0</td>\n",
       "      <td>0</td>\n",
       "      <td>0</td>\n",
       "      <td>0</td>\n",
       "      <td>0</td>\n",
       "      <td>0</td>\n",
       "      <td>0</td>\n",
       "      <td>0</td>\n",
       "      <td>...</td>\n",
       "      <td>0</td>\n",
       "      <td>0</td>\n",
       "      <td>0</td>\n",
       "      <td>0</td>\n",
       "      <td>0</td>\n",
       "      <td>0</td>\n",
       "      <td>0</td>\n",
       "      <td>0</td>\n",
       "      <td>0</td>\n",
       "      <td>0</td>\n",
       "    </tr>\n",
       "    <tr>\n",
       "      <th>2</th>\n",
       "      <td>0</td>\n",
       "      <td>0</td>\n",
       "      <td>0</td>\n",
       "      <td>0</td>\n",
       "      <td>0</td>\n",
       "      <td>0</td>\n",
       "      <td>0</td>\n",
       "      <td>0</td>\n",
       "      <td>0</td>\n",
       "      <td>0</td>\n",
       "      <td>...</td>\n",
       "      <td>0</td>\n",
       "      <td>0</td>\n",
       "      <td>0</td>\n",
       "      <td>0</td>\n",
       "      <td>0</td>\n",
       "      <td>0</td>\n",
       "      <td>0</td>\n",
       "      <td>0</td>\n",
       "      <td>0</td>\n",
       "      <td>0</td>\n",
       "    </tr>\n",
       "    <tr>\n",
       "      <th>3</th>\n",
       "      <td>0</td>\n",
       "      <td>0</td>\n",
       "      <td>0</td>\n",
       "      <td>0</td>\n",
       "      <td>0</td>\n",
       "      <td>0</td>\n",
       "      <td>0</td>\n",
       "      <td>0</td>\n",
       "      <td>0</td>\n",
       "      <td>0</td>\n",
       "      <td>...</td>\n",
       "      <td>0</td>\n",
       "      <td>0</td>\n",
       "      <td>0</td>\n",
       "      <td>0</td>\n",
       "      <td>0</td>\n",
       "      <td>0</td>\n",
       "      <td>0</td>\n",
       "      <td>0</td>\n",
       "      <td>0</td>\n",
       "      <td>0</td>\n",
       "    </tr>\n",
       "    <tr>\n",
       "      <th>4</th>\n",
       "      <td>0</td>\n",
       "      <td>0</td>\n",
       "      <td>0</td>\n",
       "      <td>0</td>\n",
       "      <td>0</td>\n",
       "      <td>0</td>\n",
       "      <td>0</td>\n",
       "      <td>0</td>\n",
       "      <td>0</td>\n",
       "      <td>0</td>\n",
       "      <td>...</td>\n",
       "      <td>0</td>\n",
       "      <td>0</td>\n",
       "      <td>0</td>\n",
       "      <td>0</td>\n",
       "      <td>0</td>\n",
       "      <td>0</td>\n",
       "      <td>0</td>\n",
       "      <td>0</td>\n",
       "      <td>0</td>\n",
       "      <td>0</td>\n",
       "    </tr>\n",
       "    <tr>\n",
       "      <th>5</th>\n",
       "      <td>0</td>\n",
       "      <td>0</td>\n",
       "      <td>0</td>\n",
       "      <td>0</td>\n",
       "      <td>0</td>\n",
       "      <td>0</td>\n",
       "      <td>0</td>\n",
       "      <td>0</td>\n",
       "      <td>0</td>\n",
       "      <td>0</td>\n",
       "      <td>...</td>\n",
       "      <td>0</td>\n",
       "      <td>0</td>\n",
       "      <td>0</td>\n",
       "      <td>0</td>\n",
       "      <td>0</td>\n",
       "      <td>0</td>\n",
       "      <td>0</td>\n",
       "      <td>0</td>\n",
       "      <td>0</td>\n",
       "      <td>0</td>\n",
       "    </tr>\n",
       "    <tr>\n",
       "      <th>6</th>\n",
       "      <td>0</td>\n",
       "      <td>0</td>\n",
       "      <td>0</td>\n",
       "      <td>0</td>\n",
       "      <td>0</td>\n",
       "      <td>0</td>\n",
       "      <td>0</td>\n",
       "      <td>0</td>\n",
       "      <td>0</td>\n",
       "      <td>0</td>\n",
       "      <td>...</td>\n",
       "      <td>0</td>\n",
       "      <td>0</td>\n",
       "      <td>0</td>\n",
       "      <td>0</td>\n",
       "      <td>0</td>\n",
       "      <td>0</td>\n",
       "      <td>0</td>\n",
       "      <td>0</td>\n",
       "      <td>0</td>\n",
       "      <td>0</td>\n",
       "    </tr>\n",
       "    <tr>\n",
       "      <th>7</th>\n",
       "      <td>0</td>\n",
       "      <td>0</td>\n",
       "      <td>0</td>\n",
       "      <td>0</td>\n",
       "      <td>0</td>\n",
       "      <td>0</td>\n",
       "      <td>0</td>\n",
       "      <td>0</td>\n",
       "      <td>0</td>\n",
       "      <td>0</td>\n",
       "      <td>...</td>\n",
       "      <td>0</td>\n",
       "      <td>0</td>\n",
       "      <td>0</td>\n",
       "      <td>0</td>\n",
       "      <td>0</td>\n",
       "      <td>0</td>\n",
       "      <td>0</td>\n",
       "      <td>0</td>\n",
       "      <td>0</td>\n",
       "      <td>0</td>\n",
       "    </tr>\n",
       "    <tr>\n",
       "      <th>8</th>\n",
       "      <td>0</td>\n",
       "      <td>0</td>\n",
       "      <td>0</td>\n",
       "      <td>0</td>\n",
       "      <td>0</td>\n",
       "      <td>0</td>\n",
       "      <td>0</td>\n",
       "      <td>0</td>\n",
       "      <td>0</td>\n",
       "      <td>0</td>\n",
       "      <td>...</td>\n",
       "      <td>0</td>\n",
       "      <td>0</td>\n",
       "      <td>0</td>\n",
       "      <td>0</td>\n",
       "      <td>0</td>\n",
       "      <td>0</td>\n",
       "      <td>0</td>\n",
       "      <td>0</td>\n",
       "      <td>0</td>\n",
       "      <td>0</td>\n",
       "    </tr>\n",
       "    <tr>\n",
       "      <th>9</th>\n",
       "      <td>0</td>\n",
       "      <td>0</td>\n",
       "      <td>0</td>\n",
       "      <td>0</td>\n",
       "      <td>0</td>\n",
       "      <td>0</td>\n",
       "      <td>0</td>\n",
       "      <td>0</td>\n",
       "      <td>0</td>\n",
       "      <td>0</td>\n",
       "      <td>...</td>\n",
       "      <td>0</td>\n",
       "      <td>0</td>\n",
       "      <td>0</td>\n",
       "      <td>0</td>\n",
       "      <td>0</td>\n",
       "      <td>0</td>\n",
       "      <td>0</td>\n",
       "      <td>0</td>\n",
       "      <td>0</td>\n",
       "      <td>0</td>\n",
       "    </tr>\n",
       "  </tbody>\n",
       "</table>\n",
       "<p>10 rows × 784 columns</p>\n",
       "</div>"
      ],
      "text/plain": [
       "   pixel0  pixel1  pixel2  pixel3  pixel4  pixel5  pixel6  pixel7  pixel8  \\\n",
       "0       0       0       0       0       0       0       0       0       0   \n",
       "1       0       0       0       0       0       0       0       0       0   \n",
       "2       0       0       0       0       0       0       0       0       0   \n",
       "3       0       0       0       0       0       0       0       0       0   \n",
       "4       0       0       0       0       0       0       0       0       0   \n",
       "5       0       0       0       0       0       0       0       0       0   \n",
       "6       0       0       0       0       0       0       0       0       0   \n",
       "7       0       0       0       0       0       0       0       0       0   \n",
       "8       0       0       0       0       0       0       0       0       0   \n",
       "9       0       0       0       0       0       0       0       0       0   \n",
       "\n",
       "   pixel9  ...  pixel774  pixel775  pixel776  pixel777  pixel778  pixel779  \\\n",
       "0       0  ...         0         0         0         0         0         0   \n",
       "1       0  ...         0         0         0         0         0         0   \n",
       "2       0  ...         0         0         0         0         0         0   \n",
       "3       0  ...         0         0         0         0         0         0   \n",
       "4       0  ...         0         0         0         0         0         0   \n",
       "5       0  ...         0         0         0         0         0         0   \n",
       "6       0  ...         0         0         0         0         0         0   \n",
       "7       0  ...         0         0         0         0         0         0   \n",
       "8       0  ...         0         0         0         0         0         0   \n",
       "9       0  ...         0         0         0         0         0         0   \n",
       "\n",
       "   pixel780  pixel781  pixel782  pixel783  \n",
       "0         0         0         0         0  \n",
       "1         0         0         0         0  \n",
       "2         0         0         0         0  \n",
       "3         0         0         0         0  \n",
       "4         0         0         0         0  \n",
       "5         0         0         0         0  \n",
       "6         0         0         0         0  \n",
       "7         0         0         0         0  \n",
       "8         0         0         0         0  \n",
       "9         0         0         0         0  \n",
       "\n",
       "[10 rows x 784 columns]"
      ]
     },
     "execution_count": 8,
     "metadata": {},
     "output_type": "execute_result"
    }
   ],
   "source": [
    "X_train.head(10)"
   ]
  },
  {
   "cell_type": "code",
   "execution_count": 9,
   "id": "cfa1830b",
   "metadata": {
    "execution": {
     "iopub.execute_input": "2023-05-17T17:50:28.063810Z",
     "iopub.status.busy": "2023-05-17T17:50:28.063121Z",
     "iopub.status.idle": "2023-05-17T17:50:28.067882Z",
     "shell.execute_reply": "2023-05-17T17:50:28.067148Z"
    },
    "papermill": {
     "duration": 0.020793,
     "end_time": "2023-05-17T17:50:28.069868",
     "exception": false,
     "start_time": "2023-05-17T17:50:28.049075",
     "status": "completed"
    },
    "tags": []
   },
   "outputs": [],
   "source": [
    "del train_df"
   ]
  },
  {
   "cell_type": "code",
   "execution_count": 10,
   "id": "2fed3de3",
   "metadata": {
    "execution": {
     "iopub.execute_input": "2023-05-17T17:50:28.097204Z",
     "iopub.status.busy": "2023-05-17T17:50:28.096937Z",
     "iopub.status.idle": "2023-05-17T17:50:28.436844Z",
     "shell.execute_reply": "2023-05-17T17:50:28.435984Z"
    },
    "papermill": {
     "duration": 0.35585,
     "end_time": "2023-05-17T17:50:28.438883",
     "exception": false,
     "start_time": "2023-05-17T17:50:28.083033",
     "status": "completed"
    },
    "tags": []
   },
   "outputs": [
    {
     "data": {
      "text/plain": [
       "<AxesSubplot: xlabel='label', ylabel='count'>"
      ]
     },
     "execution_count": 10,
     "metadata": {},
     "output_type": "execute_result"
    },
    {
     "data": {
      "image/png": "[encoded data removed]",
      "text/plain": [
       "<Figure size 640x480 with 1 Axes>"
      ]
     },
     "metadata": {},
     "output_type": "display_data"
    }
   ],
   "source": [
    "sns.countplot(x=y_train)"
   ]
  },
  {
   "cell_type": "code",
   "execution_count": 11,
   "id": "c3e6b4d3",
   "metadata": {
    "execution": {
     "iopub.execute_input": "2023-05-17T17:50:28.467718Z",
     "iopub.status.busy": "2023-05-17T17:50:28.467445Z",
     "iopub.status.idle": "2023-05-17T17:50:28.474988Z",
     "shell.execute_reply": "2023-05-17T17:50:28.474053Z"
    },
    "papermill": {
     "duration": 0.025165,
     "end_time": "2023-05-17T17:50:28.477971",
     "exception": false,
     "start_time": "2023-05-17T17:50:28.452806",
     "status": "completed"
    },
    "tags": []
   },
   "outputs": [
    {
     "data": {
      "text/plain": [
       "1    4684\n",
       "7    4401\n",
       "3    4351\n",
       "9    4188\n",
       "2    4177\n",
       "6    4137\n",
       "0    4132\n",
       "4    4072\n",
       "8    4063\n",
       "5    3795\n",
       "Name: label, dtype: int64"
      ]
     },
     "execution_count": 11,
     "metadata": {},
     "output_type": "execute_result"
    }
   ],
   "source": [
    "y_train.value_counts()"
   ]
  },
  {
   "cell_type": "code",
   "execution_count": 12,
   "id": "14599dce",
   "metadata": {
    "execution": {
     "iopub.execute_input": "2023-05-17T17:50:28.506557Z",
     "iopub.status.busy": "2023-05-17T17:50:28.506306Z",
     "iopub.status.idle": "2023-05-17T17:50:28.512341Z",
     "shell.execute_reply": "2023-05-17T17:50:28.511404Z"
    },
    "papermill": {
     "duration": 0.023544,
     "end_time": "2023-05-17T17:50:28.515273",
     "exception": false,
     "start_time": "2023-05-17T17:50:28.491729",
     "status": "completed"
    },
    "tags": []
   },
   "outputs": [
    {
     "data": {
      "text/plain": [
       "0"
      ]
     },
     "execution_count": 12,
     "metadata": {},
     "output_type": "execute_result"
    }
   ],
   "source": [
    "y_train.isnull().sum()"
   ]
  },
  {
   "cell_type": "code",
   "execution_count": 13,
   "id": "9ebfee89",
   "metadata": {
    "execution": {
     "iopub.execute_input": "2023-05-17T17:50:28.544074Z",
     "iopub.status.busy": "2023-05-17T17:50:28.543793Z",
     "iopub.status.idle": "2023-05-17T17:50:28.561467Z",
     "shell.execute_reply": "2023-05-17T17:50:28.560498Z"
    },
    "papermill": {
     "duration": 0.034287,
     "end_time": "2023-05-17T17:50:28.563559",
     "exception": false,
     "start_time": "2023-05-17T17:50:28.529272",
     "status": "completed"
    },
    "tags": []
   },
   "outputs": [
    {
     "data": {
      "text/plain": [
       "0"
      ]
     },
     "execution_count": 13,
     "metadata": {},
     "output_type": "execute_result"
    }
   ],
   "source": [
    "X_train.isnull().any().sum()"
   ]
  },
  {
   "cell_type": "markdown",
   "id": "5c2bf5a0",
   "metadata": {
    "papermill": {
     "duration": 0.013803,
     "end_time": "2023-05-17T17:50:28.591463",
     "exception": false,
     "start_time": "2023-05-17T17:50:28.577660",
     "status": "completed"
    },
    "tags": []
   },
   "source": [
    "# Preprocessing"
   ]
  },
  {
   "cell_type": "code",
   "execution_count": 14,
   "id": "23c23282",
   "metadata": {
    "execution": {
     "iopub.execute_input": "2023-05-17T17:50:28.620516Z",
     "iopub.status.busy": "2023-05-17T17:50:28.620247Z",
     "iopub.status.idle": "2023-05-17T17:50:28.781350Z",
     "shell.execute_reply": "2023-05-17T17:50:28.780342Z"
    },
    "papermill": {
     "duration": 0.178816,
     "end_time": "2023-05-17T17:50:28.784238",
     "exception": false,
     "start_time": "2023-05-17T17:50:28.605422",
     "status": "completed"
    },
    "tags": []
   },
   "outputs": [],
   "source": [
    "X_train = X_train/255.0\n",
    "test_df = test_df/255.0"
   ]
  },
  {
   "cell_type": "code",
   "execution_count": 15,
   "id": "9b192b16",
   "metadata": {
    "execution": {
     "iopub.execute_input": "2023-05-17T17:50:28.814685Z",
     "iopub.status.busy": "2023-05-17T17:50:28.814369Z",
     "iopub.status.idle": "2023-05-17T17:50:28.820120Z",
     "shell.execute_reply": "2023-05-17T17:50:28.819261Z"
    },
    "papermill": {
     "duration": 0.023334,
     "end_time": "2023-05-17T17:50:28.822149",
     "exception": false,
     "start_time": "2023-05-17T17:50:28.798815",
     "status": "completed"
    },
    "tags": []
   },
   "outputs": [
    {
     "data": {
      "text/plain": [
       "(42000, 784)"
      ]
     },
     "execution_count": 15,
     "metadata": {},
     "output_type": "execute_result"
    }
   ],
   "source": [
    "X_train.shape"
   ]
  },
  {
   "cell_type": "code",
   "execution_count": 16,
   "id": "0f5ee250",
   "metadata": {
    "execution": {
     "iopub.execute_input": "2023-05-17T17:50:28.852702Z",
     "iopub.status.busy": "2023-05-17T17:50:28.851903Z",
     "iopub.status.idle": "2023-05-17T17:50:28.858585Z",
     "shell.execute_reply": "2023-05-17T17:50:28.857621Z"
    },
    "papermill": {
     "duration": 0.023947,
     "end_time": "2023-05-17T17:50:28.860728",
     "exception": false,
     "start_time": "2023-05-17T17:50:28.836781",
     "status": "completed"
    },
    "tags": []
   },
   "outputs": [
    {
     "data": {
      "text/plain": [
       "(42000, 28, 28, 1)"
      ]
     },
     "execution_count": 16,
     "metadata": {},
     "output_type": "execute_result"
    }
   ],
   "source": [
    "X_train = X_train.values.reshape(-1,28,28,1)\n",
    "X_train.shape"
   ]
  },
  {
   "cell_type": "code",
   "execution_count": 17,
   "id": "49e64b73",
   "metadata": {
    "execution": {
     "iopub.execute_input": "2023-05-17T17:50:28.890346Z",
     "iopub.status.busy": "2023-05-17T17:50:28.890085Z",
     "iopub.status.idle": "2023-05-17T17:50:28.896374Z",
     "shell.execute_reply": "2023-05-17T17:50:28.895149Z"
    },
    "papermill": {
     "duration": 0.024457,
     "end_time": "2023-05-17T17:50:28.899375",
     "exception": false,
     "start_time": "2023-05-17T17:50:28.874918",
     "status": "completed"
    },
    "tags": []
   },
   "outputs": [
    {
     "data": {
      "text/plain": [
       "(28000, 28, 28, 1)"
      ]
     },
     "execution_count": 17,
     "metadata": {},
     "output_type": "execute_result"
    }
   ],
   "source": [
    "test_df = test_df.values.reshape(-1,28,28,1)\n",
    "test_df.shape"
   ]
  },
  {
   "cell_type": "code",
   "execution_count": 18,
   "id": "5d001a74",
   "metadata": {
    "execution": {
     "iopub.execute_input": "2023-05-17T17:50:28.929130Z",
     "iopub.status.busy": "2023-05-17T17:50:28.928860Z",
     "iopub.status.idle": "2023-05-17T17:50:28.933831Z",
     "shell.execute_reply": "2023-05-17T17:50:28.933042Z"
    },
    "papermill": {
     "duration": 0.022153,
     "end_time": "2023-05-17T17:50:28.935763",
     "exception": false,
     "start_time": "2023-05-17T17:50:28.913610",
     "status": "completed"
    },
    "tags": []
   },
   "outputs": [],
   "source": [
    "y_train = to_categorical(y_train,num_classes=10)"
   ]
  },
  {
   "cell_type": "code",
   "execution_count": 19,
   "id": "7bf6dc85",
   "metadata": {
    "execution": {
     "iopub.execute_input": "2023-05-17T17:50:28.966305Z",
     "iopub.status.busy": "2023-05-17T17:50:28.965435Z",
     "iopub.status.idle": "2023-05-17T17:50:28.972182Z",
     "shell.execute_reply": "2023-05-17T17:50:28.971237Z"
    },
    "papermill": {
     "duration": 0.024568,
     "end_time": "2023-05-17T17:50:28.974833",
     "exception": false,
     "start_time": "2023-05-17T17:50:28.950265",
     "status": "completed"
    },
    "tags": []
   },
   "outputs": [
    {
     "data": {
      "text/plain": [
       "array([[0., 1., 0., ..., 0., 0., 0.],\n",
       "       [1., 0., 0., ..., 0., 0., 0.],\n",
       "       [0., 1., 0., ..., 0., 0., 0.],\n",
       "       ...,\n",
       "       [0., 0., 0., ..., 1., 0., 0.],\n",
       "       [0., 0., 0., ..., 0., 0., 0.],\n",
       "       [0., 0., 0., ..., 0., 0., 1.]], dtype=float32)"
      ]
     },
     "execution_count": 19,
     "metadata": {},
     "output_type": "execute_result"
    }
   ],
   "source": [
    "y_train"
   ]
  },
  {
   "cell_type": "code",
   "execution_count": 20,
   "id": "06451ea2",
   "metadata": {
    "execution": {
     "iopub.execute_input": "2023-05-17T17:50:29.005413Z",
     "iopub.status.busy": "2023-05-17T17:50:29.005165Z",
     "iopub.status.idle": "2023-05-17T17:50:29.404883Z",
     "shell.execute_reply": "2023-05-17T17:50:29.403349Z"
    },
    "papermill": {
     "duration": 0.418434,
     "end_time": "2023-05-17T17:50:29.408207",
     "exception": false,
     "start_time": "2023-05-17T17:50:28.989773",
     "status": "completed"
    },
    "tags": []
   },
   "outputs": [],
   "source": [
    "X_train, X_val, y_train, y_val = train_test_split(X_train, y_train, test_size=0.2, random_state=42)"
   ]
  },
  {
   "cell_type": "code",
   "execution_count": 21,
   "id": "1d27d6aa",
   "metadata": {
    "execution": {
     "iopub.execute_input": "2023-05-17T17:50:29.456645Z",
     "iopub.status.busy": "2023-05-17T17:50:29.456113Z",
     "iopub.status.idle": "2023-05-17T17:50:29.837674Z",
     "shell.execute_reply": "2023-05-17T17:50:29.836731Z"
    },
    "papermill": {
     "duration": 0.411619,
     "end_time": "2023-05-17T17:50:29.840447",
     "exception": false,
     "start_time": "2023-05-17T17:50:29.428828",
     "status": "completed"
    },
    "tags": []
   },
   "outputs": [
    {
     "data": {
      "text/plain": [
       "<matplotlib.image.AxesImage at 0x7818a89e69e0>"
      ]
     },
     "execution_count": 21,
     "metadata": {},
     "output_type": "execute_result"
    },
    {
     "data": {
      "image/png": "[encoded data removed]",
      "text/plain": [
       "<Figure size 640x480 with 1 Axes>"
      ]
     },
     "metadata": {},
     "output_type": "display_data"
    }
   ],
   "source": [
    "plt.imshow(X_train[0][:,:,],cmap='gray')"
   ]
  },
  {
   "cell_type": "markdown",
   "id": "720acefe",
   "metadata": {
    "papermill": {
     "duration": 0.028056,
     "end_time": "2023-05-17T17:50:29.890175",
     "exception": false,
     "start_time": "2023-05-17T17:50:29.862119",
     "status": "completed"
    },
    "tags": []
   },
   "source": [
    "# CNN Model"
   ]
  },
  {
   "cell_type": "code",
   "execution_count": 22,
   "id": "fe1970cf",
   "metadata": {
    "execution": {
     "iopub.execute_input": "2023-05-17T17:50:29.940325Z",
     "iopub.status.busy": "2023-05-17T17:50:29.939965Z",
     "iopub.status.idle": "2023-05-17T17:50:32.693834Z",
     "shell.execute_reply": "2023-05-17T17:50:32.692945Z"
    },
    "papermill": {
     "duration": 2.778769,
     "end_time": "2023-05-17T17:50:32.696275",
     "exception": false,
     "start_time": "2023-05-17T17:50:29.917506",
     "status": "completed"
    },
    "tags": []
   },
   "outputs": [],
   "source": [
    "# Set the CNN model \n",
    "# my CNN architechture is In -> [[Conv2D->relu]*2 -> MaxPool2D -> Dropout]*2 -> Flatten -> Dense -> Dropout -> Out\n",
    "\n",
    "model = Sequential()\n",
    "\n",
    "model.add(Conv2D(filters = 32, kernel_size = (5,5),padding = 'Same', \n",
    "                 activation ='relu', input_shape = (28,28,1)))\n",
    "model.add(Conv2D(filters = 32, kernel_size = (5,5),padding = 'Same', \n",
    "                 activation ='relu'))\n",
    "model.add(MaxPool2D(pool_size=(2,2)))\n",
    "model.add(Dropout(0.25))\n",
    "\n",
    "\n",
    "model.add(Conv2D(filters = 64, kernel_size = (3,3),padding = 'Same', \n",
    "                 activation ='relu'))\n",
    "model.add(Conv2D(filters = 64, kernel_size = (3,3),padding = 'Same', \n",
    "                 activation ='relu'))\n",
    "model.add(MaxPool2D(pool_size=(2,2), strides=(2,2)))\n",
    "model.add(Dropout(0.25))\n",
    "\n",
    "\n",
    "model.add(Flatten())\n",
    "model.add(Dense(256, activation = \"relu\"))\n",
    "model.add(Dropout(0.5))\n",
    "model.add(Dense(10, activation = \"softmax\"))"
   ]
  },
  {
   "cell_type": "code",
   "execution_count": 23,
   "id": "da42bc26",
   "metadata": {
    "execution": {
     "iopub.execute_input": "2023-05-17T17:50:32.730088Z",
     "iopub.status.busy": "2023-05-17T17:50:32.728262Z",
     "iopub.status.idle": "2023-05-17T17:50:32.760981Z",
     "shell.execute_reply": "2023-05-17T17:50:32.760168Z"
    },
    "papermill": {
     "duration": 0.071558,
     "end_time": "2023-05-17T17:50:32.783354",
     "exception": false,
     "start_time": "2023-05-17T17:50:32.711796",
     "status": "completed"
    },
    "tags": []
   },
   "outputs": [
    {
     "name": "stdout",
     "output_type": "stream",
     "text": [
      "Model: \"sequential\"\n",
      "_________________________________________________________________\n",
      " Layer (type)                Output Shape              Param #   \n",
      "=================================================================\n",
      " conv2d (Conv2D)             (None, 28, 28, 32)        832       \n",
      "                                                                 \n",
      " conv2d_1 (Conv2D)           (None, 28, 28, 32)        25632     \n",
      "                                                                 \n",
      " max_pooling2d (MaxPooling2D  (None, 14, 14, 32)       0         \n",
      " )                                                               \n",
      "                                                                 \n",
      " dropout (Dropout)           (None, 14, 14, 32)        0         \n",
      "                                                                 \n",
      " conv2d_2 (Conv2D)           (None, 14, 14, 64)        18496     \n",
      "                                                                 \n",
      " conv2d_3 (Conv2D)           (None, 14, 14, 64)        36928     \n",
      "                                                                 \n",
      " max_pooling2d_1 (MaxPooling  (None, 7, 7, 64)         0         \n",
      " 2D)                                                             \n",
      "                                                                 \n",
      " dropout_1 (Dropout)         (None, 7, 7, 64)          0         \n",
      "                                                                 \n",
      " flatten (Flatten)           (None, 3136)              0         \n",
      "                                                                 \n",
      " dense (Dense)               (None, 256)               803072    \n",
      "                                                                 \n",
      " dropout_2 (Dropout)         (None, 256)               0         \n",
      "                                                                 \n",
      " dense_1 (Dense)             (None, 10)                2570      \n",
      "                                                                 \n",
      "=================================================================\n",
      "Total params: 887,530\n",
      "Trainable params: 887,530\n",
      "Non-trainable params: 0\n",
      "_________________________________________________________________\n"
     ]
    }
   ],
   "source": [
    "model.summary()"
   ]
  },
  {
   "cell_type": "code",
   "execution_count": 24,
   "id": "ebfea484",
   "metadata": {
    "execution": {
     "iopub.execute_input": "2023-05-17T17:50:32.821035Z",
     "iopub.status.busy": "2023-05-17T17:50:32.820709Z",
     "iopub.status.idle": "2023-05-17T17:50:32.825307Z",
     "shell.execute_reply": "2023-05-17T17:50:32.824377Z"
    },
    "papermill": {
     "duration": 0.025543,
     "end_time": "2023-05-17T17:50:32.827283",
     "exception": false,
     "start_time": "2023-05-17T17:50:32.801740",
     "status": "completed"
    },
    "tags": []
   },
   "outputs": [],
   "source": [
    "# Define the optimizer\n",
    "optimizer = RMSprop(learning_rate=0.001, rho=0.9, epsilon=1e-08, decay=0.0)"
   ]
  },
  {
   "cell_type": "code",
   "execution_count": 25,
   "id": "a3a7814e",
   "metadata": {
    "execution": {
     "iopub.execute_input": "2023-05-17T17:50:32.863672Z",
     "iopub.status.busy": "2023-05-17T17:50:32.863409Z",
     "iopub.status.idle": "2023-05-17T17:50:32.880947Z",
     "shell.execute_reply": "2023-05-17T17:50:32.880096Z"
    },
    "papermill": {
     "duration": 0.037735,
     "end_time": "2023-05-17T17:50:32.883026",
     "exception": false,
     "start_time": "2023-05-17T17:50:32.845291",
     "status": "completed"
    },
    "tags": []
   },
   "outputs": [],
   "source": [
    "# Compile the model\n",
    "model.compile(optimizer = optimizer , loss = \"categorical_crossentropy\", metrics=[\"accuracy\"])"
   ]
  },
  {
   "cell_type": "code",
   "execution_count": 26,
   "id": "6b34b826",
   "metadata": {
    "execution": {
     "iopub.execute_input": "2023-05-17T17:50:32.920342Z",
     "iopub.status.busy": "2023-05-17T17:50:32.919555Z",
     "iopub.status.idle": "2023-05-17T17:50:32.924532Z",
     "shell.execute_reply": "2023-05-17T17:50:32.923714Z"
    },
    "papermill": {
     "duration": 0.025669,
     "end_time": "2023-05-17T17:50:32.926501",
     "exception": false,
     "start_time": "2023-05-17T17:50:32.900832",
     "status": "completed"
    },
    "tags": []
   },
   "outputs": [],
   "source": [
    "# Set a learning rate annealer\n",
    "learning_rate_reduction = ReduceLROnPlateau(monitor='val_acc', \n",
    "                                            patience=3, \n",
    "                                            verbose=1, \n",
    "                                            factor=0.5, \n",
    "                                            min_lr=0.00001)"
   ]
  },
  {
   "cell_type": "code",
   "execution_count": 27,
   "id": "fda00c05",
   "metadata": {
    "execution": {
     "iopub.execute_input": "2023-05-17T17:50:32.963480Z",
     "iopub.status.busy": "2023-05-17T17:50:32.962807Z",
     "iopub.status.idle": "2023-05-17T17:50:32.967143Z",
     "shell.execute_reply": "2023-05-17T17:50:32.966056Z"
    },
    "papermill": {
     "duration": 0.024901,
     "end_time": "2023-05-17T17:50:32.969089",
     "exception": false,
     "start_time": "2023-05-17T17:50:32.944188",
     "status": "completed"
    },
    "tags": []
   },
   "outputs": [],
   "source": [
    "epochs = 5 # Turn epochs to 30 to get 0.9967 accuracy\n",
    "batch_size = 64"
   ]
  },
  {
   "cell_type": "markdown",
   "id": "f42d1eaf",
   "metadata": {
    "papermill": {
     "duration": 0.01726,
     "end_time": "2023-05-17T17:50:33.003708",
     "exception": false,
     "start_time": "2023-05-17T17:50:32.986448",
     "status": "completed"
    },
    "tags": []
   },
   "source": [
    "# Data Augmentation"
   ]
  },
  {
   "cell_type": "code",
   "execution_count": 28,
   "id": "460e64da",
   "metadata": {
    "execution": {
     "iopub.execute_input": "2023-05-17T17:50:33.039876Z",
     "iopub.status.busy": "2023-05-17T17:50:33.039064Z",
     "iopub.status.idle": "2023-05-17T17:50:33.121896Z",
     "shell.execute_reply": "2023-05-17T17:50:33.120946Z"
    },
    "papermill": {
     "duration": 0.10336,
     "end_time": "2023-05-17T17:50:33.124312",
     "exception": false,
     "start_time": "2023-05-17T17:50:33.020952",
     "status": "completed"
    },
    "tags": []
   },
   "outputs": [],
   "source": [
    "datagen = ImageDataGenerator(\n",
    "        featurewise_center=False,  # set input mean to 0 over the dataset\n",
    "        samplewise_center=False,  # set each sample mean to 0\n",
    "        featurewise_std_normalization=False,  # divide inputs by std of the dataset\n",
    "        samplewise_std_normalization=False,  # divide each input by its std\n",
    "        zca_whitening=False,  # apply ZCA whitening\n",
    "        rotation_range=10,  # randomly rotate images in the range (degrees, 0 to 180)\n",
    "        zoom_range = 0.1, # Randomly zoom image \n",
    "        width_shift_range=0.1,  # randomly shift images horizontally (fraction of total width)\n",
    "        height_shift_range=0.1,  # randomly shift images vertically (fraction of total height)\n",
    "        horizontal_flip=False,  # randomly flip images\n",
    "        vertical_flip=False)  # randomly flip images\n",
    "\n",
    "\n",
    "datagen.fit(X_train)"
   ]
  },
  {
   "cell_type": "code",
   "execution_count": 29,
   "id": "78a650a3",
   "metadata": {
    "execution": {
     "iopub.execute_input": "2023-05-17T17:50:33.163415Z",
     "iopub.status.busy": "2023-05-17T17:50:33.162585Z",
     "iopub.status.idle": "2023-05-17T17:51:41.778889Z",
     "shell.execute_reply": "2023-05-17T17:51:41.777931Z"
    },
    "papermill": {
     "duration": 68.637876,
     "end_time": "2023-05-17T17:51:41.781109",
     "exception": false,
     "start_time": "2023-05-17T17:50:33.143233",
     "status": "completed"
    },
    "tags": []
   },
   "outputs": [
    {
     "name": "stdout",
     "output_type": "stream",
     "text": [
      "Epoch 1/5\n"
     ]
    },
    {
     "name": "stderr",
     "output_type": "stream",
     "text": [
      "/tmp/ipykernel_23/857378775.py:1: UserWarning: `Model.fit_generator` is deprecated and will be removed in a future version. Please use `Model.fit`, which supports generators.\n",
      "  history = model.fit_generator(datagen.flow(X_train,y_train, batch_size=batch_size),\n",
      "2023-05-17 17:50:34.373694: E tensorflow/core/grappler/optimizers/meta_optimizer.cc:954] layout failed: INVALID_ARGUMENT: Size of values 0 does not match size of permutation 4 @ fanin shape insequential/dropout/dropout/SelectV2-2-TransposeNHWCToNCHW-LayoutOptimizer\n"
     ]
    },
    {
     "name": "stdout",
     "output_type": "stream",
     "text": [
      "525/525 [==============================] - 19s 23ms/step - loss: 0.4118 - accuracy: 0.8672 - val_loss: 0.0611 - val_accuracy: 0.9824 - lr: 0.0010\n",
      "Epoch 2/5\n",
      "525/525 [==============================] - 13s 24ms/step - loss: 0.1327 - accuracy: 0.9617 - val_loss: 0.0464 - val_accuracy: 0.9850 - lr: 0.0010\n",
      "Epoch 3/5\n",
      "525/525 [==============================] - 12s 23ms/step - loss: 0.0991 - accuracy: 0.9697 - val_loss: 0.0297 - val_accuracy: 0.9900 - lr: 0.0010\n",
      "Epoch 4/5\n",
      "525/525 [==============================] - 12s 23ms/step - loss: 0.0875 - accuracy: 0.9750 - val_loss: 0.0372 - val_accuracy: 0.9898 - lr: 0.0010\n",
      "Epoch 5/5\n",
      "525/525 [==============================] - 13s 24ms/step - loss: 0.0791 - accuracy: 0.9767 - val_loss: 0.0244 - val_accuracy: 0.9908 - lr: 0.0010\n"
     ]
    }
   ],
   "source": [
    "history = model.fit_generator(datagen.flow(X_train,y_train, batch_size=batch_size),\n",
    "                              epochs = epochs, validation_data = (X_val,y_val),\n",
    "                                  verbose = 1, steps_per_epoch=X_train.shape[0] // batch_size\n",
    "                              , callbacks=[learning_rate_reduction])"
   ]
  },
  {
   "cell_type": "code",
   "execution_count": 30,
   "id": "0d4e0dfe",
   "metadata": {
    "execution": {
     "iopub.execute_input": "2023-05-17T17:51:41.953858Z",
     "iopub.status.busy": "2023-05-17T17:51:41.952945Z",
     "iopub.status.idle": "2023-05-17T17:51:43.317741Z",
     "shell.execute_reply": "2023-05-17T17:51:43.316881Z"
    },
    "papermill": {
     "duration": 1.452236,
     "end_time": "2023-05-17T17:51:43.319766",
     "exception": false,
     "start_time": "2023-05-17T17:51:41.867530",
     "status": "completed"
    },
    "tags": []
   },
   "outputs": [
    {
     "name": "stdout",
     "output_type": "stream",
     "text": [
      "263/263 [==============================] - 1s 3ms/step - loss: 0.0244 - accuracy: 0.9908\n"
     ]
    },
    {
     "data": {
      "text/plain": [
       "[0.02440536953508854, 0.9908333420753479]"
      ]
     },
     "execution_count": 30,
     "metadata": {},
     "output_type": "execute_result"
    }
   ],
   "source": [
    "model.evaluate(X_val,y_val)"
   ]
  },
  {
   "cell_type": "markdown",
   "id": "f12a7fc1",
   "metadata": {
    "papermill": {
     "duration": 0.084996,
     "end_time": "2023-05-17T17:51:43.490970",
     "exception": false,
     "start_time": "2023-05-17T17:51:43.405974",
     "status": "completed"
    },
    "tags": []
   },
   "source": [
    "# Evaluation"
   ]
  },
  {
   "cell_type": "code",
   "execution_count": 31,
   "id": "4bdcf994",
   "metadata": {
    "execution": {
     "iopub.execute_input": "2023-05-17T17:51:43.662540Z",
     "iopub.status.busy": "2023-05-17T17:51:43.662215Z",
     "iopub.status.idle": "2023-05-17T17:51:43.997905Z",
     "shell.execute_reply": "2023-05-17T17:51:43.996924Z"
    },
    "papermill": {
     "duration": 0.423757,
     "end_time": "2023-05-17T17:51:43.999912",
     "exception": false,
     "start_time": "2023-05-17T17:51:43.576155",
     "status": "completed"
    },
    "tags": []
   },
   "outputs": [
    {
     "data": {
      "image/png": "[encoded data removed]",
      "text/plain": [
       "<Figure size 640x480 with 1 Axes>"
      ]
     },
     "metadata": {},
     "output_type": "display_data"
    }
   ],
   "source": [
    "plt.plot(history.history['loss'])\n",
    "plt.plot(history.history['val_loss'])\n",
    "plt.title('Model Loss')\n",
    "plt.ylabel('Loss')\n",
    "plt.xlabel('Epochs')\n",
    "plt.legend(['train', 'test'])\n",
    "plt.show()"
   ]
  },
  {
   "cell_type": "code",
   "execution_count": 32,
   "id": "123b5c81",
   "metadata": {
    "execution": {
     "iopub.execute_input": "2023-05-17T17:51:44.173952Z",
     "iopub.status.busy": "2023-05-17T17:51:44.173329Z",
     "iopub.status.idle": "2023-05-17T17:51:44.500863Z",
     "shell.execute_reply": "2023-05-17T17:51:44.499983Z"
    },
    "papermill": {
     "duration": 0.416058,
     "end_time": "2023-05-17T17:51:44.502944",
     "exception": false,
     "start_time": "2023-05-17T17:51:44.086886",
     "status": "completed"
    },
    "tags": []
   },
   "outputs": [
    {
     "data": {
      "image/png": "[encoded data removed]",
      "text/plain": [
       "<Figure size 640x480 with 1 Axes>"
      ]
     },
     "metadata": {},
     "output_type": "display_data"
    }
   ],
   "source": [
    "plt.plot(history.history['accuracy'])\n",
    "plt.plot(history.history['val_accuracy'])\n",
    "plt.title('Model Accuracy')\n",
    "plt.ylabel('Accuracy')\n",
    "plt.xlabel('Epochs')\n",
    "plt.legend(['train', 'test'])\n",
    "plt.show()"
   ]
  },
  {
   "cell_type": "code",
   "execution_count": 33,
   "id": "671d3b99",
   "metadata": {
    "execution": {
     "iopub.execute_input": "2023-05-17T17:51:44.674884Z",
     "iopub.status.busy": "2023-05-17T17:51:44.674583Z",
     "iopub.status.idle": "2023-05-17T17:51:44.683017Z",
     "shell.execute_reply": "2023-05-17T17:51:44.682054Z"
    },
    "papermill": {
     "duration": 0.096436,
     "end_time": "2023-05-17T17:51:44.685096",
     "exception": false,
     "start_time": "2023-05-17T17:51:44.588660",
     "status": "completed"
    },
    "tags": []
   },
   "outputs": [
    {
     "data": {
      "text/plain": [
       "array([8, 1, 9, ..., 3, 0, 9])"
      ]
     },
     "execution_count": 33,
     "metadata": {},
     "output_type": "execute_result"
    }
   ],
   "source": [
    "train_label_np = np.argmax(y_train,axis=1)\n",
    "train_label_np\n",
    "test_label_np = np.argmax(y_val,axis=1)\n",
    "test_label_np"
   ]
  },
  {
   "cell_type": "code",
   "execution_count": 34,
   "id": "71f4df71",
   "metadata": {
    "execution": {
     "iopub.execute_input": "2023-05-17T17:51:44.857972Z",
     "iopub.status.busy": "2023-05-17T17:51:44.857653Z",
     "iopub.status.idle": "2023-05-17T17:51:44.862496Z",
     "shell.execute_reply": "2023-05-17T17:51:44.861518Z"
    },
    "papermill": {
     "duration": 0.094371,
     "end_time": "2023-05-17T17:51:44.864807",
     "exception": false,
     "start_time": "2023-05-17T17:51:44.770436",
     "status": "completed"
    },
    "tags": []
   },
   "outputs": [],
   "source": [
    "def calc_pred (model, data):\n",
    "    prediction = model.predict(data)\n",
    "    class_predicted= np.argmax(prediction,axis=1)\n",
    "    return class_predicted"
   ]
  },
  {
   "cell_type": "code",
   "execution_count": 35,
   "id": "bd3267db",
   "metadata": {
    "execution": {
     "iopub.execute_input": "2023-05-17T17:51:45.036573Z",
     "iopub.status.busy": "2023-05-17T17:51:45.036259Z",
     "iopub.status.idle": "2023-05-17T17:51:48.701298Z",
     "shell.execute_reply": "2023-05-17T17:51:48.700305Z"
    },
    "papermill": {
     "duration": 3.753321,
     "end_time": "2023-05-17T17:51:48.703533",
     "exception": false,
     "start_time": "2023-05-17T17:51:44.950212",
     "status": "completed"
    },
    "tags": []
   },
   "outputs": [
    {
     "name": "stdout",
     "output_type": "stream",
     "text": [
      "1050/1050 [==============================] - 2s 2ms/step\n",
      "263/263 [==============================] - 1s 2ms/step\n"
     ]
    },
    {
     "data": {
      "text/plain": [
       "array([8, 1, 9, ..., 3, 0, 9])"
      ]
     },
     "execution_count": 35,
     "metadata": {},
     "output_type": "execute_result"
    }
   ],
   "source": [
    "predicted_train = calc_pred(model,X_train)\n",
    "predicted_test = calc_pred(model,X_val)\n",
    "predicted_test"
   ]
  },
  {
   "cell_type": "code",
   "execution_count": 36,
   "id": "262c4ef3",
   "metadata": {
    "execution": {
     "iopub.execute_input": "2023-05-17T17:51:48.887809Z",
     "iopub.status.busy": "2023-05-17T17:51:48.886946Z",
     "iopub.status.idle": "2023-05-17T17:51:49.563153Z",
     "shell.execute_reply": "2023-05-17T17:51:49.562264Z"
    },
    "papermill": {
     "duration": 0.769581,
     "end_time": "2023-05-17T17:51:49.565408",
     "exception": false,
     "start_time": "2023-05-17T17:51:48.795827",
     "status": "completed"
    },
    "tags": []
   },
   "outputs": [
    {
     "data": {
      "text/plain": [
       "<AxesSubplot: >"
      ]
     },
     "execution_count": 36,
     "metadata": {},
     "output_type": "execute_result"
    },
    {
     "data": {
      "image/png": "[encoded data removed]",
      "text/plain": [
       "<Figure size 800x800 with 2 Axes>"
      ]
     },
     "metadata": {},
     "output_type": "display_data"
    }
   ],
   "source": [
    "cm_train= confusion_matrix(train_label_np,predicted_train)\n",
    "plt.figure(figsize=(8,8))\n",
    "sns.heatmap(cm_train, annot=True, fmt=\".1f\", linewidth=.5)"
   ]
  },
  {
   "cell_type": "code",
   "execution_count": 37,
   "id": "263bdea2",
   "metadata": {
    "execution": {
     "iopub.execute_input": "2023-05-17T17:51:49.748411Z",
     "iopub.status.busy": "2023-05-17T17:51:49.748065Z",
     "iopub.status.idle": "2023-05-17T17:51:50.401681Z",
     "shell.execute_reply": "2023-05-17T17:51:50.400799Z"
    },
    "papermill": {
     "duration": 0.747094,
     "end_time": "2023-05-17T17:51:50.403790",
     "exception": false,
     "start_time": "2023-05-17T17:51:49.656696",
     "status": "completed"
    },
    "tags": []
   },
   "outputs": [
    {
     "data": {
      "text/plain": [
       "<AxesSubplot: >"
      ]
     },
     "execution_count": 37,
     "metadata": {},
     "output_type": "execute_result"
    },
    {
     "data": {
      "image/png": "[encoded data removed]",
      "text/plain": [
       "<Figure size 800x800 with 2 Axes>"
      ]
     },
     "metadata": {},
     "output_type": "display_data"
    }
   ],
   "source": [
    "cm_test= confusion_matrix(test_label_np,predicted_test)\n",
    "plt.figure(figsize=(8,8))\n",
    "sns.heatmap(cm_train, annot=True, fmt=\".1f\", linewidth=.5)"
   ]
  },
  {
   "cell_type": "code",
   "execution_count": 38,
   "id": "6f4a416c",
   "metadata": {
    "execution": {
     "iopub.execute_input": "2023-05-17T17:51:50.587706Z",
     "iopub.status.busy": "2023-05-17T17:51:50.587387Z",
     "iopub.status.idle": "2023-05-17T17:51:50.593410Z",
     "shell.execute_reply": "2023-05-17T17:51:50.592484Z"
    },
    "papermill": {
     "duration": 0.100197,
     "end_time": "2023-05-17T17:51:50.595349",
     "exception": false,
     "start_time": "2023-05-17T17:51:50.495152",
     "status": "completed"
    },
    "tags": []
   },
   "outputs": [
    {
     "data": {
      "text/plain": [
       "(8400, 10)"
      ]
     },
     "execution_count": 38,
     "metadata": {},
     "output_type": "execute_result"
    }
   ],
   "source": [
    "y_val.shape"
   ]
  },
  {
   "cell_type": "code",
   "execution_count": 39,
   "id": "117df5d7",
   "metadata": {
    "execution": {
     "iopub.execute_input": "2023-05-17T17:51:50.777695Z",
     "iopub.status.busy": "2023-05-17T17:51:50.777398Z",
     "iopub.status.idle": "2023-05-17T17:51:50.783963Z",
     "shell.execute_reply": "2023-05-17T17:51:50.783044Z"
    },
    "papermill": {
     "duration": 0.100377,
     "end_time": "2023-05-17T17:51:50.786028",
     "exception": false,
     "start_time": "2023-05-17T17:51:50.685651",
     "status": "completed"
    },
    "tags": []
   },
   "outputs": [
    {
     "data": {
      "text/plain": [
       "(8400,)"
      ]
     },
     "execution_count": 39,
     "metadata": {},
     "output_type": "execute_result"
    }
   ],
   "source": [
    "y_true = np.argmax(y_val,axis=1)\n",
    "y_true.shape"
   ]
  },
  {
   "cell_type": "code",
   "execution_count": 40,
   "id": "3401f4dc",
   "metadata": {
    "execution": {
     "iopub.execute_input": "2023-05-17T17:51:50.970317Z",
     "iopub.status.busy": "2023-05-17T17:51:50.969954Z",
     "iopub.status.idle": "2023-05-17T17:51:50.975326Z",
     "shell.execute_reply": "2023-05-17T17:51:50.974320Z"
    },
    "papermill": {
     "duration": 0.099885,
     "end_time": "2023-05-17T17:51:50.977476",
     "exception": false,
     "start_time": "2023-05-17T17:51:50.877591",
     "status": "completed"
    },
    "tags": []
   },
   "outputs": [],
   "source": [
    "errors = predicted_test != y_true\n",
    "X_val_errors = X_val[errors]\n",
    "Y_pred_classes_errors = predicted_test[errors]\n",
    "Y_true_errors = y_val[errors]"
   ]
  },
  {
   "cell_type": "code",
   "execution_count": 41,
   "id": "7b546ac4",
   "metadata": {
    "execution": {
     "iopub.execute_input": "2023-05-17T17:51:51.169907Z",
     "iopub.status.busy": "2023-05-17T17:51:51.169570Z",
     "iopub.status.idle": "2023-05-17T17:51:51.175506Z",
     "shell.execute_reply": "2023-05-17T17:51:51.174663Z"
    },
    "papermill": {
     "duration": 0.101073,
     "end_time": "2023-05-17T17:51:51.177700",
     "exception": false,
     "start_time": "2023-05-17T17:51:51.076627",
     "status": "completed"
    },
    "tags": []
   },
   "outputs": [
    {
     "data": {
      "text/plain": [
       "(77, 28, 28, 1)"
      ]
     },
     "execution_count": 41,
     "metadata": {},
     "output_type": "execute_result"
    }
   ],
   "source": [
    "X_val_errors.shape\n"
   ]
  },
  {
   "cell_type": "code",
   "execution_count": 42,
   "id": "da17b34c",
   "metadata": {
    "execution": {
     "iopub.execute_input": "2023-05-17T17:51:51.362255Z",
     "iopub.status.busy": "2023-05-17T17:51:51.361880Z",
     "iopub.status.idle": "2023-05-17T17:51:51.641111Z",
     "shell.execute_reply": "2023-05-17T17:51:51.640204Z"
    },
    "papermill": {
     "duration": 0.374396,
     "end_time": "2023-05-17T17:51:51.643334",
     "exception": false,
     "start_time": "2023-05-17T17:51:51.268938",
     "status": "completed"
    },
    "tags": []
   },
   "outputs": [
    {
     "data": {
      "text/plain": [
       "<matplotlib.image.AxesImage at 0x78186c5ac790>"
      ]
     },
     "execution_count": 42,
     "metadata": {},
     "output_type": "execute_result"
    },
    {
     "data": {
      "image/png": "[encoded data removed]",
      "text/plain": [
       "<Figure size 640x480 with 1 Axes>"
      ]
     },
     "metadata": {},
     "output_type": "display_data"
    }
   ],
   "source": [
    "plt.imshow(X_val_errors[0],cmap='gray')"
   ]
  },
  {
   "cell_type": "code",
   "execution_count": 43,
   "id": "0c860139",
   "metadata": {
    "execution": {
     "iopub.execute_input": "2023-05-17T17:51:51.828101Z",
     "iopub.status.busy": "2023-05-17T17:51:51.827753Z",
     "iopub.status.idle": "2023-05-17T17:51:52.855875Z",
     "shell.execute_reply": "2023-05-17T17:51:52.854925Z"
    },
    "papermill": {
     "duration": 1.123215,
     "end_time": "2023-05-17T17:51:52.858456",
     "exception": false,
     "start_time": "2023-05-17T17:51:51.735241",
     "status": "completed"
    },
    "tags": []
   },
   "outputs": [
    {
     "data": {
      "image/png": "[encoded data removed]",
      "text/plain": [
       "<Figure size 1000x800 with 6 Axes>"
      ]
     },
     "metadata": {},
     "output_type": "display_data"
    }
   ],
   "source": [
    "errors = predicted_test != y_true\n",
    "X_val_errors = X_val[errors]\n",
    "Y_pred_classes_errors = predicted_test[errors]\n",
    "Y_true_errors = y_true[errors]\n",
    "\n",
    "num_errors = len(X_val_errors)\n",
    "num_rows = 2\n",
    "num_cols = 3\n",
    "\n",
    "fig, axes = plt.subplots(num_rows, num_cols, figsize=(10, 8))\n",
    "fig.suptitle(f\"Top {num_rows * num_cols} errors\", fontsize=16)\n",
    "\n",
    "for i, ax in enumerate(axes.flatten()):\n",
    "    if i >= num_errors:\n",
    "        break\n",
    "    ax.imshow(X_val_errors[i], cmap='gray')\n",
    "    ax.set_title(f\"Predicted: {Y_pred_classes_errors[i]}, Actual: {Y_true_errors[i]}\")\n",
    "    ax.axis('off')\n",
    "\n",
    "plt.tight_layout()\n",
    "plt.show()"
   ]
  },
  {
   "cell_type": "code",
   "execution_count": 44,
   "id": "b93bce3d",
   "metadata": {
    "execution": {
     "iopub.execute_input": "2023-05-17T17:51:53.047651Z",
     "iopub.status.busy": "2023-05-17T17:51:53.047304Z",
     "iopub.status.idle": "2023-05-17T17:51:55.863734Z",
     "shell.execute_reply": "2023-05-17T17:51:55.862733Z"
    },
    "papermill": {
     "duration": 2.912417,
     "end_time": "2023-05-17T17:51:55.866154",
     "exception": false,
     "start_time": "2023-05-17T17:51:52.953737",
     "status": "completed"
    },
    "tags": []
   },
   "outputs": [
    {
     "name": "stdout",
     "output_type": "stream",
     "text": [
      "875/875 [==============================] - 2s 2ms/step\n"
     ]
    }
   ],
   "source": [
    "results = model.predict(test_df)\n",
    "\n",
    "# select the indix with the maximum probability\n",
    "results = np.argmax(results,axis = 1)\n",
    "\n",
    "results = pd.Series(results,name=\"Label\")"
   ]
  },
  {
   "cell_type": "code",
   "execution_count": 45,
   "id": "9570096e",
   "metadata": {
    "execution": {
     "iopub.execute_input": "2023-05-17T17:51:56.059867Z",
     "iopub.status.busy": "2023-05-17T17:51:56.058907Z",
     "iopub.status.idle": "2023-05-17T17:51:56.065561Z",
     "shell.execute_reply": "2023-05-17T17:51:56.064696Z"
    },
    "papermill": {
     "duration": 0.104725,
     "end_time": "2023-05-17T17:51:56.067551",
     "exception": false,
     "start_time": "2023-05-17T17:51:55.962826",
     "status": "completed"
    },
    "tags": []
   },
   "outputs": [
    {
     "data": {
      "text/plain": [
       "(28000, 28, 28, 1)"
      ]
     },
     "execution_count": 45,
     "metadata": {},
     "output_type": "execute_result"
    }
   ],
   "source": [
    "test_df.shape"
   ]
  },
  {
   "cell_type": "code",
   "execution_count": 46,
   "id": "b3f55998",
   "metadata": {
    "execution": {
     "iopub.execute_input": "2023-05-17T17:51:56.259460Z",
     "iopub.status.busy": "2023-05-17T17:51:56.258432Z",
     "iopub.status.idle": "2023-05-17T17:51:56.316788Z",
     "shell.execute_reply": "2023-05-17T17:51:56.315913Z"
    },
    "papermill": {
     "duration": 0.157134,
     "end_time": "2023-05-17T17:51:56.319093",
     "exception": false,
     "start_time": "2023-05-17T17:51:56.161959",
     "status": "completed"
    },
    "tags": []
   },
   "outputs": [],
   "source": [
    "submission = pd.concat([pd.Series(range(1,28001),name = \"ImageId\"),results],axis = 1)\n",
    "\n",
    "submission.to_csv(\"cnn_mnist_datagen.csv\",index=False)"
   ]
  },
  {
   "cell_type": "markdown",
   "id": "6d4a9181",
   "metadata": {
    "papermill": {
     "duration": 0.094338,
     "end_time": "2023-05-17T17:51:56.508604",
     "exception": false,
     "start_time": "2023-05-17T17:51:56.414266",
     "status": "completed"
    },
    "tags": []
   },
   "source": [
    "# Thanks"
   ]
  }
 ],
 "metadata": {
  "kernelspec": {
   "display_name": "Python 3",
   "language": "python",
   "name": "python3"
  },
  "language_info": {
   "codemirror_mode": {
    "name": "ipython",
    "version": 3
   },
   "file_extension": ".py",
   "mimetype": "text/x-python",
   "name": "python",
   "nbconvert_exporter": "python",
   "pygments_lexer": "ipython3",
   "version": "3.10.10"
  },
  "papermill": {
   "default_parameters": {},
   "duration": 115.858313,
   "end_time": "2023-05-17T17:51:59.909909",
   "environment_variables": {},
   "exception": null,
   "input_path": "__notebook__.ipynb",
   "output_path": "__notebook__.ipynb",
   "parameters": {},
   "start_time": "2023-05-17T17:50:04.051596",
   "version": "2.4.0"
  }
 },
 "nbformat": 4,
 "nbformat_minor": 5
}
