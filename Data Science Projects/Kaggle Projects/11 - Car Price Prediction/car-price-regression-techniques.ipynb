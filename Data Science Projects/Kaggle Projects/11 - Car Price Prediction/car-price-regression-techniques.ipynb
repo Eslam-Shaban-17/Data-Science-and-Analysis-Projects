{
 "cells": [
  {
   "cell_type": "markdown",
   "id": "e9b65f87",
   "metadata": {
    "papermill": {
     "duration": 0.027285,
     "end_time": "2023-05-15T12:28:51.396707",
     "exception": false,
     "start_time": "2023-05-15T12:28:51.369422",
     "status": "completed"
    },
    "tags": []
   },
   "source": [
    "# Import Libraries"
   ]
  },
  {
   "cell_type": "code",
   "execution_count": 1,
   "id": "9469cc9d",
   "metadata": {
    "_cell_guid": "b1076dfc-b9ad-4769-8c92-a6c4dae69d19",
    "_uuid": "8f2839f25d086af736a60e9eeb907d3b93b6e0e5",
    "execution": {
     "iopub.execute_input": "2023-05-15T12:28:51.453072Z",
     "iopub.status.busy": "2023-05-15T12:28:51.452239Z",
     "iopub.status.idle": "2023-05-15T12:28:53.675371Z",
     "shell.execute_reply": "2023-05-15T12:28:53.673918Z"
    },
    "papermill": {
     "duration": 2.254804,
     "end_time": "2023-05-15T12:28:53.678539",
     "exception": false,
     "start_time": "2023-05-15T12:28:51.423735",
     "status": "completed"
    },
    "tags": []
   },
   "outputs": [
    {
     "name": "stderr",
     "output_type": "stream",
     "text": [
      "/opt/conda/lib/python3.10/site-packages/scipy/__init__.py:146: UserWarning: A NumPy version >=1.16.5 and <1.23.0 is required for this version of SciPy (detected version 1.23.5\n",
      "  warnings.warn(f\"A NumPy version >={np_minversion} and <{np_maxversion}\"\n"
     ]
    }
   ],
   "source": [
    "import numpy as np\n",
    "import pandas as pd\n",
    "import matplotlib.pyplot as plt\n",
    "import seaborn as sns\n",
    "from pandas.plotting import scatter_matrix\n",
    "\n",
    "from sklearn.impute import SimpleImputer\n",
    "from sklearn.preprocessing import StandardScaler, OneHotEncoder\n",
    "from sklearn.pipeline import Pipeline\n",
    "from sklearn.compose import ColumnTransformer\n",
    "from sklearn.model_selection import train_test_split, cross_val_score, GridSearchCV\n",
    "from sklearn.linear_model import LinearRegression\n",
    "from sklearn.metrics import mean_squared_error, mean_absolute_error,r2_score\n",
    "from sklearn.tree import DecisionTreeRegressor\n",
    "from sklearn.ensemble import RandomForestRegressor\n",
    "from sklearn.linear_model import SGDRegressor\n",
    "\n",
    "from scipy import stats\n",
    "\n",
    "import joblib\n",
    "\n",
    "import warnings\n",
    "warnings.filterwarnings('ignore')"
   ]
  },
  {
   "cell_type": "code",
   "execution_count": 2,
   "id": "7bc5a994",
   "metadata": {
    "execution": {
     "iopub.execute_input": "2023-05-15T12:28:53.745862Z",
     "iopub.status.busy": "2023-05-15T12:28:53.745051Z",
     "iopub.status.idle": "2023-05-15T12:28:53.917353Z",
     "shell.execute_reply": "2023-05-15T12:28:53.916265Z"
    },
    "papermill": {
     "duration": 0.20284,
     "end_time": "2023-05-15T12:28:53.920094",
     "exception": false,
     "start_time": "2023-05-15T12:28:53.717254",
     "status": "completed"
    },
    "tags": []
   },
   "outputs": [
    {
     "data": {
      "text/html": [
       "<div>\n",
       "<style scoped>\n",
       "    .dataframe tbody tr th:only-of-type {\n",
       "        vertical-align: middle;\n",
       "    }\n",
       "\n",
       "    .dataframe tbody tr th {\n",
       "        vertical-align: top;\n",
       "    }\n",
       "\n",
       "    .dataframe thead th {\n",
       "        text-align: right;\n",
       "    }\n",
       "</style>\n",
       "<table border=\"1\" class=\"dataframe\">\n",
       "  <thead>\n",
       "    <tr style=\"text-align: right;\">\n",
       "      <th></th>\n",
       "      <th>ID</th>\n",
       "      <th>Price</th>\n",
       "      <th>Levy</th>\n",
       "      <th>Manufacturer</th>\n",
       "      <th>Model</th>\n",
       "      <th>Prod. year</th>\n",
       "      <th>Category</th>\n",
       "      <th>Leather interior</th>\n",
       "      <th>Fuel type</th>\n",
       "      <th>Engine volume</th>\n",
       "      <th>Mileage</th>\n",
       "      <th>Cylinders</th>\n",
       "      <th>Gear box type</th>\n",
       "      <th>Drive wheels</th>\n",
       "      <th>Doors</th>\n",
       "      <th>Wheel</th>\n",
       "      <th>Color</th>\n",
       "      <th>Airbags</th>\n",
       "    </tr>\n",
       "  </thead>\n",
       "  <tbody>\n",
       "    <tr>\n",
       "      <th>0</th>\n",
       "      <td>45654403</td>\n",
       "      <td>13328</td>\n",
       "      <td>1399</td>\n",
       "      <td>LEXUS</td>\n",
       "      <td>RX 450</td>\n",
       "      <td>2010</td>\n",
       "      <td>Jeep</td>\n",
       "      <td>Yes</td>\n",
       "      <td>Hybrid</td>\n",
       "      <td>3.5</td>\n",
       "      <td>186005 km</td>\n",
       "      <td>6.0</td>\n",
       "      <td>Automatic</td>\n",
       "      <td>4x4</td>\n",
       "      <td>04-May</td>\n",
       "      <td>Left wheel</td>\n",
       "      <td>Silver</td>\n",
       "      <td>12</td>\n",
       "    </tr>\n",
       "    <tr>\n",
       "      <th>1</th>\n",
       "      <td>44731507</td>\n",
       "      <td>16621</td>\n",
       "      <td>1018</td>\n",
       "      <td>CHEVROLET</td>\n",
       "      <td>Equinox</td>\n",
       "      <td>2011</td>\n",
       "      <td>Jeep</td>\n",
       "      <td>No</td>\n",
       "      <td>Petrol</td>\n",
       "      <td>3</td>\n",
       "      <td>192000 km</td>\n",
       "      <td>6.0</td>\n",
       "      <td>Tiptronic</td>\n",
       "      <td>4x4</td>\n",
       "      <td>04-May</td>\n",
       "      <td>Left wheel</td>\n",
       "      <td>Black</td>\n",
       "      <td>8</td>\n",
       "    </tr>\n",
       "    <tr>\n",
       "      <th>2</th>\n",
       "      <td>45774419</td>\n",
       "      <td>8467</td>\n",
       "      <td>-</td>\n",
       "      <td>HONDA</td>\n",
       "      <td>FIT</td>\n",
       "      <td>2006</td>\n",
       "      <td>Hatchback</td>\n",
       "      <td>No</td>\n",
       "      <td>Petrol</td>\n",
       "      <td>1.3</td>\n",
       "      <td>200000 km</td>\n",
       "      <td>4.0</td>\n",
       "      <td>Variator</td>\n",
       "      <td>Front</td>\n",
       "      <td>04-May</td>\n",
       "      <td>Right-hand drive</td>\n",
       "      <td>Black</td>\n",
       "      <td>2</td>\n",
       "    </tr>\n",
       "    <tr>\n",
       "      <th>3</th>\n",
       "      <td>45769185</td>\n",
       "      <td>3607</td>\n",
       "      <td>862</td>\n",
       "      <td>FORD</td>\n",
       "      <td>Escape</td>\n",
       "      <td>2011</td>\n",
       "      <td>Jeep</td>\n",
       "      <td>Yes</td>\n",
       "      <td>Hybrid</td>\n",
       "      <td>2.5</td>\n",
       "      <td>168966 km</td>\n",
       "      <td>4.0</td>\n",
       "      <td>Automatic</td>\n",
       "      <td>4x4</td>\n",
       "      <td>04-May</td>\n",
       "      <td>Left wheel</td>\n",
       "      <td>White</td>\n",
       "      <td>0</td>\n",
       "    </tr>\n",
       "    <tr>\n",
       "      <th>4</th>\n",
       "      <td>45809263</td>\n",
       "      <td>11726</td>\n",
       "      <td>446</td>\n",
       "      <td>HONDA</td>\n",
       "      <td>FIT</td>\n",
       "      <td>2014</td>\n",
       "      <td>Hatchback</td>\n",
       "      <td>Yes</td>\n",
       "      <td>Petrol</td>\n",
       "      <td>1.3</td>\n",
       "      <td>91901 km</td>\n",
       "      <td>4.0</td>\n",
       "      <td>Automatic</td>\n",
       "      <td>Front</td>\n",
       "      <td>04-May</td>\n",
       "      <td>Left wheel</td>\n",
       "      <td>Silver</td>\n",
       "      <td>4</td>\n",
       "    </tr>\n",
       "  </tbody>\n",
       "</table>\n",
       "</div>"
      ],
      "text/plain": [
       "         ID  Price  Levy Manufacturer    Model  Prod. year   Category  \\\n",
       "0  45654403  13328  1399        LEXUS   RX 450        2010       Jeep   \n",
       "1  44731507  16621  1018    CHEVROLET  Equinox        2011       Jeep   \n",
       "2  45774419   8467     -        HONDA      FIT        2006  Hatchback   \n",
       "3  45769185   3607   862         FORD   Escape        2011       Jeep   \n",
       "4  45809263  11726   446        HONDA      FIT        2014  Hatchback   \n",
       "\n",
       "  Leather interior Fuel type Engine volume    Mileage  Cylinders  \\\n",
       "0              Yes    Hybrid           3.5  186005 km        6.0   \n",
       "1               No    Petrol             3  192000 km        6.0   \n",
       "2               No    Petrol           1.3  200000 km        4.0   \n",
       "3              Yes    Hybrid           2.5  168966 km        4.0   \n",
       "4              Yes    Petrol           1.3   91901 km        4.0   \n",
       "\n",
       "  Gear box type Drive wheels   Doors             Wheel   Color  Airbags  \n",
       "0     Automatic          4x4  04-May        Left wheel  Silver       12  \n",
       "1     Tiptronic          4x4  04-May        Left wheel   Black        8  \n",
       "2      Variator        Front  04-May  Right-hand drive   Black        2  \n",
       "3     Automatic          4x4  04-May        Left wheel   White        0  \n",
       "4     Automatic        Front  04-May        Left wheel  Silver        4  "
      ]
     },
     "execution_count": 2,
     "metadata": {},
     "output_type": "execute_result"
    }
   ],
   "source": [
    "df = pd.read_csv(\"../input/car-price-prediction-challenge/car_price_prediction.csv\")\n",
    "df.head()"
   ]
  },
  {
   "cell_type": "code",
   "execution_count": 3,
   "id": "070cdd18",
   "metadata": {
    "execution": {
     "iopub.execute_input": "2023-05-15T12:28:53.976054Z",
     "iopub.status.busy": "2023-05-15T12:28:53.975667Z",
     "iopub.status.idle": "2023-05-15T12:28:54.066430Z",
     "shell.execute_reply": "2023-05-15T12:28:54.065147Z"
    },
    "papermill": {
     "duration": 0.121502,
     "end_time": "2023-05-15T12:28:54.069019",
     "exception": false,
     "start_time": "2023-05-15T12:28:53.947517",
     "status": "completed"
    },
    "tags": []
   },
   "outputs": [
    {
     "data": {
      "text/plain": [
       "ID                  0\n",
       "Price               0\n",
       "Levy                0\n",
       "Manufacturer        0\n",
       "Model               0\n",
       "Prod. year          0\n",
       "Category            0\n",
       "Leather interior    0\n",
       "Fuel type           0\n",
       "Engine volume       0\n",
       "Mileage             0\n",
       "Cylinders           0\n",
       "Gear box type       0\n",
       "Drive wheels        0\n",
       "Doors               0\n",
       "Wheel               0\n",
       "Color               0\n",
       "Airbags             0\n",
       "dtype: int64"
      ]
     },
     "execution_count": 3,
     "metadata": {},
     "output_type": "execute_result"
    }
   ],
   "source": [
    "df.isnull().sum()"
   ]
  },
  {
   "cell_type": "code",
   "execution_count": 4,
   "id": "98b312a5",
   "metadata": {
    "execution": {
     "iopub.execute_input": "2023-05-15T12:28:54.125417Z",
     "iopub.status.busy": "2023-05-15T12:28:54.124986Z",
     "iopub.status.idle": "2023-05-15T12:28:54.233805Z",
     "shell.execute_reply": "2023-05-15T12:28:54.230402Z"
    },
    "papermill": {
     "duration": 0.140323,
     "end_time": "2023-05-15T12:28:54.237063",
     "exception": false,
     "start_time": "2023-05-15T12:28:54.096740",
     "status": "completed"
    },
    "tags": []
   },
   "outputs": [
    {
     "name": "stdout",
     "output_type": "stream",
     "text": [
      "<class 'pandas.core.frame.DataFrame'>\n",
      "RangeIndex: 19237 entries, 0 to 19236\n",
      "Data columns (total 18 columns):\n",
      " #   Column            Non-Null Count  Dtype  \n",
      "---  ------            --------------  -----  \n",
      " 0   ID                19237 non-null  int64  \n",
      " 1   Price             19237 non-null  int64  \n",
      " 2   Levy              19237 non-null  object \n",
      " 3   Manufacturer      19237 non-null  object \n",
      " 4   Model             19237 non-null  object \n",
      " 5   Prod. year        19237 non-null  int64  \n",
      " 6   Category          19237 non-null  object \n",
      " 7   Leather interior  19237 non-null  object \n",
      " 8   Fuel type         19237 non-null  object \n",
      " 9   Engine volume     19237 non-null  object \n",
      " 10  Mileage           19237 non-null  object \n",
      " 11  Cylinders         19237 non-null  float64\n",
      " 12  Gear box type     19237 non-null  object \n",
      " 13  Drive wheels      19237 non-null  object \n",
      " 14  Doors             19237 non-null  object \n",
      " 15  Wheel             19237 non-null  object \n",
      " 16  Color             19237 non-null  object \n",
      " 17  Airbags           19237 non-null  int64  \n",
      "dtypes: float64(1), int64(4), object(13)\n",
      "memory usage: 2.6+ MB\n"
     ]
    }
   ],
   "source": [
    "df.info()"
   ]
  },
  {
   "cell_type": "code",
   "execution_count": 5,
   "id": "c5e45cb6",
   "metadata": {
    "execution": {
     "iopub.execute_input": "2023-05-15T12:28:54.307062Z",
     "iopub.status.busy": "2023-05-15T12:28:54.306680Z",
     "iopub.status.idle": "2023-05-15T12:28:54.342746Z",
     "shell.execute_reply": "2023-05-15T12:28:54.341493Z"
    },
    "papermill": {
     "duration": 0.076838,
     "end_time": "2023-05-15T12:28:54.345294",
     "exception": false,
     "start_time": "2023-05-15T12:28:54.268456",
     "status": "completed"
    },
    "tags": []
   },
   "outputs": [
    {
     "data": {
      "text/html": [
       "<div>\n",
       "<style scoped>\n",
       "    .dataframe tbody tr th:only-of-type {\n",
       "        vertical-align: middle;\n",
       "    }\n",
       "\n",
       "    .dataframe tbody tr th {\n",
       "        vertical-align: top;\n",
       "    }\n",
       "\n",
       "    .dataframe thead th {\n",
       "        text-align: right;\n",
       "    }\n",
       "</style>\n",
       "<table border=\"1\" class=\"dataframe\">\n",
       "  <thead>\n",
       "    <tr style=\"text-align: right;\">\n",
       "      <th></th>\n",
       "      <th>ID</th>\n",
       "      <th>Price</th>\n",
       "      <th>Prod. year</th>\n",
       "      <th>Cylinders</th>\n",
       "      <th>Airbags</th>\n",
       "    </tr>\n",
       "  </thead>\n",
       "  <tbody>\n",
       "    <tr>\n",
       "      <th>count</th>\n",
       "      <td>1.923700e+04</td>\n",
       "      <td>1.923700e+04</td>\n",
       "      <td>19237.000000</td>\n",
       "      <td>19237.000000</td>\n",
       "      <td>19237.000000</td>\n",
       "    </tr>\n",
       "    <tr>\n",
       "      <th>mean</th>\n",
       "      <td>4.557654e+07</td>\n",
       "      <td>1.855593e+04</td>\n",
       "      <td>2010.912824</td>\n",
       "      <td>4.582991</td>\n",
       "      <td>6.582627</td>\n",
       "    </tr>\n",
       "    <tr>\n",
       "      <th>std</th>\n",
       "      <td>9.365914e+05</td>\n",
       "      <td>1.905813e+05</td>\n",
       "      <td>5.668673</td>\n",
       "      <td>1.199933</td>\n",
       "      <td>4.320168</td>\n",
       "    </tr>\n",
       "    <tr>\n",
       "      <th>min</th>\n",
       "      <td>2.074688e+07</td>\n",
       "      <td>1.000000e+00</td>\n",
       "      <td>1939.000000</td>\n",
       "      <td>1.000000</td>\n",
       "      <td>0.000000</td>\n",
       "    </tr>\n",
       "    <tr>\n",
       "      <th>25%</th>\n",
       "      <td>4.569837e+07</td>\n",
       "      <td>5.331000e+03</td>\n",
       "      <td>2009.000000</td>\n",
       "      <td>4.000000</td>\n",
       "      <td>4.000000</td>\n",
       "    </tr>\n",
       "    <tr>\n",
       "      <th>50%</th>\n",
       "      <td>4.577231e+07</td>\n",
       "      <td>1.317200e+04</td>\n",
       "      <td>2012.000000</td>\n",
       "      <td>4.000000</td>\n",
       "      <td>6.000000</td>\n",
       "    </tr>\n",
       "    <tr>\n",
       "      <th>75%</th>\n",
       "      <td>4.580204e+07</td>\n",
       "      <td>2.207500e+04</td>\n",
       "      <td>2015.000000</td>\n",
       "      <td>4.000000</td>\n",
       "      <td>12.000000</td>\n",
       "    </tr>\n",
       "    <tr>\n",
       "      <th>max</th>\n",
       "      <td>4.581665e+07</td>\n",
       "      <td>2.630750e+07</td>\n",
       "      <td>2020.000000</td>\n",
       "      <td>16.000000</td>\n",
       "      <td>16.000000</td>\n",
       "    </tr>\n",
       "  </tbody>\n",
       "</table>\n",
       "</div>"
      ],
      "text/plain": [
       "                 ID         Price    Prod. year     Cylinders       Airbags\n",
       "count  1.923700e+04  1.923700e+04  19237.000000  19237.000000  19237.000000\n",
       "mean   4.557654e+07  1.855593e+04   2010.912824      4.582991      6.582627\n",
       "std    9.365914e+05  1.905813e+05      5.668673      1.199933      4.320168\n",
       "min    2.074688e+07  1.000000e+00   1939.000000      1.000000      0.000000\n",
       "25%    4.569837e+07  5.331000e+03   2009.000000      4.000000      4.000000\n",
       "50%    4.577231e+07  1.317200e+04   2012.000000      4.000000      6.000000\n",
       "75%    4.580204e+07  2.207500e+04   2015.000000      4.000000     12.000000\n",
       "max    4.581665e+07  2.630750e+07   2020.000000     16.000000     16.000000"
      ]
     },
     "execution_count": 5,
     "metadata": {},
     "output_type": "execute_result"
    }
   ],
   "source": [
    "df.describe()"
   ]
  },
  {
   "cell_type": "markdown",
   "id": "6c9bb735",
   "metadata": {
    "papermill": {
     "duration": 0.031112,
     "end_time": "2023-05-15T12:28:54.403810",
     "exception": false,
     "start_time": "2023-05-15T12:28:54.372698",
     "status": "completed"
    },
    "tags": []
   },
   "source": [
    "# Data Cleansing"
   ]
  },
  {
   "cell_type": "code",
   "execution_count": 6,
   "id": "b82f8f9b",
   "metadata": {
    "execution": {
     "iopub.execute_input": "2023-05-15T12:28:54.462516Z",
     "iopub.status.busy": "2023-05-15T12:28:54.462138Z",
     "iopub.status.idle": "2023-05-15T12:28:54.584009Z",
     "shell.execute_reply": "2023-05-15T12:28:54.582836Z"
    },
    "papermill": {
     "duration": 0.153885,
     "end_time": "2023-05-15T12:28:54.586976",
     "exception": false,
     "start_time": "2023-05-15T12:28:54.433091",
     "status": "completed"
    },
    "tags": []
   },
   "outputs": [
    {
     "data": {
      "text/html": [
       "<div>\n",
       "<style scoped>\n",
       "    .dataframe tbody tr th:only-of-type {\n",
       "        vertical-align: middle;\n",
       "    }\n",
       "\n",
       "    .dataframe tbody tr th {\n",
       "        vertical-align: top;\n",
       "    }\n",
       "\n",
       "    .dataframe thead th {\n",
       "        text-align: right;\n",
       "    }\n",
       "</style>\n",
       "<table border=\"1\" class=\"dataframe\">\n",
       "  <thead>\n",
       "    <tr style=\"text-align: right;\">\n",
       "      <th></th>\n",
       "      <th>Levy</th>\n",
       "      <th>Manufacturer</th>\n",
       "      <th>Model</th>\n",
       "      <th>Category</th>\n",
       "      <th>Leather interior</th>\n",
       "      <th>Fuel type</th>\n",
       "      <th>Engine volume</th>\n",
       "      <th>Mileage</th>\n",
       "      <th>Gear box type</th>\n",
       "      <th>Drive wheels</th>\n",
       "      <th>Doors</th>\n",
       "      <th>Wheel</th>\n",
       "      <th>Color</th>\n",
       "    </tr>\n",
       "  </thead>\n",
       "  <tbody>\n",
       "    <tr>\n",
       "      <th>count</th>\n",
       "      <td>19237</td>\n",
       "      <td>19237</td>\n",
       "      <td>19237</td>\n",
       "      <td>19237</td>\n",
       "      <td>19237</td>\n",
       "      <td>19237</td>\n",
       "      <td>19237</td>\n",
       "      <td>19237</td>\n",
       "      <td>19237</td>\n",
       "      <td>19237</td>\n",
       "      <td>19237</td>\n",
       "      <td>19237</td>\n",
       "      <td>19237</td>\n",
       "    </tr>\n",
       "    <tr>\n",
       "      <th>unique</th>\n",
       "      <td>559</td>\n",
       "      <td>65</td>\n",
       "      <td>1590</td>\n",
       "      <td>11</td>\n",
       "      <td>2</td>\n",
       "      <td>7</td>\n",
       "      <td>107</td>\n",
       "      <td>7687</td>\n",
       "      <td>4</td>\n",
       "      <td>3</td>\n",
       "      <td>3</td>\n",
       "      <td>2</td>\n",
       "      <td>16</td>\n",
       "    </tr>\n",
       "    <tr>\n",
       "      <th>top</th>\n",
       "      <td>-</td>\n",
       "      <td>HYUNDAI</td>\n",
       "      <td>Prius</td>\n",
       "      <td>Sedan</td>\n",
       "      <td>Yes</td>\n",
       "      <td>Petrol</td>\n",
       "      <td>2</td>\n",
       "      <td>0 km</td>\n",
       "      <td>Automatic</td>\n",
       "      <td>Front</td>\n",
       "      <td>04-May</td>\n",
       "      <td>Left wheel</td>\n",
       "      <td>Black</td>\n",
       "    </tr>\n",
       "    <tr>\n",
       "      <th>freq</th>\n",
       "      <td>5819</td>\n",
       "      <td>3769</td>\n",
       "      <td>1083</td>\n",
       "      <td>8736</td>\n",
       "      <td>13954</td>\n",
       "      <td>10150</td>\n",
       "      <td>3916</td>\n",
       "      <td>721</td>\n",
       "      <td>13514</td>\n",
       "      <td>12874</td>\n",
       "      <td>18332</td>\n",
       "      <td>17753</td>\n",
       "      <td>5033</td>\n",
       "    </tr>\n",
       "  </tbody>\n",
       "</table>\n",
       "</div>"
      ],
      "text/plain": [
       "         Levy Manufacturer  Model Category Leather interior Fuel type  \\\n",
       "count   19237        19237  19237    19237            19237     19237   \n",
       "unique    559           65   1590       11                2         7   \n",
       "top         -      HYUNDAI  Prius    Sedan              Yes    Petrol   \n",
       "freq     5819         3769   1083     8736            13954     10150   \n",
       "\n",
       "       Engine volume Mileage Gear box type Drive wheels   Doors       Wheel  \\\n",
       "count          19237   19237         19237        19237   19237       19237   \n",
       "unique           107    7687             4            3       3           2   \n",
       "top                2    0 km     Automatic        Front  04-May  Left wheel   \n",
       "freq            3916     721         13514        12874   18332       17753   \n",
       "\n",
       "        Color  \n",
       "count   19237  \n",
       "unique     16  \n",
       "top     Black  \n",
       "freq     5033  "
      ]
     },
     "execution_count": 6,
     "metadata": {},
     "output_type": "execute_result"
    }
   ],
   "source": [
    "df.describe(include = 'object')"
   ]
  },
  {
   "cell_type": "code",
   "execution_count": 7,
   "id": "4611dea1",
   "metadata": {
    "execution": {
     "iopub.execute_input": "2023-05-15T12:28:54.650685Z",
     "iopub.status.busy": "2023-05-15T12:28:54.649473Z",
     "iopub.status.idle": "2023-05-15T12:28:54.725181Z",
     "shell.execute_reply": "2023-05-15T12:28:54.723935Z"
    },
    "papermill": {
     "duration": 0.107834,
     "end_time": "2023-05-15T12:28:54.727872",
     "exception": false,
     "start_time": "2023-05-15T12:28:54.620038",
     "status": "completed"
    },
    "tags": []
   },
   "outputs": [
    {
     "data": {
      "text/html": [
       "<div>\n",
       "<style scoped>\n",
       "    .dataframe tbody tr th:only-of-type {\n",
       "        vertical-align: middle;\n",
       "    }\n",
       "\n",
       "    .dataframe tbody tr th {\n",
       "        vertical-align: top;\n",
       "    }\n",
       "\n",
       "    .dataframe thead th {\n",
       "        text-align: right;\n",
       "    }\n",
       "</style>\n",
       "<table border=\"1\" class=\"dataframe\">\n",
       "  <thead>\n",
       "    <tr style=\"text-align: right;\">\n",
       "      <th></th>\n",
       "      <th>ID</th>\n",
       "      <th>Price</th>\n",
       "      <th>Levy</th>\n",
       "      <th>Manufacturer</th>\n",
       "      <th>Model</th>\n",
       "      <th>Prod. year</th>\n",
       "      <th>Category</th>\n",
       "      <th>Leather interior</th>\n",
       "      <th>Fuel type</th>\n",
       "      <th>Engine volume</th>\n",
       "      <th>Mileage</th>\n",
       "      <th>Cylinders</th>\n",
       "      <th>Gear box type</th>\n",
       "      <th>Drive wheels</th>\n",
       "      <th>Doors</th>\n",
       "      <th>Wheel</th>\n",
       "      <th>Color</th>\n",
       "      <th>Airbags</th>\n",
       "    </tr>\n",
       "  </thead>\n",
       "  <tbody>\n",
       "    <tr>\n",
       "      <th>425</th>\n",
       "      <td>45815372</td>\n",
       "      <td>7840</td>\n",
       "      <td>-</td>\n",
       "      <td>MERCEDES-BENZ</td>\n",
       "      <td>E 200</td>\n",
       "      <td>1998</td>\n",
       "      <td>Sedan</td>\n",
       "      <td>No</td>\n",
       "      <td>CNG</td>\n",
       "      <td>2</td>\n",
       "      <td>180003 km</td>\n",
       "      <td>4.0</td>\n",
       "      <td>Manual</td>\n",
       "      <td>Rear</td>\n",
       "      <td>04-May</td>\n",
       "      <td>Left wheel</td>\n",
       "      <td>Black</td>\n",
       "      <td>4</td>\n",
       "    </tr>\n",
       "    <tr>\n",
       "      <th>1581</th>\n",
       "      <td>45815363</td>\n",
       "      <td>8781</td>\n",
       "      <td>-</td>\n",
       "      <td>TOYOTA</td>\n",
       "      <td>Ist</td>\n",
       "      <td>2002</td>\n",
       "      <td>Hatchback</td>\n",
       "      <td>No</td>\n",
       "      <td>Petrol</td>\n",
       "      <td>1.5</td>\n",
       "      <td>117000 km</td>\n",
       "      <td>4.0</td>\n",
       "      <td>Automatic</td>\n",
       "      <td>4x4</td>\n",
       "      <td>04-May</td>\n",
       "      <td>Right-hand drive</td>\n",
       "      <td>Red</td>\n",
       "      <td>4</td>\n",
       "    </tr>\n",
       "    <tr>\n",
       "      <th>1697</th>\n",
       "      <td>45732125</td>\n",
       "      <td>18503</td>\n",
       "      <td>-</td>\n",
       "      <td>TOYOTA</td>\n",
       "      <td>Prius</td>\n",
       "      <td>2010</td>\n",
       "      <td>Sedan</td>\n",
       "      <td>No</td>\n",
       "      <td>Petrol</td>\n",
       "      <td>1.8</td>\n",
       "      <td>162000 km</td>\n",
       "      <td>4.0</td>\n",
       "      <td>Automatic</td>\n",
       "      <td>Front</td>\n",
       "      <td>04-May</td>\n",
       "      <td>Left wheel</td>\n",
       "      <td>Grey</td>\n",
       "      <td>12</td>\n",
       "    </tr>\n",
       "    <tr>\n",
       "      <th>1972</th>\n",
       "      <td>45507765</td>\n",
       "      <td>20385</td>\n",
       "      <td>-</td>\n",
       "      <td>MERCEDES-BENZ</td>\n",
       "      <td>CLS 500</td>\n",
       "      <td>2005</td>\n",
       "      <td>Sedan</td>\n",
       "      <td>Yes</td>\n",
       "      <td>Petrol</td>\n",
       "      <td>5</td>\n",
       "      <td>230000 km</td>\n",
       "      <td>8.0</td>\n",
       "      <td>Tiptronic</td>\n",
       "      <td>Rear</td>\n",
       "      <td>04-May</td>\n",
       "      <td>Left wheel</td>\n",
       "      <td>Silver</td>\n",
       "      <td>10</td>\n",
       "    </tr>\n",
       "    <tr>\n",
       "      <th>2131</th>\n",
       "      <td>45815363</td>\n",
       "      <td>8781</td>\n",
       "      <td>-</td>\n",
       "      <td>TOYOTA</td>\n",
       "      <td>Ist</td>\n",
       "      <td>2002</td>\n",
       "      <td>Hatchback</td>\n",
       "      <td>No</td>\n",
       "      <td>Petrol</td>\n",
       "      <td>1.5</td>\n",
       "      <td>117000 km</td>\n",
       "      <td>4.0</td>\n",
       "      <td>Automatic</td>\n",
       "      <td>4x4</td>\n",
       "      <td>04-May</td>\n",
       "      <td>Right-hand drive</td>\n",
       "      <td>Red</td>\n",
       "      <td>4</td>\n",
       "    </tr>\n",
       "    <tr>\n",
       "      <th>...</th>\n",
       "      <td>...</td>\n",
       "      <td>...</td>\n",
       "      <td>...</td>\n",
       "      <td>...</td>\n",
       "      <td>...</td>\n",
       "      <td>...</td>\n",
       "      <td>...</td>\n",
       "      <td>...</td>\n",
       "      <td>...</td>\n",
       "      <td>...</td>\n",
       "      <td>...</td>\n",
       "      <td>...</td>\n",
       "      <td>...</td>\n",
       "      <td>...</td>\n",
       "      <td>...</td>\n",
       "      <td>...</td>\n",
       "      <td>...</td>\n",
       "      <td>...</td>\n",
       "    </tr>\n",
       "    <tr>\n",
       "      <th>18974</th>\n",
       "      <td>45815465</td>\n",
       "      <td>2352</td>\n",
       "      <td>1273</td>\n",
       "      <td>LEXUS</td>\n",
       "      <td>IS 350</td>\n",
       "      <td>2015</td>\n",
       "      <td>Sedan</td>\n",
       "      <td>Yes</td>\n",
       "      <td>Petrol</td>\n",
       "      <td>3.5</td>\n",
       "      <td>80856 km</td>\n",
       "      <td>6.0</td>\n",
       "      <td>Automatic</td>\n",
       "      <td>4x4</td>\n",
       "      <td>04-May</td>\n",
       "      <td>Left wheel</td>\n",
       "      <td>Black</td>\n",
       "      <td>12</td>\n",
       "    </tr>\n",
       "    <tr>\n",
       "      <th>19137</th>\n",
       "      <td>45810466</td>\n",
       "      <td>15125</td>\n",
       "      <td>642</td>\n",
       "      <td>CHEVROLET</td>\n",
       "      <td>Orlando</td>\n",
       "      <td>2012</td>\n",
       "      <td>Jeep</td>\n",
       "      <td>Yes</td>\n",
       "      <td>Diesel</td>\n",
       "      <td>2</td>\n",
       "      <td>156834 km</td>\n",
       "      <td>4.0</td>\n",
       "      <td>Automatic</td>\n",
       "      <td>Front</td>\n",
       "      <td>04-May</td>\n",
       "      <td>Left wheel</td>\n",
       "      <td>Golden</td>\n",
       "      <td>4</td>\n",
       "    </tr>\n",
       "    <tr>\n",
       "      <th>19200</th>\n",
       "      <td>45725908</td>\n",
       "      <td>36065</td>\n",
       "      <td>640</td>\n",
       "      <td>MERCEDES-BENZ</td>\n",
       "      <td>CLA 250 AMG</td>\n",
       "      <td>2013</td>\n",
       "      <td>Sedan</td>\n",
       "      <td>Yes</td>\n",
       "      <td>Petrol</td>\n",
       "      <td>2.0 Turbo</td>\n",
       "      <td>68000 km</td>\n",
       "      <td>4.0</td>\n",
       "      <td>Tiptronic</td>\n",
       "      <td>Front</td>\n",
       "      <td>04-May</td>\n",
       "      <td>Left wheel</td>\n",
       "      <td>Red</td>\n",
       "      <td>12</td>\n",
       "    </tr>\n",
       "    <tr>\n",
       "      <th>19203</th>\n",
       "      <td>45761487</td>\n",
       "      <td>13485</td>\n",
       "      <td>645</td>\n",
       "      <td>TOYOTA</td>\n",
       "      <td>Prius</td>\n",
       "      <td>2011</td>\n",
       "      <td>Sedan</td>\n",
       "      <td>No</td>\n",
       "      <td>Hybrid</td>\n",
       "      <td>1.8</td>\n",
       "      <td>281600 km</td>\n",
       "      <td>6.0</td>\n",
       "      <td>Automatic</td>\n",
       "      <td>Front</td>\n",
       "      <td>04-May</td>\n",
       "      <td>Left wheel</td>\n",
       "      <td>Grey</td>\n",
       "      <td>8</td>\n",
       "    </tr>\n",
       "    <tr>\n",
       "      <th>19210</th>\n",
       "      <td>45732939</td>\n",
       "      <td>8311</td>\n",
       "      <td>642</td>\n",
       "      <td>HYUNDAI</td>\n",
       "      <td>Sonata</td>\n",
       "      <td>2012</td>\n",
       "      <td>Sedan</td>\n",
       "      <td>Yes</td>\n",
       "      <td>LPG</td>\n",
       "      <td>2</td>\n",
       "      <td>36545 km</td>\n",
       "      <td>4.0</td>\n",
       "      <td>Automatic</td>\n",
       "      <td>Front</td>\n",
       "      <td>04-May</td>\n",
       "      <td>Left wheel</td>\n",
       "      <td>White</td>\n",
       "      <td>4</td>\n",
       "    </tr>\n",
       "  </tbody>\n",
       "</table>\n",
       "<p>313 rows × 18 columns</p>\n",
       "</div>"
      ],
      "text/plain": [
       "             ID  Price  Levy   Manufacturer        Model  Prod. year  \\\n",
       "425    45815372   7840     -  MERCEDES-BENZ        E 200        1998   \n",
       "1581   45815363   8781     -         TOYOTA          Ist        2002   \n",
       "1697   45732125  18503     -         TOYOTA        Prius        2010   \n",
       "1972   45507765  20385     -  MERCEDES-BENZ      CLS 500        2005   \n",
       "2131   45815363   8781     -         TOYOTA          Ist        2002   \n",
       "...         ...    ...   ...            ...          ...         ...   \n",
       "18974  45815465   2352  1273          LEXUS       IS 350        2015   \n",
       "19137  45810466  15125   642      CHEVROLET      Orlando        2012   \n",
       "19200  45725908  36065   640  MERCEDES-BENZ  CLA 250 AMG        2013   \n",
       "19203  45761487  13485   645         TOYOTA        Prius        2011   \n",
       "19210  45732939   8311   642        HYUNDAI       Sonata        2012   \n",
       "\n",
       "        Category Leather interior Fuel type Engine volume    Mileage  \\\n",
       "425        Sedan               No       CNG             2  180003 km   \n",
       "1581   Hatchback               No    Petrol           1.5  117000 km   \n",
       "1697       Sedan               No    Petrol           1.8  162000 km   \n",
       "1972       Sedan              Yes    Petrol             5  230000 km   \n",
       "2131   Hatchback               No    Petrol           1.5  117000 km   \n",
       "...          ...              ...       ...           ...        ...   \n",
       "18974      Sedan              Yes    Petrol           3.5   80856 km   \n",
       "19137       Jeep              Yes    Diesel             2  156834 km   \n",
       "19200      Sedan              Yes    Petrol     2.0 Turbo   68000 km   \n",
       "19203      Sedan               No    Hybrid           1.8  281600 km   \n",
       "19210      Sedan              Yes       LPG             2   36545 km   \n",
       "\n",
       "       Cylinders Gear box type Drive wheels   Doors             Wheel   Color  \\\n",
       "425          4.0        Manual         Rear  04-May        Left wheel   Black   \n",
       "1581         4.0     Automatic          4x4  04-May  Right-hand drive     Red   \n",
       "1697         4.0     Automatic        Front  04-May        Left wheel    Grey   \n",
       "1972         8.0     Tiptronic         Rear  04-May        Left wheel  Silver   \n",
       "2131         4.0     Automatic          4x4  04-May  Right-hand drive     Red   \n",
       "...          ...           ...          ...     ...               ...     ...   \n",
       "18974        6.0     Automatic          4x4  04-May        Left wheel   Black   \n",
       "19137        4.0     Automatic        Front  04-May        Left wheel  Golden   \n",
       "19200        4.0     Tiptronic        Front  04-May        Left wheel     Red   \n",
       "19203        6.0     Automatic        Front  04-May        Left wheel    Grey   \n",
       "19210        4.0     Automatic        Front  04-May        Left wheel   White   \n",
       "\n",
       "       Airbags  \n",
       "425          4  \n",
       "1581         4  \n",
       "1697        12  \n",
       "1972        10  \n",
       "2131         4  \n",
       "...        ...  \n",
       "18974       12  \n",
       "19137        4  \n",
       "19200       12  \n",
       "19203        8  \n",
       "19210        4  \n",
       "\n",
       "[313 rows x 18 columns]"
      ]
     },
     "execution_count": 7,
     "metadata": {},
     "output_type": "execute_result"
    }
   ],
   "source": [
    "df[df.duplicated()]"
   ]
  },
  {
   "cell_type": "code",
   "execution_count": 8,
   "id": "d779815b",
   "metadata": {
    "execution": {
     "iopub.execute_input": "2023-05-15T12:28:54.787774Z",
     "iopub.status.busy": "2023-05-15T12:28:54.786945Z",
     "iopub.status.idle": "2023-05-15T12:28:54.827684Z",
     "shell.execute_reply": "2023-05-15T12:28:54.826221Z"
    },
    "papermill": {
     "duration": 0.074092,
     "end_time": "2023-05-15T12:28:54.830614",
     "exception": false,
     "start_time": "2023-05-15T12:28:54.756522",
     "status": "completed"
    },
    "tags": []
   },
   "outputs": [],
   "source": [
    "df.drop_duplicates(inplace=True)"
   ]
  },
  {
   "cell_type": "code",
   "execution_count": 9,
   "id": "2f62d054",
   "metadata": {
    "execution": {
     "iopub.execute_input": "2023-05-15T12:28:54.892133Z",
     "iopub.status.busy": "2023-05-15T12:28:54.891002Z",
     "iopub.status.idle": "2023-05-15T12:28:54.931029Z",
     "shell.execute_reply": "2023-05-15T12:28:54.929896Z"
    },
    "papermill": {
     "duration": 0.073228,
     "end_time": "2023-05-15T12:28:54.933581",
     "exception": false,
     "start_time": "2023-05-15T12:28:54.860353",
     "status": "completed"
    },
    "tags": []
   },
   "outputs": [
    {
     "data": {
      "text/plain": [
       "0"
      ]
     },
     "execution_count": 9,
     "metadata": {},
     "output_type": "execute_result"
    }
   ],
   "source": [
    "df.duplicated().sum()"
   ]
  },
  {
   "cell_type": "code",
   "execution_count": 10,
   "id": "9fd76697",
   "metadata": {
    "execution": {
     "iopub.execute_input": "2023-05-15T12:28:54.992511Z",
     "iopub.status.busy": "2023-05-15T12:28:54.992095Z",
     "iopub.status.idle": "2023-05-15T12:28:55.005432Z",
     "shell.execute_reply": "2023-05-15T12:28:55.004212Z"
    },
    "papermill": {
     "duration": 0.046042,
     "end_time": "2023-05-15T12:28:55.007925",
     "exception": false,
     "start_time": "2023-05-15T12:28:54.961883",
     "status": "completed"
    },
    "tags": []
   },
   "outputs": [
    {
     "data": {
      "text/plain": [
       "-       5709\n",
       "765      482\n",
       "891      453\n",
       "639      403\n",
       "640      398\n",
       "        ... \n",
       "3156       1\n",
       "2908       1\n",
       "1279       1\n",
       "1719       1\n",
       "1901       1\n",
       "Name: Levy, Length: 559, dtype: int64"
      ]
     },
     "execution_count": 10,
     "metadata": {},
     "output_type": "execute_result"
    }
   ],
   "source": [
    "df['Levy'].value_counts()"
   ]
  },
  {
   "cell_type": "code",
   "execution_count": 11,
   "id": "7bdbe70e",
   "metadata": {
    "execution": {
     "iopub.execute_input": "2023-05-15T12:28:55.066740Z",
     "iopub.status.busy": "2023-05-15T12:28:55.066365Z",
     "iopub.status.idle": "2023-05-15T12:28:55.076932Z",
     "shell.execute_reply": "2023-05-15T12:28:55.075607Z"
    },
    "papermill": {
     "duration": 0.042571,
     "end_time": "2023-05-15T12:28:55.079301",
     "exception": false,
     "start_time": "2023-05-15T12:28:55.036730",
     "status": "completed"
    },
    "tags": []
   },
   "outputs": [],
   "source": [
    "df['Levy'].replace({'-':np.nan}, inplace=True)"
   ]
  },
  {
   "cell_type": "code",
   "execution_count": 12,
   "id": "8b510eb4",
   "metadata": {
    "execution": {
     "iopub.execute_input": "2023-05-15T12:28:55.138781Z",
     "iopub.status.busy": "2023-05-15T12:28:55.138323Z",
     "iopub.status.idle": "2023-05-15T12:28:55.151556Z",
     "shell.execute_reply": "2023-05-15T12:28:55.150415Z"
    },
    "papermill": {
     "duration": 0.045659,
     "end_time": "2023-05-15T12:28:55.153905",
     "exception": false,
     "start_time": "2023-05-15T12:28:55.108246",
     "status": "completed"
    },
    "tags": []
   },
   "outputs": [],
   "source": [
    "df['Levy'] = df['Levy'].astype(float)"
   ]
  },
  {
   "cell_type": "code",
   "execution_count": 13,
   "id": "32769018",
   "metadata": {
    "execution": {
     "iopub.execute_input": "2023-05-15T12:28:55.213311Z",
     "iopub.status.busy": "2023-05-15T12:28:55.212791Z",
     "iopub.status.idle": "2023-05-15T12:28:55.226775Z",
     "shell.execute_reply": "2023-05-15T12:28:55.225491Z"
    },
    "papermill": {
     "duration": 0.046683,
     "end_time": "2023-05-15T12:28:55.229494",
     "exception": false,
     "start_time": "2023-05-15T12:28:55.182811",
     "status": "completed"
    },
    "tags": []
   },
   "outputs": [
    {
     "data": {
      "text/plain": [
       "04-May    18032\n",
       "02-Mar      768\n",
       ">5          124\n",
       "Name: Doors, dtype: int64"
      ]
     },
     "execution_count": 13,
     "metadata": {},
     "output_type": "execute_result"
    }
   ],
   "source": [
    "df['Doors'].value_counts()"
   ]
  },
  {
   "cell_type": "code",
   "execution_count": 14,
   "id": "352992ac",
   "metadata": {
    "execution": {
     "iopub.execute_input": "2023-05-15T12:28:55.293670Z",
     "iopub.status.busy": "2023-05-15T12:28:55.292885Z",
     "iopub.status.idle": "2023-05-15T12:28:55.315500Z",
     "shell.execute_reply": "2023-05-15T12:28:55.314342Z"
    },
    "papermill": {
     "duration": 0.05864,
     "end_time": "2023-05-15T12:28:55.318196",
     "exception": false,
     "start_time": "2023-05-15T12:28:55.259556",
     "status": "completed"
    },
    "tags": []
   },
   "outputs": [],
   "source": [
    "df['Doors'].replace({'04-May':4, '02-Mar':2, '>5':5}, inplace=True)"
   ]
  },
  {
   "cell_type": "code",
   "execution_count": 15,
   "id": "840eb5f8",
   "metadata": {
    "execution": {
     "iopub.execute_input": "2023-05-15T12:28:55.377681Z",
     "iopub.status.busy": "2023-05-15T12:28:55.377271Z",
     "iopub.status.idle": "2023-05-15T12:28:55.382453Z",
     "shell.execute_reply": "2023-05-15T12:28:55.381152Z"
    },
    "papermill": {
     "duration": 0.037986,
     "end_time": "2023-05-15T12:28:55.384741",
     "exception": false,
     "start_time": "2023-05-15T12:28:55.346755",
     "status": "completed"
    },
    "tags": []
   },
   "outputs": [],
   "source": [
    "#df.drop(columns=['Levy'], inplace=True)"
   ]
  },
  {
   "cell_type": "code",
   "execution_count": 16,
   "id": "e909b8f3",
   "metadata": {
    "execution": {
     "iopub.execute_input": "2023-05-15T12:28:55.444871Z",
     "iopub.status.busy": "2023-05-15T12:28:55.443666Z",
     "iopub.status.idle": "2023-05-15T12:28:55.460309Z",
     "shell.execute_reply": "2023-05-15T12:28:55.459081Z"
    },
    "papermill": {
     "duration": 0.049344,
     "end_time": "2023-05-15T12:28:55.462692",
     "exception": false,
     "start_time": "2023-05-15T12:28:55.413348",
     "status": "completed"
    },
    "tags": []
   },
   "outputs": [
    {
     "data": {
      "text/plain": [
       "0 km         714\n",
       "200000 km    181\n",
       "150000 km    159\n",
       "160000 km    120\n",
       "180000 km    117\n",
       "            ... \n",
       "100563 km      1\n",
       "354300 km      1\n",
       "21178 km       1\n",
       "110539 km      1\n",
       "186923 km      1\n",
       "Name: Mileage, Length: 7687, dtype: int64"
      ]
     },
     "execution_count": 16,
     "metadata": {},
     "output_type": "execute_result"
    }
   ],
   "source": [
    "df['Mileage'].value_counts()"
   ]
  },
  {
   "cell_type": "code",
   "execution_count": 17,
   "id": "7126c61a",
   "metadata": {
    "execution": {
     "iopub.execute_input": "2023-05-15T12:28:55.522887Z",
     "iopub.status.busy": "2023-05-15T12:28:55.522474Z",
     "iopub.status.idle": "2023-05-15T12:28:55.566882Z",
     "shell.execute_reply": "2023-05-15T12:28:55.565694Z"
    },
    "papermill": {
     "duration": 0.077788,
     "end_time": "2023-05-15T12:28:55.569702",
     "exception": false,
     "start_time": "2023-05-15T12:28:55.491914",
     "status": "completed"
    },
    "tags": []
   },
   "outputs": [],
   "source": [
    "df['Mileage']=df['Mileage'].str.split(' ').str.get(0)"
   ]
  },
  {
   "cell_type": "code",
   "execution_count": 18,
   "id": "03caa4d1",
   "metadata": {
    "execution": {
     "iopub.execute_input": "2023-05-15T12:28:55.630537Z",
     "iopub.status.busy": "2023-05-15T12:28:55.630099Z",
     "iopub.status.idle": "2023-05-15T12:28:55.642833Z",
     "shell.execute_reply": "2023-05-15T12:28:55.641723Z"
    },
    "papermill": {
     "duration": 0.045875,
     "end_time": "2023-05-15T12:28:55.645315",
     "exception": false,
     "start_time": "2023-05-15T12:28:55.599440",
     "status": "completed"
    },
    "tags": []
   },
   "outputs": [
    {
     "data": {
      "text/plain": [
       "0    186005\n",
       "1    192000\n",
       "2    200000\n",
       "3    168966\n",
       "4     91901\n",
       "Name: Mileage, dtype: int64"
      ]
     },
     "execution_count": 18,
     "metadata": {},
     "output_type": "execute_result"
    }
   ],
   "source": [
    "df['Mileage']=df['Mileage'].astype(int)\n",
    "df[\"Mileage\"].head()"
   ]
  },
  {
   "cell_type": "code",
   "execution_count": 19,
   "id": "3fe1cc66",
   "metadata": {
    "execution": {
     "iopub.execute_input": "2023-05-15T12:28:55.705083Z",
     "iopub.status.busy": "2023-05-15T12:28:55.704678Z",
     "iopub.status.idle": "2023-05-15T12:28:55.716952Z",
     "shell.execute_reply": "2023-05-15T12:28:55.715938Z"
    },
    "papermill": {
     "duration": 0.045127,
     "end_time": "2023-05-15T12:28:55.719276",
     "exception": false,
     "start_time": "2023-05-15T12:28:55.674149",
     "status": "completed"
    },
    "tags": []
   },
   "outputs": [
    {
     "data": {
      "text/plain": [
       "2            3856\n",
       "2.5          2246\n",
       "1.8          1743\n",
       "1.6          1446\n",
       "1.5          1289\n",
       "             ... \n",
       "6.8             1\n",
       "6.7             1\n",
       "3.1             1\n",
       "0.8 Turbo       1\n",
       "1.1 Turbo       1\n",
       "Name: Engine volume, Length: 107, dtype: int64"
      ]
     },
     "execution_count": 19,
     "metadata": {},
     "output_type": "execute_result"
    }
   ],
   "source": [
    "df['Engine volume'].value_counts()"
   ]
  },
  {
   "cell_type": "code",
   "execution_count": 20,
   "id": "7c3b1e32",
   "metadata": {
    "execution": {
     "iopub.execute_input": "2023-05-15T12:28:55.790316Z",
     "iopub.status.busy": "2023-05-15T12:28:55.789437Z",
     "iopub.status.idle": "2023-05-15T12:28:55.818220Z",
     "shell.execute_reply": "2023-05-15T12:28:55.816983Z"
    },
    "papermill": {
     "duration": 0.062772,
     "end_time": "2023-05-15T12:28:55.820979",
     "exception": false,
     "start_time": "2023-05-15T12:28:55.758207",
     "status": "completed"
    },
    "tags": []
   },
   "outputs": [],
   "source": [
    "df['Engine volume'] = df['Engine volume'].str.lower()\n",
    "df[\"has_turbo\"] = df[\"Engine volume\"].str.contains(\"turbo\")"
   ]
  },
  {
   "cell_type": "code",
   "execution_count": 21,
   "id": "f85485e6",
   "metadata": {
    "execution": {
     "iopub.execute_input": "2023-05-15T12:28:55.881292Z",
     "iopub.status.busy": "2023-05-15T12:28:55.880866Z",
     "iopub.status.idle": "2023-05-15T12:28:55.919800Z",
     "shell.execute_reply": "2023-05-15T12:28:55.918862Z"
    },
    "papermill": {
     "duration": 0.071888,
     "end_time": "2023-05-15T12:28:55.922390",
     "exception": false,
     "start_time": "2023-05-15T12:28:55.850502",
     "status": "completed"
    },
    "tags": []
   },
   "outputs": [],
   "source": [
    "df['Engine volume']=df['Engine volume'].str.split(' ').str.get(0)"
   ]
  },
  {
   "cell_type": "code",
   "execution_count": 22,
   "id": "6d9d73ac",
   "metadata": {
    "execution": {
     "iopub.execute_input": "2023-05-15T12:28:55.982607Z",
     "iopub.status.busy": "2023-05-15T12:28:55.982175Z",
     "iopub.status.idle": "2023-05-15T12:28:55.995561Z",
     "shell.execute_reply": "2023-05-15T12:28:55.994472Z"
    },
    "papermill": {
     "duration": 0.046613,
     "end_time": "2023-05-15T12:28:55.998054",
     "exception": false,
     "start_time": "2023-05-15T12:28:55.951441",
     "status": "completed"
    },
    "tags": []
   },
   "outputs": [
    {
     "data": {
      "text/plain": [
       "0    3.5\n",
       "1    3.0\n",
       "2    1.3\n",
       "3    2.5\n",
       "4    1.3\n",
       "Name: Engine volume, dtype: float64"
      ]
     },
     "execution_count": 22,
     "metadata": {},
     "output_type": "execute_result"
    }
   ],
   "source": [
    "df['Engine volume']=df['Engine volume'].astype(float)\n",
    "df[\"Engine volume\"].head()"
   ]
  },
  {
   "cell_type": "code",
   "execution_count": 23,
   "id": "5e2d9ba9",
   "metadata": {
    "execution": {
     "iopub.execute_input": "2023-05-15T12:28:56.059603Z",
     "iopub.status.busy": "2023-05-15T12:28:56.059225Z",
     "iopub.status.idle": "2023-05-15T12:28:56.068229Z",
     "shell.execute_reply": "2023-05-15T12:28:56.066955Z"
    },
    "papermill": {
     "duration": 0.042381,
     "end_time": "2023-05-15T12:28:56.070633",
     "exception": false,
     "start_time": "2023-05-15T12:28:56.028252",
     "status": "completed"
    },
    "tags": []
   },
   "outputs": [
    {
     "data": {
      "text/plain": [
       "0    False\n",
       "1    False\n",
       "2    False\n",
       "3    False\n",
       "4    False\n",
       "Name: has_turbo, dtype: bool"
      ]
     },
     "execution_count": 23,
     "metadata": {},
     "output_type": "execute_result"
    }
   ],
   "source": [
    "df['has_turbo'].head()"
   ]
  },
  {
   "cell_type": "markdown",
   "id": "0bab7c96",
   "metadata": {
    "papermill": {
     "duration": 0.029314,
     "end_time": "2023-05-15T12:28:56.129970",
     "exception": false,
     "start_time": "2023-05-15T12:28:56.100656",
     "status": "completed"
    },
    "tags": []
   },
   "source": [
    "## Outliers"
   ]
  },
  {
   "cell_type": "code",
   "execution_count": 24,
   "id": "d127f0ab",
   "metadata": {
    "execution": {
     "iopub.execute_input": "2023-05-15T12:28:56.191074Z",
     "iopub.status.busy": "2023-05-15T12:28:56.190701Z",
     "iopub.status.idle": "2023-05-15T12:28:56.214597Z",
     "shell.execute_reply": "2023-05-15T12:28:56.213067Z"
    },
    "papermill": {
     "duration": 0.05768,
     "end_time": "2023-05-15T12:28:56.217279",
     "exception": false,
     "start_time": "2023-05-15T12:28:56.159599",
     "status": "completed"
    },
    "tags": []
   },
   "outputs": [
    {
     "data": {
      "text/html": [
       "<div>\n",
       "<style scoped>\n",
       "    .dataframe tbody tr th:only-of-type {\n",
       "        vertical-align: middle;\n",
       "    }\n",
       "\n",
       "    .dataframe tbody tr th {\n",
       "        vertical-align: top;\n",
       "    }\n",
       "\n",
       "    .dataframe thead th {\n",
       "        text-align: right;\n",
       "    }\n",
       "</style>\n",
       "<table border=\"1\" class=\"dataframe\">\n",
       "  <thead>\n",
       "    <tr style=\"text-align: right;\">\n",
       "      <th></th>\n",
       "      <th>ID</th>\n",
       "      <th>Price</th>\n",
       "      <th>Levy</th>\n",
       "      <th>Manufacturer</th>\n",
       "      <th>Model</th>\n",
       "      <th>Prod. year</th>\n",
       "      <th>Category</th>\n",
       "      <th>Leather interior</th>\n",
       "      <th>Fuel type</th>\n",
       "      <th>Engine volume</th>\n",
       "      <th>Mileage</th>\n",
       "      <th>Cylinders</th>\n",
       "      <th>Gear box type</th>\n",
       "      <th>Drive wheels</th>\n",
       "      <th>Doors</th>\n",
       "      <th>Wheel</th>\n",
       "      <th>Color</th>\n",
       "      <th>Airbags</th>\n",
       "      <th>has_turbo</th>\n",
       "    </tr>\n",
       "  </thead>\n",
       "  <tbody>\n",
       "    <tr>\n",
       "      <th>16983</th>\n",
       "      <td>45812886</td>\n",
       "      <td>26307500</td>\n",
       "      <td>NaN</td>\n",
       "      <td>OPEL</td>\n",
       "      <td>Combo</td>\n",
       "      <td>1999</td>\n",
       "      <td>Goods wagon</td>\n",
       "      <td>No</td>\n",
       "      <td>Diesel</td>\n",
       "      <td>1.7</td>\n",
       "      <td>99999</td>\n",
       "      <td>4.0</td>\n",
       "      <td>Manual</td>\n",
       "      <td>Front</td>\n",
       "      <td>2</td>\n",
       "      <td>Left wheel</td>\n",
       "      <td>Blue</td>\n",
       "      <td>0</td>\n",
       "      <td>False</td>\n",
       "    </tr>\n",
       "  </tbody>\n",
       "</table>\n",
       "</div>"
      ],
      "text/plain": [
       "             ID     Price  Levy Manufacturer  Model  Prod. year     Category  \\\n",
       "16983  45812886  26307500   NaN         OPEL  Combo        1999  Goods wagon   \n",
       "\n",
       "      Leather interior Fuel type  Engine volume  Mileage  Cylinders  \\\n",
       "16983               No    Diesel            1.7    99999        4.0   \n",
       "\n",
       "      Gear box type Drive wheels  Doors       Wheel Color  Airbags  has_turbo  \n",
       "16983        Manual        Front      2  Left wheel  Blue        0      False  "
      ]
     },
     "metadata": {},
     "output_type": "display_data"
    }
   ],
   "source": [
    "display(df[df.Price == df.Price.max()])"
   ]
  },
  {
   "cell_type": "code",
   "execution_count": 25,
   "id": "9c1ef959",
   "metadata": {
    "execution": {
     "iopub.execute_input": "2023-05-15T12:28:56.280505Z",
     "iopub.status.busy": "2023-05-15T12:28:56.280074Z",
     "iopub.status.idle": "2023-05-15T12:28:56.317414Z",
     "shell.execute_reply": "2023-05-15T12:28:56.316146Z"
    },
    "papermill": {
     "duration": 0.072416,
     "end_time": "2023-05-15T12:28:56.320090",
     "exception": false,
     "start_time": "2023-05-15T12:28:56.247674",
     "status": "completed"
    },
    "tags": []
   },
   "outputs": [
    {
     "data": {
      "text/html": [
       "<div>\n",
       "<style scoped>\n",
       "    .dataframe tbody tr th:only-of-type {\n",
       "        vertical-align: middle;\n",
       "    }\n",
       "\n",
       "    .dataframe tbody tr th {\n",
       "        vertical-align: top;\n",
       "    }\n",
       "\n",
       "    .dataframe thead th {\n",
       "        text-align: right;\n",
       "    }\n",
       "</style>\n",
       "<table border=\"1\" class=\"dataframe\">\n",
       "  <thead>\n",
       "    <tr style=\"text-align: right;\">\n",
       "      <th></th>\n",
       "      <th>ID</th>\n",
       "      <th>Price</th>\n",
       "      <th>Levy</th>\n",
       "      <th>Manufacturer</th>\n",
       "      <th>Model</th>\n",
       "      <th>Prod. year</th>\n",
       "      <th>Category</th>\n",
       "      <th>Leather interior</th>\n",
       "      <th>Fuel type</th>\n",
       "      <th>Engine volume</th>\n",
       "      <th>Mileage</th>\n",
       "      <th>Cylinders</th>\n",
       "      <th>Gear box type</th>\n",
       "      <th>Drive wheels</th>\n",
       "      <th>Doors</th>\n",
       "      <th>Wheel</th>\n",
       "      <th>Color</th>\n",
       "      <th>Airbags</th>\n",
       "      <th>has_turbo</th>\n",
       "    </tr>\n",
       "  </thead>\n",
       "  <tbody>\n",
       "    <tr>\n",
       "      <th>7</th>\n",
       "      <td>45816158</td>\n",
       "      <td>549</td>\n",
       "      <td>751.0</td>\n",
       "      <td>HYUNDAI</td>\n",
       "      <td>Sonata</td>\n",
       "      <td>2013</td>\n",
       "      <td>Sedan</td>\n",
       "      <td>Yes</td>\n",
       "      <td>Petrol</td>\n",
       "      <td>2.4</td>\n",
       "      <td>216118</td>\n",
       "      <td>4.0</td>\n",
       "      <td>Automatic</td>\n",
       "      <td>Front</td>\n",
       "      <td>4</td>\n",
       "      <td>Left wheel</td>\n",
       "      <td>Grey</td>\n",
       "      <td>12</td>\n",
       "      <td>False</td>\n",
       "    </tr>\n",
       "    <tr>\n",
       "      <th>10</th>\n",
       "      <td>45621750</td>\n",
       "      <td>941</td>\n",
       "      <td>1053.0</td>\n",
       "      <td>MERCEDES-BENZ</td>\n",
       "      <td>E 350</td>\n",
       "      <td>2014</td>\n",
       "      <td>Sedan</td>\n",
       "      <td>Yes</td>\n",
       "      <td>Diesel</td>\n",
       "      <td>3.5</td>\n",
       "      <td>184467</td>\n",
       "      <td>6.0</td>\n",
       "      <td>Automatic</td>\n",
       "      <td>Rear</td>\n",
       "      <td>4</td>\n",
       "      <td>Left wheel</td>\n",
       "      <td>White</td>\n",
       "      <td>12</td>\n",
       "      <td>False</td>\n",
       "    </tr>\n",
       "    <tr>\n",
       "      <th>15</th>\n",
       "      <td>45465200</td>\n",
       "      <td>549</td>\n",
       "      <td>1079.0</td>\n",
       "      <td>TOYOTA</td>\n",
       "      <td>CHR</td>\n",
       "      <td>2018</td>\n",
       "      <td>Jeep</td>\n",
       "      <td>Yes</td>\n",
       "      <td>Petrol</td>\n",
       "      <td>2.0</td>\n",
       "      <td>74146</td>\n",
       "      <td>4.0</td>\n",
       "      <td>Automatic</td>\n",
       "      <td>Front</td>\n",
       "      <td>4</td>\n",
       "      <td>Left wheel</td>\n",
       "      <td>White</td>\n",
       "      <td>12</td>\n",
       "      <td>False</td>\n",
       "    </tr>\n",
       "    <tr>\n",
       "      <th>18</th>\n",
       "      <td>45772104</td>\n",
       "      <td>549</td>\n",
       "      <td>2386.0</td>\n",
       "      <td>HYUNDAI</td>\n",
       "      <td>Sonata</td>\n",
       "      <td>2006</td>\n",
       "      <td>Sedan</td>\n",
       "      <td>Yes</td>\n",
       "      <td>Petrol</td>\n",
       "      <td>3.3</td>\n",
       "      <td>295059</td>\n",
       "      <td>6.0</td>\n",
       "      <td>Automatic</td>\n",
       "      <td>Rear</td>\n",
       "      <td>4</td>\n",
       "      <td>Left wheel</td>\n",
       "      <td>Blue</td>\n",
       "      <td>12</td>\n",
       "      <td>False</td>\n",
       "    </tr>\n",
       "    <tr>\n",
       "      <th>19</th>\n",
       "      <td>45653306</td>\n",
       "      <td>941</td>\n",
       "      <td>1850.0</td>\n",
       "      <td>LEXUS</td>\n",
       "      <td>RX 400</td>\n",
       "      <td>2008</td>\n",
       "      <td>Jeep</td>\n",
       "      <td>Yes</td>\n",
       "      <td>Hybrid</td>\n",
       "      <td>3.5</td>\n",
       "      <td>364523</td>\n",
       "      <td>6.0</td>\n",
       "      <td>Automatic</td>\n",
       "      <td>4x4</td>\n",
       "      <td>4</td>\n",
       "      <td>Left wheel</td>\n",
       "      <td>Black</td>\n",
       "      <td>12</td>\n",
       "      <td>False</td>\n",
       "    </tr>\n",
       "    <tr>\n",
       "      <th>...</th>\n",
       "      <td>...</td>\n",
       "      <td>...</td>\n",
       "      <td>...</td>\n",
       "      <td>...</td>\n",
       "      <td>...</td>\n",
       "      <td>...</td>\n",
       "      <td>...</td>\n",
       "      <td>...</td>\n",
       "      <td>...</td>\n",
       "      <td>...</td>\n",
       "      <td>...</td>\n",
       "      <td>...</td>\n",
       "      <td>...</td>\n",
       "      <td>...</td>\n",
       "      <td>...</td>\n",
       "      <td>...</td>\n",
       "      <td>...</td>\n",
       "      <td>...</td>\n",
       "      <td>...</td>\n",
       "    </tr>\n",
       "    <tr>\n",
       "      <th>19218</th>\n",
       "      <td>45748699</td>\n",
       "      <td>30</td>\n",
       "      <td>NaN</td>\n",
       "      <td>NISSAN</td>\n",
       "      <td>Note</td>\n",
       "      <td>2006</td>\n",
       "      <td>Hatchback</td>\n",
       "      <td>No</td>\n",
       "      <td>Petrol</td>\n",
       "      <td>1.3</td>\n",
       "      <td>0</td>\n",
       "      <td>4.0</td>\n",
       "      <td>Automatic</td>\n",
       "      <td>Front</td>\n",
       "      <td>4</td>\n",
       "      <td>Right-hand drive</td>\n",
       "      <td>Green</td>\n",
       "      <td>9</td>\n",
       "      <td>False</td>\n",
       "    </tr>\n",
       "    <tr>\n",
       "      <th>19228</th>\n",
       "      <td>45773726</td>\n",
       "      <td>706</td>\n",
       "      <td>1850.0</td>\n",
       "      <td>MERCEDES-BENZ</td>\n",
       "      <td>E 350</td>\n",
       "      <td>2008</td>\n",
       "      <td>Sedan</td>\n",
       "      <td>Yes</td>\n",
       "      <td>Diesel</td>\n",
       "      <td>3.5</td>\n",
       "      <td>122874</td>\n",
       "      <td>6.0</td>\n",
       "      <td>Automatic</td>\n",
       "      <td>Rear</td>\n",
       "      <td>4</td>\n",
       "      <td>Left wheel</td>\n",
       "      <td>Black</td>\n",
       "      <td>12</td>\n",
       "      <td>False</td>\n",
       "    </tr>\n",
       "    <tr>\n",
       "      <th>19229</th>\n",
       "      <td>39977395</td>\n",
       "      <td>50</td>\n",
       "      <td>NaN</td>\n",
       "      <td>TOYOTA</td>\n",
       "      <td>Prius</td>\n",
       "      <td>2008</td>\n",
       "      <td>Hatchback</td>\n",
       "      <td>No</td>\n",
       "      <td>Hybrid</td>\n",
       "      <td>1.5</td>\n",
       "      <td>150000</td>\n",
       "      <td>4.0</td>\n",
       "      <td>Automatic</td>\n",
       "      <td>Front</td>\n",
       "      <td>4</td>\n",
       "      <td>Left wheel</td>\n",
       "      <td>Silver</td>\n",
       "      <td>6</td>\n",
       "      <td>False</td>\n",
       "    </tr>\n",
       "    <tr>\n",
       "      <th>19230</th>\n",
       "      <td>45760891</td>\n",
       "      <td>470</td>\n",
       "      <td>645.0</td>\n",
       "      <td>TOYOTA</td>\n",
       "      <td>Prius</td>\n",
       "      <td>2011</td>\n",
       "      <td>Hatchback</td>\n",
       "      <td>Yes</td>\n",
       "      <td>Hybrid</td>\n",
       "      <td>1.8</td>\n",
       "      <td>307325</td>\n",
       "      <td>4.0</td>\n",
       "      <td>Automatic</td>\n",
       "      <td>Front</td>\n",
       "      <td>4</td>\n",
       "      <td>Left wheel</td>\n",
       "      <td>Silver</td>\n",
       "      <td>12</td>\n",
       "      <td>False</td>\n",
       "    </tr>\n",
       "    <tr>\n",
       "      <th>19236</th>\n",
       "      <td>45813273</td>\n",
       "      <td>470</td>\n",
       "      <td>753.0</td>\n",
       "      <td>HYUNDAI</td>\n",
       "      <td>Sonata</td>\n",
       "      <td>2012</td>\n",
       "      <td>Sedan</td>\n",
       "      <td>Yes</td>\n",
       "      <td>Hybrid</td>\n",
       "      <td>2.4</td>\n",
       "      <td>186923</td>\n",
       "      <td>4.0</td>\n",
       "      <td>Automatic</td>\n",
       "      <td>Front</td>\n",
       "      <td>4</td>\n",
       "      <td>Left wheel</td>\n",
       "      <td>White</td>\n",
       "      <td>12</td>\n",
       "      <td>False</td>\n",
       "    </tr>\n",
       "  </tbody>\n",
       "</table>\n",
       "<p>2519 rows × 19 columns</p>\n",
       "</div>"
      ],
      "text/plain": [
       "             ID  Price    Levy   Manufacturer   Model  Prod. year   Category  \\\n",
       "7      45816158    549   751.0        HYUNDAI  Sonata        2013      Sedan   \n",
       "10     45621750    941  1053.0  MERCEDES-BENZ   E 350        2014      Sedan   \n",
       "15     45465200    549  1079.0         TOYOTA     CHR        2018       Jeep   \n",
       "18     45772104    549  2386.0        HYUNDAI  Sonata        2006      Sedan   \n",
       "19     45653306    941  1850.0          LEXUS  RX 400        2008       Jeep   \n",
       "...         ...    ...     ...            ...     ...         ...        ...   \n",
       "19218  45748699     30     NaN         NISSAN    Note        2006  Hatchback   \n",
       "19228  45773726    706  1850.0  MERCEDES-BENZ   E 350        2008      Sedan   \n",
       "19229  39977395     50     NaN         TOYOTA   Prius        2008  Hatchback   \n",
       "19230  45760891    470   645.0         TOYOTA   Prius        2011  Hatchback   \n",
       "19236  45813273    470   753.0        HYUNDAI  Sonata        2012      Sedan   \n",
       "\n",
       "      Leather interior Fuel type  Engine volume  Mileage  Cylinders  \\\n",
       "7                  Yes    Petrol            2.4   216118        4.0   \n",
       "10                 Yes    Diesel            3.5   184467        6.0   \n",
       "15                 Yes    Petrol            2.0    74146        4.0   \n",
       "18                 Yes    Petrol            3.3   295059        6.0   \n",
       "19                 Yes    Hybrid            3.5   364523        6.0   \n",
       "...                ...       ...            ...      ...        ...   \n",
       "19218               No    Petrol            1.3        0        4.0   \n",
       "19228              Yes    Diesel            3.5   122874        6.0   \n",
       "19229               No    Hybrid            1.5   150000        4.0   \n",
       "19230              Yes    Hybrid            1.8   307325        4.0   \n",
       "19236              Yes    Hybrid            2.4   186923        4.0   \n",
       "\n",
       "      Gear box type Drive wheels  Doors             Wheel   Color  Airbags  \\\n",
       "7         Automatic        Front      4        Left wheel    Grey       12   \n",
       "10        Automatic         Rear      4        Left wheel   White       12   \n",
       "15        Automatic        Front      4        Left wheel   White       12   \n",
       "18        Automatic         Rear      4        Left wheel    Blue       12   \n",
       "19        Automatic          4x4      4        Left wheel   Black       12   \n",
       "...             ...          ...    ...               ...     ...      ...   \n",
       "19218     Automatic        Front      4  Right-hand drive   Green        9   \n",
       "19228     Automatic         Rear      4        Left wheel   Black       12   \n",
       "19229     Automatic        Front      4        Left wheel  Silver        6   \n",
       "19230     Automatic        Front      4        Left wheel  Silver       12   \n",
       "19236     Automatic        Front      4        Left wheel   White       12   \n",
       "\n",
       "       has_turbo  \n",
       "7          False  \n",
       "10         False  \n",
       "15         False  \n",
       "18         False  \n",
       "19         False  \n",
       "...          ...  \n",
       "19218      False  \n",
       "19228      False  \n",
       "19229      False  \n",
       "19230      False  \n",
       "19236      False  \n",
       "\n",
       "[2519 rows x 19 columns]"
      ]
     },
     "metadata": {},
     "output_type": "display_data"
    }
   ],
   "source": [
    "display(df[df.Price < 1000])"
   ]
  },
  {
   "cell_type": "code",
   "execution_count": 26,
   "id": "62849e8c",
   "metadata": {
    "execution": {
     "iopub.execute_input": "2023-05-15T12:28:56.383981Z",
     "iopub.status.busy": "2023-05-15T12:28:56.383540Z",
     "iopub.status.idle": "2023-05-15T12:28:56.409909Z",
     "shell.execute_reply": "2023-05-15T12:28:56.408432Z"
    },
    "papermill": {
     "duration": 0.061057,
     "end_time": "2023-05-15T12:28:56.412698",
     "exception": false,
     "start_time": "2023-05-15T12:28:56.351641",
     "status": "completed"
    },
    "tags": []
   },
   "outputs": [
    {
     "data": {
      "text/html": [
       "<div>\n",
       "<style scoped>\n",
       "    .dataframe tbody tr th:only-of-type {\n",
       "        vertical-align: middle;\n",
       "    }\n",
       "\n",
       "    .dataframe tbody tr th {\n",
       "        vertical-align: top;\n",
       "    }\n",
       "\n",
       "    .dataframe thead th {\n",
       "        text-align: right;\n",
       "    }\n",
       "</style>\n",
       "<table border=\"1\" class=\"dataframe\">\n",
       "  <thead>\n",
       "    <tr style=\"text-align: right;\">\n",
       "      <th></th>\n",
       "      <th>ID</th>\n",
       "      <th>Price</th>\n",
       "      <th>Levy</th>\n",
       "      <th>Manufacturer</th>\n",
       "      <th>Model</th>\n",
       "      <th>Prod. year</th>\n",
       "      <th>Category</th>\n",
       "      <th>Leather interior</th>\n",
       "      <th>Fuel type</th>\n",
       "      <th>Engine volume</th>\n",
       "      <th>Mileage</th>\n",
       "      <th>Cylinders</th>\n",
       "      <th>Gear box type</th>\n",
       "      <th>Drive wheels</th>\n",
       "      <th>Doors</th>\n",
       "      <th>Wheel</th>\n",
       "      <th>Color</th>\n",
       "      <th>Airbags</th>\n",
       "      <th>has_turbo</th>\n",
       "    </tr>\n",
       "  </thead>\n",
       "  <tbody>\n",
       "    <tr>\n",
       "      <th>2278</th>\n",
       "      <td>45346940</td>\n",
       "      <td>6899</td>\n",
       "      <td>NaN</td>\n",
       "      <td>VOLKSWAGEN</td>\n",
       "      <td>Golf</td>\n",
       "      <td>1999</td>\n",
       "      <td>Sedan</td>\n",
       "      <td>No</td>\n",
       "      <td>Petrol</td>\n",
       "      <td>1.6</td>\n",
       "      <td>2147483647</td>\n",
       "      <td>4.0</td>\n",
       "      <td>Manual</td>\n",
       "      <td>Front</td>\n",
       "      <td>4</td>\n",
       "      <td>Left wheel</td>\n",
       "      <td>Black</td>\n",
       "      <td>4</td>\n",
       "      <td>False</td>\n",
       "    </tr>\n",
       "    <tr>\n",
       "      <th>6157</th>\n",
       "      <td>45793107</td>\n",
       "      <td>5959</td>\n",
       "      <td>NaN</td>\n",
       "      <td>MERCEDES-BENZ</td>\n",
       "      <td>C 180</td>\n",
       "      <td>1995</td>\n",
       "      <td>Sedan</td>\n",
       "      <td>No</td>\n",
       "      <td>CNG</td>\n",
       "      <td>1.8</td>\n",
       "      <td>2147483647</td>\n",
       "      <td>4.0</td>\n",
       "      <td>Manual</td>\n",
       "      <td>Rear</td>\n",
       "      <td>4</td>\n",
       "      <td>Left wheel</td>\n",
       "      <td>Blue</td>\n",
       "      <td>5</td>\n",
       "      <td>False</td>\n",
       "    </tr>\n",
       "    <tr>\n",
       "      <th>11901</th>\n",
       "      <td>45332500</td>\n",
       "      <td>10036</td>\n",
       "      <td>NaN</td>\n",
       "      <td>SUBARU</td>\n",
       "      <td>Forester</td>\n",
       "      <td>2005</td>\n",
       "      <td>Jeep</td>\n",
       "      <td>No</td>\n",
       "      <td>Petrol</td>\n",
       "      <td>2.0</td>\n",
       "      <td>2147483647</td>\n",
       "      <td>4.0</td>\n",
       "      <td>Tiptronic</td>\n",
       "      <td>4x4</td>\n",
       "      <td>4</td>\n",
       "      <td>Right-hand drive</td>\n",
       "      <td>White</td>\n",
       "      <td>12</td>\n",
       "      <td>False</td>\n",
       "    </tr>\n",
       "    <tr>\n",
       "      <th>12734</th>\n",
       "      <td>45816448</td>\n",
       "      <td>2200</td>\n",
       "      <td>NaN</td>\n",
       "      <td>UAZ</td>\n",
       "      <td>31514</td>\n",
       "      <td>1968</td>\n",
       "      <td>Jeep</td>\n",
       "      <td>Yes</td>\n",
       "      <td>CNG</td>\n",
       "      <td>2.4</td>\n",
       "      <td>2147483647</td>\n",
       "      <td>4.0</td>\n",
       "      <td>Manual</td>\n",
       "      <td>4x4</td>\n",
       "      <td>4</td>\n",
       "      <td>Left wheel</td>\n",
       "      <td>Black</td>\n",
       "      <td>10</td>\n",
       "      <td>False</td>\n",
       "    </tr>\n",
       "    <tr>\n",
       "      <th>15347</th>\n",
       "      <td>45761457</td>\n",
       "      <td>3</td>\n",
       "      <td>NaN</td>\n",
       "      <td>BMW</td>\n",
       "      <td>525</td>\n",
       "      <td>1995</td>\n",
       "      <td>Sedan</td>\n",
       "      <td>No</td>\n",
       "      <td>Petrol</td>\n",
       "      <td>2.8</td>\n",
       "      <td>2147483647</td>\n",
       "      <td>6.0</td>\n",
       "      <td>Manual</td>\n",
       "      <td>Rear</td>\n",
       "      <td>4</td>\n",
       "      <td>Left wheel</td>\n",
       "      <td>Black</td>\n",
       "      <td>3</td>\n",
       "      <td>False</td>\n",
       "    </tr>\n",
       "    <tr>\n",
       "      <th>15393</th>\n",
       "      <td>45762319</td>\n",
       "      <td>15681</td>\n",
       "      <td>NaN</td>\n",
       "      <td>TOYOTA</td>\n",
       "      <td>Prius</td>\n",
       "      <td>2008</td>\n",
       "      <td>Sedan</td>\n",
       "      <td>No</td>\n",
       "      <td>Petrol</td>\n",
       "      <td>2.0</td>\n",
       "      <td>2147483647</td>\n",
       "      <td>4.0</td>\n",
       "      <td>Automatic</td>\n",
       "      <td>Front</td>\n",
       "      <td>4</td>\n",
       "      <td>Left wheel</td>\n",
       "      <td>Blue</td>\n",
       "      <td>0</td>\n",
       "      <td>False</td>\n",
       "    </tr>\n",
       "    <tr>\n",
       "      <th>19167</th>\n",
       "      <td>45799423</td>\n",
       "      <td>18817</td>\n",
       "      <td>1995.0</td>\n",
       "      <td>FORD</td>\n",
       "      <td>Transit</td>\n",
       "      <td>2003</td>\n",
       "      <td>Microbus</td>\n",
       "      <td>No</td>\n",
       "      <td>Diesel</td>\n",
       "      <td>2.4</td>\n",
       "      <td>2147483647</td>\n",
       "      <td>4.0</td>\n",
       "      <td>Manual</td>\n",
       "      <td>Front</td>\n",
       "      <td>2</td>\n",
       "      <td>Left wheel</td>\n",
       "      <td>White</td>\n",
       "      <td>2</td>\n",
       "      <td>True</td>\n",
       "    </tr>\n",
       "  </tbody>\n",
       "</table>\n",
       "</div>"
      ],
      "text/plain": [
       "             ID  Price    Levy   Manufacturer     Model  Prod. year  Category  \\\n",
       "2278   45346940   6899     NaN     VOLKSWAGEN      Golf        1999     Sedan   \n",
       "6157   45793107   5959     NaN  MERCEDES-BENZ     C 180        1995     Sedan   \n",
       "11901  45332500  10036     NaN         SUBARU  Forester        2005      Jeep   \n",
       "12734  45816448   2200     NaN            UAZ     31514        1968      Jeep   \n",
       "15347  45761457      3     NaN            BMW       525        1995     Sedan   \n",
       "15393  45762319  15681     NaN         TOYOTA     Prius        2008     Sedan   \n",
       "19167  45799423  18817  1995.0           FORD   Transit        2003  Microbus   \n",
       "\n",
       "      Leather interior Fuel type  Engine volume     Mileage  Cylinders  \\\n",
       "2278                No    Petrol            1.6  2147483647        4.0   \n",
       "6157                No       CNG            1.8  2147483647        4.0   \n",
       "11901               No    Petrol            2.0  2147483647        4.0   \n",
       "12734              Yes       CNG            2.4  2147483647        4.0   \n",
       "15347               No    Petrol            2.8  2147483647        6.0   \n",
       "15393               No    Petrol            2.0  2147483647        4.0   \n",
       "19167               No    Diesel            2.4  2147483647        4.0   \n",
       "\n",
       "      Gear box type Drive wheels  Doors             Wheel  Color  Airbags  \\\n",
       "2278         Manual        Front      4        Left wheel  Black        4   \n",
       "6157         Manual         Rear      4        Left wheel   Blue        5   \n",
       "11901     Tiptronic          4x4      4  Right-hand drive  White       12   \n",
       "12734        Manual          4x4      4        Left wheel  Black       10   \n",
       "15347        Manual         Rear      4        Left wheel  Black        3   \n",
       "15393     Automatic        Front      4        Left wheel   Blue        0   \n",
       "19167        Manual        Front      2        Left wheel  White        2   \n",
       "\n",
       "       has_turbo  \n",
       "2278       False  \n",
       "6157       False  \n",
       "11901      False  \n",
       "12734      False  \n",
       "15347      False  \n",
       "15393      False  \n",
       "19167       True  "
      ]
     },
     "metadata": {},
     "output_type": "display_data"
    }
   ],
   "source": [
    "display(df[df.Mileage == df.Mileage.max()])"
   ]
  },
  {
   "cell_type": "code",
   "execution_count": 27,
   "id": "450f9ce7",
   "metadata": {
    "execution": {
     "iopub.execute_input": "2023-05-15T12:28:56.479533Z",
     "iopub.status.busy": "2023-05-15T12:28:56.479054Z",
     "iopub.status.idle": "2023-05-15T12:28:56.513831Z",
     "shell.execute_reply": "2023-05-15T12:28:56.512766Z"
    },
    "papermill": {
     "duration": 0.071923,
     "end_time": "2023-05-15T12:28:56.516193",
     "exception": false,
     "start_time": "2023-05-15T12:28:56.444270",
     "status": "completed"
    },
    "tags": []
   },
   "outputs": [
    {
     "data": {
      "text/html": [
       "<div>\n",
       "<style scoped>\n",
       "    .dataframe tbody tr th:only-of-type {\n",
       "        vertical-align: middle;\n",
       "    }\n",
       "\n",
       "    .dataframe tbody tr th {\n",
       "        vertical-align: top;\n",
       "    }\n",
       "\n",
       "    .dataframe thead th {\n",
       "        text-align: right;\n",
       "    }\n",
       "</style>\n",
       "<table border=\"1\" class=\"dataframe\">\n",
       "  <thead>\n",
       "    <tr style=\"text-align: right;\">\n",
       "      <th></th>\n",
       "      <th>ID</th>\n",
       "      <th>Price</th>\n",
       "      <th>Levy</th>\n",
       "      <th>Manufacturer</th>\n",
       "      <th>Model</th>\n",
       "      <th>Prod. year</th>\n",
       "      <th>Category</th>\n",
       "      <th>Leather interior</th>\n",
       "      <th>Fuel type</th>\n",
       "      <th>Engine volume</th>\n",
       "      <th>Mileage</th>\n",
       "      <th>Cylinders</th>\n",
       "      <th>Gear box type</th>\n",
       "      <th>Drive wheels</th>\n",
       "      <th>Doors</th>\n",
       "      <th>Wheel</th>\n",
       "      <th>Color</th>\n",
       "      <th>Airbags</th>\n",
       "      <th>has_turbo</th>\n",
       "    </tr>\n",
       "  </thead>\n",
       "  <tbody>\n",
       "    <tr>\n",
       "      <th>11</th>\n",
       "      <td>45814819</td>\n",
       "      <td>8781</td>\n",
       "      <td>NaN</td>\n",
       "      <td>FORD</td>\n",
       "      <td>Transit</td>\n",
       "      <td>1999</td>\n",
       "      <td>Microbus</td>\n",
       "      <td>No</td>\n",
       "      <td>CNG</td>\n",
       "      <td>4.0</td>\n",
       "      <td>0</td>\n",
       "      <td>8.0</td>\n",
       "      <td>Manual</td>\n",
       "      <td>Rear</td>\n",
       "      <td>2</td>\n",
       "      <td>Left wheel</td>\n",
       "      <td>Blue</td>\n",
       "      <td>0</td>\n",
       "      <td>False</td>\n",
       "    </tr>\n",
       "    <tr>\n",
       "      <th>24</th>\n",
       "      <td>45813492</td>\n",
       "      <td>4704</td>\n",
       "      <td>NaN</td>\n",
       "      <td>OPEL</td>\n",
       "      <td>Vectra</td>\n",
       "      <td>1995</td>\n",
       "      <td>Sedan</td>\n",
       "      <td>No</td>\n",
       "      <td>Petrol</td>\n",
       "      <td>1.8</td>\n",
       "      <td>0</td>\n",
       "      <td>4.0</td>\n",
       "      <td>Automatic</td>\n",
       "      <td>Front</td>\n",
       "      <td>4</td>\n",
       "      <td>Left wheel</td>\n",
       "      <td>Green</td>\n",
       "      <td>4</td>\n",
       "      <td>False</td>\n",
       "    </tr>\n",
       "    <tr>\n",
       "      <th>26</th>\n",
       "      <td>45759112</td>\n",
       "      <td>549</td>\n",
       "      <td>2455.0</td>\n",
       "      <td>LEXUS</td>\n",
       "      <td>GX 470</td>\n",
       "      <td>2008</td>\n",
       "      <td>Jeep</td>\n",
       "      <td>Yes</td>\n",
       "      <td>Petrol</td>\n",
       "      <td>4.7</td>\n",
       "      <td>0</td>\n",
       "      <td>8.0</td>\n",
       "      <td>Automatic</td>\n",
       "      <td>4x4</td>\n",
       "      <td>4</td>\n",
       "      <td>Left wheel</td>\n",
       "      <td>White</td>\n",
       "      <td>0</td>\n",
       "      <td>False</td>\n",
       "    </tr>\n",
       "    <tr>\n",
       "      <th>83</th>\n",
       "      <td>45765301</td>\n",
       "      <td>8154</td>\n",
       "      <td>NaN</td>\n",
       "      <td>HONDA</td>\n",
       "      <td>Cr-v</td>\n",
       "      <td>1998</td>\n",
       "      <td>Jeep</td>\n",
       "      <td>No</td>\n",
       "      <td>Petrol</td>\n",
       "      <td>2.0</td>\n",
       "      <td>0</td>\n",
       "      <td>4.0</td>\n",
       "      <td>Automatic</td>\n",
       "      <td>4x4</td>\n",
       "      <td>4</td>\n",
       "      <td>Right-hand drive</td>\n",
       "      <td>White</td>\n",
       "      <td>2</td>\n",
       "      <td>False</td>\n",
       "    </tr>\n",
       "    <tr>\n",
       "      <th>97</th>\n",
       "      <td>45749534</td>\n",
       "      <td>4234</td>\n",
       "      <td>NaN</td>\n",
       "      <td>HONDA</td>\n",
       "      <td>Civic</td>\n",
       "      <td>1997</td>\n",
       "      <td>Hatchback</td>\n",
       "      <td>Yes</td>\n",
       "      <td>Petrol</td>\n",
       "      <td>1.4</td>\n",
       "      <td>0</td>\n",
       "      <td>4.0</td>\n",
       "      <td>Manual</td>\n",
       "      <td>Front</td>\n",
       "      <td>2</td>\n",
       "      <td>Left wheel</td>\n",
       "      <td>Blue</td>\n",
       "      <td>6</td>\n",
       "      <td>False</td>\n",
       "    </tr>\n",
       "    <tr>\n",
       "      <th>...</th>\n",
       "      <td>...</td>\n",
       "      <td>...</td>\n",
       "      <td>...</td>\n",
       "      <td>...</td>\n",
       "      <td>...</td>\n",
       "      <td>...</td>\n",
       "      <td>...</td>\n",
       "      <td>...</td>\n",
       "      <td>...</td>\n",
       "      <td>...</td>\n",
       "      <td>...</td>\n",
       "      <td>...</td>\n",
       "      <td>...</td>\n",
       "      <td>...</td>\n",
       "      <td>...</td>\n",
       "      <td>...</td>\n",
       "      <td>...</td>\n",
       "      <td>...</td>\n",
       "      <td>...</td>\n",
       "    </tr>\n",
       "    <tr>\n",
       "      <th>19064</th>\n",
       "      <td>45791823</td>\n",
       "      <td>2900</td>\n",
       "      <td>NaN</td>\n",
       "      <td>BMW</td>\n",
       "      <td>320</td>\n",
       "      <td>1994</td>\n",
       "      <td>Sedan</td>\n",
       "      <td>Yes</td>\n",
       "      <td>Petrol</td>\n",
       "      <td>2.0</td>\n",
       "      <td>0</td>\n",
       "      <td>6.0</td>\n",
       "      <td>Manual</td>\n",
       "      <td>Rear</td>\n",
       "      <td>4</td>\n",
       "      <td>Left wheel</td>\n",
       "      <td>Green</td>\n",
       "      <td>2</td>\n",
       "      <td>False</td>\n",
       "    </tr>\n",
       "    <tr>\n",
       "      <th>19088</th>\n",
       "      <td>45782030</td>\n",
       "      <td>2200</td>\n",
       "      <td>NaN</td>\n",
       "      <td>PEUGEOT</td>\n",
       "      <td>406</td>\n",
       "      <td>2001</td>\n",
       "      <td>Sedan</td>\n",
       "      <td>No</td>\n",
       "      <td>Petrol</td>\n",
       "      <td>2.0</td>\n",
       "      <td>0</td>\n",
       "      <td>4.0</td>\n",
       "      <td>Manual</td>\n",
       "      <td>Front</td>\n",
       "      <td>4</td>\n",
       "      <td>Left wheel</td>\n",
       "      <td>White</td>\n",
       "      <td>2</td>\n",
       "      <td>False</td>\n",
       "    </tr>\n",
       "    <tr>\n",
       "      <th>19103</th>\n",
       "      <td>45748748</td>\n",
       "      <td>30</td>\n",
       "      <td>NaN</td>\n",
       "      <td>NISSAN</td>\n",
       "      <td>Tiida</td>\n",
       "      <td>2006</td>\n",
       "      <td>Hatchback</td>\n",
       "      <td>No</td>\n",
       "      <td>Petrol</td>\n",
       "      <td>1.5</td>\n",
       "      <td>0</td>\n",
       "      <td>4.0</td>\n",
       "      <td>Automatic</td>\n",
       "      <td>Front</td>\n",
       "      <td>4</td>\n",
       "      <td>Right-hand drive</td>\n",
       "      <td>Black</td>\n",
       "      <td>4</td>\n",
       "      <td>False</td>\n",
       "    </tr>\n",
       "    <tr>\n",
       "      <th>19218</th>\n",
       "      <td>45748699</td>\n",
       "      <td>30</td>\n",
       "      <td>NaN</td>\n",
       "      <td>NISSAN</td>\n",
       "      <td>Note</td>\n",
       "      <td>2006</td>\n",
       "      <td>Hatchback</td>\n",
       "      <td>No</td>\n",
       "      <td>Petrol</td>\n",
       "      <td>1.3</td>\n",
       "      <td>0</td>\n",
       "      <td>4.0</td>\n",
       "      <td>Automatic</td>\n",
       "      <td>Front</td>\n",
       "      <td>4</td>\n",
       "      <td>Right-hand drive</td>\n",
       "      <td>Green</td>\n",
       "      <td>9</td>\n",
       "      <td>False</td>\n",
       "    </tr>\n",
       "    <tr>\n",
       "      <th>19223</th>\n",
       "      <td>44571028</td>\n",
       "      <td>8781</td>\n",
       "      <td>NaN</td>\n",
       "      <td>DODGE</td>\n",
       "      <td>Caliber</td>\n",
       "      <td>2008</td>\n",
       "      <td>Hatchback</td>\n",
       "      <td>No</td>\n",
       "      <td>Petrol</td>\n",
       "      <td>2.4</td>\n",
       "      <td>0</td>\n",
       "      <td>4.0</td>\n",
       "      <td>Automatic</td>\n",
       "      <td>Front</td>\n",
       "      <td>4</td>\n",
       "      <td>Left wheel</td>\n",
       "      <td>Blue</td>\n",
       "      <td>4</td>\n",
       "      <td>False</td>\n",
       "    </tr>\n",
       "  </tbody>\n",
       "</table>\n",
       "<p>739 rows × 19 columns</p>\n",
       "</div>"
      ],
      "text/plain": [
       "             ID  Price    Levy Manufacturer    Model  Prod. year   Category  \\\n",
       "11     45814819   8781     NaN         FORD  Transit        1999   Microbus   \n",
       "24     45813492   4704     NaN         OPEL   Vectra        1995      Sedan   \n",
       "26     45759112    549  2455.0        LEXUS   GX 470        2008       Jeep   \n",
       "83     45765301   8154     NaN        HONDA     Cr-v        1998       Jeep   \n",
       "97     45749534   4234     NaN        HONDA    Civic        1997  Hatchback   \n",
       "...         ...    ...     ...          ...      ...         ...        ...   \n",
       "19064  45791823   2900     NaN          BMW      320        1994      Sedan   \n",
       "19088  45782030   2200     NaN      PEUGEOT      406        2001      Sedan   \n",
       "19103  45748748     30     NaN       NISSAN    Tiida        2006  Hatchback   \n",
       "19218  45748699     30     NaN       NISSAN     Note        2006  Hatchback   \n",
       "19223  44571028   8781     NaN        DODGE  Caliber        2008  Hatchback   \n",
       "\n",
       "      Leather interior Fuel type  Engine volume  Mileage  Cylinders  \\\n",
       "11                  No       CNG            4.0        0        8.0   \n",
       "24                  No    Petrol            1.8        0        4.0   \n",
       "26                 Yes    Petrol            4.7        0        8.0   \n",
       "83                  No    Petrol            2.0        0        4.0   \n",
       "97                 Yes    Petrol            1.4        0        4.0   \n",
       "...                ...       ...            ...      ...        ...   \n",
       "19064              Yes    Petrol            2.0        0        6.0   \n",
       "19088               No    Petrol            2.0        0        4.0   \n",
       "19103               No    Petrol            1.5        0        4.0   \n",
       "19218               No    Petrol            1.3        0        4.0   \n",
       "19223               No    Petrol            2.4        0        4.0   \n",
       "\n",
       "      Gear box type Drive wheels  Doors             Wheel  Color  Airbags  \\\n",
       "11           Manual         Rear      2        Left wheel   Blue        0   \n",
       "24        Automatic        Front      4        Left wheel  Green        4   \n",
       "26        Automatic          4x4      4        Left wheel  White        0   \n",
       "83        Automatic          4x4      4  Right-hand drive  White        2   \n",
       "97           Manual        Front      2        Left wheel   Blue        6   \n",
       "...             ...          ...    ...               ...    ...      ...   \n",
       "19064        Manual         Rear      4        Left wheel  Green        2   \n",
       "19088        Manual        Front      4        Left wheel  White        2   \n",
       "19103     Automatic        Front      4  Right-hand drive  Black        4   \n",
       "19218     Automatic        Front      4  Right-hand drive  Green        9   \n",
       "19223     Automatic        Front      4        Left wheel   Blue        4   \n",
       "\n",
       "       has_turbo  \n",
       "11         False  \n",
       "24         False  \n",
       "26         False  \n",
       "83         False  \n",
       "97         False  \n",
       "...          ...  \n",
       "19064      False  \n",
       "19088      False  \n",
       "19103      False  \n",
       "19218      False  \n",
       "19223      False  \n",
       "\n",
       "[739 rows x 19 columns]"
      ]
     },
     "metadata": {},
     "output_type": "display_data"
    }
   ],
   "source": [
    "display(df[df.Mileage < 1000])"
   ]
  },
  {
   "cell_type": "code",
   "execution_count": 28,
   "id": "13fd5f26",
   "metadata": {
    "execution": {
     "iopub.execute_input": "2023-05-15T12:28:56.581005Z",
     "iopub.status.busy": "2023-05-15T12:28:56.580600Z",
     "iopub.status.idle": "2023-05-15T12:28:56.646637Z",
     "shell.execute_reply": "2023-05-15T12:28:56.645451Z"
    },
    "papermill": {
     "duration": 0.101702,
     "end_time": "2023-05-15T12:28:56.649010",
     "exception": false,
     "start_time": "2023-05-15T12:28:56.547308",
     "status": "completed"
    },
    "tags": []
   },
   "outputs": [
    {
     "name": "stdout",
     "output_type": "stream",
     "text": [
      "<class 'pandas.core.frame.DataFrame'>\n",
      "Int64Index: 18924 entries, 0 to 19236\n",
      "Data columns (total 19 columns):\n",
      " #   Column            Non-Null Count  Dtype  \n",
      "---  ------            --------------  -----  \n",
      " 0   ID                18924 non-null  int64  \n",
      " 1   Price             18924 non-null  int64  \n",
      " 2   Levy              13215 non-null  float64\n",
      " 3   Manufacturer      18924 non-null  object \n",
      " 4   Model             18924 non-null  object \n",
      " 5   Prod. year        18924 non-null  int64  \n",
      " 6   Category          18924 non-null  object \n",
      " 7   Leather interior  18924 non-null  object \n",
      " 8   Fuel type         18924 non-null  object \n",
      " 9   Engine volume     18924 non-null  float64\n",
      " 10  Mileage           18924 non-null  int64  \n",
      " 11  Cylinders         18924 non-null  float64\n",
      " 12  Gear box type     18924 non-null  object \n",
      " 13  Drive wheels      18924 non-null  object \n",
      " 14  Doors             18924 non-null  int64  \n",
      " 15  Wheel             18924 non-null  object \n",
      " 16  Color             18924 non-null  object \n",
      " 17  Airbags           18924 non-null  int64  \n",
      " 18  has_turbo         18924 non-null  bool   \n",
      "dtypes: bool(1), float64(3), int64(6), object(9)\n",
      "memory usage: 2.8+ MB\n"
     ]
    }
   ],
   "source": [
    "df.info()"
   ]
  },
  {
   "cell_type": "code",
   "execution_count": 29,
   "id": "f1e3f637",
   "metadata": {
    "execution": {
     "iopub.execute_input": "2023-05-15T12:28:56.714276Z",
     "iopub.status.busy": "2023-05-15T12:28:56.713827Z",
     "iopub.status.idle": "2023-05-15T12:28:56.722104Z",
     "shell.execute_reply": "2023-05-15T12:28:56.720887Z"
    },
    "papermill": {
     "duration": 0.044418,
     "end_time": "2023-05-15T12:28:56.724739",
     "exception": false,
     "start_time": "2023-05-15T12:28:56.680321",
     "status": "completed"
    },
    "tags": []
   },
   "outputs": [],
   "source": [
    "def detect_outliers(df,features,thold):\n",
    "    \n",
    "    outlier_indices=[]\n",
    "    for f in features:\n",
    "        Q1=np.percentile(df[f],25)\n",
    "        Q3=np.percentile(df[f],75)\n",
    "        IQR = Q3-Q1\n",
    "        outlier_step = IQR*thold\n",
    "        outlier_col_idx = df[(df[f]< Q1-outlier_step) | (df[f]> Q3+outlier_step)].index\n",
    "        outlier_indices.extend(outlier_col_idx)\n",
    "        \n",
    "    return outlier_indices"
   ]
  },
  {
   "cell_type": "code",
   "execution_count": 30,
   "id": "e5ed8461",
   "metadata": {
    "execution": {
     "iopub.execute_input": "2023-05-15T12:28:56.792327Z",
     "iopub.status.busy": "2023-05-15T12:28:56.791901Z",
     "iopub.status.idle": "2023-05-15T12:28:56.812359Z",
     "shell.execute_reply": "2023-05-15T12:28:56.811381Z"
    },
    "papermill": {
     "duration": 0.056767,
     "end_time": "2023-05-15T12:28:56.815010",
     "exception": false,
     "start_time": "2023-05-15T12:28:56.758243",
     "status": "completed"
    },
    "tags": []
   },
   "outputs": [],
   "source": [
    "features = ['Price', 'Levy', 'Mileage']\n",
    "outliers = detect_outliers(df,features, 1.5)\n",
    "deleted_df = df.drop(df.loc[outliers].index,axis=0)"
   ]
  },
  {
   "cell_type": "code",
   "execution_count": 31,
   "id": "70f57299",
   "metadata": {
    "execution": {
     "iopub.execute_input": "2023-05-15T12:28:56.881491Z",
     "iopub.status.busy": "2023-05-15T12:28:56.881089Z",
     "iopub.status.idle": "2023-05-15T12:28:56.885746Z",
     "shell.execute_reply": "2023-05-15T12:28:56.884507Z"
    },
    "papermill": {
     "duration": 0.040746,
     "end_time": "2023-05-15T12:28:56.888052",
     "exception": false,
     "start_time": "2023-05-15T12:28:56.847306",
     "status": "completed"
    },
    "tags": []
   },
   "outputs": [],
   "source": [
    "#print(outliers)"
   ]
  },
  {
   "cell_type": "markdown",
   "id": "59edb074",
   "metadata": {
    "papermill": {
     "duration": 0.032601,
     "end_time": "2023-05-15T12:28:56.953268",
     "exception": false,
     "start_time": "2023-05-15T12:28:56.920667",
     "status": "completed"
    },
    "tags": []
   },
   "source": [
    "# Data Exploratory Analysis"
   ]
  },
  {
   "cell_type": "code",
   "execution_count": 32,
   "id": "eb8cffa0",
   "metadata": {
    "execution": {
     "iopub.execute_input": "2023-05-15T12:28:57.019757Z",
     "iopub.status.busy": "2023-05-15T12:28:57.019317Z",
     "iopub.status.idle": "2023-05-15T12:28:57.924433Z",
     "shell.execute_reply": "2023-05-15T12:28:57.923230Z"
    },
    "papermill": {
     "duration": 0.941746,
     "end_time": "2023-05-15T12:28:57.926790",
     "exception": false,
     "start_time": "2023-05-15T12:28:56.985044",
     "status": "completed"
    },
    "tags": []
   },
   "outputs": [
    {
     "data": {
      "text/plain": [
       "Text(0.5, 1.0, 'Top10 The Average Price')"
      ]
     },
     "execution_count": 32,
     "metadata": {},
     "output_type": "execute_result"
    },
    {
     "data": {
      "image/png": "[encoded data removed]",
      "text/plain": [
       "<Figure size 1500x800 with 2 Axes>"
      ]
     },
     "metadata": {},
     "output_type": "display_data"
    }
   ],
   "source": [
    "top10_cars = deleted_df['Manufacturer'].value_counts().sort_values(ascending = False)[:10]\n",
    "top10_mean_prices = [deleted_df[deleted_df['Manufacturer'] == i]['Price'].mean() for i in list(top10_cars.index)]\n",
    "\n",
    "fig = plt.figure(figsize=(15,8))\n",
    "\n",
    "ax = fig.add_subplot(1,2,1)\n",
    "sns.barplot(x=top10_cars.index,y=top10_cars.values)\n",
    "plt.xticks(rotation = 45)\n",
    "plt.ylabel('no. of Cars')\n",
    "plt.title('Top10 The Most Frequent Cars')\n",
    "\n",
    "ax = fig.add_subplot(1,2,2)\n",
    "sns.lineplot(x=top10_cars.index,y=top10_mean_prices)\n",
    "plt.xticks(rotation = 45)\n",
    "plt.ylabel('Average Price')\n",
    "plt.title('Top10 The Average Price')"
   ]
  },
  {
   "cell_type": "code",
   "execution_count": 33,
   "id": "5f8e27dd",
   "metadata": {
    "execution": {
     "iopub.execute_input": "2023-05-15T12:28:57.994531Z",
     "iopub.status.busy": "2023-05-15T12:28:57.993903Z",
     "iopub.status.idle": "2023-05-15T12:28:58.009015Z",
     "shell.execute_reply": "2023-05-15T12:28:58.007952Z"
    },
    "papermill": {
     "duration": 0.052296,
     "end_time": "2023-05-15T12:28:58.011896",
     "exception": false,
     "start_time": "2023-05-15T12:28:57.959600",
     "status": "completed"
    },
    "tags": []
   },
   "outputs": [
    {
     "data": {
      "text/plain": [
       "Doors  Drive wheels\n",
       "2      Rear              328\n",
       "       Front             283\n",
       "       4x4               103\n",
       "4      Front           11369\n",
       "       4x4              3360\n",
       "       Rear             1685\n",
       "5      Front              50\n",
       "       Rear               30\n",
       "       4x4                29\n",
       "Name: Drive wheels, dtype: int64"
      ]
     },
     "execution_count": 33,
     "metadata": {},
     "output_type": "execute_result"
    }
   ],
   "source": [
    "deleted_df.groupby('Doors')['Drive wheels'].value_counts()\n"
   ]
  },
  {
   "cell_type": "code",
   "execution_count": 34,
   "id": "b6068b3b",
   "metadata": {
    "execution": {
     "iopub.execute_input": "2023-05-15T12:28:58.080770Z",
     "iopub.status.busy": "2023-05-15T12:28:58.080343Z",
     "iopub.status.idle": "2023-05-15T12:28:58.101699Z",
     "shell.execute_reply": "2023-05-15T12:28:58.100469Z"
    },
    "papermill": {
     "duration": 0.058946,
     "end_time": "2023-05-15T12:28:58.104379",
     "exception": false,
     "start_time": "2023-05-15T12:28:58.045433",
     "status": "completed"
    },
    "tags": []
   },
   "outputs": [
    {
     "data": {
      "text/plain": [
       "Doors  Drive wheels\n",
       "2      Rear            45.938375\n",
       "       Front           39.635854\n",
       "       4x4             14.425770\n",
       "4      Front           69.264043\n",
       "       4x4             20.470330\n",
       "       Rear            10.265627\n",
       "5      Front           45.871560\n",
       "       Rear            27.522936\n",
       "       4x4             26.605505\n",
       "Name: Drive wheels, dtype: float64"
      ]
     },
     "execution_count": 34,
     "metadata": {},
     "output_type": "execute_result"
    }
   ],
   "source": [
    "dd_val = np.array(deleted_df.groupby('Doors')['Drive wheels'].value_counts().values).reshape(3,3)\n",
    "dd_sum = dd_val.sum(axis=1).reshape(3,1)\n",
    "dd_sum = np.c_[dd_sum, dd_sum, dd_sum].flatten()\n",
    "\n",
    "(deleted_df.groupby('Doors')['Drive wheels'].value_counts() / dd_sum)*100"
   ]
  },
  {
   "cell_type": "code",
   "execution_count": 35,
   "id": "4b65c424",
   "metadata": {
    "execution": {
     "iopub.execute_input": "2023-05-15T12:28:58.173468Z",
     "iopub.status.busy": "2023-05-15T12:28:58.173034Z",
     "iopub.status.idle": "2023-05-15T12:28:58.187549Z",
     "shell.execute_reply": "2023-05-15T12:28:58.185582Z"
    },
    "papermill": {
     "duration": 0.052223,
     "end_time": "2023-05-15T12:28:58.190282",
     "exception": false,
     "start_time": "2023-05-15T12:28:58.138059",
     "status": "completed"
    },
    "tags": []
   },
   "outputs": [
    {
     "data": {
      "text/plain": [
       "Drive wheels\n",
       "Front    14698.763887\n",
       "Rear     13724.034753\n",
       "4x4      13009.303265\n",
       "Name: Price, dtype: float64"
      ]
     },
     "execution_count": 35,
     "metadata": {},
     "output_type": "execute_result"
    }
   ],
   "source": [
    "deleted_df.groupby('Drive wheels')['Price'].mean().sort_values(ascending=False)"
   ]
  },
  {
   "cell_type": "code",
   "execution_count": 36,
   "id": "87aa338d",
   "metadata": {
    "execution": {
     "iopub.execute_input": "2023-05-15T12:28:58.259244Z",
     "iopub.status.busy": "2023-05-15T12:28:58.258831Z",
     "iopub.status.idle": "2023-05-15T12:28:58.275284Z",
     "shell.execute_reply": "2023-05-15T12:28:58.274164Z"
    },
    "papermill": {
     "duration": 0.053698,
     "end_time": "2023-05-15T12:28:58.277881",
     "exception": false,
     "start_time": "2023-05-15T12:28:58.224183",
     "status": "completed"
    },
    "tags": []
   },
   "outputs": [
    {
     "data": {
      "text/plain": [
       "Gear box type\n",
       "Tiptronic    17876.0\n",
       "Variator     13172.0\n",
       "Automatic    11604.0\n",
       "Manual        8781.0\n",
       "Name: Price, dtype: float64"
      ]
     },
     "execution_count": 36,
     "metadata": {},
     "output_type": "execute_result"
    }
   ],
   "source": [
    "deleted_df.groupby('Gear box type')['Price'].median().sort_values(ascending=False)"
   ]
  },
  {
   "cell_type": "code",
   "execution_count": 37,
   "id": "b77e6883",
   "metadata": {
    "execution": {
     "iopub.execute_input": "2023-05-15T12:28:58.347885Z",
     "iopub.status.busy": "2023-05-15T12:28:58.347408Z",
     "iopub.status.idle": "2023-05-15T12:28:58.362248Z",
     "shell.execute_reply": "2023-05-15T12:28:58.360709Z"
    },
    "papermill": {
     "duration": 0.053037,
     "end_time": "2023-05-15T12:28:58.364629",
     "exception": false,
     "start_time": "2023-05-15T12:28:58.311592",
     "status": "completed"
    },
    "tags": []
   },
   "outputs": [
    {
     "data": {
      "text/plain": [
       "Color\n",
       "Yellow           16172.400000\n",
       "Grey             15498.783898\n",
       "Brown            14933.323353\n",
       "White            14868.384520\n",
       "Carnelian red    14823.047904\n",
       "Orange           14695.240506\n",
       "Beige            14418.140625\n",
       "Black            14295.392126\n",
       "Silver           13975.414078\n",
       "Sky blue         13961.554622\n",
       "Golden           13453.007246\n",
       "Blue             12818.417317\n",
       "Red              12400.143573\n",
       "Green             9146.013158\n",
       "Pink              8844.666667\n",
       "Purple            8837.384615\n",
       "Name: Price, dtype: float64"
      ]
     },
     "execution_count": 37,
     "metadata": {},
     "output_type": "execute_result"
    }
   ],
   "source": [
    "deleted_df.groupby('Color')['Price'].mean().sort_values(ascending=False)"
   ]
  },
  {
   "cell_type": "code",
   "execution_count": 38,
   "id": "958106f6",
   "metadata": {
    "execution": {
     "iopub.execute_input": "2023-05-15T12:28:58.433814Z",
     "iopub.status.busy": "2023-05-15T12:28:58.433397Z",
     "iopub.status.idle": "2023-05-15T12:28:58.446432Z",
     "shell.execute_reply": "2023-05-15T12:28:58.445219Z"
    },
    "papermill": {
     "duration": 0.050597,
     "end_time": "2023-05-15T12:28:58.449028",
     "exception": false,
     "start_time": "2023-05-15T12:28:58.398431",
     "status": "completed"
    },
    "tags": []
   },
   "outputs": [
    {
     "data": {
      "text/plain": [
       "has_turbo\n",
       "True     18189.0\n",
       "False    11917.0\n",
       "Name: Price, dtype: float64"
      ]
     },
     "execution_count": 38,
     "metadata": {},
     "output_type": "execute_result"
    }
   ],
   "source": [
    "deleted_df.groupby('has_turbo')['Price'].median().sort_values(ascending=False)"
   ]
  },
  {
   "cell_type": "code",
   "execution_count": 39,
   "id": "db38666a",
   "metadata": {
    "execution": {
     "iopub.execute_input": "2023-05-15T12:28:58.520154Z",
     "iopub.status.busy": "2023-05-15T12:28:58.519728Z",
     "iopub.status.idle": "2023-05-15T12:28:58.532758Z",
     "shell.execute_reply": "2023-05-15T12:28:58.531640Z"
    },
    "papermill": {
     "duration": 0.051785,
     "end_time": "2023-05-15T12:28:58.535638",
     "exception": false,
     "start_time": "2023-05-15T12:28:58.483853",
     "status": "completed"
    },
    "tags": []
   },
   "outputs": [
    {
     "data": {
      "text/plain": [
       "Wheel\n",
       "Left wheel          13485.0\n",
       "Right-hand drive     8467.0\n",
       "Name: Price, dtype: float64"
      ]
     },
     "execution_count": 39,
     "metadata": {},
     "output_type": "execute_result"
    }
   ],
   "source": [
    "deleted_df.groupby('Wheel')['Price'].median().sort_values(ascending=False)"
   ]
  },
  {
   "cell_type": "code",
   "execution_count": 40,
   "id": "bd68d545",
   "metadata": {
    "execution": {
     "iopub.execute_input": "2023-05-15T12:28:58.606771Z",
     "iopub.status.busy": "2023-05-15T12:28:58.606391Z",
     "iopub.status.idle": "2023-05-15T12:28:58.619484Z",
     "shell.execute_reply": "2023-05-15T12:28:58.618529Z"
    },
    "papermill": {
     "duration": 0.051565,
     "end_time": "2023-05-15T12:28:58.621731",
     "exception": false,
     "start_time": "2023-05-15T12:28:58.570166",
     "status": "completed"
    },
    "tags": []
   },
   "outputs": [
    {
     "data": {
      "text/plain": [
       "Fuel type\n",
       "Plug-in Hybrid    22580.0\n",
       "Hydrogen          20385.0\n",
       "Diesel            18817.0\n",
       "LPG               13485.0\n",
       "Petrol            11992.0\n",
       "Hybrid            10036.0\n",
       "CNG                7527.0\n",
       "Name: Price, dtype: float64"
      ]
     },
     "execution_count": 40,
     "metadata": {},
     "output_type": "execute_result"
    }
   ],
   "source": [
    "deleted_df.groupby('Fuel type')['Price'].median().sort_values(ascending=False)"
   ]
  },
  {
   "cell_type": "code",
   "execution_count": 41,
   "id": "bcaf361b",
   "metadata": {
    "execution": {
     "iopub.execute_input": "2023-05-15T12:28:58.692445Z",
     "iopub.status.busy": "2023-05-15T12:28:58.691698Z",
     "iopub.status.idle": "2023-05-15T12:28:58.703984Z",
     "shell.execute_reply": "2023-05-15T12:28:58.702819Z"
    },
    "papermill": {
     "duration": 0.050077,
     "end_time": "2023-05-15T12:28:58.706340",
     "exception": false,
     "start_time": "2023-05-15T12:28:58.656263",
     "status": "completed"
    },
    "tags": []
   },
   "outputs": [
    {
     "data": {
      "text/plain": [
       "Petrol            9174\n",
       "Diesel            3564\n",
       "Hybrid            3344\n",
       "LPG                627\n",
       "CNG                444\n",
       "Plug-in Hybrid      83\n",
       "Hydrogen             1\n",
       "Name: Fuel type, dtype: int64"
      ]
     },
     "execution_count": 41,
     "metadata": {},
     "output_type": "execute_result"
    }
   ],
   "source": [
    "deleted_df['Fuel type'].value_counts()"
   ]
  },
  {
   "cell_type": "code",
   "execution_count": 42,
   "id": "e763ee12",
   "metadata": {
    "execution": {
     "iopub.execute_input": "2023-05-15T12:28:58.779209Z",
     "iopub.status.busy": "2023-05-15T12:28:58.777982Z",
     "iopub.status.idle": "2023-05-15T12:29:00.990885Z",
     "shell.execute_reply": "2023-05-15T12:29:00.989467Z"
    },
    "papermill": {
     "duration": 2.254442,
     "end_time": "2023-05-15T12:29:00.995009",
     "exception": false,
     "start_time": "2023-05-15T12:28:58.740567",
     "status": "completed"
    },
    "tags": []
   },
   "outputs": [
    {
     "data": {
      "image/png": "[encoded data removed]",
      "text/plain": [
       "<Figure size 2000x1500 with 9 Axes>"
      ]
     },
     "metadata": {},
     "output_type": "display_data"
    }
   ],
   "source": [
    "%matplotlib inline\n",
    "\n",
    "deleted_df.hist(bins=25, figsize=(20,15))\n",
    "plt.show()"
   ]
  },
  {
   "cell_type": "code",
   "execution_count": 43,
   "id": "f5de1f6a",
   "metadata": {
    "execution": {
     "iopub.execute_input": "2023-05-15T12:29:01.069605Z",
     "iopub.status.busy": "2023-05-15T12:29:01.069215Z",
     "iopub.status.idle": "2023-05-15T12:29:04.533270Z",
     "shell.execute_reply": "2023-05-15T12:29:04.532192Z"
    },
    "papermill": {
     "duration": 3.5067,
     "end_time": "2023-05-15T12:29:04.537716",
     "exception": false,
     "start_time": "2023-05-15T12:29:01.031016",
     "status": "completed"
    },
    "tags": []
   },
   "outputs": [
    {
     "data": {
      "image/png": "[encoded data removed]",
      "text/plain": [
       "<Figure size 1200x800 with 25 Axes>"
      ]
     },
     "metadata": {},
     "output_type": "display_data"
    }
   ],
   "source": [
    "attributes = ['Price','Levy','Engine volume','Prod. year','Mileage']\n",
    "scatter_matrix(deleted_df[attributes], figsize=(12,8))\n",
    "plt.show()"
   ]
  },
  {
   "cell_type": "markdown",
   "id": "663fc2e5",
   "metadata": {
    "papermill": {
     "duration": 0.040251,
     "end_time": "2023-05-15T12:29:04.617832",
     "exception": false,
     "start_time": "2023-05-15T12:29:04.577581",
     "status": "completed"
    },
    "tags": []
   },
   "source": [
    "**There positive correlation between Engine volume and Levy and slightly negative correlation between Levy and Prod. year. Let's check the actual correlation scores between those attributes.**"
   ]
  },
  {
   "cell_type": "code",
   "execution_count": 44,
   "id": "a06675a0",
   "metadata": {
    "execution": {
     "iopub.execute_input": "2023-05-15T12:29:04.699453Z",
     "iopub.status.busy": "2023-05-15T12:29:04.698672Z",
     "iopub.status.idle": "2023-05-15T12:29:05.361623Z",
     "shell.execute_reply": "2023-05-15T12:29:05.360381Z"
    },
    "papermill": {
     "duration": 0.70777,
     "end_time": "2023-05-15T12:29:05.365186",
     "exception": false,
     "start_time": "2023-05-15T12:29:04.657416",
     "status": "completed"
    },
    "tags": []
   },
   "outputs": [
    {
     "data": {
      "image/png": "[encoded data removed]",
      "text/plain": [
       "<Figure size 800x600 with 2 Axes>"
      ]
     },
     "metadata": {},
     "output_type": "display_data"
    }
   ],
   "source": [
    "plt.figure(figsize=(8,6))\n",
    "sns.heatmap(deleted_df.corr(),annot=True, cbar = True)\n",
    "plt.title('Correlation Matrix')\n",
    "plt.show()"
   ]
  },
  {
   "cell_type": "markdown",
   "id": "ae110c20",
   "metadata": {
    "papermill": {
     "duration": 0.040992,
     "end_time": "2023-05-15T12:29:05.448501",
     "exception": false,
     "start_time": "2023-05-15T12:29:05.407509",
     "status": "completed"
    },
    "tags": []
   },
   "source": [
    "**The assumptions we made from scatter plot seems quite correct! The correliation between Levy and Engine volume 0.64 (not bad!). Engine volume and Cylinders has quite strong relationship which is 0.78 not that suprising that the cars have more cylinders have more engine volume and Levy.**"
   ]
  },
  {
   "cell_type": "markdown",
   "id": "27d476ad",
   "metadata": {
    "papermill": {
     "duration": 0.041454,
     "end_time": "2023-05-15T12:29:05.531175",
     "exception": false,
     "start_time": "2023-05-15T12:29:05.489721",
     "status": "completed"
    },
    "tags": []
   },
   "source": [
    "# Model Setup"
   ]
  },
  {
   "cell_type": "code",
   "execution_count": 45,
   "id": "656709f0",
   "metadata": {
    "execution": {
     "iopub.execute_input": "2023-05-15T12:29:05.617571Z",
     "iopub.status.busy": "2023-05-15T12:29:05.616913Z",
     "iopub.status.idle": "2023-05-15T12:29:05.622525Z",
     "shell.execute_reply": "2023-05-15T12:29:05.621539Z"
    },
    "papermill": {
     "duration": 0.05213,
     "end_time": "2023-05-15T12:29:05.624930",
     "exception": false,
     "start_time": "2023-05-15T12:29:05.572800",
     "status": "completed"
    },
    "tags": []
   },
   "outputs": [],
   "source": [
    "numerical_columns=[\"Levy\",\"Prod. year\",\"Doors\",\"Engine volume\", \"Mileage\", \"Cylinders\", \"Airbags\"]\n",
    "categorical_columns=[\"Manufacturer\",\"Model\",\"Category\",\"Leather interior\",\"Fuel type\",\"Gear box type\",\"Drive wheels\",\"Wheel\",\"Color\",\"has_turbo\"]\n"
   ]
  },
  {
   "cell_type": "code",
   "execution_count": 46,
   "id": "4a56ca2f",
   "metadata": {
    "execution": {
     "iopub.execute_input": "2023-05-15T12:29:05.713058Z",
     "iopub.status.busy": "2023-05-15T12:29:05.712208Z",
     "iopub.status.idle": "2023-05-15T12:29:05.722750Z",
     "shell.execute_reply": "2023-05-15T12:29:05.721687Z"
    },
    "papermill": {
     "duration": 0.058336,
     "end_time": "2023-05-15T12:29:05.725736",
     "exception": false,
     "start_time": "2023-05-15T12:29:05.667400",
     "status": "completed"
    },
    "tags": []
   },
   "outputs": [],
   "source": [
    "num_cars = deleted_df[numerical_columns]\n",
    "y = deleted_df['Price']\n",
    "cat_cars = deleted_df[categorical_columns]"
   ]
  },
  {
   "cell_type": "code",
   "execution_count": 47,
   "id": "277b02ef",
   "metadata": {
    "execution": {
     "iopub.execute_input": "2023-05-15T12:29:05.815239Z",
     "iopub.status.busy": "2023-05-15T12:29:05.813815Z",
     "iopub.status.idle": "2023-05-15T12:29:05.844251Z",
     "shell.execute_reply": "2023-05-15T12:29:05.842490Z"
    },
    "papermill": {
     "duration": 0.078862,
     "end_time": "2023-05-15T12:29:05.847650",
     "exception": false,
     "start_time": "2023-05-15T12:29:05.768788",
     "status": "completed"
    },
    "tags": []
   },
   "outputs": [
    {
     "data": {
      "text/plain": [
       "array([7.790e+02, 2.012e+03, 4.000e+00, 2.000e+00, 1.267e+05, 4.000e+00,\n",
       "       6.000e+00])"
      ]
     },
     "metadata": {},
     "output_type": "display_data"
    }
   ],
   "source": [
    "Imputer = SimpleImputer(strategy='median')\n",
    "\n",
    "Imputer.fit(num_cars)\n",
    "# Displaying medians of every numveric column we have\n",
    "display(Imputer.statistics_)\n",
    "num_cars = Imputer.transform(num_cars)"
   ]
  },
  {
   "cell_type": "code",
   "execution_count": 48,
   "id": "9d3c89fc",
   "metadata": {
    "execution": {
     "iopub.execute_input": "2023-05-15T12:29:05.936985Z",
     "iopub.status.busy": "2023-05-15T12:29:05.936479Z",
     "iopub.status.idle": "2023-05-15T12:29:05.945148Z",
     "shell.execute_reply": "2023-05-15T12:29:05.944034Z"
    },
    "papermill": {
     "duration": 0.056804,
     "end_time": "2023-05-15T12:29:05.947616",
     "exception": false,
     "start_time": "2023-05-15T12:29:05.890812",
     "status": "completed"
    },
    "tags": []
   },
   "outputs": [],
   "source": [
    "scaler = StandardScaler()\n",
    "num_cars = scaler.fit_transform(num_cars)"
   ]
  },
  {
   "cell_type": "code",
   "execution_count": 49,
   "id": "aa5b78e5",
   "metadata": {
    "execution": {
     "iopub.execute_input": "2023-05-15T12:29:06.036978Z",
     "iopub.status.busy": "2023-05-15T12:29:06.036485Z",
     "iopub.status.idle": "2023-05-15T12:29:06.042612Z",
     "shell.execute_reply": "2023-05-15T12:29:06.041330Z"
    },
    "papermill": {
     "duration": 0.054067,
     "end_time": "2023-05-15T12:29:06.045137",
     "exception": false,
     "start_time": "2023-05-15T12:29:05.991070",
     "status": "completed"
    },
    "tags": []
   },
   "outputs": [],
   "source": [
    "num_pipeline = Pipeline([\n",
    "    ('imputer', SimpleImputer(strategy='median')),\n",
    "    ('std_scaler', StandardScaler())])"
   ]
  },
  {
   "cell_type": "markdown",
   "id": "62e2c9f4",
   "metadata": {
    "papermill": {
     "duration": 0.044636,
     "end_time": "2023-05-15T12:29:06.133893",
     "exception": false,
     "start_time": "2023-05-15T12:29:06.089257",
     "status": "completed"
    },
    "tags": []
   },
   "source": [
    "Also we need to handle with the categorical columns because the machine learning model we will use expects only numerical values. So we will use one hot encoding, which will give 1 (Hot) the attribute is exist for that sample and 0 (Cold) for others and making full pipeline which will handle numerical values and categorical values at the same time)"
   ]
  },
  {
   "cell_type": "code",
   "execution_count": 50,
   "id": "b2b60cb0",
   "metadata": {
    "execution": {
     "iopub.execute_input": "2023-05-15T12:29:06.223576Z",
     "iopub.status.busy": "2023-05-15T12:29:06.223061Z",
     "iopub.status.idle": "2023-05-15T12:29:06.358802Z",
     "shell.execute_reply": "2023-05-15T12:29:06.357609Z"
    },
    "papermill": {
     "duration": 0.183477,
     "end_time": "2023-05-15T12:29:06.361925",
     "exception": false,
     "start_time": "2023-05-15T12:29:06.178448",
     "status": "completed"
    },
    "tags": []
   },
   "outputs": [],
   "source": [
    "full_pipeline = ColumnTransformer([\n",
    "    ('num',num_pipeline, numerical_columns),\n",
    "    ('cat',OneHotEncoder(), categorical_columns)  \n",
    "])\n",
    "cars_prepared = full_pipeline.fit_transform(deleted_df)"
   ]
  },
  {
   "cell_type": "code",
   "execution_count": 51,
   "id": "6851a08d",
   "metadata": {
    "execution": {
     "iopub.execute_input": "2023-05-15T12:29:06.453663Z",
     "iopub.status.busy": "2023-05-15T12:29:06.452505Z",
     "iopub.status.idle": "2023-05-15T12:29:06.459443Z",
     "shell.execute_reply": "2023-05-15T12:29:06.458498Z"
    },
    "papermill": {
     "duration": 0.055338,
     "end_time": "2023-05-15T12:29:06.461987",
     "exception": false,
     "start_time": "2023-05-15T12:29:06.406649",
     "status": "completed"
    },
    "tags": []
   },
   "outputs": [
    {
     "data": {
      "text/plain": [
       "(17237, 1600)"
      ]
     },
     "execution_count": 51,
     "metadata": {},
     "output_type": "execute_result"
    }
   ],
   "source": [
    "cars_prepared.shape"
   ]
  },
  {
   "cell_type": "code",
   "execution_count": 52,
   "id": "61b81711",
   "metadata": {
    "execution": {
     "iopub.execute_input": "2023-05-15T12:29:06.556250Z",
     "iopub.status.busy": "2023-05-15T12:29:06.555389Z",
     "iopub.status.idle": "2023-05-15T12:29:06.569605Z",
     "shell.execute_reply": "2023-05-15T12:29:06.568202Z"
    },
    "papermill": {
     "duration": 0.065767,
     "end_time": "2023-05-15T12:29:06.572764",
     "exception": false,
     "start_time": "2023-05-15T12:29:06.506997",
     "status": "completed"
    },
    "tags": []
   },
   "outputs": [],
   "source": [
    "X_train, X_test, y_train, y_test = train_test_split(cars_prepared, y, test_size=0.33, random_state = 42)"
   ]
  },
  {
   "cell_type": "markdown",
   "id": "ca98703d",
   "metadata": {
    "papermill": {
     "duration": 0.04249,
     "end_time": "2023-05-15T12:29:06.658896",
     "exception": false,
     "start_time": "2023-05-15T12:29:06.616406",
     "status": "completed"
    },
    "tags": []
   },
   "source": [
    "# Hyperparameter Tuning and Model Evaluation"
   ]
  },
  {
   "cell_type": "markdown",
   "id": "646d3e76",
   "metadata": {
    "papermill": {
     "duration": 0.042802,
     "end_time": "2023-05-15T12:29:06.744823",
     "exception": false,
     "start_time": "2023-05-15T12:29:06.702021",
     "status": "completed"
    },
    "tags": []
   },
   "source": [
    "## LinearRegression"
   ]
  },
  {
   "cell_type": "code",
   "execution_count": 53,
   "id": "45dcd3df",
   "metadata": {
    "execution": {
     "iopub.execute_input": "2023-05-15T12:29:06.831730Z",
     "iopub.status.busy": "2023-05-15T12:29:06.830695Z",
     "iopub.status.idle": "2023-05-15T12:29:08.959402Z",
     "shell.execute_reply": "2023-05-15T12:29:08.957808Z"
    },
    "papermill": {
     "duration": 2.177667,
     "end_time": "2023-05-15T12:29:08.964108",
     "exception": false,
     "start_time": "2023-05-15T12:29:06.786441",
     "status": "completed"
    },
    "tags": []
   },
   "outputs": [
    {
     "data": {
      "text/html": [
       "<style>#sk-container-id-1 {color: black;background-color: white;}#sk-container-id-1 pre{padding: 0;}#sk-container-id-1 div.sk-toggleable {background-color: white;}#sk-container-id-1 label.sk-toggleable__label {cursor: pointer;display: block;width: 100%;margin-bottom: 0;padding: 0.3em;box-sizing: border-box;text-align: center;}#sk-container-id-1 label.sk-toggleable__label-arrow:before {content: \"▸\";float: left;margin-right: 0.25em;color: #696969;}#sk-container-id-1 label.sk-toggleable__label-arrow:hover:before {color: black;}#sk-container-id-1 div.sk-estimator:hover label.sk-toggleable__label-arrow:before {color: black;}#sk-container-id-1 div.sk-toggleable__content {max-height: 0;max-width: 0;overflow: hidden;text-align: left;background-color: #f0f8ff;}#sk-container-id-1 div.sk-toggleable__content pre {margin: 0.2em;color: black;border-radius: 0.25em;background-color: #f0f8ff;}#sk-container-id-1 input.sk-toggleable__control:checked~div.sk-toggleable__content {max-height: 200px;max-width: 100%;overflow: auto;}#sk-container-id-1 input.sk-toggleable__control:checked~label.sk-toggleable__label-arrow:before {content: \"▾\";}#sk-container-id-1 div.sk-estimator input.sk-toggleable__control:checked~label.sk-toggleable__label {background-color: #d4ebff;}#sk-container-id-1 div.sk-label input.sk-toggleable__control:checked~label.sk-toggleable__label {background-color: #d4ebff;}#sk-container-id-1 input.sk-hidden--visually {border: 0;clip: rect(1px 1px 1px 1px);clip: rect(1px, 1px, 1px, 1px);height: 1px;margin: -1px;overflow: hidden;padding: 0;position: absolute;width: 1px;}#sk-container-id-1 div.sk-estimator {font-family: monospace;background-color: #f0f8ff;border: 1px dotted black;border-radius: 0.25em;box-sizing: border-box;margin-bottom: 0.5em;}#sk-container-id-1 div.sk-estimator:hover {background-color: #d4ebff;}#sk-container-id-1 div.sk-parallel-item::after {content: \"\";width: 100%;border-bottom: 1px solid gray;flex-grow: 1;}#sk-container-id-1 div.sk-label:hover label.sk-toggleable__label {background-color: #d4ebff;}#sk-container-id-1 div.sk-serial::before {content: \"\";position: absolute;border-left: 1px solid gray;box-sizing: border-box;top: 0;bottom: 0;left: 50%;z-index: 0;}#sk-container-id-1 div.sk-serial {display: flex;flex-direction: column;align-items: center;background-color: white;padding-right: 0.2em;padding-left: 0.2em;position: relative;}#sk-container-id-1 div.sk-item {position: relative;z-index: 1;}#sk-container-id-1 div.sk-parallel {display: flex;align-items: stretch;justify-content: center;background-color: white;position: relative;}#sk-container-id-1 div.sk-item::before, #sk-container-id-1 div.sk-parallel-item::before {content: \"\";position: absolute;border-left: 1px solid gray;box-sizing: border-box;top: 0;bottom: 0;left: 50%;z-index: -1;}#sk-container-id-1 div.sk-parallel-item {display: flex;flex-direction: column;z-index: 1;position: relative;background-color: white;}#sk-container-id-1 div.sk-parallel-item:first-child::after {align-self: flex-end;width: 50%;}#sk-container-id-1 div.sk-parallel-item:last-child::after {align-self: flex-start;width: 50%;}#sk-container-id-1 div.sk-parallel-item:only-child::after {width: 0;}#sk-container-id-1 div.sk-dashed-wrapped {border: 1px dashed gray;margin: 0 0.4em 0.5em 0.4em;box-sizing: border-box;padding-bottom: 0.4em;background-color: white;}#sk-container-id-1 div.sk-label label {font-family: monospace;font-weight: bold;display: inline-block;line-height: 1.2em;}#sk-container-id-1 div.sk-label-container {text-align: center;}#sk-container-id-1 div.sk-container {/* jupyter's `normalize.less` sets `[hidden] { display: none; }` but bootstrap.min.css set `[hidden] { display: none !important; }` so we also need the `!important` here to be able to override the default hidden behavior on the sphinx rendered scikit-learn.org. See: https://github.com/scikit-learn/scikit-learn/issues/21755 */display: inline-block !important;position: relative;}#sk-container-id-1 div.sk-text-repr-fallback {display: none;}</style><div id=\"sk-container-id-1\" class=\"sk-top-container\"><div class=\"sk-text-repr-fallback\"><pre>LinearRegression()</pre><b>In a Jupyter environment, please rerun this cell to show the HTML representation or trust the notebook. <br />On GitHub, the HTML representation is unable to render, please try loading this page with nbviewer.org.</b></div><div class=\"sk-container\" hidden><div class=\"sk-item\"><div class=\"sk-estimator sk-toggleable\"><input class=\"sk-toggleable__control sk-hidden--visually\" id=\"sk-estimator-id-1\" type=\"checkbox\" checked><label for=\"sk-estimator-id-1\" class=\"sk-toggleable__label sk-toggleable__label-arrow\">LinearRegression</label><div class=\"sk-toggleable__content\"><pre>LinearRegression()</pre></div></div></div></div></div>"
      ],
      "text/plain": [
       "LinearRegression()"
      ]
     },
     "execution_count": 53,
     "metadata": {},
     "output_type": "execute_result"
    }
   ],
   "source": [
    "lin_reg = LinearRegression()\n",
    "\n",
    "lin_reg.fit(X_train, y_train)"
   ]
  },
  {
   "cell_type": "code",
   "execution_count": 54,
   "id": "8bd09ff9",
   "metadata": {
    "execution": {
     "iopub.execute_input": "2023-05-15T12:29:09.102655Z",
     "iopub.status.busy": "2023-05-15T12:29:09.102263Z",
     "iopub.status.idle": "2023-05-15T12:29:09.112237Z",
     "shell.execute_reply": "2023-05-15T12:29:09.111053Z"
    },
    "papermill": {
     "duration": 0.058771,
     "end_time": "2023-05-15T12:29:09.114410",
     "exception": false,
     "start_time": "2023-05-15T12:29:09.055639",
     "status": "completed"
    },
    "tags": []
   },
   "outputs": [
    {
     "data": {
      "text/plain": [
       "8143.022395858401"
      ]
     },
     "execution_count": 54,
     "metadata": {},
     "output_type": "execute_result"
    }
   ],
   "source": [
    "predictions = lin_reg.predict(X_train)\n",
    "lin_mse = mean_squared_error(y_train, predictions)\n",
    "lin_rmse = np.sqrt(lin_mse)\n",
    "lin_rmse"
   ]
  },
  {
   "cell_type": "markdown",
   "id": "92fd33c2",
   "metadata": {
    "papermill": {
     "duration": 0.042404,
     "end_time": "2023-05-15T12:29:09.199250",
     "exception": false,
     "start_time": "2023-05-15T12:29:09.156846",
     "status": "completed"
    },
    "tags": []
   },
   "source": [
    "### R Square"
   ]
  },
  {
   "cell_type": "code",
   "execution_count": 55,
   "id": "ead4b974",
   "metadata": {
    "execution": {
     "iopub.execute_input": "2023-05-15T12:29:09.289102Z",
     "iopub.status.busy": "2023-05-15T12:29:09.288376Z",
     "iopub.status.idle": "2023-05-15T12:29:09.296373Z",
     "shell.execute_reply": "2023-05-15T12:29:09.295503Z"
    },
    "papermill": {
     "duration": 0.056146,
     "end_time": "2023-05-15T12:29:09.298636",
     "exception": false,
     "start_time": "2023-05-15T12:29:09.242490",
     "status": "completed"
    },
    "tags": []
   },
   "outputs": [
    {
     "data": {
      "text/plain": [
       "0.5019178567017311"
      ]
     },
     "execution_count": 55,
     "metadata": {},
     "output_type": "execute_result"
    }
   ],
   "source": [
    "lin_reg.score(X_train,y_train)"
   ]
  },
  {
   "cell_type": "code",
   "execution_count": 56,
   "id": "6232b7b7",
   "metadata": {
    "execution": {
     "iopub.execute_input": "2023-05-15T12:29:09.388536Z",
     "iopub.status.busy": "2023-05-15T12:29:09.387758Z",
     "iopub.status.idle": "2023-05-15T12:29:09.396052Z",
     "shell.execute_reply": "2023-05-15T12:29:09.395110Z"
    },
    "papermill": {
     "duration": 0.05561,
     "end_time": "2023-05-15T12:29:09.398330",
     "exception": false,
     "start_time": "2023-05-15T12:29:09.342720",
     "status": "completed"
    },
    "tags": []
   },
   "outputs": [
    {
     "data": {
      "text/plain": [
       "0.5019178567017311"
      ]
     },
     "execution_count": 56,
     "metadata": {},
     "output_type": "execute_result"
    }
   ],
   "source": [
    "r2_score(y_pred=lin_reg.predict(X_train), y_true=y_train)"
   ]
  },
  {
   "cell_type": "markdown",
   "id": "83ea2ff2",
   "metadata": {
    "papermill": {
     "duration": 0.043535,
     "end_time": "2023-05-15T12:29:09.486108",
     "exception": false,
     "start_time": "2023-05-15T12:29:09.442573",
     "status": "completed"
    },
    "tags": []
   },
   "source": [
    "###  Mean Square Error(MSE)/Root Mean Square Error(RMSE)"
   ]
  },
  {
   "cell_type": "code",
   "execution_count": 57,
   "id": "b26373d2",
   "metadata": {
    "execution": {
     "iopub.execute_input": "2023-05-15T12:29:09.577419Z",
     "iopub.status.busy": "2023-05-15T12:29:09.576271Z",
     "iopub.status.idle": "2023-05-15T12:29:09.586300Z",
     "shell.execute_reply": "2023-05-15T12:29:09.585074Z"
    },
    "papermill": {
     "duration": 0.058253,
     "end_time": "2023-05-15T12:29:09.588957",
     "exception": false,
     "start_time": "2023-05-15T12:29:09.530704",
     "status": "completed"
    },
    "tags": []
   },
   "outputs": [
    {
     "data": {
      "text/plain": [
       "8715.608018563136"
      ]
     },
     "execution_count": 57,
     "metadata": {},
     "output_type": "execute_result"
    }
   ],
   "source": [
    "predictions = lin_reg.predict(X_test)\n",
    "lin_mse = mean_squared_error(y_test, predictions)\n",
    "lin_rmse = np.sqrt(lin_mse)\n",
    "lin_rmse"
   ]
  },
  {
   "cell_type": "markdown",
   "id": "076d4354",
   "metadata": {
    "papermill": {
     "duration": 0.042837,
     "end_time": "2023-05-15T12:29:09.675761",
     "exception": false,
     "start_time": "2023-05-15T12:29:09.632924",
     "status": "completed"
    },
    "tags": []
   },
   "source": [
    " ### Mean Absolute Error(MAE)"
   ]
  },
  {
   "cell_type": "code",
   "execution_count": 58,
   "id": "194d4b66",
   "metadata": {
    "execution": {
     "iopub.execute_input": "2023-05-15T12:29:09.767729Z",
     "iopub.status.busy": "2023-05-15T12:29:09.767316Z",
     "iopub.status.idle": "2023-05-15T12:29:09.774968Z",
     "shell.execute_reply": "2023-05-15T12:29:09.773951Z"
    },
    "papermill": {
     "duration": 0.055971,
     "end_time": "2023-05-15T12:29:09.777185",
     "exception": false,
     "start_time": "2023-05-15T12:29:09.721214",
     "status": "completed"
    },
    "tags": []
   },
   "outputs": [
    {
     "data": {
      "text/plain": [
       "6552.315838771197"
      ]
     },
     "execution_count": 58,
     "metadata": {},
     "output_type": "execute_result"
    }
   ],
   "source": [
    "lin_mae = mean_absolute_error(y_test, predictions)\n",
    "lin_mae"
   ]
  },
  {
   "cell_type": "markdown",
   "id": "bd567c21",
   "metadata": {
    "papermill": {
     "duration": 0.044928,
     "end_time": "2023-05-15T12:29:09.866721",
     "exception": false,
     "start_time": "2023-05-15T12:29:09.821793",
     "status": "completed"
    },
    "tags": []
   },
   "source": [
    "## SGDRegressor"
   ]
  },
  {
   "cell_type": "code",
   "execution_count": 59,
   "id": "e0913018",
   "metadata": {
    "execution": {
     "iopub.execute_input": "2023-05-15T12:29:09.957033Z",
     "iopub.status.busy": "2023-05-15T12:29:09.956312Z",
     "iopub.status.idle": "2023-05-15T12:29:10.181080Z",
     "shell.execute_reply": "2023-05-15T12:29:10.179953Z"
    },
    "papermill": {
     "duration": 0.273205,
     "end_time": "2023-05-15T12:29:10.183613",
     "exception": false,
     "start_time": "2023-05-15T12:29:09.910408",
     "status": "completed"
    },
    "tags": []
   },
   "outputs": [
    {
     "data": {
      "text/html": [
       "<style>#sk-container-id-2 {color: black;background-color: white;}#sk-container-id-2 pre{padding: 0;}#sk-container-id-2 div.sk-toggleable {background-color: white;}#sk-container-id-2 label.sk-toggleable__label {cursor: pointer;display: block;width: 100%;margin-bottom: 0;padding: 0.3em;box-sizing: border-box;text-align: center;}#sk-container-id-2 label.sk-toggleable__label-arrow:before {content: \"▸\";float: left;margin-right: 0.25em;color: #696969;}#sk-container-id-2 label.sk-toggleable__label-arrow:hover:before {color: black;}#sk-container-id-2 div.sk-estimator:hover label.sk-toggleable__label-arrow:before {color: black;}#sk-container-id-2 div.sk-toggleable__content {max-height: 0;max-width: 0;overflow: hidden;text-align: left;background-color: #f0f8ff;}#sk-container-id-2 div.sk-toggleable__content pre {margin: 0.2em;color: black;border-radius: 0.25em;background-color: #f0f8ff;}#sk-container-id-2 input.sk-toggleable__control:checked~div.sk-toggleable__content {max-height: 200px;max-width: 100%;overflow: auto;}#sk-container-id-2 input.sk-toggleable__control:checked~label.sk-toggleable__label-arrow:before {content: \"▾\";}#sk-container-id-2 div.sk-estimator input.sk-toggleable__control:checked~label.sk-toggleable__label {background-color: #d4ebff;}#sk-container-id-2 div.sk-label input.sk-toggleable__control:checked~label.sk-toggleable__label {background-color: #d4ebff;}#sk-container-id-2 input.sk-hidden--visually {border: 0;clip: rect(1px 1px 1px 1px);clip: rect(1px, 1px, 1px, 1px);height: 1px;margin: -1px;overflow: hidden;padding: 0;position: absolute;width: 1px;}#sk-container-id-2 div.sk-estimator {font-family: monospace;background-color: #f0f8ff;border: 1px dotted black;border-radius: 0.25em;box-sizing: border-box;margin-bottom: 0.5em;}#sk-container-id-2 div.sk-estimator:hover {background-color: #d4ebff;}#sk-container-id-2 div.sk-parallel-item::after {content: \"\";width: 100%;border-bottom: 1px solid gray;flex-grow: 1;}#sk-container-id-2 div.sk-label:hover label.sk-toggleable__label {background-color: #d4ebff;}#sk-container-id-2 div.sk-serial::before {content: \"\";position: absolute;border-left: 1px solid gray;box-sizing: border-box;top: 0;bottom: 0;left: 50%;z-index: 0;}#sk-container-id-2 div.sk-serial {display: flex;flex-direction: column;align-items: center;background-color: white;padding-right: 0.2em;padding-left: 0.2em;position: relative;}#sk-container-id-2 div.sk-item {position: relative;z-index: 1;}#sk-container-id-2 div.sk-parallel {display: flex;align-items: stretch;justify-content: center;background-color: white;position: relative;}#sk-container-id-2 div.sk-item::before, #sk-container-id-2 div.sk-parallel-item::before {content: \"\";position: absolute;border-left: 1px solid gray;box-sizing: border-box;top: 0;bottom: 0;left: 50%;z-index: -1;}#sk-container-id-2 div.sk-parallel-item {display: flex;flex-direction: column;z-index: 1;position: relative;background-color: white;}#sk-container-id-2 div.sk-parallel-item:first-child::after {align-self: flex-end;width: 50%;}#sk-container-id-2 div.sk-parallel-item:last-child::after {align-self: flex-start;width: 50%;}#sk-container-id-2 div.sk-parallel-item:only-child::after {width: 0;}#sk-container-id-2 div.sk-dashed-wrapped {border: 1px dashed gray;margin: 0 0.4em 0.5em 0.4em;box-sizing: border-box;padding-bottom: 0.4em;background-color: white;}#sk-container-id-2 div.sk-label label {font-family: monospace;font-weight: bold;display: inline-block;line-height: 1.2em;}#sk-container-id-2 div.sk-label-container {text-align: center;}#sk-container-id-2 div.sk-container {/* jupyter's `normalize.less` sets `[hidden] { display: none; }` but bootstrap.min.css set `[hidden] { display: none !important; }` so we also need the `!important` here to be able to override the default hidden behavior on the sphinx rendered scikit-learn.org. See: https://github.com/scikit-learn/scikit-learn/issues/21755 */display: inline-block !important;position: relative;}#sk-container-id-2 div.sk-text-repr-fallback {display: none;}</style><div id=\"sk-container-id-2\" class=\"sk-top-container\"><div class=\"sk-text-repr-fallback\"><pre>SGDRegressor()</pre><b>In a Jupyter environment, please rerun this cell to show the HTML representation or trust the notebook. <br />On GitHub, the HTML representation is unable to render, please try loading this page with nbviewer.org.</b></div><div class=\"sk-container\" hidden><div class=\"sk-item\"><div class=\"sk-estimator sk-toggleable\"><input class=\"sk-toggleable__control sk-hidden--visually\" id=\"sk-estimator-id-2\" type=\"checkbox\" checked><label for=\"sk-estimator-id-2\" class=\"sk-toggleable__label sk-toggleable__label-arrow\">SGDRegressor</label><div class=\"sk-toggleable__content\"><pre>SGDRegressor()</pre></div></div></div></div></div>"
      ],
      "text/plain": [
       "SGDRegressor()"
      ]
     },
     "execution_count": 59,
     "metadata": {},
     "output_type": "execute_result"
    }
   ],
   "source": [
    "sgd_reg = SGDRegressor()\n",
    "\n",
    "sgd_reg.fit(X_train, y_train)"
   ]
  },
  {
   "cell_type": "code",
   "execution_count": 60,
   "id": "f58619e1",
   "metadata": {
    "execution": {
     "iopub.execute_input": "2023-05-15T12:29:10.275269Z",
     "iopub.status.busy": "2023-05-15T12:29:10.274010Z",
     "iopub.status.idle": "2023-05-15T12:29:10.284157Z",
     "shell.execute_reply": "2023-05-15T12:29:10.283034Z"
    },
    "papermill": {
     "duration": 0.058406,
     "end_time": "2023-05-15T12:29:10.286555",
     "exception": false,
     "start_time": "2023-05-15T12:29:10.228149",
     "status": "completed"
    },
    "tags": []
   },
   "outputs": [
    {
     "data": {
      "text/plain": [
       "8715.608018563136"
      ]
     },
     "execution_count": 60,
     "metadata": {},
     "output_type": "execute_result"
    }
   ],
   "source": [
    "predictions = sgd_reg.predict(X_test)\n",
    "sgd_mse = mean_squared_error(y_test, predictions)\n",
    "sgd_rmse = np.sqrt(lin_mse)\n",
    "sgd_rmse"
   ]
  },
  {
   "cell_type": "markdown",
   "id": "815cd560",
   "metadata": {
    "papermill": {
     "duration": 0.044244,
     "end_time": "2023-05-15T12:29:10.374499",
     "exception": false,
     "start_time": "2023-05-15T12:29:10.330255",
     "status": "completed"
    },
    "tags": []
   },
   "source": [
    "## DecisionTreeRegressor"
   ]
  },
  {
   "cell_type": "code",
   "execution_count": 61,
   "id": "16f9979d",
   "metadata": {
    "execution": {
     "iopub.execute_input": "2023-05-15T12:29:10.465438Z",
     "iopub.status.busy": "2023-05-15T12:29:10.465019Z",
     "iopub.status.idle": "2023-05-15T12:29:11.860423Z",
     "shell.execute_reply": "2023-05-15T12:29:11.859206Z"
    },
    "papermill": {
     "duration": 1.443314,
     "end_time": "2023-05-15T12:29:11.863092",
     "exception": false,
     "start_time": "2023-05-15T12:29:10.419778",
     "status": "completed"
    },
    "tags": []
   },
   "outputs": [
    {
     "data": {
      "text/html": [
       "<style>#sk-container-id-3 {color: black;background-color: white;}#sk-container-id-3 pre{padding: 0;}#sk-container-id-3 div.sk-toggleable {background-color: white;}#sk-container-id-3 label.sk-toggleable__label {cursor: pointer;display: block;width: 100%;margin-bottom: 0;padding: 0.3em;box-sizing: border-box;text-align: center;}#sk-container-id-3 label.sk-toggleable__label-arrow:before {content: \"▸\";float: left;margin-right: 0.25em;color: #696969;}#sk-container-id-3 label.sk-toggleable__label-arrow:hover:before {color: black;}#sk-container-id-3 div.sk-estimator:hover label.sk-toggleable__label-arrow:before {color: black;}#sk-container-id-3 div.sk-toggleable__content {max-height: 0;max-width: 0;overflow: hidden;text-align: left;background-color: #f0f8ff;}#sk-container-id-3 div.sk-toggleable__content pre {margin: 0.2em;color: black;border-radius: 0.25em;background-color: #f0f8ff;}#sk-container-id-3 input.sk-toggleable__control:checked~div.sk-toggleable__content {max-height: 200px;max-width: 100%;overflow: auto;}#sk-container-id-3 input.sk-toggleable__control:checked~label.sk-toggleable__label-arrow:before {content: \"▾\";}#sk-container-id-3 div.sk-estimator input.sk-toggleable__control:checked~label.sk-toggleable__label {background-color: #d4ebff;}#sk-container-id-3 div.sk-label input.sk-toggleable__control:checked~label.sk-toggleable__label {background-color: #d4ebff;}#sk-container-id-3 input.sk-hidden--visually {border: 0;clip: rect(1px 1px 1px 1px);clip: rect(1px, 1px, 1px, 1px);height: 1px;margin: -1px;overflow: hidden;padding: 0;position: absolute;width: 1px;}#sk-container-id-3 div.sk-estimator {font-family: monospace;background-color: #f0f8ff;border: 1px dotted black;border-radius: 0.25em;box-sizing: border-box;margin-bottom: 0.5em;}#sk-container-id-3 div.sk-estimator:hover {background-color: #d4ebff;}#sk-container-id-3 div.sk-parallel-item::after {content: \"\";width: 100%;border-bottom: 1px solid gray;flex-grow: 1;}#sk-container-id-3 div.sk-label:hover label.sk-toggleable__label {background-color: #d4ebff;}#sk-container-id-3 div.sk-serial::before {content: \"\";position: absolute;border-left: 1px solid gray;box-sizing: border-box;top: 0;bottom: 0;left: 50%;z-index: 0;}#sk-container-id-3 div.sk-serial {display: flex;flex-direction: column;align-items: center;background-color: white;padding-right: 0.2em;padding-left: 0.2em;position: relative;}#sk-container-id-3 div.sk-item {position: relative;z-index: 1;}#sk-container-id-3 div.sk-parallel {display: flex;align-items: stretch;justify-content: center;background-color: white;position: relative;}#sk-container-id-3 div.sk-item::before, #sk-container-id-3 div.sk-parallel-item::before {content: \"\";position: absolute;border-left: 1px solid gray;box-sizing: border-box;top: 0;bottom: 0;left: 50%;z-index: -1;}#sk-container-id-3 div.sk-parallel-item {display: flex;flex-direction: column;z-index: 1;position: relative;background-color: white;}#sk-container-id-3 div.sk-parallel-item:first-child::after {align-self: flex-end;width: 50%;}#sk-container-id-3 div.sk-parallel-item:last-child::after {align-self: flex-start;width: 50%;}#sk-container-id-3 div.sk-parallel-item:only-child::after {width: 0;}#sk-container-id-3 div.sk-dashed-wrapped {border: 1px dashed gray;margin: 0 0.4em 0.5em 0.4em;box-sizing: border-box;padding-bottom: 0.4em;background-color: white;}#sk-container-id-3 div.sk-label label {font-family: monospace;font-weight: bold;display: inline-block;line-height: 1.2em;}#sk-container-id-3 div.sk-label-container {text-align: center;}#sk-container-id-3 div.sk-container {/* jupyter's `normalize.less` sets `[hidden] { display: none; }` but bootstrap.min.css set `[hidden] { display: none !important; }` so we also need the `!important` here to be able to override the default hidden behavior on the sphinx rendered scikit-learn.org. See: https://github.com/scikit-learn/scikit-learn/issues/21755 */display: inline-block !important;position: relative;}#sk-container-id-3 div.sk-text-repr-fallback {display: none;}</style><div id=\"sk-container-id-3\" class=\"sk-top-container\"><div class=\"sk-text-repr-fallback\"><pre>DecisionTreeRegressor(random_state=42)</pre><b>In a Jupyter environment, please rerun this cell to show the HTML representation or trust the notebook. <br />On GitHub, the HTML representation is unable to render, please try loading this page with nbviewer.org.</b></div><div class=\"sk-container\" hidden><div class=\"sk-item\"><div class=\"sk-estimator sk-toggleable\"><input class=\"sk-toggleable__control sk-hidden--visually\" id=\"sk-estimator-id-3\" type=\"checkbox\" checked><label for=\"sk-estimator-id-3\" class=\"sk-toggleable__label sk-toggleable__label-arrow\">DecisionTreeRegressor</label><div class=\"sk-toggleable__content\"><pre>DecisionTreeRegressor(random_state=42)</pre></div></div></div></div></div>"
      ],
      "text/plain": [
       "DecisionTreeRegressor(random_state=42)"
      ]
     },
     "execution_count": 61,
     "metadata": {},
     "output_type": "execute_result"
    }
   ],
   "source": [
    "tree_reg = DecisionTreeRegressor(random_state = 42)\n",
    "\n",
    "tree_reg.fit(X_train, y_train)"
   ]
  },
  {
   "cell_type": "code",
   "execution_count": 62,
   "id": "8c0ff9e1",
   "metadata": {
    "execution": {
     "iopub.execute_input": "2023-05-15T12:29:11.953080Z",
     "iopub.status.busy": "2023-05-15T12:29:11.951841Z",
     "iopub.status.idle": "2023-05-15T12:29:11.966216Z",
     "shell.execute_reply": "2023-05-15T12:29:11.965062Z"
    },
    "papermill": {
     "duration": 0.06201,
     "end_time": "2023-05-15T12:29:11.968738",
     "exception": false,
     "start_time": "2023-05-15T12:29:11.906728",
     "status": "completed"
    },
    "tags": []
   },
   "outputs": [
    {
     "data": {
      "text/plain": [
       "1058.7449606952366"
      ]
     },
     "execution_count": 62,
     "metadata": {},
     "output_type": "execute_result"
    }
   ],
   "source": [
    "tree_predictions = tree_reg.predict(X_train)\n",
    "tree_mse = mean_squared_error(y_train, tree_predictions)\n",
    "tree_rmse = np.sqrt(tree_mse)\n",
    "tree_rmse"
   ]
  },
  {
   "cell_type": "markdown",
   "id": "03a92ec6",
   "metadata": {
    "papermill": {
     "duration": 0.043823,
     "end_time": "2023-05-15T12:29:12.056262",
     "exception": false,
     "start_time": "2023-05-15T12:29:12.012439",
     "status": "completed"
    },
    "tags": []
   },
   "source": [
    "Just 1058??! Decision tree is really keen on to overfitting so just checking rmse will not be enough to evaluate it let's check cross validation score for it."
   ]
  },
  {
   "cell_type": "markdown",
   "id": "9bd56ed7",
   "metadata": {
    "papermill": {
     "duration": 0.044059,
     "end_time": "2023-05-15T12:29:12.144663",
     "exception": false,
     "start_time": "2023-05-15T12:29:12.100604",
     "status": "completed"
    },
    "tags": []
   },
   "source": [
    "### cross validation score"
   ]
  },
  {
   "cell_type": "code",
   "execution_count": 63,
   "id": "251c8354",
   "metadata": {
    "execution": {
     "iopub.execute_input": "2023-05-15T12:29:12.234247Z",
     "iopub.status.busy": "2023-05-15T12:29:12.233843Z",
     "iopub.status.idle": "2023-05-15T12:29:17.545479Z",
     "shell.execute_reply": "2023-05-15T12:29:17.543993Z"
    },
    "papermill": {
     "duration": 5.359732,
     "end_time": "2023-05-15T12:29:17.548242",
     "exception": false,
     "start_time": "2023-05-15T12:29:12.188510",
     "status": "completed"
    },
    "tags": []
   },
   "outputs": [
    {
     "data": {
      "text/plain": [
       "array([7995.48736604, 7764.27933633, 8065.31082876, 7501.49410636,\n",
       "       7390.48090865])"
      ]
     },
     "execution_count": 63,
     "metadata": {},
     "output_type": "execute_result"
    }
   ],
   "source": [
    "scores = cross_val_score(tree_reg, X_train, y_train, scoring='neg_mean_squared_error', cv=5)\n",
    "\n",
    "tree_rmse_scores = np.sqrt(-scores)\n",
    "tree_rmse_scores"
   ]
  },
  {
   "cell_type": "markdown",
   "id": "d53b35f8",
   "metadata": {
    "papermill": {
     "duration": 0.044326,
     "end_time": "2023-05-15T12:29:17.638370",
     "exception": false,
     "start_time": "2023-05-15T12:29:17.594044",
     "status": "completed"
    },
    "tags": []
   },
   "source": [
    "OK, the results seems more reasonable now. Our model is doing better than linear regression model"
   ]
  },
  {
   "cell_type": "code",
   "execution_count": 64,
   "id": "b1397b67",
   "metadata": {
    "execution": {
     "iopub.execute_input": "2023-05-15T12:29:17.728759Z",
     "iopub.status.busy": "2023-05-15T12:29:17.728363Z",
     "iopub.status.idle": "2023-05-15T12:29:21.814521Z",
     "shell.execute_reply": "2023-05-15T12:29:21.813432Z"
    },
    "papermill": {
     "duration": 4.13457,
     "end_time": "2023-05-15T12:29:21.817238",
     "exception": false,
     "start_time": "2023-05-15T12:29:17.682668",
     "status": "completed"
    },
    "tags": []
   },
   "outputs": [
    {
     "data": {
      "text/plain": [
       "array([8874.17474065, 8965.88973389, 9197.03845932, 9023.62041767,\n",
       "       8666.66241805])"
      ]
     },
     "execution_count": 64,
     "metadata": {},
     "output_type": "execute_result"
    }
   ],
   "source": [
    "lin_scores = cross_val_score(lin_reg, X_train, y_train, scoring='neg_mean_squared_error', cv=5)\n",
    "lin_rmse_scores = np.sqrt(-lin_scores)\n",
    "lin_rmse_scores"
   ]
  },
  {
   "cell_type": "markdown",
   "id": "5f08dbe9",
   "metadata": {
    "papermill": {
     "duration": 0.043611,
     "end_time": "2023-05-15T12:29:21.905649",
     "exception": false,
     "start_time": "2023-05-15T12:29:21.862038",
     "status": "completed"
    },
    "tags": []
   },
   "source": [
    "## RandomForestRegressor"
   ]
  },
  {
   "cell_type": "code",
   "execution_count": 65,
   "id": "cab7b152",
   "metadata": {
    "execution": {
     "iopub.execute_input": "2023-05-15T12:29:21.997045Z",
     "iopub.status.busy": "2023-05-15T12:29:21.996658Z",
     "iopub.status.idle": "2023-05-15T12:31:00.342626Z",
     "shell.execute_reply": "2023-05-15T12:31:00.340717Z"
    },
    "papermill": {
     "duration": 98.443903,
     "end_time": "2023-05-15T12:31:00.394225",
     "exception": false,
     "start_time": "2023-05-15T12:29:21.950322",
     "status": "completed"
    },
    "tags": []
   },
   "outputs": [
    {
     "data": {
      "text/html": [
       "<style>#sk-container-id-4 {color: black;background-color: white;}#sk-container-id-4 pre{padding: 0;}#sk-container-id-4 div.sk-toggleable {background-color: white;}#sk-container-id-4 label.sk-toggleable__label {cursor: pointer;display: block;width: 100%;margin-bottom: 0;padding: 0.3em;box-sizing: border-box;text-align: center;}#sk-container-id-4 label.sk-toggleable__label-arrow:before {content: \"▸\";float: left;margin-right: 0.25em;color: #696969;}#sk-container-id-4 label.sk-toggleable__label-arrow:hover:before {color: black;}#sk-container-id-4 div.sk-estimator:hover label.sk-toggleable__label-arrow:before {color: black;}#sk-container-id-4 div.sk-toggleable__content {max-height: 0;max-width: 0;overflow: hidden;text-align: left;background-color: #f0f8ff;}#sk-container-id-4 div.sk-toggleable__content pre {margin: 0.2em;color: black;border-radius: 0.25em;background-color: #f0f8ff;}#sk-container-id-4 input.sk-toggleable__control:checked~div.sk-toggleable__content {max-height: 200px;max-width: 100%;overflow: auto;}#sk-container-id-4 input.sk-toggleable__control:checked~label.sk-toggleable__label-arrow:before {content: \"▾\";}#sk-container-id-4 div.sk-estimator input.sk-toggleable__control:checked~label.sk-toggleable__label {background-color: #d4ebff;}#sk-container-id-4 div.sk-label input.sk-toggleable__control:checked~label.sk-toggleable__label {background-color: #d4ebff;}#sk-container-id-4 input.sk-hidden--visually {border: 0;clip: rect(1px 1px 1px 1px);clip: rect(1px, 1px, 1px, 1px);height: 1px;margin: -1px;overflow: hidden;padding: 0;position: absolute;width: 1px;}#sk-container-id-4 div.sk-estimator {font-family: monospace;background-color: #f0f8ff;border: 1px dotted black;border-radius: 0.25em;box-sizing: border-box;margin-bottom: 0.5em;}#sk-container-id-4 div.sk-estimator:hover {background-color: #d4ebff;}#sk-container-id-4 div.sk-parallel-item::after {content: \"\";width: 100%;border-bottom: 1px solid gray;flex-grow: 1;}#sk-container-id-4 div.sk-label:hover label.sk-toggleable__label {background-color: #d4ebff;}#sk-container-id-4 div.sk-serial::before {content: \"\";position: absolute;border-left: 1px solid gray;box-sizing: border-box;top: 0;bottom: 0;left: 50%;z-index: 0;}#sk-container-id-4 div.sk-serial {display: flex;flex-direction: column;align-items: center;background-color: white;padding-right: 0.2em;padding-left: 0.2em;position: relative;}#sk-container-id-4 div.sk-item {position: relative;z-index: 1;}#sk-container-id-4 div.sk-parallel {display: flex;align-items: stretch;justify-content: center;background-color: white;position: relative;}#sk-container-id-4 div.sk-item::before, #sk-container-id-4 div.sk-parallel-item::before {content: \"\";position: absolute;border-left: 1px solid gray;box-sizing: border-box;top: 0;bottom: 0;left: 50%;z-index: -1;}#sk-container-id-4 div.sk-parallel-item {display: flex;flex-direction: column;z-index: 1;position: relative;background-color: white;}#sk-container-id-4 div.sk-parallel-item:first-child::after {align-self: flex-end;width: 50%;}#sk-container-id-4 div.sk-parallel-item:last-child::after {align-self: flex-start;width: 50%;}#sk-container-id-4 div.sk-parallel-item:only-child::after {width: 0;}#sk-container-id-4 div.sk-dashed-wrapped {border: 1px dashed gray;margin: 0 0.4em 0.5em 0.4em;box-sizing: border-box;padding-bottom: 0.4em;background-color: white;}#sk-container-id-4 div.sk-label label {font-family: monospace;font-weight: bold;display: inline-block;line-height: 1.2em;}#sk-container-id-4 div.sk-label-container {text-align: center;}#sk-container-id-4 div.sk-container {/* jupyter's `normalize.less` sets `[hidden] { display: none; }` but bootstrap.min.css set `[hidden] { display: none !important; }` so we also need the `!important` here to be able to override the default hidden behavior on the sphinx rendered scikit-learn.org. See: https://github.com/scikit-learn/scikit-learn/issues/21755 */display: inline-block !important;position: relative;}#sk-container-id-4 div.sk-text-repr-fallback {display: none;}</style><div id=\"sk-container-id-4\" class=\"sk-top-container\"><div class=\"sk-text-repr-fallback\"><pre>RandomForestRegressor(random_state=123)</pre><b>In a Jupyter environment, please rerun this cell to show the HTML representation or trust the notebook. <br />On GitHub, the HTML representation is unable to render, please try loading this page with nbviewer.org.</b></div><div class=\"sk-container\" hidden><div class=\"sk-item\"><div class=\"sk-estimator sk-toggleable\"><input class=\"sk-toggleable__control sk-hidden--visually\" id=\"sk-estimator-id-4\" type=\"checkbox\" checked><label for=\"sk-estimator-id-4\" class=\"sk-toggleable__label sk-toggleable__label-arrow\">RandomForestRegressor</label><div class=\"sk-toggleable__content\"><pre>RandomForestRegressor(random_state=123)</pre></div></div></div></div></div>"
      ],
      "text/plain": [
       "RandomForestRegressor(random_state=123)"
      ]
     },
     "execution_count": 65,
     "metadata": {},
     "output_type": "execute_result"
    }
   ],
   "source": [
    "forest_reg = RandomForestRegressor(n_estimators = 100, random_state=123)\n",
    "\n",
    "forest_reg.fit(X_train, y_train)"
   ]
  },
  {
   "cell_type": "code",
   "execution_count": 66,
   "id": "1cd30b62",
   "metadata": {
    "execution": {
     "iopub.execute_input": "2023-05-15T12:31:00.493950Z",
     "iopub.status.busy": "2023-05-15T12:31:00.492665Z",
     "iopub.status.idle": "2023-05-15T12:31:00.876542Z",
     "shell.execute_reply": "2023-05-15T12:31:00.875444Z"
    },
    "papermill": {
     "duration": 0.438639,
     "end_time": "2023-05-15T12:31:00.878943",
     "exception": false,
     "start_time": "2023-05-15T12:31:00.440304",
     "status": "completed"
    },
    "tags": []
   },
   "outputs": [
    {
     "data": {
      "text/plain": [
       "2372.881910440568"
      ]
     },
     "execution_count": 66,
     "metadata": {},
     "output_type": "execute_result"
    }
   ],
   "source": [
    "forest_predictions = forest_reg.predict(X_train)\n",
    "forest_mse = mean_squared_error(y_train, forest_predictions)\n",
    "forest_rmse = np.sqrt(forest_mse)\n",
    "forest_rmse"
   ]
  },
  {
   "cell_type": "code",
   "execution_count": 67,
   "id": "e4abd890",
   "metadata": {
    "execution": {
     "iopub.execute_input": "2023-05-15T12:31:00.972227Z",
     "iopub.status.busy": "2023-05-15T12:31:00.971545Z",
     "iopub.status.idle": "2023-05-15T12:37:09.144311Z",
     "shell.execute_reply": "2023-05-15T12:37:09.143087Z"
    },
    "papermill": {
     "duration": 368.269785,
     "end_time": "2023-05-15T12:37:09.194084",
     "exception": false,
     "start_time": "2023-05-15T12:31:00.924299",
     "status": "completed"
    },
    "tags": []
   },
   "outputs": [
    {
     "data": {
      "text/plain": [
       "array([5847.38668696, 6020.11684599, 6258.97744505, 5888.93700089,\n",
       "       5434.74553778])"
      ]
     },
     "execution_count": 67,
     "metadata": {},
     "output_type": "execute_result"
    }
   ],
   "source": [
    "forest_scores = cross_val_score(forest_reg, X_train, y_train,\n",
    "                                scoring=\"neg_mean_squared_error\", cv=5)\n",
    "forest_rmse_scores = np.sqrt(-forest_scores)\n",
    "forest_rmse_scores"
   ]
  },
  {
   "cell_type": "markdown",
   "id": "8b67559f",
   "metadata": {
    "papermill": {
     "duration": 0.046641,
     "end_time": "2023-05-15T12:37:09.287199",
     "exception": false,
     "start_time": "2023-05-15T12:37:09.240558",
     "status": "completed"
    },
    "tags": []
   },
   "source": [
    "Random Forest superiors other 2 algorithm so far so let's continue with this algorithm and tune the hyperparameters for it using GridSearchCV. This step will take 10-20 minutes depending on your computer so be careful before running this cell on your pc)"
   ]
  },
  {
   "cell_type": "markdown",
   "id": "58ebd35f",
   "metadata": {
    "papermill": {
     "duration": 0.046977,
     "end_time": "2023-05-15T12:37:09.380715",
     "exception": false,
     "start_time": "2023-05-15T12:37:09.333738",
     "status": "completed"
    },
    "tags": []
   },
   "source": [
    "### GridSearchCV"
   ]
  },
  {
   "cell_type": "code",
   "execution_count": 68,
   "id": "994f6832",
   "metadata": {
    "execution": {
     "iopub.execute_input": "2023-05-15T12:37:09.478103Z",
     "iopub.status.busy": "2023-05-15T12:37:09.477240Z",
     "iopub.status.idle": "2023-05-15T12:53:58.795877Z",
     "shell.execute_reply": "2023-05-15T12:53:58.794724Z"
    },
    "papermill": {
     "duration": 1009.419225,
     "end_time": "2023-05-15T12:53:58.846565",
     "exception": false,
     "start_time": "2023-05-15T12:37:09.427340",
     "status": "completed"
    },
    "tags": []
   },
   "outputs": [
    {
     "data": {
      "text/html": [
       "<style>#sk-container-id-5 {color: black;background-color: white;}#sk-container-id-5 pre{padding: 0;}#sk-container-id-5 div.sk-toggleable {background-color: white;}#sk-container-id-5 label.sk-toggleable__label {cursor: pointer;display: block;width: 100%;margin-bottom: 0;padding: 0.3em;box-sizing: border-box;text-align: center;}#sk-container-id-5 label.sk-toggleable__label-arrow:before {content: \"▸\";float: left;margin-right: 0.25em;color: #696969;}#sk-container-id-5 label.sk-toggleable__label-arrow:hover:before {color: black;}#sk-container-id-5 div.sk-estimator:hover label.sk-toggleable__label-arrow:before {color: black;}#sk-container-id-5 div.sk-toggleable__content {max-height: 0;max-width: 0;overflow: hidden;text-align: left;background-color: #f0f8ff;}#sk-container-id-5 div.sk-toggleable__content pre {margin: 0.2em;color: black;border-radius: 0.25em;background-color: #f0f8ff;}#sk-container-id-5 input.sk-toggleable__control:checked~div.sk-toggleable__content {max-height: 200px;max-width: 100%;overflow: auto;}#sk-container-id-5 input.sk-toggleable__control:checked~label.sk-toggleable__label-arrow:before {content: \"▾\";}#sk-container-id-5 div.sk-estimator input.sk-toggleable__control:checked~label.sk-toggleable__label {background-color: #d4ebff;}#sk-container-id-5 div.sk-label input.sk-toggleable__control:checked~label.sk-toggleable__label {background-color: #d4ebff;}#sk-container-id-5 input.sk-hidden--visually {border: 0;clip: rect(1px 1px 1px 1px);clip: rect(1px, 1px, 1px, 1px);height: 1px;margin: -1px;overflow: hidden;padding: 0;position: absolute;width: 1px;}#sk-container-id-5 div.sk-estimator {font-family: monospace;background-color: #f0f8ff;border: 1px dotted black;border-radius: 0.25em;box-sizing: border-box;margin-bottom: 0.5em;}#sk-container-id-5 div.sk-estimator:hover {background-color: #d4ebff;}#sk-container-id-5 div.sk-parallel-item::after {content: \"\";width: 100%;border-bottom: 1px solid gray;flex-grow: 1;}#sk-container-id-5 div.sk-label:hover label.sk-toggleable__label {background-color: #d4ebff;}#sk-container-id-5 div.sk-serial::before {content: \"\";position: absolute;border-left: 1px solid gray;box-sizing: border-box;top: 0;bottom: 0;left: 50%;z-index: 0;}#sk-container-id-5 div.sk-serial {display: flex;flex-direction: column;align-items: center;background-color: white;padding-right: 0.2em;padding-left: 0.2em;position: relative;}#sk-container-id-5 div.sk-item {position: relative;z-index: 1;}#sk-container-id-5 div.sk-parallel {display: flex;align-items: stretch;justify-content: center;background-color: white;position: relative;}#sk-container-id-5 div.sk-item::before, #sk-container-id-5 div.sk-parallel-item::before {content: \"\";position: absolute;border-left: 1px solid gray;box-sizing: border-box;top: 0;bottom: 0;left: 50%;z-index: -1;}#sk-container-id-5 div.sk-parallel-item {display: flex;flex-direction: column;z-index: 1;position: relative;background-color: white;}#sk-container-id-5 div.sk-parallel-item:first-child::after {align-self: flex-end;width: 50%;}#sk-container-id-5 div.sk-parallel-item:last-child::after {align-self: flex-start;width: 50%;}#sk-container-id-5 div.sk-parallel-item:only-child::after {width: 0;}#sk-container-id-5 div.sk-dashed-wrapped {border: 1px dashed gray;margin: 0 0.4em 0.5em 0.4em;box-sizing: border-box;padding-bottom: 0.4em;background-color: white;}#sk-container-id-5 div.sk-label label {font-family: monospace;font-weight: bold;display: inline-block;line-height: 1.2em;}#sk-container-id-5 div.sk-label-container {text-align: center;}#sk-container-id-5 div.sk-container {/* jupyter's `normalize.less` sets `[hidden] { display: none; }` but bootstrap.min.css set `[hidden] { display: none !important; }` so we also need the `!important` here to be able to override the default hidden behavior on the sphinx rendered scikit-learn.org. See: https://github.com/scikit-learn/scikit-learn/issues/21755 */display: inline-block !important;position: relative;}#sk-container-id-5 div.sk-text-repr-fallback {display: none;}</style><div id=\"sk-container-id-5\" class=\"sk-top-container\"><div class=\"sk-text-repr-fallback\"><pre>GridSearchCV(cv=5, estimator=RandomForestRegressor(random_state=42),\n",
       "             param_grid=[{&#x27;max_features&#x27;: [35, 33, 31],\n",
       "                          &#x27;n_estimators&#x27;: [100, 200]}],\n",
       "             return_train_score=True, scoring=&#x27;neg_mean_squared_error&#x27;)</pre><b>In a Jupyter environment, please rerun this cell to show the HTML representation or trust the notebook. <br />On GitHub, the HTML representation is unable to render, please try loading this page with nbviewer.org.</b></div><div class=\"sk-container\" hidden><div class=\"sk-item sk-dashed-wrapped\"><div class=\"sk-label-container\"><div class=\"sk-label sk-toggleable\"><input class=\"sk-toggleable__control sk-hidden--visually\" id=\"sk-estimator-id-5\" type=\"checkbox\" ><label for=\"sk-estimator-id-5\" class=\"sk-toggleable__label sk-toggleable__label-arrow\">GridSearchCV</label><div class=\"sk-toggleable__content\"><pre>GridSearchCV(cv=5, estimator=RandomForestRegressor(random_state=42),\n",
       "             param_grid=[{&#x27;max_features&#x27;: [35, 33, 31],\n",
       "                          &#x27;n_estimators&#x27;: [100, 200]}],\n",
       "             return_train_score=True, scoring=&#x27;neg_mean_squared_error&#x27;)</pre></div></div></div><div class=\"sk-parallel\"><div class=\"sk-parallel-item\"><div class=\"sk-item\"><div class=\"sk-label-container\"><div class=\"sk-label sk-toggleable\"><input class=\"sk-toggleable__control sk-hidden--visually\" id=\"sk-estimator-id-6\" type=\"checkbox\" ><label for=\"sk-estimator-id-6\" class=\"sk-toggleable__label sk-toggleable__label-arrow\">estimator: RandomForestRegressor</label><div class=\"sk-toggleable__content\"><pre>RandomForestRegressor(random_state=42)</pre></div></div></div><div class=\"sk-serial\"><div class=\"sk-item\"><div class=\"sk-estimator sk-toggleable\"><input class=\"sk-toggleable__control sk-hidden--visually\" id=\"sk-estimator-id-7\" type=\"checkbox\" ><label for=\"sk-estimator-id-7\" class=\"sk-toggleable__label sk-toggleable__label-arrow\">RandomForestRegressor</label><div class=\"sk-toggleable__content\"><pre>RandomForestRegressor(random_state=42)</pre></div></div></div></div></div></div></div></div></div></div>"
      ],
      "text/plain": [
       "GridSearchCV(cv=5, estimator=RandomForestRegressor(random_state=42),\n",
       "             param_grid=[{'max_features': [35, 33, 31],\n",
       "                          'n_estimators': [100, 200]}],\n",
       "             return_train_score=True, scoring='neg_mean_squared_error')"
      ]
     },
     "execution_count": 68,
     "metadata": {},
     "output_type": "execute_result"
    }
   ],
   "source": [
    "param_grid = [\n",
    "    {'n_estimators': [100, 200], 'max_features': [35,33,31]},\n",
    "  ]\n",
    "\n",
    "forest_reg = RandomForestRegressor(random_state=42)\n",
    "\n",
    "grid_search = GridSearchCV(forest_reg, param_grid, cv=5,\n",
    "                           scoring='neg_mean_squared_error',\n",
    "                           return_train_score=True)\n",
    "grid_search.fit(X_train, y_train)"
   ]
  },
  {
   "cell_type": "code",
   "execution_count": 69,
   "id": "e267f55b",
   "metadata": {
    "execution": {
     "iopub.execute_input": "2023-05-15T12:53:58.942990Z",
     "iopub.status.busy": "2023-05-15T12:53:58.942233Z",
     "iopub.status.idle": "2023-05-15T12:53:58.949817Z",
     "shell.execute_reply": "2023-05-15T12:53:58.948368Z"
    },
    "papermill": {
     "duration": 0.059372,
     "end_time": "2023-05-15T12:53:58.952706",
     "exception": false,
     "start_time": "2023-05-15T12:53:58.893334",
     "status": "completed"
    },
    "tags": []
   },
   "outputs": [
    {
     "name": "stdout",
     "output_type": "stream",
     "text": [
      "6135.36868841807 {'max_features': 35, 'n_estimators': 100}\n",
      "6115.194249149343 {'max_features': 35, 'n_estimators': 200}\n",
      "6158.517867425356 {'max_features': 33, 'n_estimators': 100}\n",
      "6135.369557929641 {'max_features': 33, 'n_estimators': 200}\n",
      "6176.693025136729 {'max_features': 31, 'n_estimators': 100}\n",
      "6157.957395874795 {'max_features': 31, 'n_estimators': 200}\n"
     ]
    }
   ],
   "source": [
    "cvres = grid_search.cv_results_\n",
    "for mean_score, params in zip(cvres[\"mean_test_score\"], cvres[\"params\"]):\n",
    "    print(np.sqrt(-mean_score), params)"
   ]
  },
  {
   "cell_type": "code",
   "execution_count": 70,
   "id": "35aefd4a",
   "metadata": {
    "execution": {
     "iopub.execute_input": "2023-05-15T12:53:59.052522Z",
     "iopub.status.busy": "2023-05-15T12:53:59.051607Z",
     "iopub.status.idle": "2023-05-15T12:53:59.059981Z",
     "shell.execute_reply": "2023-05-15T12:53:59.058630Z"
    },
    "papermill": {
     "duration": 0.063037,
     "end_time": "2023-05-15T12:53:59.062795",
     "exception": false,
     "start_time": "2023-05-15T12:53:58.999758",
     "status": "completed"
    },
    "tags": []
   },
   "outputs": [
    {
     "data": {
      "text/plain": [
       "{'max_features': 35, 'n_estimators': 200}"
      ]
     },
     "execution_count": 70,
     "metadata": {},
     "output_type": "execute_result"
    }
   ],
   "source": [
    "grid_search.best_params_"
   ]
  },
  {
   "cell_type": "code",
   "execution_count": 71,
   "id": "afa4bd0c",
   "metadata": {
    "collapsed": true,
    "execution": {
     "iopub.execute_input": "2023-05-15T12:53:59.160442Z",
     "iopub.status.busy": "2023-05-15T12:53:59.159673Z",
     "iopub.status.idle": "2023-05-15T12:53:59.299973Z",
     "shell.execute_reply": "2023-05-15T12:53:59.298730Z"
    },
    "jupyter": {
     "outputs_hidden": true
    },
    "papermill": {
     "duration": 0.193617,
     "end_time": "2023-05-15T12:53:59.304448",
     "exception": false,
     "start_time": "2023-05-15T12:53:59.110831",
     "status": "completed"
    },
    "tags": []
   },
   "outputs": [
    {
     "data": {
      "text/plain": [
       "[(0.1107910366486321, 'Mileage'),\n",
       " (0.10703362627668658, 'Prod. year'),\n",
       " (0.07419527811749117, 'Airbags'),\n",
       " (0.07220086483278272, 'Levy'),\n",
       " (0.04696520079661836, 'Engine volume'),\n",
       " (0.027993113761816367, 'Diesel'),\n",
       " (0.02297810434299988, 'Tiptronic'),\n",
       " (0.020837009815667783, 'Automatic'),\n",
       " (0.017438056326152945, 'HYUNDAI'),\n",
       " (0.015821701436482195, 'Sedan'),\n",
       " (0.015653116702890962, 'Jeep'),\n",
       " (0.015250977811477818, 'Cylinders'),\n",
       " (0.014859682644573267, 'SSANGYONG'),\n",
       " (0.014631006749313488, 'Petrol'),\n",
       " (0.012823681591916986, 'Hybrid'),\n",
       " (0.012552805820367162, 'No'),\n",
       " (0.012512607753471208, 'Black'),\n",
       " (0.012364507144892435, 'White'),\n",
       " (0.012256131613860601, False),\n",
       " (0.012145285524809616, True),\n",
       " (0.01201495507845896, 'Yes'),\n",
       " (0.011719605296232031, 'Santa FE'),\n",
       " (0.011001084335694364, 'Actyon'),\n",
       " (0.010340758638509242, 'H1'),\n",
       " (0.010157587455108797, 'Silver'),\n",
       " (0.010065239458170096, 'Front'),\n",
       " (0.00925891275044908, 'Grey'),\n",
       " (0.008468794357399346, '4x4'),\n",
       " (0.0074621168112795015, 'TOYOTA'),\n",
       " (0.0063913833124867895, 'Right-hand drive'),\n",
       " (0.0063482915338338285, 'Tucson'),\n",
       " (0.006158605319006633, 'Blue'),\n",
       " (0.005624557293579027, 'Hatchback'),\n",
       " (0.00549078228848508, 'MERCEDES-BENZ'),\n",
       " (0.005229784225636508, 'Rear'),\n",
       " (0.004986049614000031, 'Left wheel'),\n",
       " (0.004669003634824813, 'Manual'),\n",
       " (0.004174966648343975, 'Sonata'),\n",
       " (0.0041607869216589025, 'BMW'),\n",
       " (0.003953546937209277, 'Universal'),\n",
       " (0.003854721468670638, 'Minivan'),\n",
       " (0.003792130857463746, 'LEXUS'),\n",
       " (0.0036577382200772054, 'CHEVROLET'),\n",
       " (0.0035030439053136244, 'Doors'),\n",
       " (0.0034002507109734065, 'Camry'),\n",
       " (0.0032477982326640635, 'Elantra'),\n",
       " (0.003092516241806102, 'FORD'),\n",
       " (0.0030173110475018566, 'Red'),\n",
       " (0.003005176672107854, 'HONDA'),\n",
       " (0.002985887006122455, 'REXTON'),\n",
       " (0.002957857588919661, 'Variator'),\n",
       " (0.002901541349594854, 'E 350'),\n",
       " (0.0028971607065436515, 'LPG'),\n",
       " (0.002689640408007284, 'NISSAN'),\n",
       " (0.0025188201581427005, 'Prius'),\n",
       " (0.0024780238492591315, 'RAV 4'),\n",
       " (0.0022126793571065197, 'GX 470'),\n",
       " (0.002201840442118369, 'CNG'),\n",
       " (0.002178510902208204, 'Aqua'),\n",
       " (0.00214840346282107, 'Civic'),\n",
       " (0.002130991363568646, 'VOLKSWAGEN'),\n",
       " (0.002033951384856623, 'Coupe'),\n",
       " (0.0020058746527791523, 'Plug-in Hybrid'),\n",
       " (0.0019926884530112924, 'GX 460'),\n",
       " (0.001972425424212997, 'AUDI'),\n",
       " (0.001930412383152515, 'OPEL'),\n",
       " (0.0018277734068504036, 'X5'),\n",
       " (0.0017427341792795833, 'JEEP'),\n",
       " (0.001716131034241646, 'FIT'),\n",
       " (0.0017028646444940253, 'KIA'),\n",
       " (0.001669617040523056, 'SUBARU'),\n",
       " (0.001585732174187047, 'Green'),\n",
       " (0.0015538266234326823, 'ML 350'),\n",
       " (0.0015324960992427203, 'Fusion'),\n",
       " (0.0015322956049428718, 'Cruze'),\n",
       " (0.0015040117165710956, 'Brown'),\n",
       " (0.0014248865188827428, 'Highlander'),\n",
       " (0.001360419369528828, 'Compass'),\n",
       " (0.0013502954762284333, 'Sprinter'),\n",
       " (0.0012721289361053859, 'Carnelian red'),\n",
       " (0.0012501686896641351, 'Beige'),\n",
       " (0.001234173708284878, 'MAZDA'),\n",
       " (0.0011885631381776769, 'RX 450'),\n",
       " (0.0011668855074711646, 'Jetta'),\n",
       " (0.0011448799336362162, 'CHR'),\n",
       " (0.0011009040007443664, 'Captiva'),\n",
       " (0.0010815630536660655, 'Microbus'),\n",
       " (0.0010687489645379495, 'Optima'),\n",
       " (0.001036740988582061, 'Volt'),\n",
       " (0.001018341012272183, 'Malibu'),\n",
       " (0.0009813168465058566, 'A4'),\n",
       " (0.0009736165270997363, 'GLA 250'),\n",
       " (0.0009688671625486445, 'Lacetti'),\n",
       " (0.0009598996781976349, 'RX 350'),\n",
       " (0.0009495221524805368, 'Juke'),\n",
       " (0.0009488307992313218, 'Tacoma'),\n",
       " (0.0009318008234833191, '328'),\n",
       " (0.0009122069627751147, 'Escape'),\n",
       " (0.0009026528333589666, 'Korando'),\n",
       " (0.0008993622561465085, 'MITSUBISHI'),\n",
       " (0.0008975112225542985, 'Insight'),\n",
       " (0.0008849363301688956, 'Forester'),\n",
       " (0.0008735466759943094, 'JAGUAR'),\n",
       " (0.0008711458529992485, 'DAEWOO'),\n",
       " (0.0008629203085002953, '535'),\n",
       " (0.0008565121836395053, 'Yellow'),\n",
       " (0.0008464045200131376, 'XF'),\n",
       " (0.0008185796977366666, 'Genesis'),\n",
       " (0.0008157990045506848, 'Orlando'),\n",
       " (0.0008149825053554288, 'X6'),\n",
       " (0.0008098494852159029, 'LS 460'),\n",
       " (0.0007795812437719922, 'E 300'),\n",
       " (0.0007703256896172109, 'Pickup'),\n",
       " (0.0007617689047175083, '528'),\n",
       " (0.000754147712318879, 'Sky blue'),\n",
       " (0.000752771048962598, 'Mustang'),\n",
       " (0.0007420236852770212, 'C 250'),\n",
       " (0.0007387126805095445, 'Q5'),\n",
       " (0.0007372029262180724, 'CT 200h'),\n",
       " (0.0007299199243108397, 'Land Cruiser Prado'),\n",
       " (0.0007275584731649041, 'S 550'),\n",
       " (0.0007001028167252008, 'Vito'),\n",
       " (0.000693813742164487, 'Sportage'),\n",
       " (0.0006779850478370621, 'Goods wagon'),\n",
       " (0.0006772826445729029, 'Camry XLE'),\n",
       " (0.0006577956102361784, 'PORSCHE'),\n",
       " (0.0006567509743966764, 'Impala'),\n",
       " (0.0006481402907916587, 'Golden'),\n",
       " (0.0006373415106316066, 'Camry SE'),\n",
       " (0.0006364984664918244, 'Orange'),\n",
       " (0.0006358675382312596, 'DODGE'),\n",
       " (0.0006292387448417724, 'ES 300'),\n",
       " (0.0006225382331532885, 'Prius C'),\n",
       " (0.0006174857373782266, 'Grand Cherokee'),\n",
       " (0.0006162044007874888, 'GL 450'),\n",
       " (0.0005725075798469777, 'CLA 250'),\n",
       " (0.0005551793205286179, 'GLE 350'),\n",
       " (0.0005372319211612727, 'Taurus'),\n",
       " (0.000533387704188607, 'SUZUKI'),\n",
       " (0.0005203109176441986, 'Astra'),\n",
       " (0.000499054407270466, 'Corolla'),\n",
       " (0.0004951157346169084, 'RX 450 HYBRID'),\n",
       " (0.0004874637389152288, 'Accent'),\n",
       " (0.00047300976744894563, 'Mazda 6'),\n",
       " (0.00046215452527768826, 'Avalon'),\n",
       " (0.0004428723182343609, 'Transit'),\n",
       " (0.00043834812816953, 'VAZ'),\n",
       " (0.00042948681784752335, 'Passat'),\n",
       " (0.0004268509893489976, 'XV'),\n",
       " (0.0004241960913662974, 'Outlander'),\n",
       " (0.00042096013389503797, 'Tundra'),\n",
       " (0.00041771578933603553, 'CX-9'),\n",
       " (0.0004176669531887911, 'M5'),\n",
       " (0.0004037206453411971, 'Grandeur'),\n",
       " (0.0003995200745478433, 'Camaro'),\n",
       " (0.00039730975780710655, 'L 200'),\n",
       " (0.0003946683887163375, 'Wrangler'),\n",
       " (0.00039079038593502126, 'Q7'),\n",
       " (0.0003885153600394907, 'Hilux'),\n",
       " (0.00038801194651703376, 'A8'),\n",
       " (0.00037509423819776725, 'Equinox'),\n",
       " (0.00036643241863481874, 'GL 320'),\n",
       " (0.0003646700817360956, 'C 300'),\n",
       " (0.0003573083359718807, 'ES 300 hybrid'),\n",
       " (0.00035082135231797424, 'Focus'),\n",
       " (0.00034540238213173606, 'macan'),\n",
       " (0.00034065325831965837, 'Cr-v'),\n",
       " (0.0003385126507727065, 'ML 550'),\n",
       " (0.00033765212942952447, 'Avalon LIMITED'),\n",
       " (0.0003343319288403587, 'IS 300'),\n",
       " (0.0003292033856164825, 'Land Cruiser'),\n",
       " (0.0003276794719290501, '550'),\n",
       " (0.0003258704158849043, '500'),\n",
       " (0.00032174014029577786, 'FIAT'),\n",
       " (0.00031865008899636867, 'I30'),\n",
       " (0.000312434528142654, '1000'),\n",
       " (0.0003032962119522775, 'Vectra'),\n",
       " (0.00030296245981949123, '540 I'),\n",
       " (0.00030292901768477185, 'MINI'),\n",
       " (0.00030249171424574306, 'A6'),\n",
       " (0.0002949510846067125, 'Golf'),\n",
       " (0.00029112735010798743, 'GL 550'),\n",
       " (0.00028891525986089506, 'Altima'),\n",
       " (0.00028557092259164015, 'Santa FE sport'),\n",
       " (0.00028243221267699954, 'LAND ROVER'),\n",
       " (0.0002777086420773874, 'INFINITI'),\n",
       " (0.0002736395728075651, 'Transit 350T'),\n",
       " (0.00027217755141376824, 'G 55 AMG'),\n",
       " (0.0002678299527523363, 'Pajero IO'),\n",
       " (0.0002669282736935191, 'CADILLAC'),\n",
       " (0.00026431295631772336, 'ML 250'),\n",
       " (0.00025890468452899914, 'Cabriolet'),\n",
       " (0.0002577988510262508, 'HUMMER'),\n",
       " (0.000240905270438373, 'Explorer'),\n",
       " (0.0002386225959866757, 'ML 320'),\n",
       " (0.00023808541426944744, 'Cayenne'),\n",
       " (0.00023699026491275736, 'HS 250h'),\n",
       " (0.00023630681809453456, 'Sienna'),\n",
       " (0.00023594752693488662, 'X3'),\n",
       " (0.0002350650491953147, 'Viano'),\n",
       " (0.00023369112649155322, 'LINCOLN'),\n",
       " (0.00023257318562878683, 'X5 M'),\n",
       " (0.00023149565511753668, 'S 350'),\n",
       " (0.00022777015935808047, 'Camry SE HIBRYD'),\n",
       " (0.00022639131556562086, 'Cherokee'),\n",
       " (0.00022249524887563846, '535 M'),\n",
       " (0.00022074439099949736, 'GL 350 დიზელი'),\n",
       " (0.00022055999613600094, '335'),\n",
       " (0.00021717221881472175, 'H2'),\n",
       " (0.0002166557526301547, 'Quest 2016'),\n",
       " (0.0002155520641563556, 'CX-5'),\n",
       " (0.00021348366180669196, 'C-MAX'),\n",
       " (0.00021104821489385605, 'C 180'),\n",
       " (0.0002107979895971342, 'M6'),\n",
       " (0.00020816294954683598, 'Purple'),\n",
       " (0.00020565234265608495, 'CLS 55 AMG'),\n",
       " (0.0002056482809823803, 'Aveo'),\n",
       " (0.00020416294945574203, 'IX35'),\n",
       " (0.00020150754954025962, 'Highlander sport'),\n",
       " (0.00020067298853038948, 'Spark'),\n",
       " (0.0002002417892746649, 'X1'),\n",
       " (0.00019627523727117784, 'M4'),\n",
       " (0.00019374660088918862, '530'),\n",
       " (0.00019355052051783228, '4Runner'),\n",
       " (0.00019303552668999393, 'SX4'),\n",
       " (0.0001922328995259288, 'Sorento'),\n",
       " (0.00019202188548973946, '330'),\n",
       " (0.00018807869268545625, '320'),\n",
       " (0.00018730421695602775, 'Veloster'),\n",
       " (0.00018358593399129535, 'GS 450'),\n",
       " (0.00018351689690056727, 'RX 400'),\n",
       " (0.0001830081627640681, 'S 350 CDI 320'),\n",
       " (0.00017847131918803706, 'Rogue SPORT'),\n",
       " (0.00017750948656220463, 'SKODA'),\n",
       " (0.00017698839126108846, 'IS-F'),\n",
       " (0.00017553459046425483, 'Swift'),\n",
       " (0.00017493534931014546, 'Niro'),\n",
       " (0.0001749342231368625, 'A7'),\n",
       " (0.00017414524079653428, 'kona'),\n",
       " (0.00017378971575803302, 'Countryman S'),\n",
       " (0.00017356220448058428, 'Pink'),\n",
       " (0.00017173174522700104, 'A6 QUATTRO'),\n",
       " (0.00017146134325719947, 'Highlander XLE'),\n",
       " (0.00016818192665140217, 'Escalade'),\n",
       " (0.00016783981551521412, 'Pajero'),\n",
       " (0.0001677734291415723, 'E 220 cdi'),\n",
       " (0.00016643915058093062, 'Vitara'),\n",
       " (0.00016546053157346824, 'CX-7'),\n",
       " (0.00016521426116032804, 'Fiesta'),\n",
       " (0.00016469946470593717, 'RAV 4 Dizel'),\n",
       " (0.00016463774443741016, 'Note'),\n",
       " (0.00016208971411859916, 'Rogue'),\n",
       " (0.00016195926087170194, 'Limousine'),\n",
       " (0.00015998744812134737, 'GMC'),\n",
       " (0.00015935012444872313, 'Patrol'),\n",
       " (0.00015881883378839233, 'E 320'),\n",
       " (0.00015862725597134145, 'Camry sport'),\n",
       " (0.00015642261953327226, 'Camry XLEi'),\n",
       " (0.0001561468545544486, 'IS 250'),\n",
       " (0.00015483421285441927, 'Camry se'),\n",
       " (0.00015437485797489082, 'Quest'),\n",
       " (0.00015382321629818984, 'Tiida'),\n",
       " (0.00015331287015720498, 'X3 3.5i'),\n",
       " (0.00015056355992037725, 'Sentra'),\n",
       " (0.0001504055326804833, 'Avella'),\n",
       " (0.00014400789905053425, 'Range Rover'),\n",
       " (0.000143315449579484, 'Sportage PRESTIGE'),\n",
       " (0.00014249881698809343, 'Accord'),\n",
       " (0.00014005256017919773, 'MASERATI'),\n",
       " (0.00013953042107693841, 'Versa'),\n",
       " (0.00013782849334800621, 'Kyron'),\n",
       " (0.00013642347572384247, 'Tiguan'),\n",
       " (0.00013637458272961533, 'Vitz'),\n",
       " (0.00013613975764694352, 'Encore'),\n",
       " (0.00013531066044120748, 'Ghibli'),\n",
       " (0.00013448838644982856, 'Airtrek'),\n",
       " (0.00013425266626099477, 'Yukon'),\n",
       " (0.0001338527781579215, 'Pathfinder'),\n",
       " (0.00013367649427343238, 'BUICK'),\n",
       " (0.00013233833975981373, 'MKZ'),\n",
       " (0.0001321199356976117, 'March'),\n",
       " (0.00013204979040364992, '525'),\n",
       " (0.00013174909961142419, 'Vito Extralong'),\n",
       " (0.0001312791827690539, 'Combo'),\n",
       " (0.00013100338838543504, 'CHRYSLER'),\n",
       " (0.00013098219887493123, 'Avenger'),\n",
       " (0.00012966108289126486, 'A3'),\n",
       " (0.00012859749694599628, '1500'),\n",
       " (0.00012806440388984922, '328 i'),\n",
       " (0.00012740182893672408, '740'),\n",
       " (0.00012678086416313369, '911 meqanika'),\n",
       " (0.0001236895079350164, 'Octavia'),\n",
       " (0.00012317099293845385, 'Countryman'),\n",
       " (0.0001220077410019935, 'Santa FE Ultimate'),\n",
       " (0.0001212576689110319, 'C 230'),\n",
       " (0.00012108379308539168, 'VOLVO'),\n",
       " (0.0001200560960506884, 'E 220'),\n",
       " (0.0001198048733173834, 'Vitara GL+'),\n",
       " (0.00011934941527864615, 'F150'),\n",
       " (0.0001169732106577158, 'FX35'),\n",
       " (0.00011651489785832996, 'S 55 5.5'),\n",
       " (0.00011467495628870242, 'QX80'),\n",
       " (0.00011431614151164835, 'Camry Hybrid'),\n",
       " (0.00011342547281601839, 'SLK 350 300'),\n",
       " (0.00011333542043900384, 'G 63 AMG'),\n",
       " (0.00011207896598412944, '2121 (Niva)'),\n",
       " (0.00011036179392400854, 'GX 470 470'),\n",
       " (0.00011015249468082239, 'RAV 4 XLE'),\n",
       " (0.00010947421255711534, 'E 55'),\n",
       " (0.00010938279534644625, 'RX 400 RESTAILING'),\n",
       " (0.00010847126043117451, '318'),\n",
       " (0.00010742100238150919, 'ES 350'),\n",
       " (0.00010709552995189445, 'RENAULT'),\n",
       " (0.00010621030024658945, 'Camry XV50'),\n",
       " (0.0001057751804776273, 'H3'),\n",
       " (0.0001055842437941702, 'Prius V'),\n",
       " (0.00010504224976131901, 'E 350 ამგ'),\n",
       " (0.00010503283867863199, '650'),\n",
       " (0.00010358391683176105, 'X3 SDRIVE'),\n",
       " (0.00010338787419913981, 'E 200'),\n",
       " (0.00010173705383109566, 'Corolla se'),\n",
       " (0.00010128150708616731, 'Odyssey'),\n",
       " (0.00010127611212987397, 'RAV 4 XLE Sport'),\n",
       " (0.00010121611517107479, 'X-Terra'),\n",
       " (0.0001009798265922498, 'Challenger'),\n",
       " (0.00010087279513494665, 'Renegade'),\n",
       " (0.00010064616767262113, 'Courier'),\n",
       " (0.00010053143347023181, 'Delica'),\n",
       " (0.0001000734108327938, 'Allroad'),\n",
       " (9.955751642942014e-05, 'C 220'),\n",
       " (9.814554672757417e-05, 'ATS'),\n",
       " (9.780304809409121e-05, 'Cooper S Cabrio'),\n",
       " (9.653291441793012e-05, 'Tucson SE'),\n",
       " (9.643585797796884e-05, 'IX35 2.0'),\n",
       " (9.477405849687661e-05, 'Elantra limited'),\n",
       " (9.456629288004491e-05, 'RIO'),\n",
       " (9.404436529139563e-05, 'Matiz'),\n",
       " (9.391125561483342e-05, 'GL 350'),\n",
       " (9.303917884569353e-05, 'ML 500'),\n",
       " (9.20771573049101e-05, '428'),\n",
       " (9.19303984398715e-05, '300'),\n",
       " (9.155403574694094e-05, 'E 550'),\n",
       " (9.133749620753801e-05, 'Highlander limited'),\n",
       " (9.125123629151722e-05, 'CT 200h F sport'),\n",
       " (9.07365440273888e-05, 'PEUGEOT'),\n",
       " (8.984230107250032e-05, 'VOXY'),\n",
       " (8.87173903281012e-05, 'Avalon limited'),\n",
       " (8.725259721988609e-05, 'Yaris'),\n",
       " (8.642207150841045e-05, 'Venza'),\n",
       " (8.612660096328395e-05, 'E 270'),\n",
       " (8.611015558217034e-05, 'Cerato'),\n",
       " (8.572476340390875e-05, 'Cadenza'),\n",
       " (8.558787674547775e-05, 'Discovery IV'),\n",
       " (8.50266767622698e-05, '325'),\n",
       " (8.445181821783277e-05, 'Legacy'),\n",
       " (8.386441885834915e-05, 'Cooper'),\n",
       " (8.376767432022e-05, 'Corolla 140'),\n",
       " (8.376203530213836e-05, 'Century'),\n",
       " (8.243683287243063e-05, 'S 550 LONG'),\n",
       " (8.180862226147882e-05, 'F-pace'),\n",
       " (8.173633241171071e-05, 'Suburban'),\n",
       " (8.102768042414735e-05, 'Q7 sport'),\n",
       " (8.036472467222519e-05, 'Murano'),\n",
       " (8.026229471919897e-05, 'CL550 AMG'),\n",
       " (7.91493587174119e-05, 'LX 570'),\n",
       " (7.800062916031425e-05, 'S 500'),\n",
       " (7.769269761538912e-05, 'Outback'),\n",
       " (7.565217815321294e-05, '530 GT'),\n",
       " (7.542165494651744e-05, 'GLK 300'),\n",
       " (7.539386751098357e-05, 'Outlander sport'),\n",
       " (7.531672025310989e-05, 'EX37'),\n",
       " (7.526790488793499e-05, 'S 320'),\n",
       " (7.452752865847413e-05, '428 i'),\n",
       " (7.237962472695254e-05, 'X5 X-Drive'),\n",
       " (7.172627895095565e-05, 'Camry HYBRID'),\n",
       " (7.139581989986689e-05, 'E 350 AMG'),\n",
       " (7.097558370859359e-05, 'C 250 A.M.G'),\n",
       " (7.061542600635752e-05, 'Sprinter VIP CLASS'),\n",
       " (7.014990610728084e-05, 'GLK 350'),\n",
       " (6.956982664069445e-05, 'CLK 320'),\n",
       " (6.89213682060328e-05, 'CITROEN'),\n",
       " (6.758602649960241e-05, 'Kicks SR'),\n",
       " (6.755299886309653e-05, 'Grand Vitara'),\n",
       " (6.70557642439264e-05, 'Caliber'),\n",
       " (6.61979762560055e-05, 'Camry SPORT'),\n",
       " (6.563739520294664e-05, 'Panamera'),\n",
       " (6.52513616781118e-05, 'Camaro RS'),\n",
       " (6.460357300381236e-05, 'Q5 Prestige'),\n",
       " (6.439375719078672e-05, 'Ist'),\n",
       " (6.412400176318665e-05, 'Serena'),\n",
       " (6.363533704798336e-05, 'Corsa'),\n",
       " (6.330984649650573e-05, '520'),\n",
       " (6.250692316534754e-05, 'Samurai'),\n",
       " (6.245974752208716e-05, 'Patriot'),\n",
       " (6.242935795782195e-05, 'C 240'),\n",
       " (6.201016850864585e-05, 'NX 200'),\n",
       " (6.153380307380339e-05, 'Edge'),\n",
       " (6.148709854796168e-05, '2106'),\n",
       " (6.119226069114295e-05, 'Kizashi'),\n",
       " (6.0993169672711316e-05, 'Scirocco'),\n",
       " (6.0664716046443785e-05, 'Zafira'),\n",
       " (6.03437733157526e-05, 'E 500'),\n",
       " (5.931243930582515e-05, 'ML 280'),\n",
       " (5.90399970761945e-05, 'E 350 4 matic'),\n",
       " (5.864924111563323e-05, 'XV HYBRID'),\n",
       " (5.823349352901802e-05, '320 Diesel'),\n",
       " (5.8203297739531785e-05, 'CLS 500'),\n",
       " (5.808252134283853e-05, 'E 240'),\n",
       " (5.79514472634071e-05, 'R 350'),\n",
       " (5.762824863174911e-05, '435'),\n",
       " (5.73611138021655e-05, 'ACURA'),\n",
       " (5.711678707350374e-05, 'Q5 S-line'),\n",
       " (5.6587598826387415e-05, 'CTS'),\n",
       " (5.6447984239086334e-05, 'S60'),\n",
       " (5.621838735349602e-05, 'Vito 115'),\n",
       " (5.6080261345356704e-05, '1300'),\n",
       " (5.5975705759691904e-05, 'ISIS'),\n",
       " (5.5382994118822715e-05, 'Fusion SE'),\n",
       " (5.523695876732924e-05, 'Eunos 500'),\n",
       " (5.51942939209143e-05, 'X5 XDRIVE'),\n",
       " (5.5131458058373707e-05, '535 Twinturbo'),\n",
       " (5.4942745924392264e-05, 'A 160'),\n",
       " (5.4174147661540066e-05, 'C 43 AMG'),\n",
       " (5.377319287440223e-05, 'Elysion'),\n",
       " (5.3701379580539824e-05, 'Maxima'),\n",
       " (5.35531104766734e-05, 'Pilot'),\n",
       " (5.308337622037967e-05, 'Vento'),\n",
       " (5.3051362548309554e-05, 'Fred'),\n",
       " (5.2382606600406354e-05, 'Navara'),\n",
       " (5.2344071565151685e-05, 'C 250 AMG'),\n",
       " (5.228645626778138e-05, 'Navigator'),\n",
       " (5.197649494400288e-05, '200'),\n",
       " (5.144807956415122e-05, 'Town Car'),\n",
       " (5.0965624828639916e-05, 'HHR'),\n",
       " (5.08695627197531e-05, 'Crafter'),\n",
       " (5.044183622000224e-05, 'A6 C7'),\n",
       " (5.043273702451434e-05, 'Ridgeline'),\n",
       " (5.019534611207774e-05, 'SOUL'),\n",
       " (5.005138752131042e-05, 'Picanto'),\n",
       " (4.992667508040789e-05, 'DAIHATSU'),\n",
       " (4.968562784610722e-05, 'UAZ'),\n",
       " (4.938064059801941e-05, 'X-Trail'),\n",
       " (4.899910167645121e-05, 'Passat RLAINI'),\n",
       " (4.889385672184763e-05, 'Silverado'),\n",
       " (4.8882138661017846e-05, 'Mazda 3'),\n",
       " (4.882511456120341e-05, 'CT 200h F SPORT'),\n",
       " (4.864126298351062e-05, 'A6 premium plus'),\n",
       " (4.863072618983468e-05, 'Neon'),\n",
       " (4.8530420350385546e-05, 'Journey'),\n",
       " (4.8136898618829665e-05, 'Golf 3'),\n",
       " (4.805008546249245e-05, 'GAZ'),\n",
       " (4.779846847062439e-05, 'Transit Custom'),\n",
       " (4.767783047466485e-05, 'S 430'),\n",
       " (4.724184524945341e-05, 'Corolla ECO'),\n",
       " (4.707049284902956e-05, 'ML 270'),\n",
       " (4.6842002339415875e-05, 'Trailblazer'),\n",
       " (4.675165738339239e-05, 'C8'),\n",
       " (4.620942436400447e-05, 'Skyline'),\n",
       " (4.5889244031952395e-05, 'Outlander xl'),\n",
       " (4.5638842892969844e-05, 'ML 350 BLUETEC'),\n",
       " (4.5625431280110614e-05, 'C 200'),\n",
       " (4.5556637557470206e-05, 'Z4 3,0 SI'),\n",
       " (4.5455448168375076e-05, 'Sprinter 315CDI'),\n",
       " (4.5334032452290594e-05, 'MERCURY'),\n",
       " (4.5169006631637114e-05, 'Sonata hybrid'),\n",
       " (4.496014461256828e-05, 'Smart'),\n",
       " (4.4767848090950366e-05, '616'),\n",
       " (4.442522143518199e-05, 'A 140'),\n",
       " (4.407187809689218e-05, '31514'),\n",
       " (4.394369875538621e-05, 'Passat sport'),\n",
       " (4.3519552975617785e-05, 'RX 400 H'),\n",
       " (4.348490734937273e-05, '220'),\n",
       " (4.3169915716847144e-05, 'ROLLS-ROYCE'),\n",
       " (4.2822041427313095e-05, 'Mark X Zio'),\n",
       " (4.2820264478523487e-05, 'HS 250h Hybrid'),\n",
       " (4.280030222449874e-05, 'Vaneo'),\n",
       " (4.279815550162236e-05, 'Fusion Bybrid'),\n",
       " (4.2673613900006096e-05, 'G37'),\n",
       " (4.25926186180371e-05, 'Transit Connect'),\n",
       " (4.243873035076444e-05, 'G 550'),\n",
       " (4.234421700426541e-05, 'RX 300'),\n",
       " (4.217523817011189e-05, 'Laguna'),\n",
       " (4.1671110833566386e-05, 'Impreza'),\n",
       " (4.146585740602367e-05, 'RS7'),\n",
       " (4.138979749984472e-05, 'Traverse'),\n",
       " (4.13002458412683e-05, 'A3 PREMIUM'),\n",
       " (4.089766127244172e-05, 'X5 4.8is'),\n",
       " (4.0811931149764986e-05, 'IS 350 C'),\n",
       " (4.0800297149512206e-05, 'RAM'),\n",
       " (4.070754146384389e-05, 'Land Cruiser 105'),\n",
       " (4.063810437599314e-05, 'Liberty'),\n",
       " (4.010072815353863e-05, 'GL 320 bluetec'),\n",
       " (4.003249574392252e-05, 'A5'),\n",
       " (3.945289223730481e-05, 'Gentra'),\n",
       " (3.930905795166484e-05, '500 Abarth'),\n",
       " (3.877197914657126e-05, 'Discovery'),\n",
       " (3.871986943102141e-05, 'SCION'),\n",
       " (3.867693025754304e-05, 'Q3'),\n",
       " (3.866305953035894e-05, 'Impreza Sport'),\n",
       " (3.860199039921755e-05, 'A 190'),\n",
       " (3.857146932941129e-05, 'Prius TSS LIMITED'),\n",
       " (3.854867875360884e-05, '2107'),\n",
       " (3.847507357512102e-05, 'Phantom'),\n",
       " (3.8360099230299405e-05, 'Sequoia'),\n",
       " (3.7975553644790415e-05, 'GTI'),\n",
       " (3.783444160276349e-05, 'Jetta SE'),\n",
       " (3.745900480139313e-05, 'X4'),\n",
       " (3.705338510426519e-05, 'Daimler'),\n",
       " (3.687486425770773e-05, 'Terios'),\n",
       " (3.6860853359648823e-05, 'Mondeo'),\n",
       " (3.663849978288277e-05, 'Impreza WRX/STI LIMITED'),\n",
       " (3.643948281303933e-05, 'Kicks'),\n",
       " (3.63625399420182e-05, 'Sonata 2.4L'),\n",
       " (3.574420623282496e-05, 'CLS 550'),\n",
       " (3.5472529687767947e-05, 'CLK 55 AMG'),\n",
       " (3.436907065359384e-05, 'Land Rover Sport'),\n",
       " (3.419453048382654e-05, 'Prius ფლაგინი'),\n",
       " (3.402318292002729e-05, '750'),\n",
       " (3.399124636957948e-05, 'Cruze LT'),\n",
       " (3.364730170699738e-05, 'RC F'),\n",
       " (3.351851204693579e-05, 'Aqua S'),\n",
       " (3.336637212636508e-05, 'Sonata Hibrid'),\n",
       " (3.309488982649464e-05, 'IS 200'),\n",
       " (3.279781264938645e-05, 'CC'),\n",
       " (3.2751458739116686e-05, 'Sonata LPG'),\n",
       " (3.242174252781871e-05, 'Vito 115 CDI'),\n",
       " (3.223847311751901e-05, 'Crosstrek'),\n",
       " (3.1978422332200995e-05, 'A3 4X4'),\n",
       " (3.181047772974779e-05, 'Mirage'),\n",
       " (3.1515696705451664e-05, 'Fusion HYBRID'),\n",
       " (3.1331457401196355e-05, 'Micra'),\n",
       " (3.111137673800068e-05, 'Passat SE'),\n",
       " (3.1069773021111935e-05, 'Touareg'),\n",
       " (3.102912017839611e-05, 'Colt Lancer'),\n",
       " (3.0966078752101575e-05, '535 XI'),\n",
       " (3.063245337566292e-05, 'Demio'),\n",
       " (3.044244220823785e-05, 'Outlander Sport'),\n",
       " (3.0422615092217568e-05, 'Hr-v'),\n",
       " (3.0293164480817837e-05, 'Element'),\n",
       " (3.0112050828980523e-05, 'Ramcharger'),\n",
       " (3.0056367833850437e-05, 'Step Wagon'),\n",
       " (2.989136090888759e-05, 'Elantra GT'),\n",
       " (2.9824595172682007e-05, 'Omega'),\n",
       " (2.9791766367120646e-05, 'Malibu LT'),\n",
       " (2.9590864377335214e-05, 'Golf 4'),\n",
       " (2.9459920843466993e-05, '520 d xDrive Luxury'),\n",
       " (2.874153319827652e-05, 'CLK 230'),\n",
       " (2.8666818897306474e-05, 'MPV'),\n",
       " (2.8646709010056032e-05, 'Vito long115'),\n",
       " (2.8301117771505085e-05, 'i40'),\n",
       " (2.8295345272996574e-05, 'Ranger'),\n",
       " (2.8066439841877918e-05, 'CLS 350 JAPAN'),\n",
       " (2.8000096257350445e-05, 'S 350 Longia'),\n",
       " (2.789239013220559e-05, 'Fiesta SE'),\n",
       " (2.7845484521583498e-05, 'UP'),\n",
       " (2.7844715951002463e-05, '740 i'),\n",
       " (2.7829636518565473e-05, 'X1 28Xdrive'),\n",
       " (2.7813617694191504e-05, 'C 250 1.8 ტურბო'),\n",
       " (2.7639207480263866e-05, 'E 36 AMG'),\n",
       " (2.7613134074352682e-05, 'Acadia'),\n",
       " (2.7506891976516666e-05, 'Getz'),\n",
       " (2.7464178995649452e-05, 'Escape escape'),\n",
       " (2.7347633240428272e-05, 'CLK 200'),\n",
       " (2.7322192241290392e-05, 'Colt'),\n",
       " (2.727216337575249e-05, 'E 200 CGI'),\n",
       " (2.7168327719831187e-05, 'CLK 430'),\n",
       " (2.701500227057577e-05, 'Prius V HYBRID'),\n",
       " (2.700146406437707e-05, 'CLK 270'),\n",
       " (2.692266957818771e-05, 'tC'),\n",
       " (2.6666023682138602e-05, '911'),\n",
       " (2.6596056609625493e-05, 'SLK 32 AMG'),\n",
       " (2.6550259545736243e-05, 'Carisma'),\n",
       " (2.614274516324476e-05, 'Jetta sel'),\n",
       " (2.6099986122587767e-05, 'Land Cruiser PRADO'),\n",
       " (2.608989258059338e-05, 'Volt PREMIER'),\n",
       " (2.6046850364457084e-05, 'Equinox LT'),\n",
       " (2.5965443310607932e-05, 'Frontier'),\n",
       " (2.5899021892742424e-05, 'Auris'),\n",
       " (2.5634580991796054e-05, '550 M Packet'),\n",
       " (2.5615791500228804e-05, 'Armada'),\n",
       " (2.5515411847112663e-05, 'Sienta'),\n",
       " (2.5509832780373337e-05, 'Galaxy'),\n",
       " (2.5472995593272574e-05, 'CR-Z'),\n",
       " (2.4984246211796187e-05, 'Patriot 70th anniversary'),\n",
       " (2.4842526079051873e-05, 'GLE 63 AMG'),\n",
       " (2.4503101394294415e-05, 'Avensis'),\n",
       " (2.4468183009694123e-05, 'Corolla verso'),\n",
       " (2.4464027490176203e-05, 'Jetta TDI'),\n",
       " (2.4255436499156692e-05, 'Estima'),\n",
       " (2.421019346931172e-05, 'Passat R-line'),\n",
       " (2.393348758961205e-05, 'Town and Country'),\n",
       " (2.3883099416002904e-05, 'Prius Plug IN'),\n",
       " (2.3732142898691367e-05, 'Juke nismo'),\n",
       " (2.365441522942471e-05, 'Astra H'),\n",
       " (2.3629447909704837e-05, 'Focus TITANIUM'),\n",
       " (2.331170738140532e-05, 'ML 350 sport'),\n",
       " (2.3307200057864256e-05, 'Vectra C'),\n",
       " (2.3304312188464535e-05, 'ROVER'),\n",
       " (2.3210905343578168e-05, 'Sprinter 315CDI-XL'),\n",
       " (2.2934768254038918e-05, '335 M paket'),\n",
       " (2.268363689633439e-05, 'Durango'),\n",
       " (2.255759525160668e-05, 'X5 E70'),\n",
       " (2.250194646748909e-05, '550 F10'),\n",
       " (2.22298939824622e-05, 'IS 350'),\n",
       " (2.2141130187950708e-05, 'A 170'),\n",
       " (2.2094353725203607e-05, 'GS 350'),\n",
       " (2.196498831564937e-05, 'Teana'),\n",
       " (2.1957918097261047e-05, 'Vito 110d'),\n",
       " (2.1803327652941238e-05, 'Caravan'),\n",
       " (2.1787589881107824e-05, 'Tourneo Connect'),\n",
       " (2.174690978237607e-05, 'Camry Le'),\n",
       " (2.1633819177966804e-05, 'Trax'),\n",
       " (2.157328350195301e-05, 'Continental'),\n",
       " (2.12518238085022e-05, 'Sorento EX'),\n",
       " (2.1109749696587996e-05, 'XV LIMITED'),\n",
       " (2.0905927382719545e-05, 'C 320'),\n",
       " (2.088414412426484e-05, 'Elantra SE'),\n",
       " (2.066193625309892e-05, 'Sonata Limited'),\n",
       " (2.0613584254427493e-05, 'ALFA ROMEO'),\n",
       " (2.0486078885348954e-05, 'CL 55 AMG KOMPRESSOR'),\n",
       " (2.034138563293978e-05, 'Corolla spacio'),\n",
       " (2.007824938224801e-05, 'Allante'),\n",
       " (2.005744863710901e-05, 'Elantra Limited'),\n",
       " (2.0043134530820746e-05, 'სხვა'),\n",
       " (2.001725062082281e-05, '535 i'),\n",
       " (2.0003118188197623e-05, 'C 250 AMG-PAKET-1,8'),\n",
       " (1.9987141963249858e-05, 'CRX'),\n",
       " (1.9873234146584772e-05, '320 2.0'),\n",
       " (1.9828330307102952e-05, 'C-MAX C-MAX'),\n",
       " (1.9785610881670364e-05, 'Prius s'),\n",
       " (1.9681888442720912e-05, 'CT 200h 1.8'),\n",
       " (1.9577759786087814e-05, '50'),\n",
       " (1.9440346960358874e-05, 'Sonic'),\n",
       " (1.9331751772757034e-05, 'C 300 sport'),\n",
       " (1.9099495274243236e-05, '416'),\n",
       " (1.9019822475822903e-05, 'QX60'),\n",
       " (1.900495359602003e-05, 'Ipsum'),\n",
       " (1.9002688729531867e-05, 'Megane'),\n",
       " (1.8956756674396825e-05, '335 D'),\n",
       " (1.886435512041112e-05, 'B 170'),\n",
       " (1.8754237006576207e-05, 'Enclave'),\n",
       " (1.874217460291685e-05, 'E 280 CDI'),\n",
       " (1.8669980765277867e-05, 'Escort'),\n",
       " (1.86480357690092e-05, 'XC90'),\n",
       " (1.8579529273645496e-05, '114'),\n",
       " (1.8530059871450063e-05, 'Fusion phev'),\n",
       " (1.8443093443983047e-05, 'Prius plugin'),\n",
       " (1.8378004000623637e-05, 'Mariner'),\n",
       " (1.8289185824677257e-05, 'Transit 2.4'),\n",
       " (1.826909625967982e-05, 'X5 Sport'),\n",
       " (1.8120105351849836e-05, 'B-MAX'),\n",
       " (1.795241952196241e-05, 'Sprinter 313CDI'),\n",
       " (1.794759898602592e-05, '340'),\n",
       " (1.7865853592283627e-05, 'C-MAX HYBRID'),\n",
       " (1.780549575367944e-05, 'Galant GTS'),\n",
       " (1.7793995851933818e-05, 'Phaeton'),\n",
       " (1.7768762190585894e-05, 'C 280'),\n",
       " (1.768186543589628e-05, 'Paceman'),\n",
       " (1.761734435101791e-05, 'Escape სასწრაფოდ'),\n",
       " (1.7496101610167505e-05, 'ML 63 AMG'),\n",
       " (1.7405398330983856e-05, 'S70'),\n",
       " (1.7286801499438366e-05, 'Qashqai Advance CVT'),\n",
       " (1.7278353147278652e-05, 'Aqua s'),\n",
       " (1.716663377791108e-05, '320 DIESEL'),\n",
       " (1.712221337492562e-05, 'X5 M packet'),\n",
       " (1.6953522214774023e-05, 'Lancer'),\n",
       " (1.6932197846776244e-05, 'Juke Juke'),\n",
       " (1.6918827370641823e-05, 'Passat B5'),\n",
       " (1.675698685702885e-05, 'Highlander 2.4 lit'),\n",
       " (1.6756499098280476e-05, 'Azera'),\n",
       " (1.6713673610283385e-05, 'Caddy'),\n",
       " (1.6686646076114834e-05, 'A4 B7'),\n",
       " (1.6675976869957215e-05, 'Focus SE'),\n",
       " (1.659628238544799e-05, 'Transit ford'),\n",
       " (1.6554020121902718e-05, 'RIO lx'),\n",
       " (1.655318579196094e-05, 'Malibu Hybrid'),\n",
       " (1.6507341737459602e-05, 'C5'),\n",
       " (1.633327280392212e-05, 'Passat se'),\n",
       " (1.630785372735508e-05, 'Yaris RS'),\n",
       " (1.620484359230599e-05, '500X Lounge'),\n",
       " (1.6203920033268487e-05, 'X5 4,4i'),\n",
       " (1.6130730418863068e-05, 'REXTON SUPER'),\n",
       " (1.6060378835671186e-05, '335 335i'),\n",
       " (1.596819993139081e-05, '190'),\n",
       " (1.5897492404126202e-05, 'IVECO DAYLY'),\n",
       " (1.571134253447394e-05, '206'),\n",
       " (1.5640274356327305e-05, 'Silvia'),\n",
       " (1.5526025258255414e-05, 'CLS 550 550'),\n",
       " (1.551064075892846e-05, 'Passat SEL'),\n",
       " (1.547722739253828e-05, 'Leaf'),\n",
       " (1.5425872915936852e-05, 'E 230'),\n",
       " (1.5322716775087048e-05, 'Mazda 3 SPORT'),\n",
       " (1.5247276961940703e-05, 'PT Cruiser'),\n",
       " (1.5208863563566814e-05, 'Eclipse ES'),\n",
       " (1.5195409219615216e-05, 'Vectra b'),\n",
       " (1.5096941783482762e-05, '3110'),\n",
       " (1.5091620987886935e-05, 'QX56'),\n",
       " (1.5028609224042202e-05, '730'),\n",
       " (1.4971262267825326e-05, 'Montero'),\n",
       " (1.4932981816757768e-05, 'Axela'),\n",
       " (1.4922830545240506e-05, 'Passat pasat'),\n",
       " (1.4918279163061088e-05, 'Prius plagin'),\n",
       " (1.4918012967270853e-05, 'Escape SE'),\n",
       " (1.4901432741885972e-05, 'Focus se'),\n",
       " (1.4869601048335954e-05, 'A6 С6'),\n",
       " (1.4692725957691447e-05, 'Transit S'),\n",
       " (1.463912376837138e-05, 'SEAT'),\n",
       " (1.4573670491473578e-05, 'Pathfinder SE'),\n",
       " (1.4479990895600274e-05, 'Hilux Surf'),\n",
       " (1.4397922101523631e-05, 'Camry sporti'),\n",
       " (1.435951368211484e-05, 'Focus Titanium'),\n",
       " (1.4358730001587113e-05, '323'),\n",
       " (1.4357511424094754e-05, 'Grand HIACE'),\n",
       " (1.4250064623005158e-05, 'Jetta se'),\n",
       " (1.4180140141667547e-05, 'Astra td'),\n",
       " (1.4133311496027026e-05, 'Aqua სასწრაფოდ'),\n",
       " (1.4091654818301857e-05, 'Corolla S'),\n",
       " (1.4090592367900988e-05, '230'),\n",
       " (1.406418671769851e-05, '528 3.0'),\n",
       " (1.4048209774321776e-05, 'Alphard'),\n",
       " (1.3988924458521184e-05, 'Cooper S'),\n",
       " (1.3988904356745719e-05, '316'),\n",
       " (1.3952648840304042e-05, 'Hr-v EX'),\n",
       " (1.394796940278204e-05, 'Mazda 6 Grand Touring'),\n",
       " (1.393787975089745e-05, 'Space Runner'),\n",
       " (1.3906317902070755e-05, 'RDX'),\n",
       " (1.3853653421538254e-05, 'E 350 4 Matic AMG Packag'),\n",
       " (1.381619137286836e-05, 'Sprinter 313'),\n",
       " (1.3723344801447738e-05, 'B9 Tribeca'),\n",
       " (1.3714375837723896e-05, 'F-type'),\n",
       " (1.3647188600409153e-05, '500 Sport'),\n",
       " (1.3641170273508899e-05, 'Prius 1.8'),\n",
       " (1.3550557535995789e-05, 'Carnival'),\n",
       " (1.3539995481032471e-05, 'Bluebird'),\n",
       " (1.3416809065032347e-05, '535 comfort-sport'),\n",
       " (1.3295785742336303e-05, 'C70'),\n",
       " (1.3117703955722827e-05, 'Elantra LIMITED'),\n",
       " (1.3083619174391371e-05, 'GL 500'),\n",
       " (1.3072351308352581e-05, 'Crosstour'),\n",
       " (1.2907658047558103e-05, 'Elgrand'),\n",
       " (1.283416866788028e-05, 'Forte'),\n",
       " (1.2757728861445684e-05, 'Cayenne S'),\n",
       " (1.2683013914600382e-05, 'Forester 4x4'),\n",
       " (1.2681014953923795e-05, 'Patriot Latitude'),\n",
       " (1.2668872046355326e-05, 'Scorpio'),\n",
       " (1.2602517246413489e-05, '535 535'),\n",
       " (1.2596882578970183e-05, 'Sintra'),\n",
       " (1.2574879495971099e-05, '24 10'),\n",
       " (1.252657081550098e-05, 'Vitz RS'),\n",
       " (1.2500407712509604e-05, 'GS 300'),\n",
       " (1.2499895919972084e-05, 'M3'),\n",
       " (1.2474972634537441e-05, 'X5 35d'),\n",
       " (1.2401187680949914e-05, 'CLK 350'),\n",
       " (1.2327377011448631e-05, 'Passport'),\n",
       " (1.2323162538148797e-05, 'C-MAX SEL'),\n",
       " (1.2309135231188317e-05, 'E 50'),\n",
       " (1.2295442563310494e-05, 'Serena Serea'),\n",
       " (1.2246395074865568e-05, 'Prius C Navigation'),\n",
       " (1.2154333453852977e-05, 'IS 250 TURBO'),\n",
       " (1.2121006929927145e-05, 'TERRAIN'),\n",
       " (1.207264796055845e-05, 'Charger RT'),\n",
       " (1.206287541793802e-05, 'A 200'),\n",
       " (1.2041268669959565e-05, 'Sonata SPORT'),\n",
       " (1.195716004901591e-05, 'X1 X-Drive'),\n",
       " (1.1928671178327265e-05, 'Chariot'),\n",
       " (1.1925623806438869e-05, 'Regal'),\n",
       " (1.1887526849754004e-05, 'Highlander 2,4'),\n",
       " (1.1862263013708465e-05, 'TL'),\n",
       " (1.1841590109058983e-05, 'Mark X'),\n",
       " (1.1786308529740236e-05, 'Vectra B'),\n",
       " (1.1779598380632752e-05, 'C 250 1.8'),\n",
       " (1.172040075729673e-05, 'Fusion HIBRID'),\n",
       " (1.1708720152992719e-05, 'Atenza'),\n",
       " (1.1658836460687318e-05, 'Fusion hybrid'),\n",
       " (1.165254817915749e-05, 'E 320 bluetec'),\n",
       " (1.1633507513549576e-05, '32214'),\n",
       " (1.1607542042387148e-05, 'FX45'),\n",
       " (1.1591219623985403e-05, 'Captur QM3 Samsung'),\n",
       " (1.1518472037476436e-05, 'X1 4X4'),\n",
       " (1.1406667517791005e-05, 'E 290'),\n",
       " (1.1368709417586357e-05, 'MDX'),\n",
       " (1.1349096907846713e-05, '735'),\n",
       " (1.110938741543808e-05, 'Sprinter 316'),\n",
       " (1.1001629976025475e-05, 'Freelander'),\n",
       " (1.0998323489432632e-05, 'Cougar'),\n",
       " (1.096942634979881e-05, 'Mazda 2'),\n",
       " (1.095704987729308e-05, 'S-type'),\n",
       " (1.0927715444037288e-05, 'Avalanche'),\n",
       " (1.092607702339419e-05, 'Kangoo'),\n",
       " (1.0914757609162175e-05, '545'),\n",
       " (1.0908862458137666e-05, '208'),\n",
       " (1.0778518913514154e-05, 'C 300 4matic'),\n",
       " (1.0775717639595159e-05, 'C 250 luxury'),\n",
       " (1.0763902313147126e-05, 'CLK 320 avangarde'),\n",
       " (1.0747925209672951e-05, 'Prius 1.5I'),\n",
       " (1.057320160436505e-05, 'March 231212'),\n",
       " (1.0547238442753868e-05, 'Outback Limited'),\n",
       " (1.0544385015337138e-05, '607'),\n",
       " (1.0524701036477783e-05, '745'),\n",
       " (1.0517149385209688e-05, 'Scenic'),\n",
       " (1.0500705139799384e-05, '207'),\n",
       " (1.0482493757551034e-05, 'Passat 2.0 tfsi'),\n",
       " (1.04646340904929e-05, 'CC sport'),\n",
       " (1.033634649320037e-05, 'Fabia'),\n",
       " (1.032870845919217e-05, 'Corolla IM'),\n",
       " (1.032751669700806e-05, 'Crossroad'),\n",
       " (1.0311821107024315e-05, 'Transit T330'),\n",
       " (1.0207383848814603e-05, 'RS6'),\n",
       " (1.0162492920338409e-05, '500X'),\n",
       " (1.011173166552894e-05, 'FIT ex'),\n",
       " (1.0080670159276676e-05, 'Duster'),\n",
       " (1.0027218459762938e-05, 'S 63 AMG'),\n",
       " (1.0022483169315313e-05, 'Routan SEL'),\n",
       " (1.000193938596969e-05, 'Juke Nismo RS'),\n",
       " (9.98953163613281e-06, 'C 230 kompresor'),\n",
       " (9.983568519320213e-06, 'Mazda 5'),\n",
       " (9.877259313149365e-06, 'Astra G'),\n",
       " (9.875085181351152e-06, 'E 350 212'),\n",
       " (9.802194787880824e-06, 'RAV 4 SPORT'),\n",
       " (9.801511805622166e-06, '807'),\n",
       " (9.66103421361987e-06, 'X5 e53'),\n",
       " (9.658395358501593e-06, 'Altezza'),\n",
       " (9.580673679857403e-06, 'E 280'),\n",
       " (9.522659955980584e-06, '406'),\n",
       " (9.504606103703225e-06, 'Golf TDI'),\n",
       " (9.37356144742126e-06, 'X5 3.0'),\n",
       " (9.341899178825259e-06, 'CL 500'),\n",
       " (9.340450157456618e-06, 'Sierra DIZEL'),\n",
       " (9.338124517484823e-06, '322173'),\n",
       " (9.336228861638301e-06, '270'),\n",
       " (9.293995866859916e-06, 'Impreza G4'),\n",
       " (9.240699109640297e-06, 'Jetta sei'),\n",
       " (9.234020810269703e-06, 'Sonata blue edition'),\n",
       " (9.153892021375734e-06, '300 LIMITED'),\n",
       " (9.152840423883872e-06, 'Inspire'),\n",
       " (9.140189564652176e-06, '626'),\n",
       " (9.10815546057083e-06, 'Omega b'),\n",
       " (9.10559920535528e-06, 'Fuga'),\n",
       " (9.102457990609659e-06, 'Verisa'),\n",
       " (9.058406549120273e-06, 'ML 55 AMG'),\n",
       " (9.047209728227415e-06, 'Sienta LE'),\n",
       " (9.045939579262913e-06, 'Juke Nismo'),\n",
       " (9.03334260391041e-06, 'Cruze ltz'),\n",
       " (9.02587799279822e-06, 'CX-5 Touring'),\n",
       " (8.99378562371541e-06, 'E 270 CDI'),\n",
       " (8.963520260679132e-06, 'SAAB'),\n",
       " (8.951905436685544e-06, 'Shuttle'),\n",
       " (8.93573618270393e-06, 'Optima hybrid'),\n",
       " (8.869667666654813e-06, 'M550'),\n",
       " (8.858623523186524e-06, 'Vito 2.2'),\n",
       " (8.84128293390008e-06, 'Sportage EX'),\n",
       " (8.81833777452039e-06, 'Fusion TITANIUM'),\n",
       " (8.720098076590451e-06, '24'),\n",
       " (8.71468192049731e-06, 'Panda'),\n",
       " (8.660923540326037e-06, 'X-type'),\n",
       " (8.628072720100584e-06, 'S6'),\n",
       " (8.610534099075661e-06, 'Insight EX'),\n",
       " (8.594642935518622e-06, 'Galant'),\n",
       " (8.592621596659548e-06, 'E 500 AVG'),\n",
       " (8.588237344672255e-06, 'Pajero Mini 2010 წლიანი'),\n",
       " (8.572193235647647e-06, 'Mariner Hybrid'),\n",
       " (8.550483862074745e-06, 'Dart'),\n",
       " (8.51045229610987e-06, 'E 320 4×4'),\n",
       " (8.481604948448429e-06, 'S 500 67'),\n",
       " (8.444173055504938e-06, 'Sonata სასწრაფოდ'),\n",
       " (8.433399473018782e-06, 'Polo'),\n",
       " (8.404365127274288e-06, 'Meriva'),\n",
       " (8.402589849811103e-06, 'xD'),\n",
       " (8.389311378077999e-06, '118'),\n",
       " (8.38383480441487e-06, 'Golf 6'),\n",
       " (8.356793169595893e-06, '645'),\n",
       " (8.344797935329388e-06, 'XC90 2.5turbo'),\n",
       " (8.33142434896536e-06, 'CLK 240'),\n",
       " (8.22880971125001e-06, 'Volt Full Packet'),\n",
       " (8.225371966392991e-06, 'RAV 4 L'),\n",
       " (8.206566958380599e-06, 'Crafter 2,5TDI'),\n",
       " (8.205720691607024e-06, 'Land Cruiser 80'),\n",
       " (8.190064994322876e-06, 'Cruze Premier'),\n",
       " (8.138288324087134e-06, 'Prius plug-in'),\n",
       " (8.09517128296679e-06, 'SRX'),\n",
       " (8.045762590670937e-06, '525 i'),\n",
       " (7.987416610175054e-06, '500 sport panorama'),\n",
       " (7.983971289474234e-06, 'Focus Fokusi'),\n",
       " (7.973610411851614e-06, 'Land Cruiser Prado RX'),\n",
       " (7.935753511243745e-06, 'Caliber journey'),\n",
       " (7.897372602319445e-06, 'Outlander SPORT'),\n",
       " (7.89340768852891e-06, 'A6 UNIVERSAL'),\n",
       " (7.883215006513941e-06, 'Transit Connect ბენზინი'),\n",
       " (7.879474516070719e-06, 'ML 320 cdi'),\n",
       " (7.873575274706571e-06, 'Cruze RS'),\n",
       " (7.855928071606495e-06, 'E 220 211'),\n",
       " (7.843788495880363e-06, '3.18E+38'),\n",
       " (7.842250137590925e-06, '500L'),\n",
       " (7.779204434414743e-06, 'Pacifica'),\n",
       " (7.724791522239546e-06, 'Juke NISMO'),\n",
       " (7.71626600683116e-06, 'ML 500 AMG'),\n",
       " (7.711319914889037e-06, '09-Mar'),\n",
       " (7.711316434578631e-06, '2101 01'),\n",
       " (7.710769388773555e-06, 'Jetta sport'),\n",
       " (7.703825871564632e-06, 'A4 premium plius'),\n",
       " (7.702641024113077e-06, 'Elantra gt'),\n",
       " (7.685637212077346e-06, 'Ibiza'),\n",
       " (7.662920282841435e-06, 'Taurus interceptor'),\n",
       " (7.633371691022561e-06, 'Forester XT'),\n",
       " (7.571549536642668e-06, 'C-MAX PREMIUM'),\n",
       " (7.5581862874070805e-06, 'FIT RS MODELI'),\n",
       " (7.556086533546077e-06, 'Camry sel'),\n",
       " (7.550227031496685e-06, 'Corolla LE'),\n",
       " (7.521294066316504e-06, '335 ტურბო'),\n",
       " (7.514038218545476e-06, 'ISUZU'),\n",
       " (7.464376790674912e-06, 'Camry S'),\n",
       " (7.409225568699919e-06, 'Envoy'),\n",
       " (7.335949635697507e-06, 'E 500 AMG'),\n",
       " (7.328214677342928e-06, '320 Gran Turismo'),\n",
       " (7.2583408427651335e-06, 'FIT LX'),\n",
       " (7.224423606506031e-06, '21 3.0'),\n",
       " (7.221712106751909e-06, '2111'),\n",
       " (7.201047093446942e-06, 'H6'),\n",
       " (7.2002672030308736e-06, '1500,1600 Schtufenheck'),\n",
       " (7.186847218266958e-06, 'Tigra'),\n",
       " (7.167118748135113e-06, 'A4 S4'),\n",
       " (7.139268909947038e-06, 'Twingo'),\n",
       " (7.11438726576871e-06, '3.25E+48'),\n",
       " (7.112959910975807e-06, 'XJ'),\n",
       " (7.105420825171116e-06, '225'),\n",
       " (7.094445427059718e-06, 'Yaris SE'),\n",
       " (7.073469849322402e-06, 'CLS 350'),\n",
       " (7.032094016905002e-06, 'Escape Titanium'),\n",
       " (6.992187144964748e-06, 'Jimny'),\n",
       " (6.9765170759449815e-06, 'CL 550'),\n",
       " (6.971590880781123e-06, 'Mira'),\n",
       " (6.970826580736827e-06, 'C 240 W 203'),\n",
       " (6.932067381207669e-06, 'Premacy'),\n",
       " (6.908814511446953e-06, 'S-max'),\n",
       " (6.902913566361415e-06, 'Stream'),\n",
       " (6.865806056176488e-06, 'Grandis'),\n",
       " (6.86280313066527e-06, 'Fun Cargo'),\n",
       " (6.788430619554202e-06, 'C-MAX SE'),\n",
       " (6.780262000242815e-06, 'Crossfire'),\n",
       " (6.778091518980417e-06, 'A4 Sline'),\n",
       " (6.7707455115669215e-06, 'Ceed'),\n",
       " (6.75785577236919e-06, 'Sonata sport'),\n",
       " (6.7340332748299055e-06, 'Frontera A B'),\n",
       " (6.67838603199143e-06, 'C 32 AMG'),\n",
       " (6.666774975781309e-06, 'Forester stb'),\n",
       " (6.601758210038137e-06, 'Prius C 80 original'),\n",
       " (6.589322812024212e-06, 'CLK 200 200'),\n",
       " (6.587942667664152e-06, 'Passat B7'),\n",
       " (6.5068844884696365e-06, 'Cinquecento'),\n",
       " (6.500190534649577e-06, '500 s'),\n",
       " (6.481102818913251e-06, 'Ractis'),\n",
       " (6.441409255220405e-06, 'Sonata Hybrid'),\n",
       " (6.425885869220032e-06, 'B 200'),\n",
       " (6.400213414793336e-06, 'Sorento SX'),\n",
       " (6.388370164627195e-06, 'Elantra GLS / LIMITED'),\n",
       " (6.377701999918733e-06, 'Transit Fff'),\n",
       " (6.377686789585785e-06, 'Prius 11'),\n",
       " (6.321994574812475e-06, 'Golf GTI'),\n",
       " (6.310977342433348e-06, 'TSX'),\n",
       " (6.310817597011582e-06, 'Clio'),\n",
       " (6.300636064220819e-06, 'T5'),\n",
       " (6.273813947722341e-06, '940'),\n",
       " (6.1816182290417e-06, 'VehiCross'),\n",
       " (6.1639585769688425e-06, '20'),\n",
       " (6.150797655688774e-06, 'Presage'),\n",
       " (6.1443395847768175e-06, 'CLK 200 208'),\n",
       " (6.126228726448037e-06, 'Optima hybid'),\n",
       " (6.061544168914087e-06, 'Transit 100LD'),\n",
       " (6.03608825083899e-06, 'Vesta'),\n",
       " (6.029448874639577e-06, 'S 430 4.3'),\n",
       " (6.0273320574498215e-06, 'Noah'),\n",
       " (5.996557125144262e-06, 'C30 2010'),\n",
       " (5.987257561352379e-06, '2103 03'),\n",
       " (5.98283652303521e-06, 'Jetta GLI'),\n",
       " (5.921724925123887e-06, 'B 170 B Class'),\n",
       " (5.90704908479777e-06, '2105'),\n",
       " (5.8464654244500555e-06, 'Corolla Im'),\n",
       " (5.838299132419924e-06, '166'),\n",
       " (5.807979976973505e-06, 'Escape 3.0'),\n",
       " (5.782568750405837e-06, 'E 200 2000'),\n",
       " (5.780970217155229e-06, 'C 320 AMG'),\n",
       " (5.76406046471175e-06, 'Camry XSE'),\n",
       " (5.710959726720952e-06, 'Veloster TURBO'),\n",
       " (5.706003992327444e-06, 'ML 350 ML350'),\n",
       " (5.697219128374166e-06, 'Prius C ჰიბრიდი'),\n",
       " (5.685141720595248e-06, 'Delica 5'),\n",
       " (5.678383156384849e-06, 'Prius ჰიბრიდი'),\n",
       " (5.677318444950908e-06, 'SLK 230'),\n",
       " (5.6569784359933e-06, 'C 230 2.5'),\n",
       " (5.638043714766631e-06, 'Pajero Mini 2008 წლიანი'),\n",
       " (5.637653345096804e-06, 'E 430'),\n",
       " (5.571357015506394e-06, 'CL 600'),\n",
       " (5.564001739329312e-06, 'Corolla 04'),\n",
       " (5.561443223686445e-06, '147'),\n",
       " (5.5447587458052035e-06, 'Smart Fortwo'),\n",
       " (5.442903042162232e-06, 'Rodeo'),\n",
       " (5.426035168493789e-06, 'Taurus X'),\n",
       " (5.396154688230978e-06, 'Cr-v LX'),\n",
       " (5.395029049580141e-06, 'Omega c'),\n",
       " (5.387838198114098e-06, 'ML 320 AMG'),\n",
       " ...]"
      ]
     },
     "execution_count": 71,
     "metadata": {},
     "output_type": "execute_result"
    }
   ],
   "source": [
    "feature_importances = grid_search.best_estimator_.feature_importances_\n",
    "cat_encoder = full_pipeline.named_transformers_[\"cat\"]\n",
    "cat_one_hot_attribs = [i  for cat in cat_encoder.categories_ for i in cat]\n",
    "attributes = numerical_columns +  cat_one_hot_attribs\n",
    "sorted(zip(feature_importances, attributes), reverse=True)"
   ]
  },
  {
   "cell_type": "code",
   "execution_count": 72,
   "id": "f0dd4528",
   "metadata": {
    "execution": {
     "iopub.execute_input": "2023-05-15T12:53:59.406553Z",
     "iopub.status.busy": "2023-05-15T12:53:59.405752Z",
     "iopub.status.idle": "2023-05-15T12:53:59.415662Z",
     "shell.execute_reply": "2023-05-15T12:53:59.414278Z"
    },
    "papermill": {
     "duration": 0.06395,
     "end_time": "2023-05-15T12:53:59.418426",
     "exception": false,
     "start_time": "2023-05-15T12:53:59.354476",
     "status": "completed"
    },
    "tags": []
   },
   "outputs": [
    {
     "data": {
      "text/html": [
       "<style>#sk-container-id-6 {color: black;background-color: white;}#sk-container-id-6 pre{padding: 0;}#sk-container-id-6 div.sk-toggleable {background-color: white;}#sk-container-id-6 label.sk-toggleable__label {cursor: pointer;display: block;width: 100%;margin-bottom: 0;padding: 0.3em;box-sizing: border-box;text-align: center;}#sk-container-id-6 label.sk-toggleable__label-arrow:before {content: \"▸\";float: left;margin-right: 0.25em;color: #696969;}#sk-container-id-6 label.sk-toggleable__label-arrow:hover:before {color: black;}#sk-container-id-6 div.sk-estimator:hover label.sk-toggleable__label-arrow:before {color: black;}#sk-container-id-6 div.sk-toggleable__content {max-height: 0;max-width: 0;overflow: hidden;text-align: left;background-color: #f0f8ff;}#sk-container-id-6 div.sk-toggleable__content pre {margin: 0.2em;color: black;border-radius: 0.25em;background-color: #f0f8ff;}#sk-container-id-6 input.sk-toggleable__control:checked~div.sk-toggleable__content {max-height: 200px;max-width: 100%;overflow: auto;}#sk-container-id-6 input.sk-toggleable__control:checked~label.sk-toggleable__label-arrow:before {content: \"▾\";}#sk-container-id-6 div.sk-estimator input.sk-toggleable__control:checked~label.sk-toggleable__label {background-color: #d4ebff;}#sk-container-id-6 div.sk-label input.sk-toggleable__control:checked~label.sk-toggleable__label {background-color: #d4ebff;}#sk-container-id-6 input.sk-hidden--visually {border: 0;clip: rect(1px 1px 1px 1px);clip: rect(1px, 1px, 1px, 1px);height: 1px;margin: -1px;overflow: hidden;padding: 0;position: absolute;width: 1px;}#sk-container-id-6 div.sk-estimator {font-family: monospace;background-color: #f0f8ff;border: 1px dotted black;border-radius: 0.25em;box-sizing: border-box;margin-bottom: 0.5em;}#sk-container-id-6 div.sk-estimator:hover {background-color: #d4ebff;}#sk-container-id-6 div.sk-parallel-item::after {content: \"\";width: 100%;border-bottom: 1px solid gray;flex-grow: 1;}#sk-container-id-6 div.sk-label:hover label.sk-toggleable__label {background-color: #d4ebff;}#sk-container-id-6 div.sk-serial::before {content: \"\";position: absolute;border-left: 1px solid gray;box-sizing: border-box;top: 0;bottom: 0;left: 50%;z-index: 0;}#sk-container-id-6 div.sk-serial {display: flex;flex-direction: column;align-items: center;background-color: white;padding-right: 0.2em;padding-left: 0.2em;position: relative;}#sk-container-id-6 div.sk-item {position: relative;z-index: 1;}#sk-container-id-6 div.sk-parallel {display: flex;align-items: stretch;justify-content: center;background-color: white;position: relative;}#sk-container-id-6 div.sk-item::before, #sk-container-id-6 div.sk-parallel-item::before {content: \"\";position: absolute;border-left: 1px solid gray;box-sizing: border-box;top: 0;bottom: 0;left: 50%;z-index: -1;}#sk-container-id-6 div.sk-parallel-item {display: flex;flex-direction: column;z-index: 1;position: relative;background-color: white;}#sk-container-id-6 div.sk-parallel-item:first-child::after {align-self: flex-end;width: 50%;}#sk-container-id-6 div.sk-parallel-item:last-child::after {align-self: flex-start;width: 50%;}#sk-container-id-6 div.sk-parallel-item:only-child::after {width: 0;}#sk-container-id-6 div.sk-dashed-wrapped {border: 1px dashed gray;margin: 0 0.4em 0.5em 0.4em;box-sizing: border-box;padding-bottom: 0.4em;background-color: white;}#sk-container-id-6 div.sk-label label {font-family: monospace;font-weight: bold;display: inline-block;line-height: 1.2em;}#sk-container-id-6 div.sk-label-container {text-align: center;}#sk-container-id-6 div.sk-container {/* jupyter's `normalize.less` sets `[hidden] { display: none; }` but bootstrap.min.css set `[hidden] { display: none !important; }` so we also need the `!important` here to be able to override the default hidden behavior on the sphinx rendered scikit-learn.org. See: https://github.com/scikit-learn/scikit-learn/issues/21755 */display: inline-block !important;position: relative;}#sk-container-id-6 div.sk-text-repr-fallback {display: none;}</style><div id=\"sk-container-id-6\" class=\"sk-top-container\"><div class=\"sk-text-repr-fallback\"><pre>RandomForestRegressor(max_features=35, n_estimators=200, random_state=42)</pre><b>In a Jupyter environment, please rerun this cell to show the HTML representation or trust the notebook. <br />On GitHub, the HTML representation is unable to render, please try loading this page with nbviewer.org.</b></div><div class=\"sk-container\" hidden><div class=\"sk-item\"><div class=\"sk-estimator sk-toggleable\"><input class=\"sk-toggleable__control sk-hidden--visually\" id=\"sk-estimator-id-8\" type=\"checkbox\" checked><label for=\"sk-estimator-id-8\" class=\"sk-toggleable__label sk-toggleable__label-arrow\">RandomForestRegressor</label><div class=\"sk-toggleable__content\"><pre>RandomForestRegressor(max_features=35, n_estimators=200, random_state=42)</pre></div></div></div></div></div>"
      ],
      "text/plain": [
       "RandomForestRegressor(max_features=35, n_estimators=200, random_state=42)"
      ]
     },
     "execution_count": 72,
     "metadata": {},
     "output_type": "execute_result"
    }
   ],
   "source": [
    "grid_search.best_estimator_"
   ]
  },
  {
   "cell_type": "code",
   "execution_count": 73,
   "id": "14e21c6a",
   "metadata": {
    "execution": {
     "iopub.execute_input": "2023-05-15T12:53:59.521844Z",
     "iopub.status.busy": "2023-05-15T12:53:59.521160Z",
     "iopub.status.idle": "2023-05-15T12:54:00.001878Z",
     "shell.execute_reply": "2023-05-15T12:54:00.000647Z"
    },
    "papermill": {
     "duration": 0.53706,
     "end_time": "2023-05-15T12:54:00.005573",
     "exception": false,
     "start_time": "2023-05-15T12:53:59.468513",
     "status": "completed"
    },
    "tags": []
   },
   "outputs": [
    {
     "data": {
      "text/plain": [
       "5813.137020901728"
      ]
     },
     "execution_count": 73,
     "metadata": {},
     "output_type": "execute_result"
    }
   ],
   "source": [
    "final_model = grid_search.best_estimator_\n",
    "final_predictions = final_model.predict(X_test)\n",
    "final_mse = mean_squared_error(y_test, final_predictions)\n",
    "final_rmse = np.sqrt(final_mse)\n",
    "final_rmse"
   ]
  },
  {
   "cell_type": "code",
   "execution_count": 74,
   "id": "0971705b",
   "metadata": {
    "execution": {
     "iopub.execute_input": "2023-05-15T12:54:00.108889Z",
     "iopub.status.busy": "2023-05-15T12:54:00.108452Z",
     "iopub.status.idle": "2023-05-15T12:54:00.121073Z",
     "shell.execute_reply": "2023-05-15T12:54:00.120145Z"
    },
    "papermill": {
     "duration": 0.066881,
     "end_time": "2023-05-15T12:54:00.123299",
     "exception": false,
     "start_time": "2023-05-15T12:54:00.056418",
     "status": "completed"
    },
    "tags": []
   },
   "outputs": [
    {
     "data": {
      "text/plain": [
       "array([5592.33057234, 6025.85784907])"
      ]
     },
     "execution_count": 74,
     "metadata": {},
     "output_type": "execute_result"
    }
   ],
   "source": [
    "confidence = 0.95\n",
    "squared_errors = (final_predictions - y_test) ** 2\n",
    "np.sqrt(stats.t.interval(confidence, len(squared_errors) - 1,\n",
    "                         loc=squared_errors.mean(),\n",
    "                         scale=stats.sem(squared_errors)))"
   ]
  },
  {
   "cell_type": "markdown",
   "id": "b950e36c",
   "metadata": {
    "papermill": {
     "duration": 0.050345,
     "end_time": "2023-05-15T12:54:00.223725",
     "exception": false,
     "start_time": "2023-05-15T12:54:00.173380",
     "status": "completed"
    },
    "tags": []
   },
   "source": [
    "**95 percent confident to say that our errors will be in the range of (5592.33057234 , 6025.85784907).**"
   ]
  },
  {
   "cell_type": "markdown",
   "id": "4f398acb",
   "metadata": {
    "papermill": {
     "duration": 0.049905,
     "end_time": "2023-05-15T12:54:00.323945",
     "exception": false,
     "start_time": "2023-05-15T12:54:00.274040",
     "status": "completed"
    },
    "tags": []
   },
   "source": [
    "# Save Best Model"
   ]
  },
  {
   "cell_type": "code",
   "execution_count": 75,
   "id": "adfd91f8",
   "metadata": {
    "execution": {
     "iopub.execute_input": "2023-05-15T12:54:00.426519Z",
     "iopub.status.busy": "2023-05-15T12:54:00.426073Z",
     "iopub.status.idle": "2023-05-15T12:54:00.766272Z",
     "shell.execute_reply": "2023-05-15T12:54:00.765040Z"
    },
    "papermill": {
     "duration": 0.394969,
     "end_time": "2023-05-15T12:54:00.768986",
     "exception": false,
     "start_time": "2023-05-15T12:54:00.374017",
     "status": "completed"
    },
    "tags": []
   },
   "outputs": [
    {
     "data": {
      "text/plain": [
       "['final_model.pkl']"
      ]
     },
     "execution_count": 75,
     "metadata": {},
     "output_type": "execute_result"
    }
   ],
   "source": [
    "# Save the model we trained\n",
    "joblib.dump(final_model, \"final_model.pkl\")\n",
    "\n",
    "# If you want to use this model all you need to do is:\n",
    "# joblib.load('final_model.pkl')"
   ]
  }
 ],
 "metadata": {
  "kernelspec": {
   "display_name": "Python 3",
   "language": "python",
   "name": "python3"
  },
  "language_info": {
   "codemirror_mode": {
    "name": "ipython",
    "version": 3
   },
   "file_extension": ".py",
   "mimetype": "text/x-python",
   "name": "python",
   "nbconvert_exporter": "python",
   "pygments_lexer": "ipython3",
   "version": "3.10.10"
  },
  "papermill": {
   "default_parameters": {},
   "duration": 1523.778678,
   "end_time": "2023-05-15T12:54:02.454225",
   "environment_variables": {},
   "exception": null,
   "input_path": "__notebook__.ipynb",
   "output_path": "__notebook__.ipynb",
   "parameters": {},
   "start_time": "2023-05-15T12:28:38.675547",
   "version": "2.4.0"
  }
 },
 "nbformat": 4,
 "nbformat_minor": 5
}
