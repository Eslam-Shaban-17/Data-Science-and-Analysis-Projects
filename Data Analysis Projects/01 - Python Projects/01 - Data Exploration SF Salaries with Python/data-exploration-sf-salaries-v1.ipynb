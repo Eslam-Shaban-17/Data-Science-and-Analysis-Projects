{
 "cells": [
  {
   "cell_type": "code",
   "execution_count": 1,
   "id": "f4a2bbad",
   "metadata": {
    "_cell_guid": "b1076dfc-b9ad-4769-8c92-a6c4dae69d19",
    "_uuid": "8f2839f25d086af736a60e9eeb907d3b93b6e0e5",
    "execution": {
     "iopub.execute_input": "2022-07-13T15:00:32.033853Z",
     "iopub.status.busy": "2022-07-13T15:00:32.033374Z",
     "iopub.status.idle": "2022-07-13T15:00:32.055132Z",
     "shell.execute_reply": "2022-07-13T15:00:32.053911Z"
    },
    "papermill": {
     "duration": 0.034036,
     "end_time": "2022-07-13T15:00:32.058204",
     "exception": false,
     "start_time": "2022-07-13T15:00:32.024168",
     "status": "completed"
    },
    "tags": []
   },
   "outputs": [
    {
     "name": "stdout",
     "output_type": "stream",
     "text": [
      "/kaggle/input/sf-salaries/Salaries.csv\n",
      "/kaggle/input/sf-salaries/database.sqlite\n"
     ]
    }
   ],
   "source": [
    "# This Python 3 environment comes with many helpful analytics libraries installed\n",
    "# It is defined by the kaggle/python Docker image: https://github.com/kaggle/docker-python\n",
    "# For example, here's several helpful packages to load\n",
    "\n",
    "import numpy as np # linear algebra\n",
    "import pandas as pd # data processing, CSV file I/O (e.g. pd.read_csv)\n",
    "\n",
    "# Input data files are available in the read-only \"../input/\" directory\n",
    "# For example, running this (by clicking run or pressing Shift+Enter) will list all files under the input directory\n",
    "\n",
    "import os\n",
    "for dirname, _, filenames in os.walk('/kaggle/input'):\n",
    "    for filename in filenames:\n",
    "        print(os.path.join(dirname, filename))\n",
    "\n",
    "# You can write up to 20GB to the current directory (/kaggle/working/) that gets preserved as output when you create a version using \"Save & Run All\" \n",
    "# You can also write temporary files to /kaggle/temp/, but they won't be saved outside of the current session"
   ]
  },
  {
   "cell_type": "code",
   "execution_count": 2,
   "id": "7a107ba4",
   "metadata": {
    "execution": {
     "iopub.execute_input": "2022-07-13T15:00:32.074918Z",
     "iopub.status.busy": "2022-07-13T15:00:32.073935Z",
     "iopub.status.idle": "2022-07-13T15:00:33.148212Z",
     "shell.execute_reply": "2022-07-13T15:00:33.147400Z"
    },
    "papermill": {
     "duration": 1.084945,
     "end_time": "2022-07-13T15:00:33.150501",
     "exception": false,
     "start_time": "2022-07-13T15:00:32.065556",
     "status": "completed"
    },
    "tags": []
   },
   "outputs": [],
   "source": [
    "import pandas as pd\n",
    "import numpy as np\n",
    "import seaborn as sns\n",
    "%matplotlib inline"
   ]
  },
  {
   "cell_type": "markdown",
   "id": "82ed3106",
   "metadata": {
    "papermill": {
     "duration": 0.005898,
     "end_time": "2022-07-13T15:00:33.163003",
     "exception": false,
     "start_time": "2022-07-13T15:00:33.157105",
     "status": "completed"
    },
    "tags": []
   },
   "source": [
    "### 1- Read Salaries.csv as a Dataframe called df"
   ]
  },
  {
   "cell_type": "code",
   "execution_count": 3,
   "id": "514e0bcd",
   "metadata": {
    "execution": {
     "iopub.execute_input": "2022-07-13T15:00:33.178039Z",
     "iopub.status.busy": "2022-07-13T15:00:33.177210Z",
     "iopub.status.idle": "2022-07-13T15:00:33.681707Z",
     "shell.execute_reply": "2022-07-13T15:00:33.679574Z"
    },
    "papermill": {
     "duration": 0.515914,
     "end_time": "2022-07-13T15:00:33.685286",
     "exception": false,
     "start_time": "2022-07-13T15:00:33.169372",
     "status": "completed"
    },
    "tags": []
   },
   "outputs": [
    {
     "name": "stderr",
     "output_type": "stream",
     "text": [
      "/opt/conda/lib/python3.7/site-packages/IPython/core/interactiveshell.py:3552: DtypeWarning: Columns (3,4,5,6,12) have mixed types.Specify dtype option on import or set low_memory=False.\n",
      "  exec(code_obj, self.user_global_ns, self.user_ns)\n"
     ]
    }
   ],
   "source": [
    "df = pd.read_csv('../input/sf-salaries/Salaries.csv')"
   ]
  },
  {
   "cell_type": "markdown",
   "id": "40e6cc0c",
   "metadata": {
    "papermill": {
     "duration": 0.006902,
     "end_time": "2022-07-13T15:00:33.699226",
     "exception": false,
     "start_time": "2022-07-13T15:00:33.692324",
     "status": "completed"
    },
    "tags": []
   },
   "source": [
    "### 2- View the head of the Dataframe"
   ]
  },
  {
   "cell_type": "code",
   "execution_count": 4,
   "id": "19477569",
   "metadata": {
    "execution": {
     "iopub.execute_input": "2022-07-13T15:00:33.715020Z",
     "iopub.status.busy": "2022-07-13T15:00:33.713841Z",
     "iopub.status.idle": "2022-07-13T15:00:33.740317Z",
     "shell.execute_reply": "2022-07-13T15:00:33.738938Z"
    },
    "papermill": {
     "duration": 0.037161,
     "end_time": "2022-07-13T15:00:33.742940",
     "exception": false,
     "start_time": "2022-07-13T15:00:33.705779",
     "status": "completed"
    },
    "tags": []
   },
   "outputs": [
    {
     "data": {
      "text/html": [
       "<div>\n",
       "<style scoped>\n",
       "    .dataframe tbody tr th:only-of-type {\n",
       "        vertical-align: middle;\n",
       "    }\n",
       "\n",
       "    .dataframe tbody tr th {\n",
       "        vertical-align: top;\n",
       "    }\n",
       "\n",
       "    .dataframe thead th {\n",
       "        text-align: right;\n",
       "    }\n",
       "</style>\n",
       "<table border=\"1\" class=\"dataframe\">\n",
       "  <thead>\n",
       "    <tr style=\"text-align: right;\">\n",
       "      <th></th>\n",
       "      <th>Id</th>\n",
       "      <th>EmployeeName</th>\n",
       "      <th>JobTitle</th>\n",
       "      <th>BasePay</th>\n",
       "      <th>OvertimePay</th>\n",
       "      <th>OtherPay</th>\n",
       "      <th>Benefits</th>\n",
       "      <th>TotalPay</th>\n",
       "      <th>TotalPayBenefits</th>\n",
       "      <th>Year</th>\n",
       "      <th>Notes</th>\n",
       "      <th>Agency</th>\n",
       "      <th>Status</th>\n",
       "    </tr>\n",
       "  </thead>\n",
       "  <tbody>\n",
       "    <tr>\n",
       "      <th>0</th>\n",
       "      <td>1</td>\n",
       "      <td>NATHANIEL FORD</td>\n",
       "      <td>GENERAL MANAGER-METROPOLITAN TRANSIT AUTHORITY</td>\n",
       "      <td>167411.18</td>\n",
       "      <td>0.0</td>\n",
       "      <td>400184.25</td>\n",
       "      <td>NaN</td>\n",
       "      <td>567595.43</td>\n",
       "      <td>567595.43</td>\n",
       "      <td>2011</td>\n",
       "      <td>NaN</td>\n",
       "      <td>San Francisco</td>\n",
       "      <td>NaN</td>\n",
       "    </tr>\n",
       "    <tr>\n",
       "      <th>1</th>\n",
       "      <td>2</td>\n",
       "      <td>GARY JIMENEZ</td>\n",
       "      <td>CAPTAIN III (POLICE DEPARTMENT)</td>\n",
       "      <td>155966.02</td>\n",
       "      <td>245131.88</td>\n",
       "      <td>137811.38</td>\n",
       "      <td>NaN</td>\n",
       "      <td>538909.28</td>\n",
       "      <td>538909.28</td>\n",
       "      <td>2011</td>\n",
       "      <td>NaN</td>\n",
       "      <td>San Francisco</td>\n",
       "      <td>NaN</td>\n",
       "    </tr>\n",
       "    <tr>\n",
       "      <th>2</th>\n",
       "      <td>3</td>\n",
       "      <td>ALBERT PARDINI</td>\n",
       "      <td>CAPTAIN III (POLICE DEPARTMENT)</td>\n",
       "      <td>212739.13</td>\n",
       "      <td>106088.18</td>\n",
       "      <td>16452.6</td>\n",
       "      <td>NaN</td>\n",
       "      <td>335279.91</td>\n",
       "      <td>335279.91</td>\n",
       "      <td>2011</td>\n",
       "      <td>NaN</td>\n",
       "      <td>San Francisco</td>\n",
       "      <td>NaN</td>\n",
       "    </tr>\n",
       "    <tr>\n",
       "      <th>3</th>\n",
       "      <td>4</td>\n",
       "      <td>CHRISTOPHER CHONG</td>\n",
       "      <td>WIRE ROPE CABLE MAINTENANCE MECHANIC</td>\n",
       "      <td>77916.0</td>\n",
       "      <td>56120.71</td>\n",
       "      <td>198306.9</td>\n",
       "      <td>NaN</td>\n",
       "      <td>332343.61</td>\n",
       "      <td>332343.61</td>\n",
       "      <td>2011</td>\n",
       "      <td>NaN</td>\n",
       "      <td>San Francisco</td>\n",
       "      <td>NaN</td>\n",
       "    </tr>\n",
       "    <tr>\n",
       "      <th>4</th>\n",
       "      <td>5</td>\n",
       "      <td>PATRICK GARDNER</td>\n",
       "      <td>DEPUTY CHIEF OF DEPARTMENT,(FIRE DEPARTMENT)</td>\n",
       "      <td>134401.6</td>\n",
       "      <td>9737.0</td>\n",
       "      <td>182234.59</td>\n",
       "      <td>NaN</td>\n",
       "      <td>326373.19</td>\n",
       "      <td>326373.19</td>\n",
       "      <td>2011</td>\n",
       "      <td>NaN</td>\n",
       "      <td>San Francisco</td>\n",
       "      <td>NaN</td>\n",
       "    </tr>\n",
       "  </tbody>\n",
       "</table>\n",
       "</div>"
      ],
      "text/plain": [
       "   Id       EmployeeName                                        JobTitle  \\\n",
       "0   1     NATHANIEL FORD  GENERAL MANAGER-METROPOLITAN TRANSIT AUTHORITY   \n",
       "1   2       GARY JIMENEZ                 CAPTAIN III (POLICE DEPARTMENT)   \n",
       "2   3     ALBERT PARDINI                 CAPTAIN III (POLICE DEPARTMENT)   \n",
       "3   4  CHRISTOPHER CHONG            WIRE ROPE CABLE MAINTENANCE MECHANIC   \n",
       "4   5    PATRICK GARDNER    DEPUTY CHIEF OF DEPARTMENT,(FIRE DEPARTMENT)   \n",
       "\n",
       "     BasePay OvertimePay   OtherPay Benefits   TotalPay  TotalPayBenefits  \\\n",
       "0  167411.18         0.0  400184.25      NaN  567595.43         567595.43   \n",
       "1  155966.02   245131.88  137811.38      NaN  538909.28         538909.28   \n",
       "2  212739.13   106088.18    16452.6      NaN  335279.91         335279.91   \n",
       "3    77916.0    56120.71   198306.9      NaN  332343.61         332343.61   \n",
       "4   134401.6      9737.0  182234.59      NaN  326373.19         326373.19   \n",
       "\n",
       "   Year  Notes         Agency Status  \n",
       "0  2011    NaN  San Francisco    NaN  \n",
       "1  2011    NaN  San Francisco    NaN  \n",
       "2  2011    NaN  San Francisco    NaN  \n",
       "3  2011    NaN  San Francisco    NaN  \n",
       "4  2011    NaN  San Francisco    NaN  "
      ]
     },
     "execution_count": 4,
     "metadata": {},
     "output_type": "execute_result"
    }
   ],
   "source": [
    "df.head()"
   ]
  },
  {
   "cell_type": "markdown",
   "id": "e283b3af",
   "metadata": {
    "papermill": {
     "duration": 0.006467,
     "end_time": "2022-07-13T15:00:33.756508",
     "exception": false,
     "start_time": "2022-07-13T15:00:33.750041",
     "status": "completed"
    },
    "tags": []
   },
   "source": [
    "### 3- Check how many entries, columns and Data types of columns"
   ]
  },
  {
   "cell_type": "code",
   "execution_count": 5,
   "id": "24c9ce42",
   "metadata": {
    "execution": {
     "iopub.execute_input": "2022-07-13T15:00:33.772038Z",
     "iopub.status.busy": "2022-07-13T15:00:33.771270Z",
     "iopub.status.idle": "2022-07-13T15:00:33.844031Z",
     "shell.execute_reply": "2022-07-13T15:00:33.842393Z"
    },
    "papermill": {
     "duration": 0.083291,
     "end_time": "2022-07-13T15:00:33.846541",
     "exception": false,
     "start_time": "2022-07-13T15:00:33.763250",
     "status": "completed"
    },
    "tags": []
   },
   "outputs": [
    {
     "name": "stdout",
     "output_type": "stream",
     "text": [
      "<class 'pandas.core.frame.DataFrame'>\n",
      "RangeIndex: 148654 entries, 0 to 148653\n",
      "Data columns (total 13 columns):\n",
      " #   Column            Non-Null Count   Dtype  \n",
      "---  ------            --------------   -----  \n",
      " 0   Id                148654 non-null  int64  \n",
      " 1   EmployeeName      148654 non-null  object \n",
      " 2   JobTitle          148654 non-null  object \n",
      " 3   BasePay           148049 non-null  object \n",
      " 4   OvertimePay       148654 non-null  object \n",
      " 5   OtherPay          148654 non-null  object \n",
      " 6   Benefits          112495 non-null  object \n",
      " 7   TotalPay          148654 non-null  float64\n",
      " 8   TotalPayBenefits  148654 non-null  float64\n",
      " 9   Year              148654 non-null  int64  \n",
      " 10  Notes             0 non-null       float64\n",
      " 11  Agency            148654 non-null  object \n",
      " 12  Status            38119 non-null   object \n",
      "dtypes: float64(3), int64(2), object(8)\n",
      "memory usage: 14.7+ MB\n"
     ]
    }
   ],
   "source": [
    "df.info()"
   ]
  },
  {
   "cell_type": "markdown",
   "id": "33dc213d",
   "metadata": {
    "papermill": {
     "duration": 0.006291,
     "end_time": "2022-07-13T15:00:33.859518",
     "exception": false,
     "start_time": "2022-07-13T15:00:33.853227",
     "status": "completed"
    },
    "tags": []
   },
   "source": [
    "### 4- Check Null values"
   ]
  },
  {
   "cell_type": "code",
   "execution_count": 6,
   "id": "594fbcab",
   "metadata": {
    "execution": {
     "iopub.execute_input": "2022-07-13T15:00:33.874325Z",
     "iopub.status.busy": "2022-07-13T15:00:33.873951Z",
     "iopub.status.idle": "2022-07-13T15:00:33.929808Z",
     "shell.execute_reply": "2022-07-13T15:00:33.928736Z"
    },
    "papermill": {
     "duration": 0.065662,
     "end_time": "2022-07-13T15:00:33.932003",
     "exception": false,
     "start_time": "2022-07-13T15:00:33.866341",
     "status": "completed"
    },
    "tags": []
   },
   "outputs": [
    {
     "data": {
      "text/plain": [
       "Id                       0\n",
       "EmployeeName             0\n",
       "JobTitle                 0\n",
       "BasePay                605\n",
       "OvertimePay              0\n",
       "OtherPay                 0\n",
       "Benefits             36159\n",
       "TotalPay                 0\n",
       "TotalPayBenefits         0\n",
       "Year                     0\n",
       "Notes               148654\n",
       "Agency                   0\n",
       "Status              110535\n",
       "dtype: int64"
      ]
     },
     "execution_count": 6,
     "metadata": {},
     "output_type": "execute_result"
    }
   ],
   "source": [
    "df.isnull().sum()"
   ]
  },
  {
   "cell_type": "markdown",
   "id": "f4df5ba3",
   "metadata": {
    "papermill": {
     "duration": 0.006305,
     "end_time": "2022-07-13T15:00:33.945535",
     "exception": false,
     "start_time": "2022-07-13T15:00:33.939230",
     "status": "completed"
    },
    "tags": []
   },
   "source": [
    "### 5- percentage of missing values in each Columns"
   ]
  },
  {
   "cell_type": "code",
   "execution_count": 7,
   "id": "616afde9",
   "metadata": {
    "execution": {
     "iopub.execute_input": "2022-07-13T15:00:33.960833Z",
     "iopub.status.busy": "2022-07-13T15:00:33.960122Z",
     "iopub.status.idle": "2022-07-13T15:00:34.021211Z",
     "shell.execute_reply": "2022-07-13T15:00:34.019781Z"
    },
    "papermill": {
     "duration": 0.072254,
     "end_time": "2022-07-13T15:00:34.024418",
     "exception": false,
     "start_time": "2022-07-13T15:00:33.952164",
     "status": "completed"
    },
    "tags": []
   },
   "outputs": [
    {
     "name": "stdout",
     "output_type": "stream",
     "text": [
      "Id - 0%\n",
      "EmployeeName - 0%\n",
      "JobTitle - 0%\n",
      "BasePay - 0%\n",
      "OvertimePay - 0%\n",
      "OtherPay - 0%\n",
      "Benefits - 24%\n",
      "TotalPay - 0%\n",
      "TotalPayBenefits - 0%\n",
      "Year - 0%\n",
      "Notes - 100%\n",
      "Agency - 0%\n",
      "Status - 74%\n"
     ]
    }
   ],
   "source": [
    "for col in df.columns:\n",
    "    prc_null = np.mean(df[col].isnull())\n",
    "    print('{} - {}%'.format(col, round(prc_null*100)))"
   ]
  },
  {
   "cell_type": "markdown",
   "id": "5a5f88f3",
   "metadata": {
    "papermill": {
     "duration": 0.006497,
     "end_time": "2022-07-13T15:00:34.038215",
     "exception": false,
     "start_time": "2022-07-13T15:00:34.031718",
     "status": "completed"
    },
    "tags": []
   },
   "source": [
    "### 6- What is the average TotalPay ?"
   ]
  },
  {
   "cell_type": "code",
   "execution_count": 8,
   "id": "eed7c830",
   "metadata": {
    "execution": {
     "iopub.execute_input": "2022-07-13T15:00:34.054394Z",
     "iopub.status.busy": "2022-07-13T15:00:34.054032Z",
     "iopub.status.idle": "2022-07-13T15:00:34.061989Z",
     "shell.execute_reply": "2022-07-13T15:00:34.060710Z"
    },
    "papermill": {
     "duration": 0.018692,
     "end_time": "2022-07-13T15:00:34.064147",
     "exception": false,
     "start_time": "2022-07-13T15:00:34.045455",
     "status": "completed"
    },
    "tags": []
   },
   "outputs": [
    {
     "data": {
      "text/plain": [
       "74768.32197169267"
      ]
     },
     "execution_count": 8,
     "metadata": {},
     "output_type": "execute_result"
    }
   ],
   "source": [
    "df['TotalPay'].mean()"
   ]
  },
  {
   "cell_type": "markdown",
   "id": "e9f07972",
   "metadata": {
    "papermill": {
     "duration": 0.007515,
     "end_time": "2022-07-13T15:00:34.078709",
     "exception": false,
     "start_time": "2022-07-13T15:00:34.071194",
     "status": "completed"
    },
    "tags": []
   },
   "source": [
    "### 7- What is the highest amount of TotalPay in the dataset ? "
   ]
  },
  {
   "cell_type": "code",
   "execution_count": 9,
   "id": "3d9d5a33",
   "metadata": {
    "execution": {
     "iopub.execute_input": "2022-07-13T15:00:34.095242Z",
     "iopub.status.busy": "2022-07-13T15:00:34.094899Z",
     "iopub.status.idle": "2022-07-13T15:00:34.101524Z",
     "shell.execute_reply": "2022-07-13T15:00:34.100677Z"
    },
    "papermill": {
     "duration": 0.017041,
     "end_time": "2022-07-13T15:00:34.103334",
     "exception": false,
     "start_time": "2022-07-13T15:00:34.086293",
     "status": "completed"
    },
    "tags": []
   },
   "outputs": [
    {
     "data": {
      "text/plain": [
       "567595.43"
      ]
     },
     "execution_count": 9,
     "metadata": {},
     "output_type": "execute_result"
    }
   ],
   "source": [
    "df['TotalPay'].max()"
   ]
  },
  {
   "cell_type": "markdown",
   "id": "3e3870f6",
   "metadata": {
    "papermill": {
     "duration": 0.006486,
     "end_time": "2022-07-13T15:00:34.116620",
     "exception": false,
     "start_time": "2022-07-13T15:00:34.110134",
     "status": "completed"
    },
    "tags": []
   },
   "source": [
    "### 8- What was the average (mean) TotalPay of all employees per year?"
   ]
  },
  {
   "cell_type": "code",
   "execution_count": 10,
   "id": "33e055c2",
   "metadata": {
    "execution": {
     "iopub.execute_input": "2022-07-13T15:00:34.131720Z",
     "iopub.status.busy": "2022-07-13T15:00:34.131334Z",
     "iopub.status.idle": "2022-07-13T15:00:34.163140Z",
     "shell.execute_reply": "2022-07-13T15:00:34.161990Z"
    },
    "papermill": {
     "duration": 0.042278,
     "end_time": "2022-07-13T15:00:34.165604",
     "exception": false,
     "start_time": "2022-07-13T15:00:34.123326",
     "status": "completed"
    },
    "tags": []
   },
   "outputs": [
    {
     "data": {
      "text/plain": [
       "Year\n",
       "2011    71744.103871\n",
       "2012    74113.262265\n",
       "2013    77611.443142\n",
       "2014    75463.918140\n",
       "Name: TotalPay, dtype: float64"
      ]
     },
     "execution_count": 10,
     "metadata": {},
     "output_type": "execute_result"
    }
   ],
   "source": [
    "df.groupby('Year').mean()['TotalPay']"
   ]
  },
  {
   "cell_type": "markdown",
   "id": "2df0320a",
   "metadata": {
    "papermill": {
     "duration": 0.006536,
     "end_time": "2022-07-13T15:00:34.179417",
     "exception": false,
     "start_time": "2022-07-13T15:00:34.172881",
     "status": "completed"
    },
    "tags": []
   },
   "source": [
    "### 9- Distribution of the Total Pay"
   ]
  },
  {
   "cell_type": "code",
   "execution_count": 11,
   "id": "b00fe93b",
   "metadata": {
    "execution": {
     "iopub.execute_input": "2022-07-13T15:00:34.195617Z",
     "iopub.status.busy": "2022-07-13T15:00:34.195191Z",
     "iopub.status.idle": "2022-07-13T15:00:34.810787Z",
     "shell.execute_reply": "2022-07-13T15:00:34.809874Z"
    },
    "papermill": {
     "duration": 0.626048,
     "end_time": "2022-07-13T15:00:34.812931",
     "exception": false,
     "start_time": "2022-07-13T15:00:34.186883",
     "status": "completed"
    },
    "tags": []
   },
   "outputs": [
    {
     "data": {
      "text/plain": [
       "<AxesSubplot:xlabel='TotalPay', ylabel='Count'>"
      ]
     },
     "execution_count": 11,
     "metadata": {},
     "output_type": "execute_result"
    },
    {
     "data": {
      "image/png": "[encoded data removed]",
      "text/plain": [
       "<Figure size 432x288 with 1 Axes>"
      ]
     },
     "metadata": {
      "needs_background": "light"
     },
     "output_type": "display_data"
    }
   ],
   "source": [
    "sns.histplot(df['TotalPay'])"
   ]
  },
  {
   "cell_type": "markdown",
   "id": "3ec9edce",
   "metadata": {
    "papermill": {
     "duration": 0.007401,
     "end_time": "2022-07-13T15:00:34.827545",
     "exception": false,
     "start_time": "2022-07-13T15:00:34.820144",
     "status": "completed"
    },
    "tags": []
   },
   "source": [
    "### 10- Number of Unique Job Titles"
   ]
  },
  {
   "cell_type": "code",
   "execution_count": 12,
   "id": "0f7a2f2a",
   "metadata": {
    "execution": {
     "iopub.execute_input": "2022-07-13T15:00:34.844399Z",
     "iopub.status.busy": "2022-07-13T15:00:34.843303Z",
     "iopub.status.idle": "2022-07-13T15:00:34.861879Z",
     "shell.execute_reply": "2022-07-13T15:00:34.860513Z"
    },
    "papermill": {
     "duration": 0.029856,
     "end_time": "2022-07-13T15:00:34.864599",
     "exception": false,
     "start_time": "2022-07-13T15:00:34.834743",
     "status": "completed"
    },
    "tags": []
   },
   "outputs": [
    {
     "name": "stdout",
     "output_type": "stream",
     "text": [
      "Number of unique job titles: 2159\n"
     ]
    }
   ],
   "source": [
    "\n",
    "print('Number of unique job titles:', df['JobTitle'].nunique())\n"
   ]
  },
  {
   "cell_type": "markdown",
   "id": "65def100",
   "metadata": {
    "papermill": {
     "duration": 0.006873,
     "end_time": "2022-07-13T15:00:34.878933",
     "exception": false,
     "start_time": "2022-07-13T15:00:34.872060",
     "status": "completed"
    },
    "tags": []
   },
   "source": [
    "### 11- What are the top 5 most common jobs?"
   ]
  },
  {
   "cell_type": "code",
   "execution_count": 13,
   "id": "7a3c0783",
   "metadata": {
    "execution": {
     "iopub.execute_input": "2022-07-13T15:00:34.895115Z",
     "iopub.status.busy": "2022-07-13T15:00:34.894700Z",
     "iopub.status.idle": "2022-07-13T15:00:34.916739Z",
     "shell.execute_reply": "2022-07-13T15:00:34.915927Z"
    },
    "papermill": {
     "duration": 0.032533,
     "end_time": "2022-07-13T15:00:34.918707",
     "exception": false,
     "start_time": "2022-07-13T15:00:34.886174",
     "status": "completed"
    },
    "tags": []
   },
   "outputs": [
    {
     "data": {
      "text/plain": [
       "Transit Operator                7036\n",
       "Special Nurse                   4389\n",
       "Registered Nurse                3736\n",
       "Public Svc Aide-Public Works    2518\n",
       "Police Officer 3                2421\n",
       "Name: JobTitle, dtype: int64"
      ]
     },
     "execution_count": 13,
     "metadata": {},
     "output_type": "execute_result"
    }
   ],
   "source": [
    "df['JobTitle'].value_counts().head(5)"
   ]
  },
  {
   "cell_type": "markdown",
   "id": "85ab1a6e",
   "metadata": {
    "papermill": {
     "duration": 0.006905,
     "end_time": "2022-07-13T15:00:34.932899",
     "exception": false,
     "start_time": "2022-07-13T15:00:34.925994",
     "status": "completed"
    },
    "tags": []
   },
   "source": [
    "### 12- Number of Job Titles Contain Captain\n"
   ]
  },
  {
   "cell_type": "code",
   "execution_count": 14,
   "id": "414338ae",
   "metadata": {
    "execution": {
     "iopub.execute_input": "2022-07-13T15:00:34.949380Z",
     "iopub.status.busy": "2022-07-13T15:00:34.948411Z",
     "iopub.status.idle": "2022-07-13T15:00:35.053693Z",
     "shell.execute_reply": "2022-07-13T15:00:35.052573Z"
    },
    "papermill": {
     "duration": 0.116315,
     "end_time": "2022-07-13T15:00:35.056448",
     "exception": false,
     "start_time": "2022-07-13T15:00:34.940133",
     "status": "completed"
    },
    "tags": []
   },
   "outputs": [
    {
     "data": {
      "text/plain": [
       "552"
      ]
     },
     "execution_count": 14,
     "metadata": {},
     "output_type": "execute_result"
    }
   ],
   "source": [
    "df['JobTitle'].str.contains('captain', case=False).sum()"
   ]
  },
  {
   "cell_type": "markdown",
   "id": "633733b8",
   "metadata": {
    "papermill": {
     "duration": 0.007602,
     "end_time": "2022-07-13T15:00:35.072147",
     "exception": false,
     "start_time": "2022-07-13T15:00:35.064545",
     "status": "completed"
    },
    "tags": []
   },
   "source": [
    "### 13- Display the Employees that thier Job Titles Name Contain Captain\n"
   ]
  },
  {
   "cell_type": "code",
   "execution_count": 15,
   "id": "d06cba46",
   "metadata": {
    "execution": {
     "iopub.execute_input": "2022-07-13T15:00:35.089566Z",
     "iopub.status.busy": "2022-07-13T15:00:35.088914Z",
     "iopub.status.idle": "2022-07-13T15:00:35.200426Z",
     "shell.execute_reply": "2022-07-13T15:00:35.199269Z"
    },
    "papermill": {
     "duration": 0.122917,
     "end_time": "2022-07-13T15:00:35.202754",
     "exception": false,
     "start_time": "2022-07-13T15:00:35.079837",
     "status": "completed"
    },
    "tags": []
   },
   "outputs": [
    {
     "data": {
      "text/html": [
       "<div>\n",
       "<style scoped>\n",
       "    .dataframe tbody tr th:only-of-type {\n",
       "        vertical-align: middle;\n",
       "    }\n",
       "\n",
       "    .dataframe tbody tr th {\n",
       "        vertical-align: top;\n",
       "    }\n",
       "\n",
       "    .dataframe thead th {\n",
       "        text-align: right;\n",
       "    }\n",
       "</style>\n",
       "<table border=\"1\" class=\"dataframe\">\n",
       "  <thead>\n",
       "    <tr style=\"text-align: right;\">\n",
       "      <th></th>\n",
       "      <th>Id</th>\n",
       "      <th>EmployeeName</th>\n",
       "      <th>JobTitle</th>\n",
       "      <th>BasePay</th>\n",
       "      <th>OvertimePay</th>\n",
       "      <th>OtherPay</th>\n",
       "      <th>Benefits</th>\n",
       "      <th>TotalPay</th>\n",
       "      <th>TotalPayBenefits</th>\n",
       "      <th>Year</th>\n",
       "      <th>Notes</th>\n",
       "      <th>Agency</th>\n",
       "      <th>Status</th>\n",
       "    </tr>\n",
       "  </thead>\n",
       "  <tbody>\n",
       "    <tr>\n",
       "      <th>1</th>\n",
       "      <td>2</td>\n",
       "      <td>GARY JIMENEZ</td>\n",
       "      <td>CAPTAIN III (POLICE DEPARTMENT)</td>\n",
       "      <td>155966.02</td>\n",
       "      <td>245131.88</td>\n",
       "      <td>137811.38</td>\n",
       "      <td>NaN</td>\n",
       "      <td>538909.28</td>\n",
       "      <td>538909.28</td>\n",
       "      <td>2011</td>\n",
       "      <td>NaN</td>\n",
       "      <td>San Francisco</td>\n",
       "      <td>NaN</td>\n",
       "    </tr>\n",
       "    <tr>\n",
       "      <th>2</th>\n",
       "      <td>3</td>\n",
       "      <td>ALBERT PARDINI</td>\n",
       "      <td>CAPTAIN III (POLICE DEPARTMENT)</td>\n",
       "      <td>212739.13</td>\n",
       "      <td>106088.18</td>\n",
       "      <td>16452.6</td>\n",
       "      <td>NaN</td>\n",
       "      <td>335279.91</td>\n",
       "      <td>335279.91</td>\n",
       "      <td>2011</td>\n",
       "      <td>NaN</td>\n",
       "      <td>San Francisco</td>\n",
       "      <td>NaN</td>\n",
       "    </tr>\n",
       "    <tr>\n",
       "      <th>11</th>\n",
       "      <td>12</td>\n",
       "      <td>PATRICIA JACKSON</td>\n",
       "      <td>CAPTAIN III (POLICE DEPARTMENT)</td>\n",
       "      <td>99722.0</td>\n",
       "      <td>87082.62</td>\n",
       "      <td>110804.3</td>\n",
       "      <td>NaN</td>\n",
       "      <td>297608.92</td>\n",
       "      <td>297608.92</td>\n",
       "      <td>2011</td>\n",
       "      <td>NaN</td>\n",
       "      <td>San Francisco</td>\n",
       "      <td>NaN</td>\n",
       "    </tr>\n",
       "    <tr>\n",
       "      <th>17</th>\n",
       "      <td>18</td>\n",
       "      <td>SEBASTIAN WONG</td>\n",
       "      <td>CAPTAIN, EMERGENCYCY MEDICAL SERVICES</td>\n",
       "      <td>140546.87</td>\n",
       "      <td>119397.26</td>\n",
       "      <td>18625.08</td>\n",
       "      <td>NaN</td>\n",
       "      <td>278569.21</td>\n",
       "      <td>278569.21</td>\n",
       "      <td>2011</td>\n",
       "      <td>NaN</td>\n",
       "      <td>San Francisco</td>\n",
       "      <td>NaN</td>\n",
       "    </tr>\n",
       "    <tr>\n",
       "      <th>22</th>\n",
       "      <td>23</td>\n",
       "      <td>GEORGE GARCIA</td>\n",
       "      <td>CAPTAIN, FIRE SUPPRESSION</td>\n",
       "      <td>140546.88</td>\n",
       "      <td>93200.58</td>\n",
       "      <td>39955.25</td>\n",
       "      <td>NaN</td>\n",
       "      <td>273702.71</td>\n",
       "      <td>273702.71</td>\n",
       "      <td>2011</td>\n",
       "      <td>NaN</td>\n",
       "      <td>San Francisco</td>\n",
       "      <td>NaN</td>\n",
       "    </tr>\n",
       "    <tr>\n",
       "      <th>...</th>\n",
       "      <td>...</td>\n",
       "      <td>...</td>\n",
       "      <td>...</td>\n",
       "      <td>...</td>\n",
       "      <td>...</td>\n",
       "      <td>...</td>\n",
       "      <td>...</td>\n",
       "      <td>...</td>\n",
       "      <td>...</td>\n",
       "      <td>...</td>\n",
       "      <td>...</td>\n",
       "      <td>...</td>\n",
       "      <td>...</td>\n",
       "    </tr>\n",
       "    <tr>\n",
       "      <th>116604</th>\n",
       "      <td>116605</td>\n",
       "      <td>Gregory L Stewart</td>\n",
       "      <td>Captain, Fire Suppression</td>\n",
       "      <td>73355.21</td>\n",
       "      <td>18517.18</td>\n",
       "      <td>49917.73</td>\n",
       "      <td>25608.77</td>\n",
       "      <td>141790.12</td>\n",
       "      <td>167398.89</td>\n",
       "      <td>2014</td>\n",
       "      <td>NaN</td>\n",
       "      <td>San Francisco</td>\n",
       "      <td>PT</td>\n",
       "    </tr>\n",
       "    <tr>\n",
       "      <th>120867</th>\n",
       "      <td>120868</td>\n",
       "      <td>Michael J Moran</td>\n",
       "      <td>Captain 3</td>\n",
       "      <td>7660.0</td>\n",
       "      <td>1496.09</td>\n",
       "      <td>126560.36</td>\n",
       "      <td>2189.51</td>\n",
       "      <td>135716.45</td>\n",
       "      <td>137905.96</td>\n",
       "      <td>2014</td>\n",
       "      <td>NaN</td>\n",
       "      <td>San Francisco</td>\n",
       "      <td>PT</td>\n",
       "    </tr>\n",
       "    <tr>\n",
       "      <th>122361</th>\n",
       "      <td>122362</td>\n",
       "      <td>Michael V Rolovich</td>\n",
       "      <td>Captain, Fire Suppression</td>\n",
       "      <td>0.0</td>\n",
       "      <td>0.0</td>\n",
       "      <td>130320.75</td>\n",
       "      <td>0.0</td>\n",
       "      <td>130320.75</td>\n",
       "      <td>130320.75</td>\n",
       "      <td>2014</td>\n",
       "      <td>NaN</td>\n",
       "      <td>San Francisco</td>\n",
       "      <td>PT</td>\n",
       "    </tr>\n",
       "    <tr>\n",
       "      <th>126588</th>\n",
       "      <td>126589</td>\n",
       "      <td>Stephen M Tittel</td>\n",
       "      <td>Captain 3</td>\n",
       "      <td>68491.89</td>\n",
       "      <td>0.0</td>\n",
       "      <td>23721.91</td>\n",
       "      <td>19020.79</td>\n",
       "      <td>92213.80</td>\n",
       "      <td>111234.59</td>\n",
       "      <td>2014</td>\n",
       "      <td>NaN</td>\n",
       "      <td>San Francisco</td>\n",
       "      <td>PT</td>\n",
       "    </tr>\n",
       "    <tr>\n",
       "      <th>132232</th>\n",
       "      <td>132233</td>\n",
       "      <td>Jeanne M Seyler</td>\n",
       "      <td>Captain, Fire Suppression</td>\n",
       "      <td>61039.43</td>\n",
       "      <td>2285.30</td>\n",
       "      <td>7548.29</td>\n",
       "      <td>20113.76</td>\n",
       "      <td>70873.02</td>\n",
       "      <td>90986.78</td>\n",
       "      <td>2014</td>\n",
       "      <td>NaN</td>\n",
       "      <td>San Francisco</td>\n",
       "      <td>PT</td>\n",
       "    </tr>\n",
       "  </tbody>\n",
       "</table>\n",
       "<p>552 rows × 13 columns</p>\n",
       "</div>"
      ],
      "text/plain": [
       "            Id        EmployeeName                               JobTitle  \\\n",
       "1            2        GARY JIMENEZ        CAPTAIN III (POLICE DEPARTMENT)   \n",
       "2            3      ALBERT PARDINI        CAPTAIN III (POLICE DEPARTMENT)   \n",
       "11          12    PATRICIA JACKSON        CAPTAIN III (POLICE DEPARTMENT)   \n",
       "17          18      SEBASTIAN WONG  CAPTAIN, EMERGENCYCY MEDICAL SERVICES   \n",
       "22          23       GEORGE GARCIA              CAPTAIN, FIRE SUPPRESSION   \n",
       "...        ...                 ...                                    ...   \n",
       "116604  116605   Gregory L Stewart              Captain, Fire Suppression   \n",
       "120867  120868     Michael J Moran                              Captain 3   \n",
       "122361  122362  Michael V Rolovich              Captain, Fire Suppression   \n",
       "126588  126589    Stephen M Tittel                              Captain 3   \n",
       "132232  132233     Jeanne M Seyler              Captain, Fire Suppression   \n",
       "\n",
       "          BasePay OvertimePay   OtherPay  Benefits   TotalPay  \\\n",
       "1       155966.02   245131.88  137811.38       NaN  538909.28   \n",
       "2       212739.13   106088.18    16452.6       NaN  335279.91   \n",
       "11        99722.0    87082.62   110804.3       NaN  297608.92   \n",
       "17      140546.87   119397.26   18625.08       NaN  278569.21   \n",
       "22      140546.88    93200.58   39955.25       NaN  273702.71   \n",
       "...           ...         ...        ...       ...        ...   \n",
       "116604   73355.21    18517.18   49917.73  25608.77  141790.12   \n",
       "120867     7660.0     1496.09  126560.36   2189.51  135716.45   \n",
       "122361        0.0         0.0  130320.75       0.0  130320.75   \n",
       "126588   68491.89         0.0   23721.91  19020.79   92213.80   \n",
       "132232   61039.43     2285.30    7548.29  20113.76   70873.02   \n",
       "\n",
       "        TotalPayBenefits  Year  Notes         Agency Status  \n",
       "1              538909.28  2011    NaN  San Francisco    NaN  \n",
       "2              335279.91  2011    NaN  San Francisco    NaN  \n",
       "11             297608.92  2011    NaN  San Francisco    NaN  \n",
       "17             278569.21  2011    NaN  San Francisco    NaN  \n",
       "22             273702.71  2011    NaN  San Francisco    NaN  \n",
       "...                  ...   ...    ...            ...    ...  \n",
       "116604         167398.89  2014    NaN  San Francisco     PT  \n",
       "120867         137905.96  2014    NaN  San Francisco     PT  \n",
       "122361         130320.75  2014    NaN  San Francisco     PT  \n",
       "126588         111234.59  2014    NaN  San Francisco     PT  \n",
       "132232          90986.78  2014    NaN  San Francisco     PT  \n",
       "\n",
       "[552 rows x 13 columns]"
      ]
     },
     "execution_count": 15,
     "metadata": {},
     "output_type": "execute_result"
    }
   ],
   "source": [
    "df.columns\n",
    "df[df['JobTitle'].str.contains('captain', case=False)]"
   ]
  },
  {
   "cell_type": "markdown",
   "id": "9a5e0e5e",
   "metadata": {
    "papermill": {
     "duration": 0.007892,
     "end_time": "2022-07-13T15:00:35.218731",
     "exception": false,
     "start_time": "2022-07-13T15:00:35.210839",
     "status": "completed"
    },
    "tags": []
   },
   "source": [
    "### 14- Function to check if Jop Title contain word \"Chief\""
   ]
  },
  {
   "cell_type": "code",
   "execution_count": 16,
   "id": "1bc13b63",
   "metadata": {
    "execution": {
     "iopub.execute_input": "2022-07-13T15:00:35.235931Z",
     "iopub.status.busy": "2022-07-13T15:00:35.235511Z",
     "iopub.status.idle": "2022-07-13T15:00:35.240740Z",
     "shell.execute_reply": "2022-07-13T15:00:35.239734Z"
    },
    "papermill": {
     "duration": 0.016415,
     "end_time": "2022-07-13T15:00:35.243028",
     "exception": false,
     "start_time": "2022-07-13T15:00:35.226613",
     "status": "completed"
    },
    "tags": []
   },
   "outputs": [],
   "source": [
    "def chief_string(title):\n",
    "    if 'chief' in title.lower():\n",
    "        return True\n",
    "    else:\n",
    "        return False"
   ]
  },
  {
   "cell_type": "markdown",
   "id": "830f4709",
   "metadata": {
    "papermill": {
     "duration": 0.007467,
     "end_time": "2022-07-13T15:00:35.258396",
     "exception": false,
     "start_time": "2022-07-13T15:00:35.250929",
     "status": "completed"
    },
    "tags": []
   },
   "source": [
    "### 15- Number of Job Titles Contain Chief"
   ]
  },
  {
   "cell_type": "code",
   "execution_count": 17,
   "id": "4b338f89",
   "metadata": {
    "execution": {
     "iopub.execute_input": "2022-07-13T15:00:35.275529Z",
     "iopub.status.busy": "2022-07-13T15:00:35.275143Z",
     "iopub.status.idle": "2022-07-13T15:00:35.344814Z",
     "shell.execute_reply": "2022-07-13T15:00:35.343868Z"
    },
    "papermill": {
     "duration": 0.081034,
     "end_time": "2022-07-13T15:00:35.347248",
     "exception": false,
     "start_time": "2022-07-13T15:00:35.266214",
     "status": "completed"
    },
    "tags": []
   },
   "outputs": [
    {
     "data": {
      "text/plain": [
       "627"
      ]
     },
     "execution_count": 17,
     "metadata": {},
     "output_type": "execute_result"
    }
   ],
   "source": [
    "sum(df['JobTitle'].apply(lambda x: chief_string(x)))"
   ]
  },
  {
   "cell_type": "markdown",
   "id": "81789681",
   "metadata": {
    "papermill": {
     "duration": 0.007589,
     "end_time": "2022-07-13T15:00:35.362695",
     "exception": false,
     "start_time": "2022-07-13T15:00:35.355106",
     "status": "completed"
    },
    "tags": []
   },
   "source": [
    "### 16- What is the job title of ALBERT PARDINI"
   ]
  },
  {
   "cell_type": "code",
   "execution_count": 18,
   "id": "5b93527a",
   "metadata": {
    "execution": {
     "iopub.execute_input": "2022-07-13T15:00:35.381050Z",
     "iopub.status.busy": "2022-07-13T15:00:35.379965Z",
     "iopub.status.idle": "2022-07-13T15:00:35.399477Z",
     "shell.execute_reply": "2022-07-13T15:00:35.398220Z"
    },
    "papermill": {
     "duration": 0.030936,
     "end_time": "2022-07-13T15:00:35.401817",
     "exception": false,
     "start_time": "2022-07-13T15:00:35.370881",
     "status": "completed"
    },
    "tags": []
   },
   "outputs": [
    {
     "data": {
      "text/plain": [
       "2    CAPTAIN III (POLICE DEPARTMENT)\n",
       "Name: JobTitle, dtype: object"
      ]
     },
     "execution_count": 18,
     "metadata": {},
     "output_type": "execute_result"
    }
   ],
   "source": [
    "\n",
    "df[df['EmployeeName']=='ALBERT PARDINI']['JobTitle']"
   ]
  },
  {
   "cell_type": "markdown",
   "id": "ba291812",
   "metadata": {
    "papermill": {
     "duration": 0.007833,
     "end_time": "2022-07-13T15:00:35.417536",
     "exception": false,
     "start_time": "2022-07-13T15:00:35.409703",
     "status": "completed"
    },
    "tags": []
   },
   "source": [
    "### 17- How much does ALBERT PARDINI make (Total pay benefits)"
   ]
  },
  {
   "cell_type": "code",
   "execution_count": 19,
   "id": "40b250a4",
   "metadata": {
    "execution": {
     "iopub.execute_input": "2022-07-13T15:00:35.436132Z",
     "iopub.status.busy": "2022-07-13T15:00:35.434914Z",
     "iopub.status.idle": "2022-07-13T15:00:35.455026Z",
     "shell.execute_reply": "2022-07-13T15:00:35.453912Z"
    },
    "papermill": {
     "duration": 0.0318,
     "end_time": "2022-07-13T15:00:35.457426",
     "exception": false,
     "start_time": "2022-07-13T15:00:35.425626",
     "status": "completed"
    },
    "tags": []
   },
   "outputs": [
    {
     "data": {
      "text/plain": [
       "2    335279.91\n",
       "Name: TotalPayBenefits, dtype: float64"
      ]
     },
     "execution_count": 19,
     "metadata": {},
     "output_type": "execute_result"
    }
   ],
   "source": [
    "df[df['EmployeeName']=='ALBERT PARDINI']['TotalPayBenefits']"
   ]
  }
 ],
 "metadata": {
  "kernelspec": {
   "display_name": "Python 3 (ipykernel)",
   "language": "python",
   "name": "python3"
  },
  "language_info": {
   "codemirror_mode": {
    "name": "ipython",
    "version": 3
   },
   "file_extension": ".py",
   "mimetype": "text/x-python",
   "name": "python",
   "nbconvert_exporter": "python",
   "pygments_lexer": "ipython3",
   "version": "3.9.7"
  },
  "papermill": {
   "default_parameters": {},
   "duration": 12.652739,
   "end_time": "2022-07-13T15:00:36.186475",
   "environment_variables": {},
   "exception": null,
   "input_path": "__notebook__.ipynb",
   "output_path": "__notebook__.ipynb",
   "parameters": {},
   "start_time": "2022-07-13T15:00:23.533736",
   "version": "2.3.4"
  }
 },
 "nbformat": 4,
 "nbformat_minor": 5
}
